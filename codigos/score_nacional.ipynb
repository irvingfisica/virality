{
 "cells": [
  {
   "cell_type": "markdown",
   "metadata": {},
   "source": [
    "Carga de librerías necesarias"
   ]
  },
  {
   "cell_type": "code",
   "execution_count": 1,
   "metadata": {},
   "outputs": [],
   "source": [
    "import pandas as pd\n",
    "import numpy as np\n",
    "from sklearn.neural_network import MLPRegressor\n",
    "import bokeh.plotting as bpl"
   ]
  },
  {
   "cell_type": "code",
   "execution_count": 2,
   "metadata": {},
   "outputs": [
    {
     "data": {
      "text/html": [
       "\n",
       "    <div class=\"bk-root\">\n",
       "        <a href=\"https://bokeh.org\" target=\"_blank\" class=\"bk-logo bk-logo-small bk-logo-notebook\"></a>\n",
       "        <span id=\"1001\">Loading BokehJS ...</span>\n",
       "    </div>"
      ]
     },
     "metadata": {},
     "output_type": "display_data"
    },
    {
     "data": {
      "application/javascript": [
       "\n",
       "(function(root) {\n",
       "  function now() {\n",
       "    return new Date();\n",
       "  }\n",
       "\n",
       "  var force = true;\n",
       "\n",
       "  if (typeof root._bokeh_onload_callbacks === \"undefined\" || force === true) {\n",
       "    root._bokeh_onload_callbacks = [];\n",
       "    root._bokeh_is_loading = undefined;\n",
       "  }\n",
       "\n",
       "  var JS_MIME_TYPE = 'application/javascript';\n",
       "  var HTML_MIME_TYPE = 'text/html';\n",
       "  var EXEC_MIME_TYPE = 'application/vnd.bokehjs_exec.v0+json';\n",
       "  var CLASS_NAME = 'output_bokeh rendered_html';\n",
       "\n",
       "  /**\n",
       "   * Render data to the DOM node\n",
       "   */\n",
       "  function render(props, node) {\n",
       "    var script = document.createElement(\"script\");\n",
       "    node.appendChild(script);\n",
       "  }\n",
       "\n",
       "  /**\n",
       "   * Handle when an output is cleared or removed\n",
       "   */\n",
       "  function handleClearOutput(event, handle) {\n",
       "    var cell = handle.cell;\n",
       "\n",
       "    var id = cell.output_area._bokeh_element_id;\n",
       "    var server_id = cell.output_area._bokeh_server_id;\n",
       "    // Clean up Bokeh references\n",
       "    if (id != null && id in Bokeh.index) {\n",
       "      Bokeh.index[id].model.document.clear();\n",
       "      delete Bokeh.index[id];\n",
       "    }\n",
       "\n",
       "    if (server_id !== undefined) {\n",
       "      // Clean up Bokeh references\n",
       "      var cmd = \"from bokeh.io.state import curstate; print(curstate().uuid_to_server['\" + server_id + \"'].get_sessions()[0].document.roots[0]._id)\";\n",
       "      cell.notebook.kernel.execute(cmd, {\n",
       "        iopub: {\n",
       "          output: function(msg) {\n",
       "            var id = msg.content.text.trim();\n",
       "            if (id in Bokeh.index) {\n",
       "              Bokeh.index[id].model.document.clear();\n",
       "              delete Bokeh.index[id];\n",
       "            }\n",
       "          }\n",
       "        }\n",
       "      });\n",
       "      // Destroy server and session\n",
       "      var cmd = \"import bokeh.io.notebook as ion; ion.destroy_server('\" + server_id + \"')\";\n",
       "      cell.notebook.kernel.execute(cmd);\n",
       "    }\n",
       "  }\n",
       "\n",
       "  /**\n",
       "   * Handle when a new output is added\n",
       "   */\n",
       "  function handleAddOutput(event, handle) {\n",
       "    var output_area = handle.output_area;\n",
       "    var output = handle.output;\n",
       "\n",
       "    // limit handleAddOutput to display_data with EXEC_MIME_TYPE content only\n",
       "    if ((output.output_type != \"display_data\") || (!output.data.hasOwnProperty(EXEC_MIME_TYPE))) {\n",
       "      return\n",
       "    }\n",
       "\n",
       "    var toinsert = output_area.element.find(\".\" + CLASS_NAME.split(' ')[0]);\n",
       "\n",
       "    if (output.metadata[EXEC_MIME_TYPE][\"id\"] !== undefined) {\n",
       "      toinsert[toinsert.length - 1].firstChild.textContent = output.data[JS_MIME_TYPE];\n",
       "      // store reference to embed id on output_area\n",
       "      output_area._bokeh_element_id = output.metadata[EXEC_MIME_TYPE][\"id\"];\n",
       "    }\n",
       "    if (output.metadata[EXEC_MIME_TYPE][\"server_id\"] !== undefined) {\n",
       "      var bk_div = document.createElement(\"div\");\n",
       "      bk_div.innerHTML = output.data[HTML_MIME_TYPE];\n",
       "      var script_attrs = bk_div.children[0].attributes;\n",
       "      for (var i = 0; i < script_attrs.length; i++) {\n",
       "        toinsert[toinsert.length - 1].firstChild.setAttribute(script_attrs[i].name, script_attrs[i].value);\n",
       "        toinsert[toinsert.length - 1].firstChild.textContent = bk_div.children[0].textContent\n",
       "      }\n",
       "      // store reference to server id on output_area\n",
       "      output_area._bokeh_server_id = output.metadata[EXEC_MIME_TYPE][\"server_id\"];\n",
       "    }\n",
       "  }\n",
       "\n",
       "  function register_renderer(events, OutputArea) {\n",
       "\n",
       "    function append_mime(data, metadata, element) {\n",
       "      // create a DOM node to render to\n",
       "      var toinsert = this.create_output_subarea(\n",
       "        metadata,\n",
       "        CLASS_NAME,\n",
       "        EXEC_MIME_TYPE\n",
       "      );\n",
       "      this.keyboard_manager.register_events(toinsert);\n",
       "      // Render to node\n",
       "      var props = {data: data, metadata: metadata[EXEC_MIME_TYPE]};\n",
       "      render(props, toinsert[toinsert.length - 1]);\n",
       "      element.append(toinsert);\n",
       "      return toinsert\n",
       "    }\n",
       "\n",
       "    /* Handle when an output is cleared or removed */\n",
       "    events.on('clear_output.CodeCell', handleClearOutput);\n",
       "    events.on('delete.Cell', handleClearOutput);\n",
       "\n",
       "    /* Handle when a new output is added */\n",
       "    events.on('output_added.OutputArea', handleAddOutput);\n",
       "\n",
       "    /**\n",
       "     * Register the mime type and append_mime function with output_area\n",
       "     */\n",
       "    OutputArea.prototype.register_mime_type(EXEC_MIME_TYPE, append_mime, {\n",
       "      /* Is output safe? */\n",
       "      safe: true,\n",
       "      /* Index of renderer in `output_area.display_order` */\n",
       "      index: 0\n",
       "    });\n",
       "  }\n",
       "\n",
       "  // register the mime type if in Jupyter Notebook environment and previously unregistered\n",
       "  if (root.Jupyter !== undefined) {\n",
       "    var events = require('base/js/events');\n",
       "    var OutputArea = require('notebook/js/outputarea').OutputArea;\n",
       "\n",
       "    if (OutputArea.prototype.mime_types().indexOf(EXEC_MIME_TYPE) == -1) {\n",
       "      register_renderer(events, OutputArea);\n",
       "    }\n",
       "  }\n",
       "\n",
       "  \n",
       "  if (typeof (root._bokeh_timeout) === \"undefined\" || force === true) {\n",
       "    root._bokeh_timeout = Date.now() + 5000;\n",
       "    root._bokeh_failed_load = false;\n",
       "  }\n",
       "\n",
       "  var NB_LOAD_WARNING = {'data': {'text/html':\n",
       "     \"<div style='background-color: #fdd'>\\n\"+\n",
       "     \"<p>\\n\"+\n",
       "     \"BokehJS does not appear to have successfully loaded. If loading BokehJS from CDN, this \\n\"+\n",
       "     \"may be due to a slow or bad network connection. Possible fixes:\\n\"+\n",
       "     \"</p>\\n\"+\n",
       "     \"<ul>\\n\"+\n",
       "     \"<li>re-rerun `output_notebook()` to attempt to load from CDN again, or</li>\\n\"+\n",
       "     \"<li>use INLINE resources instead, as so:</li>\\n\"+\n",
       "     \"</ul>\\n\"+\n",
       "     \"<code>\\n\"+\n",
       "     \"from bokeh.resources import INLINE\\n\"+\n",
       "     \"output_notebook(resources=INLINE)\\n\"+\n",
       "     \"</code>\\n\"+\n",
       "     \"</div>\"}};\n",
       "\n",
       "  function display_loaded() {\n",
       "    var el = document.getElementById(\"1001\");\n",
       "    if (el != null) {\n",
       "      el.textContent = \"BokehJS is loading...\";\n",
       "    }\n",
       "    if (root.Bokeh !== undefined) {\n",
       "      if (el != null) {\n",
       "        el.textContent = \"BokehJS \" + root.Bokeh.version + \" successfully loaded.\";\n",
       "      }\n",
       "    } else if (Date.now() < root._bokeh_timeout) {\n",
       "      setTimeout(display_loaded, 100)\n",
       "    }\n",
       "  }\n",
       "\n",
       "\n",
       "  function run_callbacks() {\n",
       "    try {\n",
       "      root._bokeh_onload_callbacks.forEach(function(callback) {\n",
       "        if (callback != null)\n",
       "          callback();\n",
       "      });\n",
       "    } finally {\n",
       "      delete root._bokeh_onload_callbacks\n",
       "    }\n",
       "    console.debug(\"Bokeh: all callbacks have finished\");\n",
       "  }\n",
       "\n",
       "  function load_libs(css_urls, js_urls, callback) {\n",
       "    if (css_urls == null) css_urls = [];\n",
       "    if (js_urls == null) js_urls = [];\n",
       "\n",
       "    root._bokeh_onload_callbacks.push(callback);\n",
       "    if (root._bokeh_is_loading > 0) {\n",
       "      console.debug(\"Bokeh: BokehJS is being loaded, scheduling callback at\", now());\n",
       "      return null;\n",
       "    }\n",
       "    if (js_urls == null || js_urls.length === 0) {\n",
       "      run_callbacks();\n",
       "      return null;\n",
       "    }\n",
       "    console.debug(\"Bokeh: BokehJS not loaded, scheduling load and callback at\", now());\n",
       "    root._bokeh_is_loading = css_urls.length + js_urls.length;\n",
       "\n",
       "    function on_load() {\n",
       "      root._bokeh_is_loading--;\n",
       "      if (root._bokeh_is_loading === 0) {\n",
       "        console.debug(\"Bokeh: all BokehJS libraries/stylesheets loaded\");\n",
       "        run_callbacks()\n",
       "      }\n",
       "    }\n",
       "\n",
       "    function on_error() {\n",
       "      console.error(\"failed to load \" + url);\n",
       "    }\n",
       "\n",
       "    for (var i = 0; i < css_urls.length; i++) {\n",
       "      var url = css_urls[i];\n",
       "      const element = document.createElement(\"link\");\n",
       "      element.onload = on_load;\n",
       "      element.onerror = on_error;\n",
       "      element.rel = \"stylesheet\";\n",
       "      element.type = \"text/css\";\n",
       "      element.href = url;\n",
       "      console.debug(\"Bokeh: injecting link tag for BokehJS stylesheet: \", url);\n",
       "      document.body.appendChild(element);\n",
       "    }\n",
       "\n",
       "    const hashes = {\"https://cdn.bokeh.org/bokeh/release/bokeh-2.0.1.min.js\": \"JpP8FXbgAZLkfur7LiK3j9AGBhHNIvF742meBJrjO2ShJDhCG2I1uVvW+0DUtrmc\", \"https://cdn.bokeh.org/bokeh/release/bokeh-widgets-2.0.1.min.js\": \"xZlADit0Q04ISQEdKg2k3L4W9AwQBAuDs9nJL9fM/WwzL1tEU9VPNezOFX0nLEAz\", \"https://cdn.bokeh.org/bokeh/release/bokeh-tables-2.0.1.min.js\": \"4BuPRZkdMKSnj3zoxiNrQ86XgNw0rYmBOxe7nshquXwwcauupgBF2DHLVG1WuZlV\", \"https://cdn.bokeh.org/bokeh/release/bokeh-gl-2.0.1.min.js\": \"Dv1SQ87hmDqK6S5OhBf0bCuwAEvL5QYL0PuR/F1SPVhCS/r/abjkbpKDYL2zeM19\"};\n",
       "\n",
       "    for (var i = 0; i < js_urls.length; i++) {\n",
       "      var url = js_urls[i];\n",
       "      var element = document.createElement('script');\n",
       "      element.onload = on_load;\n",
       "      element.onerror = on_error;\n",
       "      element.async = false;\n",
       "      element.src = url;\n",
       "      if (url in hashes) {\n",
       "        element.crossOrigin = \"anonymous\";\n",
       "        element.integrity = \"sha384-\" + hashes[url];\n",
       "      }\n",
       "      console.debug(\"Bokeh: injecting script tag for BokehJS library: \", url);\n",
       "      document.head.appendChild(element);\n",
       "    }\n",
       "  };var element = document.getElementById(\"1001\");\n",
       "  if (element == null) {\n",
       "    console.error(\"Bokeh: ERROR: autoload.js configured with elementid '1001' but no matching script tag was found. \")\n",
       "    return false;\n",
       "  }\n",
       "\n",
       "  function inject_raw_css(css) {\n",
       "    const element = document.createElement(\"style\");\n",
       "    element.appendChild(document.createTextNode(css));\n",
       "    document.body.appendChild(element);\n",
       "  }\n",
       "\n",
       "  \n",
       "  var js_urls = [\"https://cdn.bokeh.org/bokeh/release/bokeh-2.0.1.min.js\", \"https://cdn.bokeh.org/bokeh/release/bokeh-widgets-2.0.1.min.js\", \"https://cdn.bokeh.org/bokeh/release/bokeh-tables-2.0.1.min.js\", \"https://cdn.bokeh.org/bokeh/release/bokeh-gl-2.0.1.min.js\"];\n",
       "  var css_urls = [];\n",
       "  \n",
       "\n",
       "  var inline_js = [\n",
       "    function(Bokeh) {\n",
       "      Bokeh.set_log_level(\"info\");\n",
       "    },\n",
       "    function(Bokeh) {\n",
       "    \n",
       "    \n",
       "    }\n",
       "  ];\n",
       "\n",
       "  function run_inline_js() {\n",
       "    \n",
       "    if (root.Bokeh !== undefined || force === true) {\n",
       "      \n",
       "    for (var i = 0; i < inline_js.length; i++) {\n",
       "      inline_js[i].call(root, root.Bokeh);\n",
       "    }\n",
       "    if (force === true) {\n",
       "        display_loaded();\n",
       "      }} else if (Date.now() < root._bokeh_timeout) {\n",
       "      setTimeout(run_inline_js, 100);\n",
       "    } else if (!root._bokeh_failed_load) {\n",
       "      console.log(\"Bokeh: BokehJS failed to load within specified timeout.\");\n",
       "      root._bokeh_failed_load = true;\n",
       "    } else if (force !== true) {\n",
       "      var cell = $(document.getElementById(\"1001\")).parents('.cell').data().cell;\n",
       "      cell.output_area.append_execute_result(NB_LOAD_WARNING)\n",
       "    }\n",
       "\n",
       "  }\n",
       "\n",
       "  if (root._bokeh_is_loading === 0) {\n",
       "    console.debug(\"Bokeh: BokehJS loaded, going straight to plotting\");\n",
       "    run_inline_js();\n",
       "  } else {\n",
       "    load_libs(css_urls, js_urls, function() {\n",
       "      console.debug(\"Bokeh: BokehJS plotting callback run at\", now());\n",
       "      run_inline_js();\n",
       "    });\n",
       "  }\n",
       "}(window));"
      ],
      "application/vnd.bokehjs_load.v0+json": "\n(function(root) {\n  function now() {\n    return new Date();\n  }\n\n  var force = true;\n\n  if (typeof root._bokeh_onload_callbacks === \"undefined\" || force === true) {\n    root._bokeh_onload_callbacks = [];\n    root._bokeh_is_loading = undefined;\n  }\n\n  \n\n  \n  if (typeof (root._bokeh_timeout) === \"undefined\" || force === true) {\n    root._bokeh_timeout = Date.now() + 5000;\n    root._bokeh_failed_load = false;\n  }\n\n  var NB_LOAD_WARNING = {'data': {'text/html':\n     \"<div style='background-color: #fdd'>\\n\"+\n     \"<p>\\n\"+\n     \"BokehJS does not appear to have successfully loaded. If loading BokehJS from CDN, this \\n\"+\n     \"may be due to a slow or bad network connection. Possible fixes:\\n\"+\n     \"</p>\\n\"+\n     \"<ul>\\n\"+\n     \"<li>re-rerun `output_notebook()` to attempt to load from CDN again, or</li>\\n\"+\n     \"<li>use INLINE resources instead, as so:</li>\\n\"+\n     \"</ul>\\n\"+\n     \"<code>\\n\"+\n     \"from bokeh.resources import INLINE\\n\"+\n     \"output_notebook(resources=INLINE)\\n\"+\n     \"</code>\\n\"+\n     \"</div>\"}};\n\n  function display_loaded() {\n    var el = document.getElementById(\"1001\");\n    if (el != null) {\n      el.textContent = \"BokehJS is loading...\";\n    }\n    if (root.Bokeh !== undefined) {\n      if (el != null) {\n        el.textContent = \"BokehJS \" + root.Bokeh.version + \" successfully loaded.\";\n      }\n    } else if (Date.now() < root._bokeh_timeout) {\n      setTimeout(display_loaded, 100)\n    }\n  }\n\n\n  function run_callbacks() {\n    try {\n      root._bokeh_onload_callbacks.forEach(function(callback) {\n        if (callback != null)\n          callback();\n      });\n    } finally {\n      delete root._bokeh_onload_callbacks\n    }\n    console.debug(\"Bokeh: all callbacks have finished\");\n  }\n\n  function load_libs(css_urls, js_urls, callback) {\n    if (css_urls == null) css_urls = [];\n    if (js_urls == null) js_urls = [];\n\n    root._bokeh_onload_callbacks.push(callback);\n    if (root._bokeh_is_loading > 0) {\n      console.debug(\"Bokeh: BokehJS is being loaded, scheduling callback at\", now());\n      return null;\n    }\n    if (js_urls == null || js_urls.length === 0) {\n      run_callbacks();\n      return null;\n    }\n    console.debug(\"Bokeh: BokehJS not loaded, scheduling load and callback at\", now());\n    root._bokeh_is_loading = css_urls.length + js_urls.length;\n\n    function on_load() {\n      root._bokeh_is_loading--;\n      if (root._bokeh_is_loading === 0) {\n        console.debug(\"Bokeh: all BokehJS libraries/stylesheets loaded\");\n        run_callbacks()\n      }\n    }\n\n    function on_error() {\n      console.error(\"failed to load \" + url);\n    }\n\n    for (var i = 0; i < css_urls.length; i++) {\n      var url = css_urls[i];\n      const element = document.createElement(\"link\");\n      element.onload = on_load;\n      element.onerror = on_error;\n      element.rel = \"stylesheet\";\n      element.type = \"text/css\";\n      element.href = url;\n      console.debug(\"Bokeh: injecting link tag for BokehJS stylesheet: \", url);\n      document.body.appendChild(element);\n    }\n\n    const hashes = {\"https://cdn.bokeh.org/bokeh/release/bokeh-2.0.1.min.js\": \"JpP8FXbgAZLkfur7LiK3j9AGBhHNIvF742meBJrjO2ShJDhCG2I1uVvW+0DUtrmc\", \"https://cdn.bokeh.org/bokeh/release/bokeh-widgets-2.0.1.min.js\": \"xZlADit0Q04ISQEdKg2k3L4W9AwQBAuDs9nJL9fM/WwzL1tEU9VPNezOFX0nLEAz\", \"https://cdn.bokeh.org/bokeh/release/bokeh-tables-2.0.1.min.js\": \"4BuPRZkdMKSnj3zoxiNrQ86XgNw0rYmBOxe7nshquXwwcauupgBF2DHLVG1WuZlV\", \"https://cdn.bokeh.org/bokeh/release/bokeh-gl-2.0.1.min.js\": \"Dv1SQ87hmDqK6S5OhBf0bCuwAEvL5QYL0PuR/F1SPVhCS/r/abjkbpKDYL2zeM19\"};\n\n    for (var i = 0; i < js_urls.length; i++) {\n      var url = js_urls[i];\n      var element = document.createElement('script');\n      element.onload = on_load;\n      element.onerror = on_error;\n      element.async = false;\n      element.src = url;\n      if (url in hashes) {\n        element.crossOrigin = \"anonymous\";\n        element.integrity = \"sha384-\" + hashes[url];\n      }\n      console.debug(\"Bokeh: injecting script tag for BokehJS library: \", url);\n      document.head.appendChild(element);\n    }\n  };var element = document.getElementById(\"1001\");\n  if (element == null) {\n    console.error(\"Bokeh: ERROR: autoload.js configured with elementid '1001' but no matching script tag was found. \")\n    return false;\n  }\n\n  function inject_raw_css(css) {\n    const element = document.createElement(\"style\");\n    element.appendChild(document.createTextNode(css));\n    document.body.appendChild(element);\n  }\n\n  \n  var js_urls = [\"https://cdn.bokeh.org/bokeh/release/bokeh-2.0.1.min.js\", \"https://cdn.bokeh.org/bokeh/release/bokeh-widgets-2.0.1.min.js\", \"https://cdn.bokeh.org/bokeh/release/bokeh-tables-2.0.1.min.js\", \"https://cdn.bokeh.org/bokeh/release/bokeh-gl-2.0.1.min.js\"];\n  var css_urls = [];\n  \n\n  var inline_js = [\n    function(Bokeh) {\n      Bokeh.set_log_level(\"info\");\n    },\n    function(Bokeh) {\n    \n    \n    }\n  ];\n\n  function run_inline_js() {\n    \n    if (root.Bokeh !== undefined || force === true) {\n      \n    for (var i = 0; i < inline_js.length; i++) {\n      inline_js[i].call(root, root.Bokeh);\n    }\n    if (force === true) {\n        display_loaded();\n      }} else if (Date.now() < root._bokeh_timeout) {\n      setTimeout(run_inline_js, 100);\n    } else if (!root._bokeh_failed_load) {\n      console.log(\"Bokeh: BokehJS failed to load within specified timeout.\");\n      root._bokeh_failed_load = true;\n    } else if (force !== true) {\n      var cell = $(document.getElementById(\"1001\")).parents('.cell').data().cell;\n      cell.output_area.append_execute_result(NB_LOAD_WARNING)\n    }\n\n  }\n\n  if (root._bokeh_is_loading === 0) {\n    console.debug(\"Bokeh: BokehJS loaded, going straight to plotting\");\n    run_inline_js();\n  } else {\n    load_libs(css_urls, js_urls, function() {\n      console.debug(\"Bokeh: BokehJS plotting callback run at\", now());\n      run_inline_js();\n    });\n  }\n}(window));"
     },
     "metadata": {},
     "output_type": "display_data"
    }
   ],
   "source": [
    "bpl.output_notebook()"
   ]
  },
  {
   "cell_type": "markdown",
   "metadata": {},
   "source": [
    "Definición de funciones necesarias para entrenar el modelo de alcance"
   ]
  },
  {
   "cell_type": "code",
   "execution_count": 3,
   "metadata": {},
   "outputs": [],
   "source": [
    "def entrenador(arreglo,alcances):\n",
    "    \"\"\"Entrena el modelo utilizando un arreglo de publicaciones o un dataframe y sus alcances.\n",
    "    \n",
    "    Parameters:\n",
    "        arreglo (arreglo de numpy, también puede ser un dataframe):\n",
    "            Arreglo multidimensional con los valores de las métricas para cada publicación.\n",
    "            Cada publicación está en una fila del arreglo.\n",
    "            El orden de las métricas debe ser el siguiente [likes,love,angry,wow,haha,sad,shares].\n",
    "        alcances (arreglo de numpy, tambien puede ser una serie):\n",
    "            Arreglo unidimensional con los valores de los alcances para cada publicación.\n",
    "            Cada publicación está en una fila del arreglo.\n",
    "        \n",
    "    Returns:\n",
    "        red (red neuronal de Sklearn):\n",
    "            Modelo de red neuronal entrenada para predecir los alcances de publicaciones.\n",
    "            \n",
    "    \"\"\"\n",
    "    logtrain = np.log1p(arreglo)\n",
    "    logpredi = np.log1p(alcances)\n",
    "    \n",
    "    red = MLPRegressor(alpha=0.01, hidden_layer_sizes = (10,), max_iter = 50000, \n",
    "                 activation = 'logistic', learning_rate = 'adaptive',solver= 'lbfgs')\n",
    "    \n",
    "    red.fit(logtrain,logpredi)\n",
    "    \n",
    "    return red"
   ]
  },
  {
   "cell_type": "code",
   "execution_count": 4,
   "metadata": {},
   "outputs": [],
   "source": [
    "def predictor(arreglo,modelo):\n",
    "    \"\"\"Predice los alcances para un arreglo de publicaciones o un dataframe.\n",
    "    \n",
    "    Parameters:\n",
    "        arreglo (arreglo de numpy, también puede ser un dataframe):\n",
    "            Arreglo multidimensional con los valores de las métricas para cada publicación.\n",
    "            Cada publicación está en una fila del arreglo.\n",
    "            El orden de las métricas debe ser el siguiente [likes,love,angry,wow,haha,sad,shares].\n",
    "            \n",
    "        modelo (modelo de sklearn):\n",
    "            El modelo de predicción entrenado previamente\n",
    "            \n",
    "    Returns:\n",
    "        alcances (arreglo de numpy):\n",
    "            Arreglo con los alcances para cada publicación.\n",
    "            \n",
    "    \"\"\"\n",
    "    logdata = np.log1p(arreglo)\n",
    "    predata = modelo.predict(logdata)\n",
    "    bacdata = np.expm1(predata)\n",
    "    \n",
    "    return bacdata"
   ]
  },
  {
   "cell_type": "markdown",
   "metadata": {},
   "source": [
    "Carga y procesado de datos para entrenar la red para predecir alcance"
   ]
  },
  {
   "cell_type": "code",
   "execution_count": 5,
   "metadata": {},
   "outputs": [],
   "source": [
    "data = pd.read_csv(\"../data/originales/posts.csv\")"
   ]
  },
  {
   "cell_type": "code",
   "execution_count": 6,
   "metadata": {},
   "outputs": [],
   "source": [
    "metricas = ['likes', 'love', 'angry', 'wow', 'haha', 'sad', 'shares']"
   ]
  },
  {
   "cell_type": "code",
   "execution_count": 7,
   "metadata": {},
   "outputs": [],
   "source": [
    "data[\"reacciones\"] = data[metricas].sum(1)"
   ]
  },
  {
   "cell_type": "code",
   "execution_count": 8,
   "metadata": {},
   "outputs": [],
   "source": [
    "fdata=data[(data[\"scope\"]!=0)&(data[\"reacciones\"]>10)&(data[\"reacciones\"]<=data[\"scope\"])]"
   ]
  },
  {
   "cell_type": "code",
   "execution_count": 9,
   "metadata": {},
   "outputs": [],
   "source": [
    "mdata = fdata[metricas + [\"scope\"]]"
   ]
  },
  {
   "cell_type": "code",
   "execution_count": 10,
   "metadata": {},
   "outputs": [
    {
     "data": {
      "text/html": [
       "<div>\n",
       "<style scoped>\n",
       "    .dataframe tbody tr th:only-of-type {\n",
       "        vertical-align: middle;\n",
       "    }\n",
       "\n",
       "    .dataframe tbody tr th {\n",
       "        vertical-align: top;\n",
       "    }\n",
       "\n",
       "    .dataframe thead th {\n",
       "        text-align: right;\n",
       "    }\n",
       "</style>\n",
       "<table border=\"1\" class=\"dataframe\">\n",
       "  <thead>\n",
       "    <tr style=\"text-align: right;\">\n",
       "      <th></th>\n",
       "      <th>likes</th>\n",
       "      <th>love</th>\n",
       "      <th>angry</th>\n",
       "      <th>wow</th>\n",
       "      <th>haha</th>\n",
       "      <th>sad</th>\n",
       "      <th>shares</th>\n",
       "      <th>scope</th>\n",
       "    </tr>\n",
       "  </thead>\n",
       "  <tbody>\n",
       "    <tr>\n",
       "      <th>0</th>\n",
       "      <td>18</td>\n",
       "      <td>7</td>\n",
       "      <td>0</td>\n",
       "      <td>0</td>\n",
       "      <td>0</td>\n",
       "      <td>0</td>\n",
       "      <td>4</td>\n",
       "      <td>3660</td>\n",
       "    </tr>\n",
       "    <tr>\n",
       "      <th>1</th>\n",
       "      <td>526</td>\n",
       "      <td>117</td>\n",
       "      <td>189</td>\n",
       "      <td>15</td>\n",
       "      <td>51</td>\n",
       "      <td>8</td>\n",
       "      <td>107</td>\n",
       "      <td>77468</td>\n",
       "    </tr>\n",
       "    <tr>\n",
       "      <th>2</th>\n",
       "      <td>28</td>\n",
       "      <td>1</td>\n",
       "      <td>0</td>\n",
       "      <td>0</td>\n",
       "      <td>0</td>\n",
       "      <td>0</td>\n",
       "      <td>13</td>\n",
       "      <td>4399</td>\n",
       "    </tr>\n",
       "  </tbody>\n",
       "</table>\n",
       "</div>"
      ],
      "text/plain": [
       "   likes  love  angry  wow  haha  sad  shares  scope\n",
       "0     18     7      0    0     0    0       4   3660\n",
       "1    526   117    189   15    51    8     107  77468\n",
       "2     28     1      0    0     0    0      13   4399"
      ]
     },
     "execution_count": 10,
     "metadata": {},
     "output_type": "execute_result"
    }
   ],
   "source": [
    "mdata[:3]"
   ]
  },
  {
   "cell_type": "code",
   "execution_count": 11,
   "metadata": {},
   "outputs": [],
   "source": [
    "arr_metricas = mdata[metricas].values"
   ]
  },
  {
   "cell_type": "code",
   "execution_count": 12,
   "metadata": {},
   "outputs": [
    {
     "data": {
      "text/plain": [
       "array([[ 18,   7,   0, ...,   0,   0,   4],\n",
       "       [526, 117, 189, ...,  51,   8, 107],\n",
       "       [ 28,   1,   0, ...,   0,   0,  13],\n",
       "       ...,\n",
       "       [ 23,   0,   1, ...,   0,   3,   1],\n",
       "       [ 13,   0,   4, ...,   0,   0,   0],\n",
       "       [ 24,   0,   0, ...,   0,   0,   0]], dtype=int64)"
      ]
     },
     "execution_count": 12,
     "metadata": {},
     "output_type": "execute_result"
    }
   ],
   "source": [
    "arr_metricas"
   ]
  },
  {
   "cell_type": "code",
   "execution_count": 13,
   "metadata": {},
   "outputs": [],
   "source": [
    "arr_alcances = mdata[\"scope\"].values"
   ]
  },
  {
   "cell_type": "markdown",
   "metadata": {},
   "source": [
    "Entrenado de la red predictora de alcance"
   ]
  },
  {
   "cell_type": "code",
   "execution_count": 14,
   "metadata": {},
   "outputs": [],
   "source": [
    "red = entrenador(arr_metricas,arr_alcances)"
   ]
  },
  {
   "cell_type": "markdown",
   "metadata": {},
   "source": [
    "Carga de datos de publicaciones y temas"
   ]
  },
  {
   "cell_type": "code",
   "execution_count": 63,
   "metadata": {},
   "outputs": [],
   "source": [
    "datap = pd.read_csv(\"../data/originales/PostNacional_UltraClean.tsv\",sep='\\t',encoding='utf-8')\n",
    "datat = pd.read_csv(\"../data/originales/TemasNacional_UltraClean.tsv\",sep='\\t',encoding='utf-8')"
   ]
  },
  {
   "cell_type": "code",
   "execution_count": 64,
   "metadata": {},
   "outputs": [
    {
     "data": {
      "text/plain": [
       "Index(['id', 'idTema', 'titulo', 'imagen', 'url', 'fbid', 'fechaPub',\n",
       "       'fechaCaptura', 'fechaMod', 'estado', 'municipio', 'categorias',\n",
       "       'secretarias', 'likes', 'love', 'angry', 'sad', 'haha', 'wow', 'shares',\n",
       "       'idAnalitycs', 'estatus'],\n",
       "      dtype='object')"
      ]
     },
     "execution_count": 64,
     "metadata": {},
     "output_type": "execute_result"
    }
   ],
   "source": [
    "datap.columns"
   ]
  },
  {
   "cell_type": "code",
   "execution_count": 65,
   "metadata": {},
   "outputs": [
    {
     "data": {
      "text/plain": [
       "Index(['id', 'nombre', 'estado', 'municipio', 'categorias', 'secretarias',\n",
       "       'Linea', 'Estacion', 'score', 'scoreManual', 'Destacado', 'estatus',\n",
       "       'imagen', 'url', 'fechaCreacion', 'fechaInsercion', 'fechaMod',\n",
       "       'idAnalitycs'],\n",
       "      dtype='object')"
      ]
     },
     "execution_count": 65,
     "metadata": {},
     "output_type": "execute_result"
    }
   ],
   "source": [
    "datat.columns"
   ]
  },
  {
   "cell_type": "markdown",
   "metadata": {},
   "source": [
    "Proceso de datos de temas y publicaciones"
   ]
  },
  {
   "cell_type": "code",
   "execution_count": 66,
   "metadata": {},
   "outputs": [],
   "source": [
    "datat.columns=[cadena + \"_T\" for cadena in datat.columns]"
   ]
  },
  {
   "cell_type": "code",
   "execution_count": 67,
   "metadata": {},
   "outputs": [],
   "source": [
    "datat.rename(columns={\"id_T\":\"idTema\"},inplace=True)"
   ]
  },
  {
   "cell_type": "markdown",
   "metadata": {},
   "source": [
    "Mezcla de los datos de publicaciones y de temas"
   ]
  },
  {
   "cell_type": "code",
   "execution_count": 68,
   "metadata": {},
   "outputs": [],
   "source": [
    "datamix = pd.merge(datap,datat,how=\"left\",on=\"idTema\")"
   ]
  },
  {
   "cell_type": "markdown",
   "metadata": {},
   "source": [
    "Llenado de datos vacíos a cero"
   ]
  },
  {
   "cell_type": "code",
   "execution_count": 69,
   "metadata": {},
   "outputs": [],
   "source": [
    "datafp = datamix[metricas].fillna(0)"
   ]
  },
  {
   "cell_type": "markdown",
   "metadata": {},
   "source": [
    "Predicción de alcances para todas las publicaciones"
   ]
  },
  {
   "cell_type": "code",
   "execution_count": 70,
   "metadata": {},
   "outputs": [],
   "source": [
    "datapv = datafp.values"
   ]
  },
  {
   "cell_type": "code",
   "execution_count": 71,
   "metadata": {},
   "outputs": [],
   "source": [
    "predicciones = predictor(datapv,red)"
   ]
  },
  {
   "cell_type": "code",
   "execution_count": 72,
   "metadata": {},
   "outputs": [
    {
     "data": {
      "text/plain": [
       "array([  9360.43865918,  27351.08473944,   4944.26345958, ...,\n",
       "       587406.50497012,   1636.479041  , 106155.63653389])"
      ]
     },
     "execution_count": 72,
     "metadata": {},
     "output_type": "execute_result"
    }
   ],
   "source": [
    "predicciones"
   ]
  },
  {
   "cell_type": "markdown",
   "metadata": {},
   "source": [
    "Conversión a DataFrame e incorporación al frame general"
   ]
  },
  {
   "cell_type": "code",
   "execution_count": 73,
   "metadata": {},
   "outputs": [],
   "source": [
    "prediccion = pd.DataFrame(predicciones,columns=[\"Alcance_estimado\"],index=datafp.index)"
   ]
  },
  {
   "cell_type": "code",
   "execution_count": 74,
   "metadata": {},
   "outputs": [],
   "source": [
    "datamix[\"Alcance_estimado\"] = prediccion"
   ]
  },
  {
   "cell_type": "code",
   "execution_count": 75,
   "metadata": {},
   "outputs": [],
   "source": [
    "datamix[\"reacciones\"] = datamix[metricas].sum(1)"
   ]
  },
  {
   "cell_type": "code",
   "execution_count": 76,
   "metadata": {},
   "outputs": [
    {
     "data": {
      "text/plain": [
       "NACIONAL    14350\n",
       "Name: estado_T, dtype: int64"
      ]
     },
     "execution_count": 76,
     "metadata": {},
     "output_type": "execute_result"
    }
   ],
   "source": [
    "datamix[\"estado_T\"].value_counts()"
   ]
  },
  {
   "cell_type": "markdown",
   "metadata": {},
   "source": [
    "Definición de Estado a calificar y parámetros para el modelo, alcmax es el alcance máximo posible, es decir la población total a alcanzar\n",
    "pubmax es el número máximo de publicaciones para fijar el tope de la calificación, usualmente 100 0 200 funciona bien, dependiendo de la ciudad."
   ]
  },
  {
   "cell_type": "code",
   "execution_count": 77,
   "metadata": {},
   "outputs": [],
   "source": [
    "estado = [\"NACIONAL\"]\n",
    "alcmax = 100000000\n",
    "pubmax = 200"
   ]
  },
  {
   "cell_type": "markdown",
   "metadata": {},
   "source": [
    "Filtrado de las publicaciones a aquellas que están en el estado y selección de columnas importantes"
   ]
  },
  {
   "cell_type": "code",
   "execution_count": 78,
   "metadata": {},
   "outputs": [],
   "source": [
    "data_filt=datamix[(datamix[\"estado_T\"].isin(estado))][metricas+[\"score_T\",\"Alcance_estimado\",\"reacciones\",\"idTema\",\"nombre_T\"]]"
   ]
  },
  {
   "cell_type": "markdown",
   "metadata": {},
   "source": [
    "Sustitución de los alcances mayores al alcance máximo por el alcance máximo"
   ]
  },
  {
   "cell_type": "code",
   "execution_count": 79,
   "metadata": {},
   "outputs": [],
   "source": [
    "data_filt[\"Alcance_est_top\"] = data_filt[\"Alcance_estimado\"].apply(lambda x: min(x,alcmax))"
   ]
  },
  {
   "cell_type": "markdown",
   "metadata": {},
   "source": [
    "Definición de la función para calcular el alcance extra al alcance de la publicación con mayor alcance para cada tema"
   ]
  },
  {
   "cell_type": "code",
   "execution_count": 80,
   "metadata": {},
   "outputs": [],
   "source": [
    "def alcance_extra(serie,atope):\n",
    "    nserie = serie.apply(lambda x: min(x,atope))\n",
    "    serie_s = nserie.sort_values(ascending=False)\n",
    "    index = serie_s.index\n",
    "    a_max  = min(atope,serie_s.max())\n",
    "    r = (atope - a_max)/atope\n",
    "    rango = pd.Series(pd.RangeIndex(0,len(serie_s)),index=index)\n",
    "    mults = np.power(r,rango)\n",
    "    return (serie_s*mults).sum()-a_max"
   ]
  },
  {
   "cell_type": "markdown",
   "metadata": {},
   "source": [
    "Agrupación de publicaciones por tema"
   ]
  },
  {
   "cell_type": "code",
   "execution_count": 81,
   "metadata": {},
   "outputs": [],
   "source": [
    "grupos = data_filt.groupby([\"idTema\",\"nombre_T\"])"
   ]
  },
  {
   "cell_type": "markdown",
   "metadata": {},
   "source": [
    "Cálculo del alcance extra para cada tema"
   ]
  },
  {
   "cell_type": "code",
   "execution_count": 82,
   "metadata": {},
   "outputs": [],
   "source": [
    "por_tema = grupos.apply(lambda x: alcance_extra(x[\"Alcance_est_top\"],alcmax)).to_frame(\"Alcance_extra\")"
   ]
  },
  {
   "cell_type": "markdown",
   "metadata": {},
   "source": [
    "Cálculos de alcances máximos, suma de alcances y número de publicaciones para cada tema"
   ]
  },
  {
   "cell_type": "code",
   "execution_count": 83,
   "metadata": {},
   "outputs": [],
   "source": [
    "por_tema[\"Alcance_max_top\"] = grupos[\"Alcance_est_top\"].max()\n",
    "por_tema[\"Alcance_suma\"] = por_tema[\"Alcance_max_top\"] + por_tema[\"Alcance_extra\"]\n",
    "por_tema[\"Publicaciones\"] = grupos[\"Alcance_estimado\"].size()"
   ]
  },
  {
   "cell_type": "markdown",
   "metadata": {},
   "source": [
    "Definición de la función para escalar los valores y calcular las calificaciones "
   ]
  },
  {
   "cell_type": "code",
   "execution_count": 84,
   "metadata": {},
   "outputs": [],
   "source": [
    "def scale(inp_domain,out_range,valor):\n",
    "    valor_estimado = ((out_range[1]-out_range[0])*(valor-inp_domain[0])/(inp_domain[1]-inp_domain[0])) + out_range[0]\n",
    "    return np.clip(valor_estimado,out_range[0],out_range[1])"
   ]
  },
  {
   "cell_type": "markdown",
   "metadata": {},
   "source": [
    "Definición de pesos para las calificaciones, deben de sumar a 100"
   ]
  },
  {
   "cell_type": "code",
   "execution_count": 85,
   "metadata": {},
   "outputs": [],
   "source": [
    "peso_alcance = 50\n",
    "peso_temas = 50"
   ]
  },
  {
   "cell_type": "markdown",
   "metadata": {},
   "source": [
    "Cálculo de las calificaciones por alcance, por temas y total"
   ]
  },
  {
   "cell_type": "code",
   "execution_count": 86,
   "metadata": {},
   "outputs": [],
   "source": [
    "por_tema[\"Cal_alcance\"] = scale((0,np.log10(alcmax)),(0,peso_alcance),np.log10(por_tema[\"Alcance_suma\"]))\n",
    "por_tema[\"Cal_publicaciones\"] = scale((0,np.log10(pubmax)),(0,peso_temas),np.log10(por_tema[\"Publicaciones\"]))\n",
    "por_tema[\"Calificacion\"] = por_tema[\"Cal_alcance\"] + por_tema[\"Cal_publicaciones\"]"
   ]
  },
  {
   "cell_type": "markdown",
   "metadata": {},
   "source": [
    "Definición del frame de salida"
   ]
  },
  {
   "cell_type": "code",
   "execution_count": 87,
   "metadata": {},
   "outputs": [],
   "source": [
    "salida = por_tema[[\"Alcance_max_top\",\"Alcance_extra\",\"Alcance_suma\",\"Publicaciones\",\"Cal_alcance\",\"Cal_publicaciones\",\"Calificacion\"]]"
   ]
  },
  {
   "cell_type": "markdown",
   "metadata": {},
   "source": [
    "Ordenando de mayor a menor por calificación y alcance total"
   ]
  },
  {
   "cell_type": "code",
   "execution_count": 88,
   "metadata": {},
   "outputs": [],
   "source": [
    "lista_final = salida.sort_values([\"Calificacion\",\"Alcance_suma\"],ascending=False)"
   ]
  },
  {
   "cell_type": "code",
   "execution_count": 89,
   "metadata": {},
   "outputs": [
    {
     "data": {
      "text/html": [
       "<div>\n",
       "<style scoped>\n",
       "    .dataframe tbody tr th:only-of-type {\n",
       "        vertical-align: middle;\n",
       "    }\n",
       "\n",
       "    .dataframe tbody tr th {\n",
       "        vertical-align: top;\n",
       "    }\n",
       "\n",
       "    .dataframe thead th {\n",
       "        text-align: right;\n",
       "    }\n",
       "</style>\n",
       "<table border=\"1\" class=\"dataframe\">\n",
       "  <thead>\n",
       "    <tr style=\"text-align: right;\">\n",
       "      <th></th>\n",
       "      <th></th>\n",
       "      <th>Alcance_max_top</th>\n",
       "      <th>Alcance_extra</th>\n",
       "      <th>Alcance_suma</th>\n",
       "      <th>Publicaciones</th>\n",
       "      <th>Cal_alcance</th>\n",
       "      <th>Cal_publicaciones</th>\n",
       "      <th>Calificacion</th>\n",
       "    </tr>\n",
       "    <tr>\n",
       "      <th>idTema</th>\n",
       "      <th>nombre_T</th>\n",
       "      <th></th>\n",
       "      <th></th>\n",
       "      <th></th>\n",
       "      <th></th>\n",
       "      <th></th>\n",
       "      <th></th>\n",
       "      <th></th>\n",
       "    </tr>\n",
       "  </thead>\n",
       "  <tbody>\n",
       "    <tr>\n",
       "      <th>1598</th>\n",
       "      <th>Policías Federales protestan contra la Guardia Nacional en la CDMX</th>\n",
       "      <td>1.282946e+06</td>\n",
       "      <td>1.050186e+07</td>\n",
       "      <td>1.178481e+07</td>\n",
       "      <td>77</td>\n",
       "      <td>44.195766</td>\n",
       "      <td>40.992311</td>\n",
       "      <td>85.188076</td>\n",
       "    </tr>\n",
       "    <tr>\n",
       "      <th>3564</th>\n",
       "      <th>Vinculan a proceso a Rosario Robles la trasladan al penal de Sta Martha Acatitla</th>\n",
       "      <td>1.528296e+06</td>\n",
       "      <td>4.390721e+06</td>\n",
       "      <td>5.919018e+06</td>\n",
       "      <td>73</td>\n",
       "      <td>42.326560</td>\n",
       "      <td>40.488887</td>\n",
       "      <td>82.815447</td>\n",
       "    </tr>\n",
       "    <tr>\n",
       "      <th>1861</th>\n",
       "      <th>Renuncia Carlos Urzúa a la Secretaría de Hacienda y Crédito Público a través de una carta</th>\n",
       "      <td>2.682841e+06</td>\n",
       "      <td>6.416773e+06</td>\n",
       "      <td>9.099614e+06</td>\n",
       "      <td>39</td>\n",
       "      <td>43.493894</td>\n",
       "      <td>34.572878</td>\n",
       "      <td>78.066772</td>\n",
       "    </tr>\n",
       "    <tr>\n",
       "      <th>6989</th>\n",
       "      <th>AMLO: Ejército liberó a Ovidio Guzmán “para salvaguardar a la sociedad culiacanense”</th>\n",
       "      <td>2.917624e+06</td>\n",
       "      <td>1.438849e+07</td>\n",
       "      <td>1.730612e+07</td>\n",
       "      <td>30</td>\n",
       "      <td>45.238748</td>\n",
       "      <td>32.096958</td>\n",
       "      <td>77.335705</td>\n",
       "    </tr>\n",
       "    <tr>\n",
       "      <th>10669</th>\n",
       "      <th>AMLO plantea como opción rifar el avión presidencial; Espriú difiere</th>\n",
       "      <td>1.311625e+06</td>\n",
       "      <td>4.742409e+06</td>\n",
       "      <td>6.054033e+06</td>\n",
       "      <td>38</td>\n",
       "      <td>42.387780</td>\n",
       "      <td>34.327749</td>\n",
       "      <td>76.715529</td>\n",
       "    </tr>\n",
       "    <tr>\n",
       "      <th>...</th>\n",
       "      <th>...</th>\n",
       "      <td>...</td>\n",
       "      <td>...</td>\n",
       "      <td>...</td>\n",
       "      <td>...</td>\n",
       "      <td>...</td>\n",
       "      <td>...</td>\n",
       "      <td>...</td>\n",
       "    </tr>\n",
       "    <tr>\n",
       "      <th>9690</th>\n",
       "      <th>Semarnat colabora con Sheinbaum en 14 medidas para mejorar la calidad del aire</th>\n",
       "      <td>3.587812e+02</td>\n",
       "      <td>0.000000e+00</td>\n",
       "      <td>3.587812e+02</td>\n",
       "      <td>1</td>\n",
       "      <td>15.967686</td>\n",
       "      <td>0.000000</td>\n",
       "      <td>15.967686</td>\n",
       "    </tr>\n",
       "    <tr>\n",
       "      <th>365</th>\n",
       "      <th>AMLO celebra aval de la Guardia Nacional</th>\n",
       "      <td>2.461217e+02</td>\n",
       "      <td>0.000000e+00</td>\n",
       "      <td>2.461217e+02</td>\n",
       "      <td>1</td>\n",
       "      <td>14.944687</td>\n",
       "      <td>0.000000</td>\n",
       "      <td>14.944687</td>\n",
       "    </tr>\n",
       "    <tr>\n",
       "      <th>4627</th>\n",
       "      <th>SCT anuncia avances en la construcción de la Carretera 4 Carriles en Sonora</th>\n",
       "      <td>1.185427e+02</td>\n",
       "      <td>0.000000e+00</td>\n",
       "      <td>1.185427e+02</td>\n",
       "      <td>1</td>\n",
       "      <td>12.961718</td>\n",
       "      <td>0.000000</td>\n",
       "      <td>12.961718</td>\n",
       "    </tr>\n",
       "    <tr>\n",
       "      <th>9068</th>\n",
       "      <th>Ebrard confirma reunión de alto nivel entre México y EU</th>\n",
       "      <td>8.559248e+01</td>\n",
       "      <td>0.000000e+00</td>\n",
       "      <td>8.559248e+01</td>\n",
       "      <td>1</td>\n",
       "      <td>12.077723</td>\n",
       "      <td>0.000000</td>\n",
       "      <td>12.077723</td>\n",
       "    </tr>\n",
       "    <tr>\n",
       "      <th>4467</th>\n",
       "      <th>AMLO: Pese a ataques Fuerzas Armadas tienen actitud ejemplar</th>\n",
       "      <td>6.898370e+01</td>\n",
       "      <td>0.000000e+00</td>\n",
       "      <td>6.898370e+01</td>\n",
       "      <td>1</td>\n",
       "      <td>11.492166</td>\n",
       "      <td>0.000000</td>\n",
       "      <td>11.492166</td>\n",
       "    </tr>\n",
       "  </tbody>\n",
       "</table>\n",
       "<p>2711 rows × 7 columns</p>\n",
       "</div>"
      ],
      "text/plain": [
       "                                                           Alcance_max_top  \\\n",
       "idTema nombre_T                                                              \n",
       "1598   Policías Federales protestan contra la Guardia ...     1.282946e+06   \n",
       "3564   Vinculan a proceso a Rosario Robles la traslada...     1.528296e+06   \n",
       "1861   Renuncia Carlos Urzúa a la Secretaría de Hacien...     2.682841e+06   \n",
       "6989   AMLO: Ejército liberó a Ovidio Guzmán “para sal...     2.917624e+06   \n",
       "10669  AMLO plantea como opción rifar el avión preside...     1.311625e+06   \n",
       "...                                                                    ...   \n",
       "9690   Semarnat colabora con Sheinbaum en 14 medidas p...     3.587812e+02   \n",
       "365    AMLO celebra aval de la Guardia Nacional               2.461217e+02   \n",
       "4627   SCT anuncia avances en la construcción de la Ca...     1.185427e+02   \n",
       "9068   Ebrard confirma reunión de alto nivel entre Méx...     8.559248e+01   \n",
       "4467   AMLO: Pese a ataques Fuerzas Armadas tienen act...     6.898370e+01   \n",
       "\n",
       "                                                           Alcance_extra  \\\n",
       "idTema nombre_T                                                            \n",
       "1598   Policías Federales protestan contra la Guardia ...   1.050186e+07   \n",
       "3564   Vinculan a proceso a Rosario Robles la traslada...   4.390721e+06   \n",
       "1861   Renuncia Carlos Urzúa a la Secretaría de Hacien...   6.416773e+06   \n",
       "6989   AMLO: Ejército liberó a Ovidio Guzmán “para sal...   1.438849e+07   \n",
       "10669  AMLO plantea como opción rifar el avión preside...   4.742409e+06   \n",
       "...                                                                  ...   \n",
       "9690   Semarnat colabora con Sheinbaum en 14 medidas p...   0.000000e+00   \n",
       "365    AMLO celebra aval de la Guardia Nacional             0.000000e+00   \n",
       "4627   SCT anuncia avances en la construcción de la Ca...   0.000000e+00   \n",
       "9068   Ebrard confirma reunión de alto nivel entre Méx...   0.000000e+00   \n",
       "4467   AMLO: Pese a ataques Fuerzas Armadas tienen act...   0.000000e+00   \n",
       "\n",
       "                                                           Alcance_suma  \\\n",
       "idTema nombre_T                                                           \n",
       "1598   Policías Federales protestan contra la Guardia ...  1.178481e+07   \n",
       "3564   Vinculan a proceso a Rosario Robles la traslada...  5.919018e+06   \n",
       "1861   Renuncia Carlos Urzúa a la Secretaría de Hacien...  9.099614e+06   \n",
       "6989   AMLO: Ejército liberó a Ovidio Guzmán “para sal...  1.730612e+07   \n",
       "10669  AMLO plantea como opción rifar el avión preside...  6.054033e+06   \n",
       "...                                                                 ...   \n",
       "9690   Semarnat colabora con Sheinbaum en 14 medidas p...  3.587812e+02   \n",
       "365    AMLO celebra aval de la Guardia Nacional            2.461217e+02   \n",
       "4627   SCT anuncia avances en la construcción de la Ca...  1.185427e+02   \n",
       "9068   Ebrard confirma reunión de alto nivel entre Méx...  8.559248e+01   \n",
       "4467   AMLO: Pese a ataques Fuerzas Armadas tienen act...  6.898370e+01   \n",
       "\n",
       "                                                           Publicaciones  \\\n",
       "idTema nombre_T                                                            \n",
       "1598   Policías Federales protestan contra la Guardia ...             77   \n",
       "3564   Vinculan a proceso a Rosario Robles la traslada...             73   \n",
       "1861   Renuncia Carlos Urzúa a la Secretaría de Hacien...             39   \n",
       "6989   AMLO: Ejército liberó a Ovidio Guzmán “para sal...             30   \n",
       "10669  AMLO plantea como opción rifar el avión preside...             38   \n",
       "...                                                                  ...   \n",
       "9690   Semarnat colabora con Sheinbaum en 14 medidas p...              1   \n",
       "365    AMLO celebra aval de la Guardia Nacional                        1   \n",
       "4627   SCT anuncia avances en la construcción de la Ca...              1   \n",
       "9068   Ebrard confirma reunión de alto nivel entre Méx...              1   \n",
       "4467   AMLO: Pese a ataques Fuerzas Armadas tienen act...              1   \n",
       "\n",
       "                                                           Cal_alcance  \\\n",
       "idTema nombre_T                                                          \n",
       "1598   Policías Federales protestan contra la Guardia ...    44.195766   \n",
       "3564   Vinculan a proceso a Rosario Robles la traslada...    42.326560   \n",
       "1861   Renuncia Carlos Urzúa a la Secretaría de Hacien...    43.493894   \n",
       "6989   AMLO: Ejército liberó a Ovidio Guzmán “para sal...    45.238748   \n",
       "10669  AMLO plantea como opción rifar el avión preside...    42.387780   \n",
       "...                                                                ...   \n",
       "9690   Semarnat colabora con Sheinbaum en 14 medidas p...    15.967686   \n",
       "365    AMLO celebra aval de la Guardia Nacional              14.944687   \n",
       "4627   SCT anuncia avances en la construcción de la Ca...    12.961718   \n",
       "9068   Ebrard confirma reunión de alto nivel entre Méx...    12.077723   \n",
       "4467   AMLO: Pese a ataques Fuerzas Armadas tienen act...    11.492166   \n",
       "\n",
       "                                                           Cal_publicaciones  \\\n",
       "idTema nombre_T                                                                \n",
       "1598   Policías Federales protestan contra la Guardia ...          40.992311   \n",
       "3564   Vinculan a proceso a Rosario Robles la traslada...          40.488887   \n",
       "1861   Renuncia Carlos Urzúa a la Secretaría de Hacien...          34.572878   \n",
       "6989   AMLO: Ejército liberó a Ovidio Guzmán “para sal...          32.096958   \n",
       "10669  AMLO plantea como opción rifar el avión preside...          34.327749   \n",
       "...                                                                      ...   \n",
       "9690   Semarnat colabora con Sheinbaum en 14 medidas p...           0.000000   \n",
       "365    AMLO celebra aval de la Guardia Nacional                     0.000000   \n",
       "4627   SCT anuncia avances en la construcción de la Ca...           0.000000   \n",
       "9068   Ebrard confirma reunión de alto nivel entre Méx...           0.000000   \n",
       "4467   AMLO: Pese a ataques Fuerzas Armadas tienen act...           0.000000   \n",
       "\n",
       "                                                           Calificacion  \n",
       "idTema nombre_T                                                          \n",
       "1598   Policías Federales protestan contra la Guardia ...     85.188076  \n",
       "3564   Vinculan a proceso a Rosario Robles la traslada...     82.815447  \n",
       "1861   Renuncia Carlos Urzúa a la Secretaría de Hacien...     78.066772  \n",
       "6989   AMLO: Ejército liberó a Ovidio Guzmán “para sal...     77.335705  \n",
       "10669  AMLO plantea como opción rifar el avión preside...     76.715529  \n",
       "...                                                                 ...  \n",
       "9690   Semarnat colabora con Sheinbaum en 14 medidas p...     15.967686  \n",
       "365    AMLO celebra aval de la Guardia Nacional               14.944687  \n",
       "4627   SCT anuncia avances en la construcción de la Ca...     12.961718  \n",
       "9068   Ebrard confirma reunión de alto nivel entre Méx...     12.077723  \n",
       "4467   AMLO: Pese a ataques Fuerzas Armadas tienen act...     11.492166  \n",
       "\n",
       "[2711 rows x 7 columns]"
      ]
     },
     "execution_count": 89,
     "metadata": {},
     "output_type": "execute_result"
    }
   ],
   "source": [
    "lista_final"
   ]
  },
  {
   "cell_type": "markdown",
   "metadata": {},
   "source": [
    "Exportando el archivo de salida"
   ]
  },
  {
   "cell_type": "code",
   "execution_count": 90,
   "metadata": {},
   "outputs": [],
   "source": [
    "lista_final.to_csv(\"../data/procesados/salida_nacional.csv\")"
   ]
  },
  {
   "cell_type": "code",
   "execution_count": null,
   "metadata": {},
   "outputs": [],
   "source": []
  }
 ],
 "metadata": {
  "kernelspec": {
   "display_name": "Python 3",
   "language": "python",
   "name": "python3"
  },
  "language_info": {
   "codemirror_mode": {
    "name": "ipython",
    "version": 3
   },
   "file_extension": ".py",
   "mimetype": "text/x-python",
   "name": "python",
   "nbconvert_exporter": "python",
   "pygments_lexer": "ipython3",
   "version": "3.7.7"
  }
 },
 "nbformat": 4,
 "nbformat_minor": 4
}
