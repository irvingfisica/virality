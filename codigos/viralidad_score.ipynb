{
 "cells": [
  {
   "cell_type": "code",
   "execution_count": 106,
   "metadata": {},
   "outputs": [],
   "source": [
    "import pandas as pd\n",
    "import numpy as np\n",
    "from sklearn.neural_network import MLPRegressor\n",
    "import bokeh.plotting as bpl"
   ]
  },
  {
   "cell_type": "code",
   "execution_count": 107,
   "metadata": {},
   "outputs": [
    {
     "data": {
      "text/html": [
       "\n",
       "    <div class=\"bk-root\">\n",
       "        <a href=\"https://bokeh.org\" target=\"_blank\" class=\"bk-logo bk-logo-small bk-logo-notebook\"></a>\n",
       "        <span id=\"1434\">Loading BokehJS ...</span>\n",
       "    </div>"
      ]
     },
     "metadata": {},
     "output_type": "display_data"
    },
    {
     "data": {
      "application/javascript": [
       "\n",
       "(function(root) {\n",
       "  function now() {\n",
       "    return new Date();\n",
       "  }\n",
       "\n",
       "  var force = true;\n",
       "\n",
       "  if (typeof root._bokeh_onload_callbacks === \"undefined\" || force === true) {\n",
       "    root._bokeh_onload_callbacks = [];\n",
       "    root._bokeh_is_loading = undefined;\n",
       "  }\n",
       "\n",
       "  var JS_MIME_TYPE = 'application/javascript';\n",
       "  var HTML_MIME_TYPE = 'text/html';\n",
       "  var EXEC_MIME_TYPE = 'application/vnd.bokehjs_exec.v0+json';\n",
       "  var CLASS_NAME = 'output_bokeh rendered_html';\n",
       "\n",
       "  /**\n",
       "   * Render data to the DOM node\n",
       "   */\n",
       "  function render(props, node) {\n",
       "    var script = document.createElement(\"script\");\n",
       "    node.appendChild(script);\n",
       "  }\n",
       "\n",
       "  /**\n",
       "   * Handle when an output is cleared or removed\n",
       "   */\n",
       "  function handleClearOutput(event, handle) {\n",
       "    var cell = handle.cell;\n",
       "\n",
       "    var id = cell.output_area._bokeh_element_id;\n",
       "    var server_id = cell.output_area._bokeh_server_id;\n",
       "    // Clean up Bokeh references\n",
       "    if (id != null && id in Bokeh.index) {\n",
       "      Bokeh.index[id].model.document.clear();\n",
       "      delete Bokeh.index[id];\n",
       "    }\n",
       "\n",
       "    if (server_id !== undefined) {\n",
       "      // Clean up Bokeh references\n",
       "      var cmd = \"from bokeh.io.state import curstate; print(curstate().uuid_to_server['\" + server_id + \"'].get_sessions()[0].document.roots[0]._id)\";\n",
       "      cell.notebook.kernel.execute(cmd, {\n",
       "        iopub: {\n",
       "          output: function(msg) {\n",
       "            var id = msg.content.text.trim();\n",
       "            if (id in Bokeh.index) {\n",
       "              Bokeh.index[id].model.document.clear();\n",
       "              delete Bokeh.index[id];\n",
       "            }\n",
       "          }\n",
       "        }\n",
       "      });\n",
       "      // Destroy server and session\n",
       "      var cmd = \"import bokeh.io.notebook as ion; ion.destroy_server('\" + server_id + \"')\";\n",
       "      cell.notebook.kernel.execute(cmd);\n",
       "    }\n",
       "  }\n",
       "\n",
       "  /**\n",
       "   * Handle when a new output is added\n",
       "   */\n",
       "  function handleAddOutput(event, handle) {\n",
       "    var output_area = handle.output_area;\n",
       "    var output = handle.output;\n",
       "\n",
       "    // limit handleAddOutput to display_data with EXEC_MIME_TYPE content only\n",
       "    if ((output.output_type != \"display_data\") || (!output.data.hasOwnProperty(EXEC_MIME_TYPE))) {\n",
       "      return\n",
       "    }\n",
       "\n",
       "    var toinsert = output_area.element.find(\".\" + CLASS_NAME.split(' ')[0]);\n",
       "\n",
       "    if (output.metadata[EXEC_MIME_TYPE][\"id\"] !== undefined) {\n",
       "      toinsert[toinsert.length - 1].firstChild.textContent = output.data[JS_MIME_TYPE];\n",
       "      // store reference to embed id on output_area\n",
       "      output_area._bokeh_element_id = output.metadata[EXEC_MIME_TYPE][\"id\"];\n",
       "    }\n",
       "    if (output.metadata[EXEC_MIME_TYPE][\"server_id\"] !== undefined) {\n",
       "      var bk_div = document.createElement(\"div\");\n",
       "      bk_div.innerHTML = output.data[HTML_MIME_TYPE];\n",
       "      var script_attrs = bk_div.children[0].attributes;\n",
       "      for (var i = 0; i < script_attrs.length; i++) {\n",
       "        toinsert[toinsert.length - 1].firstChild.setAttribute(script_attrs[i].name, script_attrs[i].value);\n",
       "        toinsert[toinsert.length - 1].firstChild.textContent = bk_div.children[0].textContent\n",
       "      }\n",
       "      // store reference to server id on output_area\n",
       "      output_area._bokeh_server_id = output.metadata[EXEC_MIME_TYPE][\"server_id\"];\n",
       "    }\n",
       "  }\n",
       "\n",
       "  function register_renderer(events, OutputArea) {\n",
       "\n",
       "    function append_mime(data, metadata, element) {\n",
       "      // create a DOM node to render to\n",
       "      var toinsert = this.create_output_subarea(\n",
       "        metadata,\n",
       "        CLASS_NAME,\n",
       "        EXEC_MIME_TYPE\n",
       "      );\n",
       "      this.keyboard_manager.register_events(toinsert);\n",
       "      // Render to node\n",
       "      var props = {data: data, metadata: metadata[EXEC_MIME_TYPE]};\n",
       "      render(props, toinsert[toinsert.length - 1]);\n",
       "      element.append(toinsert);\n",
       "      return toinsert\n",
       "    }\n",
       "\n",
       "    /* Handle when an output is cleared or removed */\n",
       "    events.on('clear_output.CodeCell', handleClearOutput);\n",
       "    events.on('delete.Cell', handleClearOutput);\n",
       "\n",
       "    /* Handle when a new output is added */\n",
       "    events.on('output_added.OutputArea', handleAddOutput);\n",
       "\n",
       "    /**\n",
       "     * Register the mime type and append_mime function with output_area\n",
       "     */\n",
       "    OutputArea.prototype.register_mime_type(EXEC_MIME_TYPE, append_mime, {\n",
       "      /* Is output safe? */\n",
       "      safe: true,\n",
       "      /* Index of renderer in `output_area.display_order` */\n",
       "      index: 0\n",
       "    });\n",
       "  }\n",
       "\n",
       "  // register the mime type if in Jupyter Notebook environment and previously unregistered\n",
       "  if (root.Jupyter !== undefined) {\n",
       "    var events = require('base/js/events');\n",
       "    var OutputArea = require('notebook/js/outputarea').OutputArea;\n",
       "\n",
       "    if (OutputArea.prototype.mime_types().indexOf(EXEC_MIME_TYPE) == -1) {\n",
       "      register_renderer(events, OutputArea);\n",
       "    }\n",
       "  }\n",
       "\n",
       "  \n",
       "  if (typeof (root._bokeh_timeout) === \"undefined\" || force === true) {\n",
       "    root._bokeh_timeout = Date.now() + 5000;\n",
       "    root._bokeh_failed_load = false;\n",
       "  }\n",
       "\n",
       "  var NB_LOAD_WARNING = {'data': {'text/html':\n",
       "     \"<div style='background-color: #fdd'>\\n\"+\n",
       "     \"<p>\\n\"+\n",
       "     \"BokehJS does not appear to have successfully loaded. If loading BokehJS from CDN, this \\n\"+\n",
       "     \"may be due to a slow or bad network connection. Possible fixes:\\n\"+\n",
       "     \"</p>\\n\"+\n",
       "     \"<ul>\\n\"+\n",
       "     \"<li>re-rerun `output_notebook()` to attempt to load from CDN again, or</li>\\n\"+\n",
       "     \"<li>use INLINE resources instead, as so:</li>\\n\"+\n",
       "     \"</ul>\\n\"+\n",
       "     \"<code>\\n\"+\n",
       "     \"from bokeh.resources import INLINE\\n\"+\n",
       "     \"output_notebook(resources=INLINE)\\n\"+\n",
       "     \"</code>\\n\"+\n",
       "     \"</div>\"}};\n",
       "\n",
       "  function display_loaded() {\n",
       "    var el = document.getElementById(\"1434\");\n",
       "    if (el != null) {\n",
       "      el.textContent = \"BokehJS is loading...\";\n",
       "    }\n",
       "    if (root.Bokeh !== undefined) {\n",
       "      if (el != null) {\n",
       "        el.textContent = \"BokehJS \" + root.Bokeh.version + \" successfully loaded.\";\n",
       "      }\n",
       "    } else if (Date.now() < root._bokeh_timeout) {\n",
       "      setTimeout(display_loaded, 100)\n",
       "    }\n",
       "  }\n",
       "\n",
       "\n",
       "  function run_callbacks() {\n",
       "    try {\n",
       "      root._bokeh_onload_callbacks.forEach(function(callback) {\n",
       "        if (callback != null)\n",
       "          callback();\n",
       "      });\n",
       "    } finally {\n",
       "      delete root._bokeh_onload_callbacks\n",
       "    }\n",
       "    console.debug(\"Bokeh: all callbacks have finished\");\n",
       "  }\n",
       "\n",
       "  function load_libs(css_urls, js_urls, callback) {\n",
       "    if (css_urls == null) css_urls = [];\n",
       "    if (js_urls == null) js_urls = [];\n",
       "\n",
       "    root._bokeh_onload_callbacks.push(callback);\n",
       "    if (root._bokeh_is_loading > 0) {\n",
       "      console.debug(\"Bokeh: BokehJS is being loaded, scheduling callback at\", now());\n",
       "      return null;\n",
       "    }\n",
       "    if (js_urls == null || js_urls.length === 0) {\n",
       "      run_callbacks();\n",
       "      return null;\n",
       "    }\n",
       "    console.debug(\"Bokeh: BokehJS not loaded, scheduling load and callback at\", now());\n",
       "    root._bokeh_is_loading = css_urls.length + js_urls.length;\n",
       "\n",
       "    function on_load() {\n",
       "      root._bokeh_is_loading--;\n",
       "      if (root._bokeh_is_loading === 0) {\n",
       "        console.debug(\"Bokeh: all BokehJS libraries/stylesheets loaded\");\n",
       "        run_callbacks()\n",
       "      }\n",
       "    }\n",
       "\n",
       "    function on_error() {\n",
       "      console.error(\"failed to load \" + url);\n",
       "    }\n",
       "\n",
       "    for (var i = 0; i < css_urls.length; i++) {\n",
       "      var url = css_urls[i];\n",
       "      const element = document.createElement(\"link\");\n",
       "      element.onload = on_load;\n",
       "      element.onerror = on_error;\n",
       "      element.rel = \"stylesheet\";\n",
       "      element.type = \"text/css\";\n",
       "      element.href = url;\n",
       "      console.debug(\"Bokeh: injecting link tag for BokehJS stylesheet: \", url);\n",
       "      document.body.appendChild(element);\n",
       "    }\n",
       "\n",
       "    const hashes = {\"https://cdn.bokeh.org/bokeh/release/bokeh-2.0.1.min.js\": \"JpP8FXbgAZLkfur7LiK3j9AGBhHNIvF742meBJrjO2ShJDhCG2I1uVvW+0DUtrmc\", \"https://cdn.bokeh.org/bokeh/release/bokeh-widgets-2.0.1.min.js\": \"xZlADit0Q04ISQEdKg2k3L4W9AwQBAuDs9nJL9fM/WwzL1tEU9VPNezOFX0nLEAz\", \"https://cdn.bokeh.org/bokeh/release/bokeh-tables-2.0.1.min.js\": \"4BuPRZkdMKSnj3zoxiNrQ86XgNw0rYmBOxe7nshquXwwcauupgBF2DHLVG1WuZlV\", \"https://cdn.bokeh.org/bokeh/release/bokeh-gl-2.0.1.min.js\": \"Dv1SQ87hmDqK6S5OhBf0bCuwAEvL5QYL0PuR/F1SPVhCS/r/abjkbpKDYL2zeM19\"};\n",
       "\n",
       "    for (var i = 0; i < js_urls.length; i++) {\n",
       "      var url = js_urls[i];\n",
       "      var element = document.createElement('script');\n",
       "      element.onload = on_load;\n",
       "      element.onerror = on_error;\n",
       "      element.async = false;\n",
       "      element.src = url;\n",
       "      if (url in hashes) {\n",
       "        element.crossOrigin = \"anonymous\";\n",
       "        element.integrity = \"sha384-\" + hashes[url];\n",
       "      }\n",
       "      console.debug(\"Bokeh: injecting script tag for BokehJS library: \", url);\n",
       "      document.head.appendChild(element);\n",
       "    }\n",
       "  };var element = document.getElementById(\"1434\");\n",
       "  if (element == null) {\n",
       "    console.error(\"Bokeh: ERROR: autoload.js configured with elementid '1434' but no matching script tag was found. \")\n",
       "    return false;\n",
       "  }\n",
       "\n",
       "  function inject_raw_css(css) {\n",
       "    const element = document.createElement(\"style\");\n",
       "    element.appendChild(document.createTextNode(css));\n",
       "    document.body.appendChild(element);\n",
       "  }\n",
       "\n",
       "  \n",
       "  var js_urls = [\"https://cdn.bokeh.org/bokeh/release/bokeh-2.0.1.min.js\", \"https://cdn.bokeh.org/bokeh/release/bokeh-widgets-2.0.1.min.js\", \"https://cdn.bokeh.org/bokeh/release/bokeh-tables-2.0.1.min.js\", \"https://cdn.bokeh.org/bokeh/release/bokeh-gl-2.0.1.min.js\"];\n",
       "  var css_urls = [];\n",
       "  \n",
       "\n",
       "  var inline_js = [\n",
       "    function(Bokeh) {\n",
       "      Bokeh.set_log_level(\"info\");\n",
       "    },\n",
       "    function(Bokeh) {\n",
       "    \n",
       "    \n",
       "    }\n",
       "  ];\n",
       "\n",
       "  function run_inline_js() {\n",
       "    \n",
       "    if (root.Bokeh !== undefined || force === true) {\n",
       "      \n",
       "    for (var i = 0; i < inline_js.length; i++) {\n",
       "      inline_js[i].call(root, root.Bokeh);\n",
       "    }\n",
       "    if (force === true) {\n",
       "        display_loaded();\n",
       "      }} else if (Date.now() < root._bokeh_timeout) {\n",
       "      setTimeout(run_inline_js, 100);\n",
       "    } else if (!root._bokeh_failed_load) {\n",
       "      console.log(\"Bokeh: BokehJS failed to load within specified timeout.\");\n",
       "      root._bokeh_failed_load = true;\n",
       "    } else if (force !== true) {\n",
       "      var cell = $(document.getElementById(\"1434\")).parents('.cell').data().cell;\n",
       "      cell.output_area.append_execute_result(NB_LOAD_WARNING)\n",
       "    }\n",
       "\n",
       "  }\n",
       "\n",
       "  if (root._bokeh_is_loading === 0) {\n",
       "    console.debug(\"Bokeh: BokehJS loaded, going straight to plotting\");\n",
       "    run_inline_js();\n",
       "  } else {\n",
       "    load_libs(css_urls, js_urls, function() {\n",
       "      console.debug(\"Bokeh: BokehJS plotting callback run at\", now());\n",
       "      run_inline_js();\n",
       "    });\n",
       "  }\n",
       "}(window));"
      ],
      "application/vnd.bokehjs_load.v0+json": "\n(function(root) {\n  function now() {\n    return new Date();\n  }\n\n  var force = true;\n\n  if (typeof root._bokeh_onload_callbacks === \"undefined\" || force === true) {\n    root._bokeh_onload_callbacks = [];\n    root._bokeh_is_loading = undefined;\n  }\n\n  \n\n  \n  if (typeof (root._bokeh_timeout) === \"undefined\" || force === true) {\n    root._bokeh_timeout = Date.now() + 5000;\n    root._bokeh_failed_load = false;\n  }\n\n  var NB_LOAD_WARNING = {'data': {'text/html':\n     \"<div style='background-color: #fdd'>\\n\"+\n     \"<p>\\n\"+\n     \"BokehJS does not appear to have successfully loaded. If loading BokehJS from CDN, this \\n\"+\n     \"may be due to a slow or bad network connection. Possible fixes:\\n\"+\n     \"</p>\\n\"+\n     \"<ul>\\n\"+\n     \"<li>re-rerun `output_notebook()` to attempt to load from CDN again, or</li>\\n\"+\n     \"<li>use INLINE resources instead, as so:</li>\\n\"+\n     \"</ul>\\n\"+\n     \"<code>\\n\"+\n     \"from bokeh.resources import INLINE\\n\"+\n     \"output_notebook(resources=INLINE)\\n\"+\n     \"</code>\\n\"+\n     \"</div>\"}};\n\n  function display_loaded() {\n    var el = document.getElementById(\"1434\");\n    if (el != null) {\n      el.textContent = \"BokehJS is loading...\";\n    }\n    if (root.Bokeh !== undefined) {\n      if (el != null) {\n        el.textContent = \"BokehJS \" + root.Bokeh.version + \" successfully loaded.\";\n      }\n    } else if (Date.now() < root._bokeh_timeout) {\n      setTimeout(display_loaded, 100)\n    }\n  }\n\n\n  function run_callbacks() {\n    try {\n      root._bokeh_onload_callbacks.forEach(function(callback) {\n        if (callback != null)\n          callback();\n      });\n    } finally {\n      delete root._bokeh_onload_callbacks\n    }\n    console.debug(\"Bokeh: all callbacks have finished\");\n  }\n\n  function load_libs(css_urls, js_urls, callback) {\n    if (css_urls == null) css_urls = [];\n    if (js_urls == null) js_urls = [];\n\n    root._bokeh_onload_callbacks.push(callback);\n    if (root._bokeh_is_loading > 0) {\n      console.debug(\"Bokeh: BokehJS is being loaded, scheduling callback at\", now());\n      return null;\n    }\n    if (js_urls == null || js_urls.length === 0) {\n      run_callbacks();\n      return null;\n    }\n    console.debug(\"Bokeh: BokehJS not loaded, scheduling load and callback at\", now());\n    root._bokeh_is_loading = css_urls.length + js_urls.length;\n\n    function on_load() {\n      root._bokeh_is_loading--;\n      if (root._bokeh_is_loading === 0) {\n        console.debug(\"Bokeh: all BokehJS libraries/stylesheets loaded\");\n        run_callbacks()\n      }\n    }\n\n    function on_error() {\n      console.error(\"failed to load \" + url);\n    }\n\n    for (var i = 0; i < css_urls.length; i++) {\n      var url = css_urls[i];\n      const element = document.createElement(\"link\");\n      element.onload = on_load;\n      element.onerror = on_error;\n      element.rel = \"stylesheet\";\n      element.type = \"text/css\";\n      element.href = url;\n      console.debug(\"Bokeh: injecting link tag for BokehJS stylesheet: \", url);\n      document.body.appendChild(element);\n    }\n\n    const hashes = {\"https://cdn.bokeh.org/bokeh/release/bokeh-2.0.1.min.js\": \"JpP8FXbgAZLkfur7LiK3j9AGBhHNIvF742meBJrjO2ShJDhCG2I1uVvW+0DUtrmc\", \"https://cdn.bokeh.org/bokeh/release/bokeh-widgets-2.0.1.min.js\": \"xZlADit0Q04ISQEdKg2k3L4W9AwQBAuDs9nJL9fM/WwzL1tEU9VPNezOFX0nLEAz\", \"https://cdn.bokeh.org/bokeh/release/bokeh-tables-2.0.1.min.js\": \"4BuPRZkdMKSnj3zoxiNrQ86XgNw0rYmBOxe7nshquXwwcauupgBF2DHLVG1WuZlV\", \"https://cdn.bokeh.org/bokeh/release/bokeh-gl-2.0.1.min.js\": \"Dv1SQ87hmDqK6S5OhBf0bCuwAEvL5QYL0PuR/F1SPVhCS/r/abjkbpKDYL2zeM19\"};\n\n    for (var i = 0; i < js_urls.length; i++) {\n      var url = js_urls[i];\n      var element = document.createElement('script');\n      element.onload = on_load;\n      element.onerror = on_error;\n      element.async = false;\n      element.src = url;\n      if (url in hashes) {\n        element.crossOrigin = \"anonymous\";\n        element.integrity = \"sha384-\" + hashes[url];\n      }\n      console.debug(\"Bokeh: injecting script tag for BokehJS library: \", url);\n      document.head.appendChild(element);\n    }\n  };var element = document.getElementById(\"1434\");\n  if (element == null) {\n    console.error(\"Bokeh: ERROR: autoload.js configured with elementid '1434' but no matching script tag was found. \")\n    return false;\n  }\n\n  function inject_raw_css(css) {\n    const element = document.createElement(\"style\");\n    element.appendChild(document.createTextNode(css));\n    document.body.appendChild(element);\n  }\n\n  \n  var js_urls = [\"https://cdn.bokeh.org/bokeh/release/bokeh-2.0.1.min.js\", \"https://cdn.bokeh.org/bokeh/release/bokeh-widgets-2.0.1.min.js\", \"https://cdn.bokeh.org/bokeh/release/bokeh-tables-2.0.1.min.js\", \"https://cdn.bokeh.org/bokeh/release/bokeh-gl-2.0.1.min.js\"];\n  var css_urls = [];\n  \n\n  var inline_js = [\n    function(Bokeh) {\n      Bokeh.set_log_level(\"info\");\n    },\n    function(Bokeh) {\n    \n    \n    }\n  ];\n\n  function run_inline_js() {\n    \n    if (root.Bokeh !== undefined || force === true) {\n      \n    for (var i = 0; i < inline_js.length; i++) {\n      inline_js[i].call(root, root.Bokeh);\n    }\n    if (force === true) {\n        display_loaded();\n      }} else if (Date.now() < root._bokeh_timeout) {\n      setTimeout(run_inline_js, 100);\n    } else if (!root._bokeh_failed_load) {\n      console.log(\"Bokeh: BokehJS failed to load within specified timeout.\");\n      root._bokeh_failed_load = true;\n    } else if (force !== true) {\n      var cell = $(document.getElementById(\"1434\")).parents('.cell').data().cell;\n      cell.output_area.append_execute_result(NB_LOAD_WARNING)\n    }\n\n  }\n\n  if (root._bokeh_is_loading === 0) {\n    console.debug(\"Bokeh: BokehJS loaded, going straight to plotting\");\n    run_inline_js();\n  } else {\n    load_libs(css_urls, js_urls, function() {\n      console.debug(\"Bokeh: BokehJS plotting callback run at\", now());\n      run_inline_js();\n    });\n  }\n}(window));"
     },
     "metadata": {},
     "output_type": "display_data"
    }
   ],
   "source": [
    "bpl.output_notebook()"
   ]
  },
  {
   "cell_type": "code",
   "execution_count": 108,
   "metadata": {},
   "outputs": [],
   "source": [
    "def entrenador(arreglo,alcances):\n",
    "    \"\"\"Entrena el modelo utilizando un arreglo de publicaciones o un dataframe y sus alcances.\n",
    "    \n",
    "    Parameters:\n",
    "        arreglo (arreglo de numpy, también puede ser un dataframe):\n",
    "            Arreglo multidimensional con los valores de las métricas para cada publicación.\n",
    "            Cada publicación está en una fila del arreglo.\n",
    "            El orden de las métricas debe ser el siguiente [likes,love,angry,wow,haha,sad,shares].\n",
    "        alcances (arreglo de numpy, tambien puede ser una serie):\n",
    "            Arreglo unidimensional con los valores de los alcances para cada publicación.\n",
    "            Cada publicación está en una fila del arreglo.\n",
    "        \n",
    "    Returns:\n",
    "        red (red neuronal de Sklearn):\n",
    "            Modelo de red neuronal entrenada para predecir los alcances de publicaciones.\n",
    "            \n",
    "    \"\"\"\n",
    "    logtrain = np.log1p(arreglo)\n",
    "    logpredi = np.log1p(alcances)\n",
    "    \n",
    "    red = MLPRegressor(alpha=0.01, hidden_layer_sizes = (10,), max_iter = 50000, \n",
    "                 activation = 'logistic', learning_rate = 'adaptive',solver= 'lbfgs')\n",
    "    \n",
    "    red.fit(logtrain,logpredi)\n",
    "    \n",
    "    return red"
   ]
  },
  {
   "cell_type": "code",
   "execution_count": 109,
   "metadata": {},
   "outputs": [],
   "source": [
    "def predictor(arreglo,modelo):\n",
    "    \"\"\"Predice los alcances para un arreglo de publicaciones o un dataframe.\n",
    "    \n",
    "    Parameters:\n",
    "        arreglo (arreglo de numpy, también puede ser un dataframe):\n",
    "            Arreglo multidimensional con los valores de las métricas para cada publicación.\n",
    "            Cada publicación está en una fila del arreglo.\n",
    "            El orden de las métricas debe ser el siguiente [likes,love,angry,wow,haha,sad,shares].\n",
    "            \n",
    "        modelo (modelo de sklearn):\n",
    "            El modelo de predicción entrenado previamente\n",
    "            \n",
    "    Returns:\n",
    "        alcances (arreglo de numpy):\n",
    "            Arreglo con los alcances para cada publicación.\n",
    "            \n",
    "    \"\"\"\n",
    "    logdata = np.log1p(arreglo)\n",
    "    predata = modelo.predict(logdata)\n",
    "    bacdata = np.expm1(predata)\n",
    "    \n",
    "    return bacdata"
   ]
  },
  {
   "cell_type": "code",
   "execution_count": 110,
   "metadata": {},
   "outputs": [],
   "source": [
    "data = pd.read_csv(\"../data/originales/posts.csv\")"
   ]
  },
  {
   "cell_type": "code",
   "execution_count": 111,
   "metadata": {},
   "outputs": [],
   "source": [
    "metricas = ['likes', 'love', 'angry', 'wow', 'haha', 'sad', 'shares']"
   ]
  },
  {
   "cell_type": "code",
   "execution_count": 112,
   "metadata": {},
   "outputs": [],
   "source": [
    "data[\"reacciones\"] = data[metricas].sum(1)"
   ]
  },
  {
   "cell_type": "code",
   "execution_count": 113,
   "metadata": {},
   "outputs": [],
   "source": [
    "fdata=data[(data[\"scope\"]!=0)&(data[\"reacciones\"]>10)&(data[\"reacciones\"]<=data[\"scope\"])]"
   ]
  },
  {
   "cell_type": "code",
   "execution_count": 114,
   "metadata": {},
   "outputs": [],
   "source": [
    "mdata = fdata[metricas + [\"scope\"]]"
   ]
  },
  {
   "cell_type": "code",
   "execution_count": 115,
   "metadata": {},
   "outputs": [
    {
     "data": {
      "text/html": [
       "<div>\n",
       "<style scoped>\n",
       "    .dataframe tbody tr th:only-of-type {\n",
       "        vertical-align: middle;\n",
       "    }\n",
       "\n",
       "    .dataframe tbody tr th {\n",
       "        vertical-align: top;\n",
       "    }\n",
       "\n",
       "    .dataframe thead th {\n",
       "        text-align: right;\n",
       "    }\n",
       "</style>\n",
       "<table border=\"1\" class=\"dataframe\">\n",
       "  <thead>\n",
       "    <tr style=\"text-align: right;\">\n",
       "      <th></th>\n",
       "      <th>likes</th>\n",
       "      <th>love</th>\n",
       "      <th>angry</th>\n",
       "      <th>wow</th>\n",
       "      <th>haha</th>\n",
       "      <th>sad</th>\n",
       "      <th>shares</th>\n",
       "      <th>scope</th>\n",
       "    </tr>\n",
       "  </thead>\n",
       "  <tbody>\n",
       "    <tr>\n",
       "      <th>0</th>\n",
       "      <td>18</td>\n",
       "      <td>7</td>\n",
       "      <td>0</td>\n",
       "      <td>0</td>\n",
       "      <td>0</td>\n",
       "      <td>0</td>\n",
       "      <td>4</td>\n",
       "      <td>3660</td>\n",
       "    </tr>\n",
       "    <tr>\n",
       "      <th>1</th>\n",
       "      <td>526</td>\n",
       "      <td>117</td>\n",
       "      <td>189</td>\n",
       "      <td>15</td>\n",
       "      <td>51</td>\n",
       "      <td>8</td>\n",
       "      <td>107</td>\n",
       "      <td>77468</td>\n",
       "    </tr>\n",
       "    <tr>\n",
       "      <th>2</th>\n",
       "      <td>28</td>\n",
       "      <td>1</td>\n",
       "      <td>0</td>\n",
       "      <td>0</td>\n",
       "      <td>0</td>\n",
       "      <td>0</td>\n",
       "      <td>13</td>\n",
       "      <td>4399</td>\n",
       "    </tr>\n",
       "  </tbody>\n",
       "</table>\n",
       "</div>"
      ],
      "text/plain": [
       "   likes  love  angry  wow  haha  sad  shares  scope\n",
       "0     18     7      0    0     0    0       4   3660\n",
       "1    526   117    189   15    51    8     107  77468\n",
       "2     28     1      0    0     0    0      13   4399"
      ]
     },
     "execution_count": 115,
     "metadata": {},
     "output_type": "execute_result"
    }
   ],
   "source": [
    "mdata[:3]"
   ]
  },
  {
   "cell_type": "code",
   "execution_count": 116,
   "metadata": {},
   "outputs": [],
   "source": [
    "arr_metricas = mdata[metricas].values"
   ]
  },
  {
   "cell_type": "code",
   "execution_count": 117,
   "metadata": {},
   "outputs": [
    {
     "data": {
      "text/plain": [
       "array([[ 18,   7,   0, ...,   0,   0,   4],\n",
       "       [526, 117, 189, ...,  51,   8, 107],\n",
       "       [ 28,   1,   0, ...,   0,   0,  13],\n",
       "       ...,\n",
       "       [ 23,   0,   1, ...,   0,   3,   1],\n",
       "       [ 13,   0,   4, ...,   0,   0,   0],\n",
       "       [ 24,   0,   0, ...,   0,   0,   0]], dtype=int64)"
      ]
     },
     "execution_count": 117,
     "metadata": {},
     "output_type": "execute_result"
    }
   ],
   "source": [
    "arr_metricas"
   ]
  },
  {
   "cell_type": "code",
   "execution_count": 118,
   "metadata": {},
   "outputs": [],
   "source": [
    "arr_alcances = mdata[\"scope\"].values"
   ]
  },
  {
   "cell_type": "code",
   "execution_count": 119,
   "metadata": {},
   "outputs": [],
   "source": [
    "red = entrenador(arr_metricas,arr_alcances)"
   ]
  },
  {
   "cell_type": "code",
   "execution_count": 120,
   "metadata": {},
   "outputs": [
    {
     "name": "stderr",
     "output_type": "stream",
     "text": [
      "D:\\Apps\\Anaconda\\lib\\site-packages\\IPython\\core\\interactiveshell.py:3063: DtypeWarning: Columns (2,11,12,13) have mixed types.Specify dtype option on import or set low_memory=False.\n",
      "  interactivity=interactivity, compiler=compiler, result=result)\n"
     ]
    }
   ],
   "source": [
    "datap = pd.read_csv(\"../data/originales/PostsViralidadSinSaltos.tsv\",sep='\\t')\n",
    "datat = pd.read_csv(\"../data/originales/TemasViralidadSinSaltos.tsv\",sep='\\t')"
   ]
  },
  {
   "cell_type": "code",
   "execution_count": 151,
   "metadata": {},
   "outputs": [
    {
     "data": {
      "text/plain": [
       "Ciudad de México       6515\n",
       "Tamaulipas             1721\n",
       "Quintana Roo           1458\n",
       "Sinaloa                1342\n",
       "Baja California Sur     183\n",
       "Baja California          79\n",
       "Sonora                   46\n",
       "Name: estado, dtype: int64"
      ]
     },
     "execution_count": 151,
     "metadata": {},
     "output_type": "execute_result"
    }
   ],
   "source": [
    "datap[\"estado\"].value_counts()"
   ]
  },
  {
   "cell_type": "code",
   "execution_count": 154,
   "metadata": {},
   "outputs": [
    {
     "data": {
      "text/plain": [
       "Ciudad de México       7726\n",
       "Tamaulipas             1995\n",
       "Sinaloa                1437\n",
       "Quintana Roo           1094\n",
       "Baja California Sur     341\n",
       "Baja California          44\n",
       "Sonora                   27\n",
       "Name: estado_T, dtype: int64"
      ]
     },
     "execution_count": 154,
     "metadata": {},
     "output_type": "execute_result"
    }
   ],
   "source": [
    "datat[\"estado_T\"].value_counts()"
   ]
  },
  {
   "cell_type": "code",
   "execution_count": 121,
   "metadata": {},
   "outputs": [
    {
     "data": {
      "text/plain": [
       "79347"
      ]
     },
     "execution_count": 121,
     "metadata": {},
     "output_type": "execute_result"
    }
   ],
   "source": [
    "len(datap)"
   ]
  },
  {
   "cell_type": "code",
   "execution_count": 122,
   "metadata": {},
   "outputs": [
    {
     "data": {
      "text/plain": [
       "15044"
      ]
     },
     "execution_count": 122,
     "metadata": {},
     "output_type": "execute_result"
    }
   ],
   "source": [
    "len(datat)"
   ]
  },
  {
   "cell_type": "code",
   "execution_count": 123,
   "metadata": {},
   "outputs": [
    {
     "data": {
      "text/html": [
       "<div>\n",
       "<style scoped>\n",
       "    .dataframe tbody tr th:only-of-type {\n",
       "        vertical-align: middle;\n",
       "    }\n",
       "\n",
       "    .dataframe tbody tr th {\n",
       "        vertical-align: top;\n",
       "    }\n",
       "\n",
       "    .dataframe thead th {\n",
       "        text-align: right;\n",
       "    }\n",
       "</style>\n",
       "<table border=\"1\" class=\"dataframe\">\n",
       "  <thead>\n",
       "    <tr style=\"text-align: right;\">\n",
       "      <th></th>\n",
       "      <th>id</th>\n",
       "      <th>idTema</th>\n",
       "      <th>titulo</th>\n",
       "      <th>copy</th>\n",
       "      <th>imagen</th>\n",
       "      <th>url</th>\n",
       "      <th>fbid</th>\n",
       "      <th>fechaPub</th>\n",
       "      <th>fechaCaptura</th>\n",
       "      <th>fechaMod</th>\n",
       "      <th>...</th>\n",
       "      <th>secretarias</th>\n",
       "      <th>likes</th>\n",
       "      <th>love</th>\n",
       "      <th>angry</th>\n",
       "      <th>sad</th>\n",
       "      <th>haha</th>\n",
       "      <th>wow</th>\n",
       "      <th>shares</th>\n",
       "      <th>idAnalitycs</th>\n",
       "      <th>estatus</th>\n",
       "    </tr>\n",
       "  </thead>\n",
       "  <tbody>\n",
       "    <tr>\n",
       "      <th>0</th>\n",
       "      <td>25126</td>\n",
       "      <td>0</td>\n",
       "      <td>NaN</td>\n",
       "      <td>Un juez dicata prisión preventiva al agresor d...</td>\n",
       "      <td>http://monitoringpol5c3f9f24c983d.s3.amazonaws...</td>\n",
       "      <td>https://www.facebook.com/SinEmbargoMX/posts/27...</td>\n",
       "      <td>ZmVlZGJhY2s6Mjc3NzUxMzM3NTYxNDU2OQ%3D%3D&amp;av=10...</td>\n",
       "      <td>2029-08-22</td>\n",
       "      <td>2019-08-22 23:04:34</td>\n",
       "      <td>NaN</td>\n",
       "      <td>...</td>\n",
       "      <td>NaN</td>\n",
       "      <td>NaN</td>\n",
       "      <td>NaN</td>\n",
       "      <td>NaN</td>\n",
       "      <td>NaN</td>\n",
       "      <td>NaN</td>\n",
       "      <td>NaN</td>\n",
       "      <td>NaN</td>\n",
       "      <td>6364.0</td>\n",
       "      <td>ACTIVO</td>\n",
       "    </tr>\n",
       "    <tr>\n",
       "      <th>1</th>\n",
       "      <td>79594</td>\n",
       "      <td>0</td>\n",
       "      <td>NaN</td>\n",
       "      <td>Reportan afluencia en tianguis de San Andrés T...</td>\n",
       "      <td>http://monitoringpol5c3f9f24c983d.s3.amazonaws...</td>\n",
       "      <td>https://www.facebook.com/1492009264458182/post...</td>\n",
       "      <td>ZmVlZGJhY2s6MjYyMzk2MzU2NDU5NjA3NA%3D%3D&amp;av=10...</td>\n",
       "      <td>2023-04-17</td>\n",
       "      <td>2020-04-17 12:21:17</td>\n",
       "      <td>NaN</td>\n",
       "      <td>...</td>\n",
       "      <td>NaN</td>\n",
       "      <td>NaN</td>\n",
       "      <td>NaN</td>\n",
       "      <td>NaN</td>\n",
       "      <td>NaN</td>\n",
       "      <td>NaN</td>\n",
       "      <td>NaN</td>\n",
       "      <td>NaN</td>\n",
       "      <td>14421.0</td>\n",
       "      <td>ACTIVO</td>\n",
       "    </tr>\n",
       "    <tr>\n",
       "      <th>2</th>\n",
       "      <td>56880</td>\n",
       "      <td>9846</td>\n",
       "      <td>NaN</td>\n",
       "      <td>Conductor de Metrobús es detenido por inhalar ...</td>\n",
       "      <td>http://monitoringpol5c3f9f24c983d.s3.amazonaws...</td>\n",
       "      <td>https://www.facebook.com/Noticiasiztacalcoo/po...</td>\n",
       "      <td>ZmVlZGJhY2s6MTU0NTgyNzc5NTU1NzU0Mg%3D%3D</td>\n",
       "      <td>2020-12-26</td>\n",
       "      <td>2020-01-07</td>\n",
       "      <td>NaN</td>\n",
       "      <td>...</td>\n",
       "      <td>NaN</td>\n",
       "      <td>197.0</td>\n",
       "      <td>2.0</td>\n",
       "      <td>221.0</td>\n",
       "      <td>4.0</td>\n",
       "      <td>34.0</td>\n",
       "      <td>239.0</td>\n",
       "      <td>377.0</td>\n",
       "      <td>NaN</td>\n",
       "      <td>ACTIVO</td>\n",
       "    </tr>\n",
       "  </tbody>\n",
       "</table>\n",
       "<p>3 rows × 23 columns</p>\n",
       "</div>"
      ],
      "text/plain": [
       "      id  idTema titulo                                               copy  \\\n",
       "0  25126       0    NaN  Un juez dicata prisión preventiva al agresor d...   \n",
       "1  79594       0    NaN  Reportan afluencia en tianguis de San Andrés T...   \n",
       "2  56880    9846    NaN  Conductor de Metrobús es detenido por inhalar ...   \n",
       "\n",
       "                                              imagen  \\\n",
       "0  http://monitoringpol5c3f9f24c983d.s3.amazonaws...   \n",
       "1  http://monitoringpol5c3f9f24c983d.s3.amazonaws...   \n",
       "2  http://monitoringpol5c3f9f24c983d.s3.amazonaws...   \n",
       "\n",
       "                                                 url  \\\n",
       "0  https://www.facebook.com/SinEmbargoMX/posts/27...   \n",
       "1  https://www.facebook.com/1492009264458182/post...   \n",
       "2  https://www.facebook.com/Noticiasiztacalcoo/po...   \n",
       "\n",
       "                                                fbid    fechaPub  \\\n",
       "0  ZmVlZGJhY2s6Mjc3NzUxMzM3NTYxNDU2OQ%3D%3D&av=10...  2029-08-22   \n",
       "1  ZmVlZGJhY2s6MjYyMzk2MzU2NDU5NjA3NA%3D%3D&av=10...  2023-04-17   \n",
       "2           ZmVlZGJhY2s6MTU0NTgyNzc5NTU1NzU0Mg%3D%3D  2020-12-26   \n",
       "\n",
       "          fechaCaptura fechaMod  ... secretarias  likes love  angry  sad  \\\n",
       "0  2019-08-22 23:04:34      NaN  ...         NaN    NaN  NaN    NaN  NaN   \n",
       "1  2020-04-17 12:21:17      NaN  ...         NaN    NaN  NaN    NaN  NaN   \n",
       "2           2020-01-07      NaN  ...         NaN  197.0  2.0  221.0  4.0   \n",
       "\n",
       "   haha    wow  shares  idAnalitycs  estatus  \n",
       "0   NaN    NaN     NaN       6364.0   ACTIVO  \n",
       "1   NaN    NaN     NaN      14421.0   ACTIVO  \n",
       "2  34.0  239.0   377.0          NaN   ACTIVO  \n",
       "\n",
       "[3 rows x 23 columns]"
      ]
     },
     "execution_count": 123,
     "metadata": {},
     "output_type": "execute_result"
    }
   ],
   "source": [
    "datap[:3]"
   ]
  },
  {
   "cell_type": "code",
   "execution_count": 124,
   "metadata": {},
   "outputs": [
    {
     "data": {
      "text/plain": [
       "Index(['id', 'nombre', 'estado', 'municipio', 'categorias', 'secretarias',\n",
       "       'Linea', 'Estacion', 'score', 'scoreManual', 'Destacado', 'estatus',\n",
       "       'imagen', 'url', 'fechaCreacion', 'fechaInsercion', 'fechaMod',\n",
       "       'idAnalitycs'],\n",
       "      dtype='object')"
      ]
     },
     "execution_count": 124,
     "metadata": {},
     "output_type": "execute_result"
    }
   ],
   "source": [
    "datat.columns"
   ]
  },
  {
   "cell_type": "code",
   "execution_count": 125,
   "metadata": {},
   "outputs": [
    {
     "data": {
      "text/plain": [
       "ACTIVO      79334\n",
       "INACTIVO       13\n",
       "Name: estatus, dtype: int64"
      ]
     },
     "execution_count": 125,
     "metadata": {},
     "output_type": "execute_result"
    }
   ],
   "source": [
    "datap[\"estatus\"].value_counts()"
   ]
  },
  {
   "cell_type": "code",
   "execution_count": 126,
   "metadata": {},
   "outputs": [],
   "source": [
    "datat.columns=[cadena + \"_T\" for cadena in datat.columns]"
   ]
  },
  {
   "cell_type": "code",
   "execution_count": 127,
   "metadata": {},
   "outputs": [],
   "source": [
    "datat.rename(columns={\"id_T\":\"idTema\"},inplace=True)"
   ]
  },
  {
   "cell_type": "code",
   "execution_count": 128,
   "metadata": {},
   "outputs": [],
   "source": [
    "datamix = pd.merge(datap,datat,how=\"left\",on=\"idTema\")"
   ]
  },
  {
   "cell_type": "code",
   "execution_count": 129,
   "metadata": {},
   "outputs": [
    {
     "data": {
      "text/html": [
       "<div>\n",
       "<style scoped>\n",
       "    .dataframe tbody tr th:only-of-type {\n",
       "        vertical-align: middle;\n",
       "    }\n",
       "\n",
       "    .dataframe tbody tr th {\n",
       "        vertical-align: top;\n",
       "    }\n",
       "\n",
       "    .dataframe thead th {\n",
       "        text-align: right;\n",
       "    }\n",
       "</style>\n",
       "<table border=\"1\" class=\"dataframe\">\n",
       "  <thead>\n",
       "    <tr style=\"text-align: right;\">\n",
       "      <th></th>\n",
       "      <th>likes</th>\n",
       "      <th>love</th>\n",
       "      <th>angry</th>\n",
       "      <th>wow</th>\n",
       "      <th>haha</th>\n",
       "      <th>sad</th>\n",
       "      <th>shares</th>\n",
       "    </tr>\n",
       "  </thead>\n",
       "  <tbody>\n",
       "    <tr>\n",
       "      <th>count</th>\n",
       "      <td>165.000000</td>\n",
       "      <td>165.000000</td>\n",
       "      <td>165.000000</td>\n",
       "      <td>165.000000</td>\n",
       "      <td>165.00000</td>\n",
       "      <td>165.000000</td>\n",
       "      <td>165.000000</td>\n",
       "    </tr>\n",
       "    <tr>\n",
       "      <th>mean</th>\n",
       "      <td>146.248485</td>\n",
       "      <td>5.042424</td>\n",
       "      <td>16.503030</td>\n",
       "      <td>103.084848</td>\n",
       "      <td>20.09697</td>\n",
       "      <td>8.593939</td>\n",
       "      <td>140.357576</td>\n",
       "    </tr>\n",
       "    <tr>\n",
       "      <th>std</th>\n",
       "      <td>223.235094</td>\n",
       "      <td>19.418168</td>\n",
       "      <td>33.535679</td>\n",
       "      <td>205.731011</td>\n",
       "      <td>49.47520</td>\n",
       "      <td>26.890223</td>\n",
       "      <td>279.688153</td>\n",
       "    </tr>\n",
       "    <tr>\n",
       "      <th>min</th>\n",
       "      <td>0.000000</td>\n",
       "      <td>0.000000</td>\n",
       "      <td>0.000000</td>\n",
       "      <td>0.000000</td>\n",
       "      <td>0.00000</td>\n",
       "      <td>0.000000</td>\n",
       "      <td>0.000000</td>\n",
       "    </tr>\n",
       "    <tr>\n",
       "      <th>25%</th>\n",
       "      <td>21.000000</td>\n",
       "      <td>0.000000</td>\n",
       "      <td>1.000000</td>\n",
       "      <td>8.000000</td>\n",
       "      <td>0.00000</td>\n",
       "      <td>0.000000</td>\n",
       "      <td>10.000000</td>\n",
       "    </tr>\n",
       "    <tr>\n",
       "      <th>50%</th>\n",
       "      <td>64.000000</td>\n",
       "      <td>0.000000</td>\n",
       "      <td>5.000000</td>\n",
       "      <td>30.000000</td>\n",
       "      <td>3.00000</td>\n",
       "      <td>2.000000</td>\n",
       "      <td>35.000000</td>\n",
       "    </tr>\n",
       "    <tr>\n",
       "      <th>75%</th>\n",
       "      <td>147.000000</td>\n",
       "      <td>2.000000</td>\n",
       "      <td>14.000000</td>\n",
       "      <td>102.000000</td>\n",
       "      <td>16.00000</td>\n",
       "      <td>6.000000</td>\n",
       "      <td>116.000000</td>\n",
       "    </tr>\n",
       "    <tr>\n",
       "      <th>max</th>\n",
       "      <td>1400.000000</td>\n",
       "      <td>184.000000</td>\n",
       "      <td>275.000000</td>\n",
       "      <td>1900.000000</td>\n",
       "      <td>436.00000</td>\n",
       "      <td>298.000000</td>\n",
       "      <td>1980.000000</td>\n",
       "    </tr>\n",
       "  </tbody>\n",
       "</table>\n",
       "</div>"
      ],
      "text/plain": [
       "             likes        love       angry          wow       haha  \\\n",
       "count   165.000000  165.000000  165.000000   165.000000  165.00000   \n",
       "mean    146.248485    5.042424   16.503030   103.084848   20.09697   \n",
       "std     223.235094   19.418168   33.535679   205.731011   49.47520   \n",
       "min       0.000000    0.000000    0.000000     0.000000    0.00000   \n",
       "25%      21.000000    0.000000    1.000000     8.000000    0.00000   \n",
       "50%      64.000000    0.000000    5.000000    30.000000    3.00000   \n",
       "75%     147.000000    2.000000   14.000000   102.000000   16.00000   \n",
       "max    1400.000000  184.000000  275.000000  1900.000000  436.00000   \n",
       "\n",
       "              sad       shares  \n",
       "count  165.000000   165.000000  \n",
       "mean     8.593939   140.357576  \n",
       "std     26.890223   279.688153  \n",
       "min      0.000000     0.000000  \n",
       "25%      0.000000    10.000000  \n",
       "50%      2.000000    35.000000  \n",
       "75%      6.000000   116.000000  \n",
       "max    298.000000  1980.000000  "
      ]
     },
     "execution_count": 129,
     "metadata": {},
     "output_type": "execute_result"
    }
   ],
   "source": [
    "datamix[datamix[\"scoreManual_T\"]==1.0][metricas].describe()"
   ]
  },
  {
   "cell_type": "code",
   "execution_count": 130,
   "metadata": {},
   "outputs": [
    {
     "data": {
      "text/html": [
       "<div>\n",
       "<style scoped>\n",
       "    .dataframe tbody tr th:only-of-type {\n",
       "        vertical-align: middle;\n",
       "    }\n",
       "\n",
       "    .dataframe tbody tr th {\n",
       "        vertical-align: top;\n",
       "    }\n",
       "\n",
       "    .dataframe thead th {\n",
       "        text-align: right;\n",
       "    }\n",
       "</style>\n",
       "<table border=\"1\" class=\"dataframe\">\n",
       "  <thead>\n",
       "    <tr style=\"text-align: right;\">\n",
       "      <th></th>\n",
       "      <th>likes</th>\n",
       "      <th>love</th>\n",
       "      <th>angry</th>\n",
       "      <th>wow</th>\n",
       "      <th>haha</th>\n",
       "      <th>sad</th>\n",
       "      <th>shares</th>\n",
       "    </tr>\n",
       "  </thead>\n",
       "  <tbody>\n",
       "    <tr>\n",
       "      <th>count</th>\n",
       "      <td>75157.000000</td>\n",
       "      <td>75157.000000</td>\n",
       "      <td>75157.000000</td>\n",
       "      <td>75157.000000</td>\n",
       "      <td>75157.000000</td>\n",
       "      <td>75157.000000</td>\n",
       "      <td>75157.000000</td>\n",
       "    </tr>\n",
       "    <tr>\n",
       "      <th>mean</th>\n",
       "      <td>179.550501</td>\n",
       "      <td>29.426148</td>\n",
       "      <td>89.356480</td>\n",
       "      <td>42.262544</td>\n",
       "      <td>60.926767</td>\n",
       "      <td>31.053422</td>\n",
       "      <td>263.305068</td>\n",
       "    </tr>\n",
       "    <tr>\n",
       "      <th>std</th>\n",
       "      <td>658.469935</td>\n",
       "      <td>262.490321</td>\n",
       "      <td>596.562963</td>\n",
       "      <td>222.936914</td>\n",
       "      <td>365.701705</td>\n",
       "      <td>280.443578</td>\n",
       "      <td>3264.979503</td>\n",
       "    </tr>\n",
       "    <tr>\n",
       "      <th>min</th>\n",
       "      <td>0.000000</td>\n",
       "      <td>0.000000</td>\n",
       "      <td>0.000000</td>\n",
       "      <td>0.000000</td>\n",
       "      <td>0.000000</td>\n",
       "      <td>0.000000</td>\n",
       "      <td>0.000000</td>\n",
       "    </tr>\n",
       "    <tr>\n",
       "      <th>25%</th>\n",
       "      <td>10.000000</td>\n",
       "      <td>0.000000</td>\n",
       "      <td>0.000000</td>\n",
       "      <td>0.000000</td>\n",
       "      <td>0.000000</td>\n",
       "      <td>0.000000</td>\n",
       "      <td>3.000000</td>\n",
       "    </tr>\n",
       "    <tr>\n",
       "      <th>50%</th>\n",
       "      <td>37.000000</td>\n",
       "      <td>1.000000</td>\n",
       "      <td>2.000000</td>\n",
       "      <td>5.000000</td>\n",
       "      <td>2.000000</td>\n",
       "      <td>1.000000</td>\n",
       "      <td>18.000000</td>\n",
       "    </tr>\n",
       "    <tr>\n",
       "      <th>75%</th>\n",
       "      <td>125.000000</td>\n",
       "      <td>5.000000</td>\n",
       "      <td>22.000000</td>\n",
       "      <td>21.000000</td>\n",
       "      <td>16.000000</td>\n",
       "      <td>5.000000</td>\n",
       "      <td>83.000000</td>\n",
       "    </tr>\n",
       "    <tr>\n",
       "      <th>max</th>\n",
       "      <td>45000.000000</td>\n",
       "      <td>30000.000000</td>\n",
       "      <td>61000.000000</td>\n",
       "      <td>17000.000000</td>\n",
       "      <td>22000.000000</td>\n",
       "      <td>40000.000000</td>\n",
       "      <td>702483.000000</td>\n",
       "    </tr>\n",
       "  </tbody>\n",
       "</table>\n",
       "</div>"
      ],
      "text/plain": [
       "              likes          love         angry           wow          haha  \\\n",
       "count  75157.000000  75157.000000  75157.000000  75157.000000  75157.000000   \n",
       "mean     179.550501     29.426148     89.356480     42.262544     60.926767   \n",
       "std      658.469935    262.490321    596.562963    222.936914    365.701705   \n",
       "min        0.000000      0.000000      0.000000      0.000000      0.000000   \n",
       "25%       10.000000      0.000000      0.000000      0.000000      0.000000   \n",
       "50%       37.000000      1.000000      2.000000      5.000000      2.000000   \n",
       "75%      125.000000      5.000000     22.000000     21.000000     16.000000   \n",
       "max    45000.000000  30000.000000  61000.000000  17000.000000  22000.000000   \n",
       "\n",
       "                sad         shares  \n",
       "count  75157.000000   75157.000000  \n",
       "mean      31.053422     263.305068  \n",
       "std      280.443578    3264.979503  \n",
       "min        0.000000       0.000000  \n",
       "25%        0.000000       3.000000  \n",
       "50%        1.000000      18.000000  \n",
       "75%        5.000000      83.000000  \n",
       "max    40000.000000  702483.000000  "
      ]
     },
     "execution_count": 130,
     "metadata": {},
     "output_type": "execute_result"
    }
   ],
   "source": [
    "datamix[metricas].describe()"
   ]
  },
  {
   "cell_type": "code",
   "execution_count": 131,
   "metadata": {},
   "outputs": [
    {
     "data": {
      "text/html": [
       "<div>\n",
       "<style scoped>\n",
       "    .dataframe tbody tr th:only-of-type {\n",
       "        vertical-align: middle;\n",
       "    }\n",
       "\n",
       "    .dataframe tbody tr th {\n",
       "        vertical-align: top;\n",
       "    }\n",
       "\n",
       "    .dataframe thead th {\n",
       "        text-align: right;\n",
       "    }\n",
       "</style>\n",
       "<table border=\"1\" class=\"dataframe\">\n",
       "  <thead>\n",
       "    <tr style=\"text-align: right;\">\n",
       "      <th></th>\n",
       "      <th>likes</th>\n",
       "      <th>love</th>\n",
       "      <th>angry</th>\n",
       "      <th>wow</th>\n",
       "      <th>haha</th>\n",
       "      <th>sad</th>\n",
       "      <th>shares</th>\n",
       "    </tr>\n",
       "  </thead>\n",
       "  <tbody>\n",
       "    <tr>\n",
       "      <th>count</th>\n",
       "      <td>25061.000000</td>\n",
       "      <td>25061.000000</td>\n",
       "      <td>25061.000000</td>\n",
       "      <td>25061.000000</td>\n",
       "      <td>25061.000000</td>\n",
       "      <td>25061.000000</td>\n",
       "      <td>25061.000000</td>\n",
       "    </tr>\n",
       "    <tr>\n",
       "      <th>mean</th>\n",
       "      <td>75.689398</td>\n",
       "      <td>7.535853</td>\n",
       "      <td>1.951798</td>\n",
       "      <td>1.887834</td>\n",
       "      <td>3.005866</td>\n",
       "      <td>0.655082</td>\n",
       "      <td>57.193648</td>\n",
       "    </tr>\n",
       "    <tr>\n",
       "      <th>std</th>\n",
       "      <td>511.499571</td>\n",
       "      <td>68.242673</td>\n",
       "      <td>51.128332</td>\n",
       "      <td>57.809444</td>\n",
       "      <td>99.856113</td>\n",
       "      <td>15.145557</td>\n",
       "      <td>2389.211299</td>\n",
       "    </tr>\n",
       "    <tr>\n",
       "      <th>min</th>\n",
       "      <td>0.000000</td>\n",
       "      <td>0.000000</td>\n",
       "      <td>0.000000</td>\n",
       "      <td>0.000000</td>\n",
       "      <td>0.000000</td>\n",
       "      <td>0.000000</td>\n",
       "      <td>0.000000</td>\n",
       "    </tr>\n",
       "    <tr>\n",
       "      <th>25%</th>\n",
       "      <td>2.000000</td>\n",
       "      <td>0.000000</td>\n",
       "      <td>0.000000</td>\n",
       "      <td>0.000000</td>\n",
       "      <td>0.000000</td>\n",
       "      <td>0.000000</td>\n",
       "      <td>0.000000</td>\n",
       "    </tr>\n",
       "    <tr>\n",
       "      <th>50%</th>\n",
       "      <td>13.000000</td>\n",
       "      <td>0.000000</td>\n",
       "      <td>0.000000</td>\n",
       "      <td>0.000000</td>\n",
       "      <td>0.000000</td>\n",
       "      <td>0.000000</td>\n",
       "      <td>3.000000</td>\n",
       "    </tr>\n",
       "    <tr>\n",
       "      <th>75%</th>\n",
       "      <td>54.000000</td>\n",
       "      <td>2.000000</td>\n",
       "      <td>0.000000</td>\n",
       "      <td>0.000000</td>\n",
       "      <td>0.000000</td>\n",
       "      <td>0.000000</td>\n",
       "      <td>13.000000</td>\n",
       "    </tr>\n",
       "    <tr>\n",
       "      <th>max</th>\n",
       "      <td>45952.000000</td>\n",
       "      <td>4694.000000</td>\n",
       "      <td>6496.000000</td>\n",
       "      <td>8623.000000</td>\n",
       "      <td>14418.000000</td>\n",
       "      <td>1244.000000</td>\n",
       "      <td>342306.000000</td>\n",
       "    </tr>\n",
       "  </tbody>\n",
       "</table>\n",
       "</div>"
      ],
      "text/plain": [
       "              likes          love         angry           wow          haha  \\\n",
       "count  25061.000000  25061.000000  25061.000000  25061.000000  25061.000000   \n",
       "mean      75.689398      7.535853      1.951798      1.887834      3.005866   \n",
       "std      511.499571     68.242673     51.128332     57.809444     99.856113   \n",
       "min        0.000000      0.000000      0.000000      0.000000      0.000000   \n",
       "25%        2.000000      0.000000      0.000000      0.000000      0.000000   \n",
       "50%       13.000000      0.000000      0.000000      0.000000      0.000000   \n",
       "75%       54.000000      2.000000      0.000000      0.000000      0.000000   \n",
       "max    45952.000000   4694.000000   6496.000000   8623.000000  14418.000000   \n",
       "\n",
       "                sad         shares  \n",
       "count  25061.000000   25061.000000  \n",
       "mean       0.655082      57.193648  \n",
       "std       15.145557    2389.211299  \n",
       "min        0.000000       0.000000  \n",
       "25%        0.000000       0.000000  \n",
       "50%        0.000000       3.000000  \n",
       "75%        0.000000      13.000000  \n",
       "max     1244.000000  342306.000000  "
      ]
     },
     "execution_count": 131,
     "metadata": {},
     "output_type": "execute_result"
    }
   ],
   "source": [
    "data[metricas].describe()"
   ]
  },
  {
   "cell_type": "code",
   "execution_count": 132,
   "metadata": {},
   "outputs": [],
   "source": [
    "datafp = datamix[metricas].fillna(0)"
   ]
  },
  {
   "cell_type": "code",
   "execution_count": 133,
   "metadata": {},
   "outputs": [],
   "source": [
    "datapv = datafp.values"
   ]
  },
  {
   "cell_type": "code",
   "execution_count": 134,
   "metadata": {},
   "outputs": [],
   "source": [
    "predicciones = predictor(datapv,red)"
   ]
  },
  {
   "cell_type": "code",
   "execution_count": 135,
   "metadata": {},
   "outputs": [
    {
     "data": {
      "text/plain": [
       "array([4.17989530e+01, 4.17989530e+01, 6.42061308e+04, ...,\n",
       "       4.17989530e+01, 4.17989530e+01, 4.17989530e+01])"
      ]
     },
     "execution_count": 135,
     "metadata": {},
     "output_type": "execute_result"
    }
   ],
   "source": [
    "predicciones"
   ]
  },
  {
   "cell_type": "code",
   "execution_count": 136,
   "metadata": {},
   "outputs": [],
   "source": [
    "prediccion = pd.DataFrame(predicciones,columns=[\"Alcance_estimado\"],index=datafp.index)"
   ]
  },
  {
   "cell_type": "code",
   "execution_count": 137,
   "metadata": {},
   "outputs": [],
   "source": [
    "datamix[\"Alcance_estimado\"] = prediccion"
   ]
  },
  {
   "cell_type": "code",
   "execution_count": 138,
   "metadata": {},
   "outputs": [],
   "source": [
    "datamix[\"reacciones\"] = datamix[metricas].sum(1)"
   ]
  },
  {
   "cell_type": "code",
   "execution_count": 139,
   "metadata": {},
   "outputs": [
    {
     "data": {
      "text/plain": [
       "40148   -1.582873e+03\n",
       "7180    -4.256141e+02\n",
       "25136    3.741624e+01\n",
       "28321    3.741624e+01\n",
       "62736    3.741624e+01\n",
       "             ...     \n",
       "39856    4.142154e+06\n",
       "10074    4.311179e+06\n",
       "18137    4.346998e+06\n",
       "4029     5.165364e+06\n",
       "14344    8.929414e+06\n",
       "Length: 79347, dtype: float64"
      ]
     },
     "execution_count": 139,
     "metadata": {},
     "output_type": "execute_result"
    }
   ],
   "source": [
    "(datamix[\"Alcance_estimado\"] - datamix[\"reacciones\"]).sort_values()"
   ]
  },
  {
   "cell_type": "code",
   "execution_count": 140,
   "metadata": {},
   "outputs": [
    {
     "data": {
      "text/plain": [
       "0          0.000000\n",
       "31563      0.000000\n",
       "31568      0.000000\n",
       "31573      0.000000\n",
       "31575      0.000000\n",
       "            ...    \n",
       "78737     55.275597\n",
       "17911     55.741756\n",
       "77527     71.687994\n",
       "40148    107.062889\n",
       "7180     169.162138\n",
       "Length: 79347, dtype: float64"
      ]
     },
     "execution_count": 140,
     "metadata": {},
     "output_type": "execute_result"
    }
   ],
   "source": [
    "(datamix[\"reacciones\"]/datamix[\"Alcance_estimado\"]*100).sort_values()"
   ]
  },
  {
   "cell_type": "code",
   "execution_count": 141,
   "metadata": {},
   "outputs": [
    {
     "data": {
      "text/plain": [
       "0         NaN\n",
       "1         NaN\n",
       "2        22.9\n",
       "3        10.2\n",
       "4        74.9\n",
       "         ... \n",
       "79342    51.8\n",
       "79343     NaN\n",
       "79344     NaN\n",
       "79345     NaN\n",
       "79346    29.2\n",
       "Name: score_T, Length: 79347, dtype: float64"
      ]
     },
     "execution_count": 141,
     "metadata": {},
     "output_type": "execute_result"
    }
   ],
   "source": [
    "datamix[\"score_T\"]"
   ]
  },
  {
   "cell_type": "code",
   "execution_count": 142,
   "metadata": {},
   "outputs": [],
   "source": [
    "data_plot=datamix[datamix[\"score_T\"].notna()][[\"score_T\",\"Alcance_estimado\"]]"
   ]
  },
  {
   "cell_type": "code",
   "execution_count": 143,
   "metadata": {},
   "outputs": [
    {
     "data": {
      "text/plain": [
       "76984"
      ]
     },
     "execution_count": 143,
     "metadata": {},
     "output_type": "execute_result"
    }
   ],
   "source": [
    "len(data_plot)"
   ]
  },
  {
   "cell_type": "code",
   "execution_count": 144,
   "metadata": {},
   "outputs": [
    {
     "data": {
      "text/html": [
       "<div>\n",
       "<style scoped>\n",
       "    .dataframe tbody tr th:only-of-type {\n",
       "        vertical-align: middle;\n",
       "    }\n",
       "\n",
       "    .dataframe tbody tr th {\n",
       "        vertical-align: top;\n",
       "    }\n",
       "\n",
       "    .dataframe thead th {\n",
       "        text-align: right;\n",
       "    }\n",
       "</style>\n",
       "<table border=\"1\" class=\"dataframe\">\n",
       "  <thead>\n",
       "    <tr style=\"text-align: right;\">\n",
       "      <th></th>\n",
       "      <th>score_T</th>\n",
       "      <th>Alcance_estimado</th>\n",
       "    </tr>\n",
       "  </thead>\n",
       "  <tbody>\n",
       "    <tr>\n",
       "      <th>2</th>\n",
       "      <td>22.9</td>\n",
       "      <td>64206.130837</td>\n",
       "    </tr>\n",
       "    <tr>\n",
       "      <th>3</th>\n",
       "      <td>10.2</td>\n",
       "      <td>41.798953</td>\n",
       "    </tr>\n",
       "    <tr>\n",
       "      <th>4</th>\n",
       "      <td>74.9</td>\n",
       "      <td>76055.805982</td>\n",
       "    </tr>\n",
       "  </tbody>\n",
       "</table>\n",
       "</div>"
      ],
      "text/plain": [
       "   score_T  Alcance_estimado\n",
       "2     22.9      64206.130837\n",
       "3     10.2         41.798953\n",
       "4     74.9      76055.805982"
      ]
     },
     "execution_count": 144,
     "metadata": {},
     "output_type": "execute_result"
    }
   ],
   "source": [
    "data_plot[:3]"
   ]
  },
  {
   "cell_type": "code",
   "execution_count": 145,
   "metadata": {},
   "outputs": [
    {
     "data": {
      "text/plain": [
       "<matplotlib.axes._subplots.AxesSubplot at 0x1f6b92fda48>"
      ]
     },
     "execution_count": 145,
     "metadata": {},
     "output_type": "execute_result"
    },
    {
     "data": {
      "image/png": "[encoded data removed]",
      "text/plain": [
       "<Figure size 432x288 with 1 Axes>"
      ]
     },
     "metadata": {
      "needs_background": "light"
     },
     "output_type": "display_data"
    }
   ],
   "source": [
    "data_plot.plot.scatter(x=\"score_T\",y=\"Alcance_estimado\",s=0.1)"
   ]
  },
  {
   "cell_type": "code",
   "execution_count": 146,
   "metadata": {},
   "outputs": [],
   "source": [
    "data_plot[\"l_score\"] = data_plot[\"score_T\"].apply(np.log10)\n",
    "data_plot[\"l_alcan\"] = data_plot[\"Alcance_estimado\"].apply(np.log10)"
   ]
  },
  {
   "cell_type": "code",
   "execution_count": 147,
   "metadata": {},
   "outputs": [
    {
     "data": {
      "text/plain": [
       "<matplotlib.axes._subplots.AxesSubplot at 0x1f6aafc3ac8>"
      ]
     },
     "execution_count": 147,
     "metadata": {},
     "output_type": "execute_result"
    },
    {
     "data": {
      "image/png": "[encoded data removed]",
      "text/plain": [
       "<Figure size 432x288 with 1 Axes>"
      ]
     },
     "metadata": {
      "needs_background": "light"
     },
     "output_type": "display_data"
    }
   ],
   "source": [
    "data_plot.plot.scatter(x=\"l_score\",y=\"l_alcan\",s=0.1)"
   ]
  },
  {
   "cell_type": "code",
   "execution_count": 148,
   "metadata": {},
   "outputs": [
    {
     "data": {
      "text/plain": [
       "Index(['id', 'idTema', 'titulo', 'copy', 'imagen', 'url', 'fbid', 'fechaPub',\n",
       "       'fechaCaptura', 'fechaMod', 'estado', 'municipio', 'categorias',\n",
       "       'secretarias', 'likes', 'love', 'angry', 'sad', 'haha', 'wow', 'shares',\n",
       "       'idAnalitycs', 'estatus', 'nombre_T', 'estado_T', 'municipio_T',\n",
       "       'categorias_T', 'secretarias_T', 'Linea_T', 'Estacion_T', 'score_T',\n",
       "       'scoreManual_T', 'Destacado_T', 'estatus_T', 'imagen_T', 'url_T',\n",
       "       'fechaCreacion_T', 'fechaInsercion_T', 'fechaMod_T', 'idAnalitycs_T',\n",
       "       'Alcance_estimado', 'reacciones'],\n",
       "      dtype='object')"
      ]
     },
     "execution_count": 148,
     "metadata": {},
     "output_type": "execute_result"
    }
   ],
   "source": [
    "datamix.columns"
   ]
  },
  {
   "cell_type": "code",
   "execution_count": 44,
   "metadata": {},
   "outputs": [
    {
     "data": {
      "text/plain": [
       "Index(['Ciudad de México', 'Tamaulipas', 'Sinaloa', 'Quintana Roo',\n",
       "       'Baja California Sur', 'Baja California', 'Sonora'],\n",
       "      dtype='object')"
      ]
     },
     "execution_count": 44,
     "metadata": {},
     "output_type": "execute_result"
    }
   ],
   "source": [
    "datamix[\"estado_T\"].value_counts().index"
   ]
  },
  {
   "cell_type": "code",
   "execution_count": 45,
   "metadata": {},
   "outputs": [
    {
     "data": {
      "text/plain": [
       "Ciudad de México       6515\n",
       "Tamaulipas             1721\n",
       "Quintana Roo           1458\n",
       "Sinaloa                1342\n",
       "Baja California Sur     183\n",
       "Baja California          79\n",
       "Sonora                   46\n",
       "Name: estado, dtype: int64"
      ]
     },
     "execution_count": 45,
     "metadata": {},
     "output_type": "execute_result"
    }
   ],
   "source": [
    "datamix[\"estado\"].value_counts()"
   ]
  },
  {
   "cell_type": "code",
   "execution_count": 46,
   "metadata": {},
   "outputs": [
    {
     "data": {
      "text/plain": [
       "True     68003\n",
       "False    11344\n",
       "Name: estado, dtype: int64"
      ]
     },
     "execution_count": 46,
     "metadata": {},
     "output_type": "execute_result"
    }
   ],
   "source": [
    "datamix[\"estado\"].isna().value_counts()"
   ]
  },
  {
   "cell_type": "code",
   "execution_count": 47,
   "metadata": {},
   "outputs": [],
   "source": [
    "pubtemedo = datamix.groupby([\"estado_T\",\"idTema\"]).size().to_frame(\"Publicaciones\").sort_values(\"Publicaciones\",ascending=False).reset_index()"
   ]
  },
  {
   "cell_type": "code",
   "execution_count": 48,
   "metadata": {},
   "outputs": [
    {
     "data": {
      "text/html": [
       "<div>\n",
       "<style scoped>\n",
       "    .dataframe tbody tr th:only-of-type {\n",
       "        vertical-align: middle;\n",
       "    }\n",
       "\n",
       "    .dataframe tbody tr th {\n",
       "        vertical-align: top;\n",
       "    }\n",
       "\n",
       "    .dataframe thead th {\n",
       "        text-align: right;\n",
       "    }\n",
       "</style>\n",
       "<table border=\"1\" class=\"dataframe\">\n",
       "  <thead>\n",
       "    <tr style=\"text-align: right;\">\n",
       "      <th></th>\n",
       "      <th>estado_T</th>\n",
       "      <th>idTema</th>\n",
       "      <th>Publicaciones</th>\n",
       "    </tr>\n",
       "  </thead>\n",
       "  <tbody>\n",
       "    <tr>\n",
       "      <th>0</th>\n",
       "      <td>Baja California</td>\n",
       "      <td>59</td>\n",
       "      <td>415</td>\n",
       "    </tr>\n",
       "    <tr>\n",
       "      <th>1</th>\n",
       "      <td>Ciudad de México</td>\n",
       "      <td>2693</td>\n",
       "      <td>172</td>\n",
       "    </tr>\n",
       "    <tr>\n",
       "      <th>2</th>\n",
       "      <td>Ciudad de México</td>\n",
       "      <td>827</td>\n",
       "      <td>134</td>\n",
       "    </tr>\n",
       "    <tr>\n",
       "      <th>3</th>\n",
       "      <td>Ciudad de México</td>\n",
       "      <td>12023</td>\n",
       "      <td>115</td>\n",
       "    </tr>\n",
       "    <tr>\n",
       "      <th>4</th>\n",
       "      <td>Ciudad de México</td>\n",
       "      <td>8705</td>\n",
       "      <td>94</td>\n",
       "    </tr>\n",
       "    <tr>\n",
       "      <th>...</th>\n",
       "      <td>...</td>\n",
       "      <td>...</td>\n",
       "      <td>...</td>\n",
       "    </tr>\n",
       "    <tr>\n",
       "      <th>12378</th>\n",
       "      <td>Sinaloa</td>\n",
       "      <td>6936</td>\n",
       "      <td>1</td>\n",
       "    </tr>\n",
       "    <tr>\n",
       "      <th>12379</th>\n",
       "      <td>Sinaloa</td>\n",
       "      <td>6938</td>\n",
       "      <td>1</td>\n",
       "    </tr>\n",
       "    <tr>\n",
       "      <th>12380</th>\n",
       "      <td>Sinaloa</td>\n",
       "      <td>6943</td>\n",
       "      <td>1</td>\n",
       "    </tr>\n",
       "    <tr>\n",
       "      <th>12381</th>\n",
       "      <td>Ciudad de México</td>\n",
       "      <td>12396</td>\n",
       "      <td>1</td>\n",
       "    </tr>\n",
       "    <tr>\n",
       "      <th>12382</th>\n",
       "      <td>Ciudad de México</td>\n",
       "      <td>8238</td>\n",
       "      <td>1</td>\n",
       "    </tr>\n",
       "  </tbody>\n",
       "</table>\n",
       "<p>12383 rows × 3 columns</p>\n",
       "</div>"
      ],
      "text/plain": [
       "               estado_T  idTema  Publicaciones\n",
       "0       Baja California      59            415\n",
       "1      Ciudad de México    2693            172\n",
       "2      Ciudad de México     827            134\n",
       "3      Ciudad de México   12023            115\n",
       "4      Ciudad de México    8705             94\n",
       "...                 ...     ...            ...\n",
       "12378           Sinaloa    6936              1\n",
       "12379           Sinaloa    6938              1\n",
       "12380           Sinaloa    6943              1\n",
       "12381  Ciudad de México   12396              1\n",
       "12382  Ciudad de México    8238              1\n",
       "\n",
       "[12383 rows x 3 columns]"
      ]
     },
     "execution_count": 48,
     "metadata": {},
     "output_type": "execute_result"
    }
   ],
   "source": [
    "pubtemedo"
   ]
  },
  {
   "cell_type": "code",
   "execution_count": 49,
   "metadata": {},
   "outputs": [
    {
     "data": {
      "text/html": [
       "<div>\n",
       "<style scoped>\n",
       "    .dataframe tbody tr th:only-of-type {\n",
       "        vertical-align: middle;\n",
       "    }\n",
       "\n",
       "    .dataframe tbody tr th {\n",
       "        vertical-align: top;\n",
       "    }\n",
       "\n",
       "    .dataframe thead th {\n",
       "        text-align: right;\n",
       "    }\n",
       "</style>\n",
       "<table border=\"1\" class=\"dataframe\">\n",
       "  <thead>\n",
       "    <tr style=\"text-align: right;\">\n",
       "      <th></th>\n",
       "      <th>count</th>\n",
       "      <th>mean</th>\n",
       "      <th>std</th>\n",
       "      <th>min</th>\n",
       "      <th>25%</th>\n",
       "      <th>50%</th>\n",
       "      <th>75%</th>\n",
       "      <th>max</th>\n",
       "      <th>Pub_totales</th>\n",
       "    </tr>\n",
       "    <tr>\n",
       "      <th>estado_T</th>\n",
       "      <th></th>\n",
       "      <th></th>\n",
       "      <th></th>\n",
       "      <th></th>\n",
       "      <th></th>\n",
       "      <th></th>\n",
       "      <th></th>\n",
       "      <th></th>\n",
       "      <th></th>\n",
       "    </tr>\n",
       "  </thead>\n",
       "  <tbody>\n",
       "    <tr>\n",
       "      <th>Ciudad de México</th>\n",
       "      <td>7549.0</td>\n",
       "      <td>5.225593</td>\n",
       "      <td>7.563692</td>\n",
       "      <td>1.0</td>\n",
       "      <td>1.0</td>\n",
       "      <td>3.0</td>\n",
       "      <td>6.0</td>\n",
       "      <td>172.0</td>\n",
       "      <td>39448</td>\n",
       "    </tr>\n",
       "    <tr>\n",
       "      <th>Tamaulipas</th>\n",
       "      <td>1964.0</td>\n",
       "      <td>6.579939</td>\n",
       "      <td>6.004772</td>\n",
       "      <td>1.0</td>\n",
       "      <td>3.0</td>\n",
       "      <td>5.0</td>\n",
       "      <td>8.0</td>\n",
       "      <td>89.0</td>\n",
       "      <td>12923</td>\n",
       "    </tr>\n",
       "    <tr>\n",
       "      <th>Sinaloa</th>\n",
       "      <td>1411.0</td>\n",
       "      <td>4.550673</td>\n",
       "      <td>3.574449</td>\n",
       "      <td>1.0</td>\n",
       "      <td>2.0</td>\n",
       "      <td>4.0</td>\n",
       "      <td>6.0</td>\n",
       "      <td>38.0</td>\n",
       "      <td>6421</td>\n",
       "    </tr>\n",
       "    <tr>\n",
       "      <th>Quintana Roo</th>\n",
       "      <td>1059.0</td>\n",
       "      <td>4.407932</td>\n",
       "      <td>3.035669</td>\n",
       "      <td>1.0</td>\n",
       "      <td>2.0</td>\n",
       "      <td>4.0</td>\n",
       "      <td>6.0</td>\n",
       "      <td>30.0</td>\n",
       "      <td>4668</td>\n",
       "    </tr>\n",
       "    <tr>\n",
       "      <th>Baja California Sur</th>\n",
       "      <td>336.0</td>\n",
       "      <td>5.410714</td>\n",
       "      <td>5.553356</td>\n",
       "      <td>1.0</td>\n",
       "      <td>2.0</td>\n",
       "      <td>4.0</td>\n",
       "      <td>6.0</td>\n",
       "      <td>50.0</td>\n",
       "      <td>1818</td>\n",
       "    </tr>\n",
       "    <tr>\n",
       "      <th>Baja California</th>\n",
       "      <td>39.0</td>\n",
       "      <td>15.076923</td>\n",
       "      <td>65.846466</td>\n",
       "      <td>1.0</td>\n",
       "      <td>2.0</td>\n",
       "      <td>3.0</td>\n",
       "      <td>6.5</td>\n",
       "      <td>415.0</td>\n",
       "      <td>588</td>\n",
       "    </tr>\n",
       "    <tr>\n",
       "      <th>Sonora</th>\n",
       "      <td>25.0</td>\n",
       "      <td>7.760000</td>\n",
       "      <td>10.963120</td>\n",
       "      <td>1.0</td>\n",
       "      <td>1.0</td>\n",
       "      <td>3.0</td>\n",
       "      <td>10.0</td>\n",
       "      <td>42.0</td>\n",
       "      <td>194</td>\n",
       "    </tr>\n",
       "  </tbody>\n",
       "</table>\n",
       "</div>"
      ],
      "text/plain": [
       "                      count       mean        std  min  25%  50%   75%    max  \\\n",
       "estado_T                                                                        \n",
       "Ciudad de México     7549.0   5.225593   7.563692  1.0  1.0  3.0   6.0  172.0   \n",
       "Tamaulipas           1964.0   6.579939   6.004772  1.0  3.0  5.0   8.0   89.0   \n",
       "Sinaloa              1411.0   4.550673   3.574449  1.0  2.0  4.0   6.0   38.0   \n",
       "Quintana Roo         1059.0   4.407932   3.035669  1.0  2.0  4.0   6.0   30.0   \n",
       "Baja California Sur   336.0   5.410714   5.553356  1.0  2.0  4.0   6.0   50.0   \n",
       "Baja California        39.0  15.076923  65.846466  1.0  2.0  3.0   6.5  415.0   \n",
       "Sonora                 25.0   7.760000  10.963120  1.0  1.0  3.0  10.0   42.0   \n",
       "\n",
       "                     Pub_totales  \n",
       "estado_T                          \n",
       "Ciudad de México           39448  \n",
       "Tamaulipas                 12923  \n",
       "Sinaloa                     6421  \n",
       "Quintana Roo                4668  \n",
       "Baja California Sur         1818  \n",
       "Baja California              588  \n",
       "Sonora                       194  "
      ]
     },
     "execution_count": 49,
     "metadata": {},
     "output_type": "execute_result"
    }
   ],
   "source": [
    "pubinfo = pubtemedo.groupby(\"estado_T\")[\"Publicaciones\"].describe()\n",
    "pubinfo[\"Pub_totales\"] = datamix.groupby([\"estado_T\"]).size().to_frame(\"Publicaciones\")\n",
    "pubinfo.sort_values(\"Pub_totales\",ascending=False)"
   ]
  },
  {
   "cell_type": "code",
   "execution_count": 50,
   "metadata": {},
   "outputs": [],
   "source": [
    "estado = [\"Ciudad de México\"]\n",
    "alcmax = 8500000\n",
    "pubmax = 200\n",
    "cadmod = \"CDMX_8p5M_pm200\"\n",
    "#estado = [\"Ciudad de México\",\"Quintana Roo\",\"Sinaloa\",\"Tamaulipas\"]\n",
    "data_plot=datamix[(datamix[\"estado_T\"].isin(estado))][metricas+[\"score_T\",\"Alcance_estimado\",\"reacciones\",\"idTema\",\"nombre_T\"]]\n",
    "data_plot[\"Alcance_est_top\"] = data_plot[\"Alcance_estimado\"].apply(lambda x: min(x,alcmax))"
   ]
  },
  {
   "cell_type": "code",
   "execution_count": 51,
   "metadata": {},
   "outputs": [
    {
     "data": {
      "text/plain": [
       "39448"
      ]
     },
     "execution_count": 51,
     "metadata": {},
     "output_type": "execute_result"
    }
   ],
   "source": [
    "len(data_plot)"
   ]
  },
  {
   "cell_type": "code",
   "execution_count": 52,
   "metadata": {},
   "outputs": [
    {
     "data": {
      "text/html": [
       "<div>\n",
       "<style scoped>\n",
       "    .dataframe tbody tr th:only-of-type {\n",
       "        vertical-align: middle;\n",
       "    }\n",
       "\n",
       "    .dataframe tbody tr th {\n",
       "        vertical-align: top;\n",
       "    }\n",
       "\n",
       "    .dataframe thead th {\n",
       "        text-align: right;\n",
       "    }\n",
       "</style>\n",
       "<table border=\"1\" class=\"dataframe\">\n",
       "  <thead>\n",
       "    <tr style=\"text-align: right;\">\n",
       "      <th></th>\n",
       "      <th>likes</th>\n",
       "      <th>love</th>\n",
       "      <th>angry</th>\n",
       "      <th>wow</th>\n",
       "      <th>haha</th>\n",
       "      <th>sad</th>\n",
       "      <th>shares</th>\n",
       "      <th>score_T</th>\n",
       "      <th>Alcance_estimado</th>\n",
       "      <th>reacciones</th>\n",
       "      <th>idTema</th>\n",
       "      <th>nombre_T</th>\n",
       "      <th>Alcance_est_top</th>\n",
       "    </tr>\n",
       "  </thead>\n",
       "  <tbody>\n",
       "    <tr>\n",
       "      <th>2</th>\n",
       "      <td>197.0</td>\n",
       "      <td>2.0</td>\n",
       "      <td>221.0</td>\n",
       "      <td>239.0</td>\n",
       "      <td>34.0</td>\n",
       "      <td>4.0</td>\n",
       "      <td>377.0</td>\n",
       "      <td>22.9</td>\n",
       "      <td>98789.273091</td>\n",
       "      <td>1074.0</td>\n",
       "      <td>9846</td>\n",
       "      <td>Conductor de Metrobús es detenido por inhalar ...</td>\n",
       "      <td>98789.273091</td>\n",
       "    </tr>\n",
       "    <tr>\n",
       "      <th>3</th>\n",
       "      <td>NaN</td>\n",
       "      <td>NaN</td>\n",
       "      <td>NaN</td>\n",
       "      <td>NaN</td>\n",
       "      <td>NaN</td>\n",
       "      <td>NaN</td>\n",
       "      <td>NaN</td>\n",
       "      <td>10.2</td>\n",
       "      <td>253.032022</td>\n",
       "      <td>0.0</td>\n",
       "      <td>10224</td>\n",
       "      <td>CS pidió investigar la compra de bicicletas el...</td>\n",
       "      <td>253.032022</td>\n",
       "    </tr>\n",
       "    <tr>\n",
       "      <th>4</th>\n",
       "      <td>205.0</td>\n",
       "      <td>0.0</td>\n",
       "      <td>808.0</td>\n",
       "      <td>35.0</td>\n",
       "      <td>22.0</td>\n",
       "      <td>6.0</td>\n",
       "      <td>782.0</td>\n",
       "      <td>74.9</td>\n",
       "      <td>167374.921135</td>\n",
       "      <td>1858.0</td>\n",
       "      <td>10653</td>\n",
       "      <td>Sujetos amenazan a hombre tras ser increpados ...</td>\n",
       "      <td>167374.921135</td>\n",
       "    </tr>\n",
       "  </tbody>\n",
       "</table>\n",
       "</div>"
      ],
      "text/plain": [
       "   likes  love  angry    wow  haha  sad  shares  score_T  Alcance_estimado  \\\n",
       "2  197.0   2.0  221.0  239.0  34.0  4.0   377.0     22.9      98789.273091   \n",
       "3    NaN   NaN    NaN    NaN   NaN  NaN     NaN     10.2        253.032022   \n",
       "4  205.0   0.0  808.0   35.0  22.0  6.0   782.0     74.9     167374.921135   \n",
       "\n",
       "   reacciones  idTema                                           nombre_T  \\\n",
       "2      1074.0    9846  Conductor de Metrobús es detenido por inhalar ...   \n",
       "3         0.0   10224  CS pidió investigar la compra de bicicletas el...   \n",
       "4      1858.0   10653  Sujetos amenazan a hombre tras ser increpados ...   \n",
       "\n",
       "   Alcance_est_top  \n",
       "2     98789.273091  \n",
       "3       253.032022  \n",
       "4    167374.921135  "
      ]
     },
     "execution_count": 52,
     "metadata": {},
     "output_type": "execute_result"
    }
   ],
   "source": [
    "data_plot[:3]"
   ]
  },
  {
   "cell_type": "code",
   "execution_count": 53,
   "metadata": {},
   "outputs": [],
   "source": [
    "data_plot[\"reac_alcan\"] = data_plot[\"reacciones\"].div(data_plot[\"Alcance_estimado\"])*100\n",
    "data_plot[\"share_alcan\"] = data_plot[\"shares\"].div(data_plot[\"Alcance_estimado\"])*100\n",
    "data_plot[\"reac_alcan_top\"] = data_plot[\"reacciones\"].div(data_plot[\"Alcance_est_top\"])*100\n",
    "data_plot[\"share_alcan_top\"] = data_plot[\"shares\"].div(data_plot[\"Alcance_est_top\"])*100\n",
    "data_plot[\"l_score\"] = data_plot[\"score_T\"].apply(np.log10)\n",
    "data_plot[\"l_alcan\"] = data_plot[\"Alcance_estimado\"].apply(np.log10)\n",
    "data_plot[\"l_alcan_top\"] = data_plot[\"Alcance_est_top\"].apply(np.log10)\n",
    "data_plot[\"l_reacc\"] = data_plot[\"reacciones\"].apply(np.log10)\n",
    "data_plot[\"l_share\"] = data_plot[\"shares\"].apply(np.log10)\n",
    "data_plot[\"l_reac_alcan\"] = data_plot[\"reac_alcan\"].apply(np.log10)\n",
    "data_plot[\"l_share_alcan\"] = data_plot[\"share_alcan\"].apply(np.log10)\n",
    "data_plot[\"l_reac_alcan_top\"] = data_plot[\"reac_alcan\"].apply(np.log10)\n",
    "data_plot[\"l_share_alcan_top\"] = data_plot[\"share_alcan\"].apply(np.log10)"
   ]
  },
  {
   "cell_type": "code",
   "execution_count": 54,
   "metadata": {},
   "outputs": [
    {
     "data": {
      "text/html": [
       "<div>\n",
       "<style scoped>\n",
       "    .dataframe tbody tr th:only-of-type {\n",
       "        vertical-align: middle;\n",
       "    }\n",
       "\n",
       "    .dataframe tbody tr th {\n",
       "        vertical-align: top;\n",
       "    }\n",
       "\n",
       "    .dataframe thead th {\n",
       "        text-align: right;\n",
       "    }\n",
       "</style>\n",
       "<table border=\"1\" class=\"dataframe\">\n",
       "  <thead>\n",
       "    <tr style=\"text-align: right;\">\n",
       "      <th></th>\n",
       "      <th>reacciones</th>\n",
       "      <th>shares</th>\n",
       "      <th>Alcance_estimado</th>\n",
       "      <th>Alcance_est_top</th>\n",
       "      <th>reac_alcan</th>\n",
       "      <th>share_alcan</th>\n",
       "      <th>score_T</th>\n",
       "    </tr>\n",
       "  </thead>\n",
       "  <tbody>\n",
       "    <tr>\n",
       "      <th>count</th>\n",
       "      <td>39448.000000</td>\n",
       "      <td>37177.000000</td>\n",
       "      <td>3.944800e+04</td>\n",
       "      <td>3.944800e+04</td>\n",
       "      <td>39448.000000</td>\n",
       "      <td>37177.000000</td>\n",
       "      <td>39101.000000</td>\n",
       "    </tr>\n",
       "    <tr>\n",
       "      <th>mean</th>\n",
       "      <td>823.117801</td>\n",
       "      <td>358.358716</td>\n",
       "      <td>6.282607e+04</td>\n",
       "      <td>6.282269e+04</td>\n",
       "      <td>0.938663</td>\n",
       "      <td>0.272723</td>\n",
       "      <td>31.931616</td>\n",
       "    </tr>\n",
       "    <tr>\n",
       "      <th>std</th>\n",
       "      <td>5347.679757</td>\n",
       "      <td>4526.120880</td>\n",
       "      <td>2.385110e+05</td>\n",
       "      <td>2.383904e+05</td>\n",
       "      <td>3.939408</td>\n",
       "      <td>4.030789</td>\n",
       "      <td>25.665732</td>\n",
       "    </tr>\n",
       "    <tr>\n",
       "      <th>min</th>\n",
       "      <td>0.000000</td>\n",
       "      <td>0.000000</td>\n",
       "      <td>1.327562e+02</td>\n",
       "      <td>1.327562e+02</td>\n",
       "      <td>0.000000</td>\n",
       "      <td>0.000000</td>\n",
       "      <td>0.000000</td>\n",
       "    </tr>\n",
       "    <tr>\n",
       "      <th>25%</th>\n",
       "      <td>24.000000</td>\n",
       "      <td>5.000000</td>\n",
       "      <td>3.606449e+03</td>\n",
       "      <td>3.606449e+03</td>\n",
       "      <td>0.568401</td>\n",
       "      <td>0.074067</td>\n",
       "      <td>10.700000</td>\n",
       "    </tr>\n",
       "    <tr>\n",
       "      <th>50%</th>\n",
       "      <td>106.000000</td>\n",
       "      <td>22.000000</td>\n",
       "      <td>1.423372e+04</td>\n",
       "      <td>1.423372e+04</td>\n",
       "      <td>0.812145</td>\n",
       "      <td>0.156525</td>\n",
       "      <td>24.000000</td>\n",
       "    </tr>\n",
       "    <tr>\n",
       "      <th>75%</th>\n",
       "      <td>412.250000</td>\n",
       "      <td>102.000000</td>\n",
       "      <td>3.817789e+04</td>\n",
       "      <td>3.817789e+04</td>\n",
       "      <td>1.138465</td>\n",
       "      <td>0.289423</td>\n",
       "      <td>50.700000</td>\n",
       "    </tr>\n",
       "    <tr>\n",
       "      <th>max</th>\n",
       "      <td>718236.000000</td>\n",
       "      <td>702483.000000</td>\n",
       "      <td>8.633347e+06</td>\n",
       "      <td>8.500000e+06</td>\n",
       "      <td>748.173097</td>\n",
       "      <td>748.173097</td>\n",
       "      <td>98.000000</td>\n",
       "    </tr>\n",
       "  </tbody>\n",
       "</table>\n",
       "</div>"
      ],
      "text/plain": [
       "          reacciones         shares  Alcance_estimado  Alcance_est_top  \\\n",
       "count   39448.000000   37177.000000      3.944800e+04     3.944800e+04   \n",
       "mean      823.117801     358.358716      6.282607e+04     6.282269e+04   \n",
       "std      5347.679757    4526.120880      2.385110e+05     2.383904e+05   \n",
       "min         0.000000       0.000000      1.327562e+02     1.327562e+02   \n",
       "25%        24.000000       5.000000      3.606449e+03     3.606449e+03   \n",
       "50%       106.000000      22.000000      1.423372e+04     1.423372e+04   \n",
       "75%       412.250000     102.000000      3.817789e+04     3.817789e+04   \n",
       "max    718236.000000  702483.000000      8.633347e+06     8.500000e+06   \n",
       "\n",
       "         reac_alcan   share_alcan       score_T  \n",
       "count  39448.000000  37177.000000  39101.000000  \n",
       "mean       0.938663      0.272723     31.931616  \n",
       "std        3.939408      4.030789     25.665732  \n",
       "min        0.000000      0.000000      0.000000  \n",
       "25%        0.568401      0.074067     10.700000  \n",
       "50%        0.812145      0.156525     24.000000  \n",
       "75%        1.138465      0.289423     50.700000  \n",
       "max      748.173097    748.173097     98.000000  "
      ]
     },
     "execution_count": 54,
     "metadata": {},
     "output_type": "execute_result"
    }
   ],
   "source": [
    "data_plot[[\"reacciones\",\"shares\",\"Alcance_estimado\",\"Alcance_est_top\",\"reac_alcan\",\"share_alcan\",\"score_T\"]].describe()"
   ]
  },
  {
   "cell_type": "code",
   "execution_count": 55,
   "metadata": {},
   "outputs": [],
   "source": [
    "data_plot_f = data_plot[(data_plot[\"reacciones\"]>0)]"
   ]
  },
  {
   "cell_type": "code",
   "execution_count": 56,
   "metadata": {},
   "outputs": [],
   "source": [
    "histdata = np.histogram(np.log10(data_plot_f[\"reacciones\"]),bins=100)\n",
    "colw = (histdata[1][1]-histdata[1][0])*0.9"
   ]
  },
  {
   "cell_type": "code",
   "execution_count": 57,
   "metadata": {},
   "outputs": [
    {
     "data": {
      "text/html": [
       "<div style=\"display: table;\"><div style=\"display: table-row;\"><div style=\"display: table-cell;\"><b title=\"bokeh.models.renderers.GlyphRenderer\">GlyphRenderer</b>(</div><div style=\"display: table-cell;\">id&nbsp;=&nbsp;'1038', <span id=\"1041\" style=\"cursor: pointer;\">&hellip;)</span></div></div><div class=\"1040\" style=\"display: none;\"><div style=\"display: table-cell;\"></div><div style=\"display: table-cell;\">data_source&nbsp;=&nbsp;ColumnDataSource(id='1035', ...),</div></div><div class=\"1040\" style=\"display: none;\"><div style=\"display: table-cell;\"></div><div style=\"display: table-cell;\">glyph&nbsp;=&nbsp;VBar(id='1036', ...),</div></div><div class=\"1040\" style=\"display: none;\"><div style=\"display: table-cell;\"></div><div style=\"display: table-cell;\">hover_glyph&nbsp;=&nbsp;None,</div></div><div class=\"1040\" style=\"display: none;\"><div style=\"display: table-cell;\"></div><div style=\"display: table-cell;\">js_event_callbacks&nbsp;=&nbsp;{},</div></div><div class=\"1040\" style=\"display: none;\"><div style=\"display: table-cell;\"></div><div style=\"display: table-cell;\">js_property_callbacks&nbsp;=&nbsp;{},</div></div><div class=\"1040\" style=\"display: none;\"><div style=\"display: table-cell;\"></div><div style=\"display: table-cell;\">level&nbsp;=&nbsp;'glyph',</div></div><div class=\"1040\" style=\"display: none;\"><div style=\"display: table-cell;\"></div><div style=\"display: table-cell;\">muted&nbsp;=&nbsp;False,</div></div><div class=\"1040\" style=\"display: none;\"><div style=\"display: table-cell;\"></div><div style=\"display: table-cell;\">muted_glyph&nbsp;=&nbsp;None,</div></div><div class=\"1040\" style=\"display: none;\"><div style=\"display: table-cell;\"></div><div style=\"display: table-cell;\">name&nbsp;=&nbsp;None,</div></div><div class=\"1040\" style=\"display: none;\"><div style=\"display: table-cell;\"></div><div style=\"display: table-cell;\">nonselection_glyph&nbsp;=&nbsp;VBar(id='1037', ...),</div></div><div class=\"1040\" style=\"display: none;\"><div style=\"display: table-cell;\"></div><div style=\"display: table-cell;\">selection_glyph&nbsp;=&nbsp;None,</div></div><div class=\"1040\" style=\"display: none;\"><div style=\"display: table-cell;\"></div><div style=\"display: table-cell;\">subscribed_events&nbsp;=&nbsp;[],</div></div><div class=\"1040\" style=\"display: none;\"><div style=\"display: table-cell;\"></div><div style=\"display: table-cell;\">tags&nbsp;=&nbsp;[],</div></div><div class=\"1040\" style=\"display: none;\"><div style=\"display: table-cell;\"></div><div style=\"display: table-cell;\">view&nbsp;=&nbsp;CDSView(id='1039', ...),</div></div><div class=\"1040\" style=\"display: none;\"><div style=\"display: table-cell;\"></div><div style=\"display: table-cell;\">visible&nbsp;=&nbsp;True,</div></div><div class=\"1040\" style=\"display: none;\"><div style=\"display: table-cell;\"></div><div style=\"display: table-cell;\">x_range_name&nbsp;=&nbsp;'default',</div></div><div class=\"1040\" style=\"display: none;\"><div style=\"display: table-cell;\"></div><div style=\"display: table-cell;\">y_range_name&nbsp;=&nbsp;'default')</div></div></div>\n",
       "<script>\n",
       "(function() {\n",
       "  var expanded = false;\n",
       "  var ellipsis = document.getElementById(\"1041\");\n",
       "  ellipsis.addEventListener(\"click\", function() {\n",
       "    var rows = document.getElementsByClassName(\"1040\");\n",
       "    for (var i = 0; i < rows.length; i++) {\n",
       "      var el = rows[i];\n",
       "      el.style.display = expanded ? \"none\" : \"table-row\";\n",
       "    }\n",
       "    ellipsis.innerHTML = expanded ? \"&hellip;)\" : \"&lsaquo;&lsaquo;&lsaquo;\";\n",
       "    expanded = !expanded;\n",
       "  });\n",
       "})();\n",
       "</script>\n"
      ],
      "text/plain": [
       "GlyphRenderer(id='1038', ...)"
      ]
     },
     "execution_count": 57,
     "metadata": {},
     "output_type": "execute_result"
    }
   ],
   "source": [
    "p = bpl.figure(plot_width=1000,plot_height=400,title=\"Histograma de reacciones, CDMX\",toolbar_location=None)\n",
    "p.vbar(x=histdata[1][:-1],bottom=0,top=histdata[0],width=colw)"
   ]
  },
  {
   "cell_type": "code",
   "execution_count": 58,
   "metadata": {},
   "outputs": [],
   "source": [
    "p.yaxis.axis_label = \"Publicaciones\"\n",
    "p.xaxis.axis_label = \"Log10 del número de reacciones\""
   ]
  },
  {
   "cell_type": "code",
   "execution_count": 59,
   "metadata": {},
   "outputs": [
    {
     "data": {
      "text/html": [
       "\n",
       "\n",
       "\n",
       "\n",
       "\n",
       "\n",
       "  <div class=\"bk-root\" id=\"3cdcaaea-8c6d-4083-8134-c9661ebf813b\" data-root-id=\"1002\"></div>\n"
      ]
     },
     "metadata": {},
     "output_type": "display_data"
    },
    {
     "data": {
      "application/javascript": [
       "(function(root) {\n",
       "  function embed_document(root) {\n",
       "    \n",
       "  var docs_json = {\"c5003394-ca78-448a-ad8c-c97203d8806d\":{\"roots\":{\"references\":[{\"attributes\":{\"below\":[{\"id\":\"1013\"}],\"center\":[{\"id\":\"1016\"},{\"id\":\"1020\"}],\"left\":[{\"id\":\"1017\"}],\"plot_height\":400,\"plot_width\":1000,\"renderers\":[{\"id\":\"1038\"}],\"title\":{\"id\":\"1003\"},\"toolbar\":{\"id\":\"1028\"},\"toolbar_location\":null,\"x_range\":{\"id\":\"1005\"},\"x_scale\":{\"id\":\"1009\"},\"y_range\":{\"id\":\"1007\"},\"y_scale\":{\"id\":\"1011\"}},\"id\":\"1002\",\"subtype\":\"Figure\",\"type\":\"Plot\"},{\"attributes\":{\"text\":\"Histograma de reacciones, CDMX\"},\"id\":\"1003\",\"type\":\"Title\"},{\"attributes\":{\"bottom_units\":\"screen\",\"fill_alpha\":0.5,\"fill_color\":\"lightgrey\",\"left_units\":\"screen\",\"level\":\"overlay\",\"line_alpha\":1.0,\"line_color\":\"black\",\"line_dash\":[4,4],\"line_width\":2,\"render_mode\":\"css\",\"right_units\":\"screen\",\"top_units\":\"screen\"},\"id\":\"1027\",\"type\":\"BoxAnnotation\"},{\"attributes\":{},\"id\":\"1005\",\"type\":\"DataRange1d\"},{\"attributes\":{},\"id\":\"1007\",\"type\":\"DataRange1d\"},{\"attributes\":{},\"id\":\"1045\",\"type\":\"BasicTickFormatter\"},{\"attributes\":{},\"id\":\"1024\",\"type\":\"SaveTool\"},{\"attributes\":{},\"id\":\"1048\",\"type\":\"UnionRenderers\"},{\"attributes\":{\"active_drag\":\"auto\",\"active_inspect\":\"auto\",\"active_multi\":null,\"active_scroll\":\"auto\",\"active_tap\":\"auto\",\"tools\":[{\"id\":\"1021\"},{\"id\":\"1022\"},{\"id\":\"1023\"},{\"id\":\"1024\"},{\"id\":\"1025\"},{\"id\":\"1026\"}]},\"id\":\"1028\",\"type\":\"Toolbar\"},{\"attributes\":{},\"id\":\"1021\",\"type\":\"PanTool\"},{\"attributes\":{},\"id\":\"1009\",\"type\":\"LinearScale\"},{\"attributes\":{\"axis_label\":\"Log10 del n\\u00famero de reacciones\",\"formatter\":{\"id\":\"1043\"},\"ticker\":{\"id\":\"1014\"}},\"id\":\"1013\",\"type\":\"LinearAxis\"},{\"attributes\":{},\"id\":\"1043\",\"type\":\"BasicTickFormatter\"},{\"attributes\":{\"fill_alpha\":{\"value\":0.1},\"fill_color\":{\"value\":\"#1f77b4\"},\"line_alpha\":{\"value\":0.1},\"line_color\":{\"value\":\"#1f77b4\"},\"top\":{\"field\":\"top\"},\"width\":{\"value\":0.05270640452452298},\"x\":{\"field\":\"x\"}},\"id\":\"1037\",\"type\":\"VBar\"},{\"attributes\":{\"overlay\":{\"id\":\"1027\"}},\"id\":\"1023\",\"type\":\"BoxZoomTool\"},{\"attributes\":{},\"id\":\"1011\",\"type\":\"LinearScale\"},{\"attributes\":{},\"id\":\"1022\",\"type\":\"WheelZoomTool\"},{\"attributes\":{},\"id\":\"1026\",\"type\":\"HelpTool\"},{\"attributes\":{},\"id\":\"1025\",\"type\":\"ResetTool\"},{\"attributes\":{\"fill_color\":{\"value\":\"#1f77b4\"},\"line_color\":{\"value\":\"#1f77b4\"},\"top\":{\"field\":\"top\"},\"width\":{\"value\":0.05270640452452298},\"x\":{\"field\":\"x\"}},\"id\":\"1036\",\"type\":\"VBar\"},{\"attributes\":{},\"id\":\"1014\",\"type\":\"BasicTicker\"},{\"attributes\":{\"data\":{\"top\":[817,0,0,0,0,508,0,0,418,0,353,350,0,337,317,296,308,574,273,548,451,667,675,629,788,728,860,803,891,1039,925,1012,972,970,1127,1029,1032,1013,1020,973,963,953,929,896,860,825,774,758,674,645,594,548,478,476,407,381,371,291,290,251,244,217,167,174,129,115,111,96,84,78,79,56,46,40,38,27,26,15,27,11,7,9,9,4,5,1,4,0,0,1,3,0,0,0,0,0,0,0,0,1],\"x\":{\"__ndarray__\":\"AAAAAAAAAAC2LGIv7futP7YsYi/t+70/iKGJ4/F8xj+2LGIv7fvNP/JbnT10vdI/iKGJ4/F81j8f53WJbzzaP7YsYi/t+90/JjmnarXd4D/yW509dL3iP71+kxAzneQ/iKGJ4/F85j9UxH+2sFzoPx/ndYlvPOo/6wlsXC4c7D+2LGIv7fvtP4FPWAKs2+8/JjmnarXd8D+MSiLUlM3xP/JbnT10vfI/V20Yp1Ot8z+9fpMQM530PyOQDnoSjfU/iKGJ4/F89j/usgRN0Wz3P1TEf7awXPg/utX6H5BM+T8f53WJbzz6P4X48PJOLPs/6wlsXC4c/D9QG+fFDQz9P7YsYi/t+/0/HD7dmMzr/j+BT1gCrNv/P3Sw6bXFZQBAJjmnarXdAEDZwWQfpVUBQIxKItSUzQFAP9PfiIRFAkDyW509dL0CQKXkWvJjNQNAV20Yp1OtA0AK9tVbQyUEQL1+kxAznQRAcAdRxSIVBUAjkA56Eo0FQNYYzC4CBQZAiKGJ4/F8BkA7KkeY4fQGQO6yBE3RbAdAoTvCAcHkB0BUxH+2sFwIQAdNPWug1AhAutX6H5BMCUBsXrjUf8QJQB/ndYlvPApA0m8zPl+0CkCF+PDyTiwLQDiBrqc+pAtA6wlsXC4cDECdkikRHpQMQFAb58UNDA1AA6Skev2DDUC2LGIv7fsNQGm1H+Tccw5AHD7dmMzrDkDPxppNvGMPQIFPWAKs2w9AGuyK280pEEB0sOm1xWUQQM10SJC9oRBAJjmnarXdEECA/QVFrRkRQNnBZB+lVRFAM4bD+ZyREUCMSiLUlM0RQOUOga6MCRJAP9PfiIRFEkCYlz5jfIESQPJbnT10vRJASyD8F2z5EkCl5FryYzUTQP6oucxbcRNAV20Yp1OtE0CxMXeBS+kTQAr21VtDJRRAZLo0NjthFEC9fpMQM50UQBdD8uoq2RRAcAdRxSIVFUDJy6+fGlEVQCOQDnoSjRVAfFRtVArJFUDWGMwuAgUWQC/dKgn6QBZAiKGJ4/F8FkDiZei96bgWQDsqR5jh9BZAle6lctkwF0A=\",\"dtype\":\"float64\",\"shape\":[100]}},\"selected\":{\"id\":\"1047\"},\"selection_policy\":{\"id\":\"1048\"}},\"id\":\"1035\",\"type\":\"ColumnDataSource\"},{\"attributes\":{\"axis\":{\"id\":\"1013\"},\"ticker\":null},\"id\":\"1016\",\"type\":\"Grid\"},{\"attributes\":{},\"id\":\"1047\",\"type\":\"Selection\"},{\"attributes\":{\"axis_label\":\"Publicaciones\",\"formatter\":{\"id\":\"1045\"},\"ticker\":{\"id\":\"1018\"}},\"id\":\"1017\",\"type\":\"LinearAxis\"},{\"attributes\":{},\"id\":\"1018\",\"type\":\"BasicTicker\"},{\"attributes\":{\"data_source\":{\"id\":\"1035\"},\"glyph\":{\"id\":\"1036\"},\"hover_glyph\":null,\"muted_glyph\":null,\"nonselection_glyph\":{\"id\":\"1037\"},\"selection_glyph\":null,\"view\":{\"id\":\"1039\"}},\"id\":\"1038\",\"type\":\"GlyphRenderer\"},{\"attributes\":{\"source\":{\"id\":\"1035\"}},\"id\":\"1039\",\"type\":\"CDSView\"},{\"attributes\":{\"axis\":{\"id\":\"1017\"},\"dimension\":1,\"ticker\":null},\"id\":\"1020\",\"type\":\"Grid\"}],\"root_ids\":[\"1002\"]},\"title\":\"Bokeh Application\",\"version\":\"2.0.1\"}};\n",
       "  var render_items = [{\"docid\":\"c5003394-ca78-448a-ad8c-c97203d8806d\",\"root_ids\":[\"1002\"],\"roots\":{\"1002\":\"3cdcaaea-8c6d-4083-8134-c9661ebf813b\"}}];\n",
       "  root.Bokeh.embed.embed_items_notebook(docs_json, render_items);\n",
       "\n",
       "  }\n",
       "  if (root.Bokeh !== undefined) {\n",
       "    embed_document(root);\n",
       "  } else {\n",
       "    var attempts = 0;\n",
       "    var timer = setInterval(function(root) {\n",
       "      if (root.Bokeh !== undefined) {\n",
       "        clearInterval(timer);\n",
       "        embed_document(root);\n",
       "      } else {\n",
       "        attempts++;\n",
       "        if (attempts > 100) {\n",
       "          clearInterval(timer);\n",
       "          console.log(\"Bokeh: ERROR: Unable to run BokehJS code because BokehJS library is missing\");\n",
       "        }\n",
       "      }\n",
       "    }, 10, root)\n",
       "  }\n",
       "})(window);"
      ],
      "application/vnd.bokehjs_exec.v0+json": ""
     },
     "metadata": {
      "application/vnd.bokehjs_exec.v0+json": {
       "id": "1002"
      }
     },
     "output_type": "display_data"
    }
   ],
   "source": [
    "bpl.show(p)"
   ]
  },
  {
   "cell_type": "code",
   "execution_count": 60,
   "metadata": {},
   "outputs": [
    {
     "data": {
      "text/plain": [
       "<matplotlib.axes._subplots.AxesSubplot at 0x1f6ac1e5688>"
      ]
     },
     "execution_count": 60,
     "metadata": {},
     "output_type": "execute_result"
    },
    {
     "data": {
      "image/png": "[encoded data removed]",
      "text/plain": [
       "<Figure size 432x288 with 1 Axes>"
      ]
     },
     "metadata": {
      "needs_background": "light"
     },
     "output_type": "display_data"
    }
   ],
   "source": [
    "data_plot[\"l_alcan\"].plot.hist(bins=100)"
   ]
  },
  {
   "cell_type": "code",
   "execution_count": 61,
   "metadata": {},
   "outputs": [
    {
     "data": {
      "text/plain": [
       "<matplotlib.axes._subplots.AxesSubplot at 0x1f6ac4f2b88>"
      ]
     },
     "execution_count": 61,
     "metadata": {},
     "output_type": "execute_result"
    },
    {
     "data": {
      "image/png": "[encoded data removed]",
      "text/plain": [
       "<Figure size 432x288 with 1 Axes>"
      ]
     },
     "metadata": {
      "needs_background": "light"
     },
     "output_type": "display_data"
    }
   ],
   "source": [
    "data_plot[\"l_alcan_top\"].plot.hist(bins=100)"
   ]
  },
  {
   "cell_type": "code",
   "execution_count": 62,
   "metadata": {},
   "outputs": [
    {
     "data": {
      "text/plain": [
       "<matplotlib.axes._subplots.AxesSubplot at 0x1f6ac66d6c8>"
      ]
     },
     "execution_count": 62,
     "metadata": {},
     "output_type": "execute_result"
    },
    {
     "data": {
      "image/png": "[encoded data removed]",
      "text/plain": [
       "<Figure size 432x288 with 1 Axes>"
      ]
     },
     "metadata": {
      "needs_background": "light"
     },
     "output_type": "display_data"
    }
   ],
   "source": [
    "data_plot_f[\"l_alcan\"].plot.hist(bins=100)"
   ]
  },
  {
   "cell_type": "code",
   "execution_count": 63,
   "metadata": {},
   "outputs": [],
   "source": [
    "histdata = np.histogram(data_plot[\"l_alcan\"],bins=100)\n",
    "colw = (histdata[1][1]-histdata[1][0])*0.9"
   ]
  },
  {
   "cell_type": "code",
   "execution_count": 64,
   "metadata": {},
   "outputs": [
    {
     "data": {
      "text/html": [
       "<div style=\"display: table;\"><div style=\"display: table-row;\"><div style=\"display: table-cell;\"><b title=\"bokeh.models.renderers.GlyphRenderer\">GlyphRenderer</b>(</div><div style=\"display: table-cell;\">id&nbsp;=&nbsp;'1134', <span id=\"1137\" style=\"cursor: pointer;\">&hellip;)</span></div></div><div class=\"1136\" style=\"display: none;\"><div style=\"display: table-cell;\"></div><div style=\"display: table-cell;\">data_source&nbsp;=&nbsp;ColumnDataSource(id='1131', ...),</div></div><div class=\"1136\" style=\"display: none;\"><div style=\"display: table-cell;\"></div><div style=\"display: table-cell;\">glyph&nbsp;=&nbsp;VBar(id='1132', ...),</div></div><div class=\"1136\" style=\"display: none;\"><div style=\"display: table-cell;\"></div><div style=\"display: table-cell;\">hover_glyph&nbsp;=&nbsp;None,</div></div><div class=\"1136\" style=\"display: none;\"><div style=\"display: table-cell;\"></div><div style=\"display: table-cell;\">js_event_callbacks&nbsp;=&nbsp;{},</div></div><div class=\"1136\" style=\"display: none;\"><div style=\"display: table-cell;\"></div><div style=\"display: table-cell;\">js_property_callbacks&nbsp;=&nbsp;{},</div></div><div class=\"1136\" style=\"display: none;\"><div style=\"display: table-cell;\"></div><div style=\"display: table-cell;\">level&nbsp;=&nbsp;'glyph',</div></div><div class=\"1136\" style=\"display: none;\"><div style=\"display: table-cell;\"></div><div style=\"display: table-cell;\">muted&nbsp;=&nbsp;False,</div></div><div class=\"1136\" style=\"display: none;\"><div style=\"display: table-cell;\"></div><div style=\"display: table-cell;\">muted_glyph&nbsp;=&nbsp;None,</div></div><div class=\"1136\" style=\"display: none;\"><div style=\"display: table-cell;\"></div><div style=\"display: table-cell;\">name&nbsp;=&nbsp;None,</div></div><div class=\"1136\" style=\"display: none;\"><div style=\"display: table-cell;\"></div><div style=\"display: table-cell;\">nonselection_glyph&nbsp;=&nbsp;VBar(id='1133', ...),</div></div><div class=\"1136\" style=\"display: none;\"><div style=\"display: table-cell;\"></div><div style=\"display: table-cell;\">selection_glyph&nbsp;=&nbsp;None,</div></div><div class=\"1136\" style=\"display: none;\"><div style=\"display: table-cell;\"></div><div style=\"display: table-cell;\">subscribed_events&nbsp;=&nbsp;[],</div></div><div class=\"1136\" style=\"display: none;\"><div style=\"display: table-cell;\"></div><div style=\"display: table-cell;\">tags&nbsp;=&nbsp;[],</div></div><div class=\"1136\" style=\"display: none;\"><div style=\"display: table-cell;\"></div><div style=\"display: table-cell;\">view&nbsp;=&nbsp;CDSView(id='1135', ...),</div></div><div class=\"1136\" style=\"display: none;\"><div style=\"display: table-cell;\"></div><div style=\"display: table-cell;\">visible&nbsp;=&nbsp;True,</div></div><div class=\"1136\" style=\"display: none;\"><div style=\"display: table-cell;\"></div><div style=\"display: table-cell;\">x_range_name&nbsp;=&nbsp;'default',</div></div><div class=\"1136\" style=\"display: none;\"><div style=\"display: table-cell;\"></div><div style=\"display: table-cell;\">y_range_name&nbsp;=&nbsp;'default')</div></div></div>\n",
       "<script>\n",
       "(function() {\n",
       "  var expanded = false;\n",
       "  var ellipsis = document.getElementById(\"1137\");\n",
       "  ellipsis.addEventListener(\"click\", function() {\n",
       "    var rows = document.getElementsByClassName(\"1136\");\n",
       "    for (var i = 0; i < rows.length; i++) {\n",
       "      var el = rows[i];\n",
       "      el.style.display = expanded ? \"none\" : \"table-row\";\n",
       "    }\n",
       "    ellipsis.innerHTML = expanded ? \"&hellip;)\" : \"&lsaquo;&lsaquo;&lsaquo;\";\n",
       "    expanded = !expanded;\n",
       "  });\n",
       "})();\n",
       "</script>\n"
      ],
      "text/plain": [
       "GlyphRenderer(id='1134', ...)"
      ]
     },
     "execution_count": 64,
     "metadata": {},
     "output_type": "execute_result"
    }
   ],
   "source": [
    "p = bpl.figure(plot_width=1000,plot_height=400,title=\"Histograma de alcance estimado, CDMX\",toolbar_location=None)\n",
    "p.vbar(x=histdata[1][:-1],bottom=0,top=histdata[0],width=colw)"
   ]
  },
  {
   "cell_type": "code",
   "execution_count": 65,
   "metadata": {},
   "outputs": [],
   "source": [
    "p.yaxis.axis_label = \"Publicaciones\"\n",
    "p.xaxis.axis_label = \"Log10 del alcance estimado\""
   ]
  },
  {
   "cell_type": "code",
   "execution_count": 66,
   "metadata": {},
   "outputs": [
    {
     "data": {
      "text/html": [
       "\n",
       "\n",
       "\n",
       "\n",
       "\n",
       "\n",
       "  <div class=\"bk-root\" id=\"98527ad2-90ba-429b-bc8e-e5321fa031fb\" data-root-id=\"1098\"></div>\n"
      ]
     },
     "metadata": {},
     "output_type": "display_data"
    },
    {
     "data": {
      "application/javascript": [
       "(function(root) {\n",
       "  function embed_document(root) {\n",
       "    \n",
       "  var docs_json = {\"28c44827-9791-4ded-b097-1648391a1ac0\":{\"roots\":{\"references\":[{\"attributes\":{\"below\":[{\"id\":\"1109\"}],\"center\":[{\"id\":\"1112\"},{\"id\":\"1116\"}],\"left\":[{\"id\":\"1113\"}],\"plot_height\":400,\"plot_width\":1000,\"renderers\":[{\"id\":\"1134\"}],\"title\":{\"id\":\"1099\"},\"toolbar\":{\"id\":\"1124\"},\"toolbar_location\":null,\"x_range\":{\"id\":\"1101\"},\"x_scale\":{\"id\":\"1105\"},\"y_range\":{\"id\":\"1103\"},\"y_scale\":{\"id\":\"1107\"}},\"id\":\"1098\",\"subtype\":\"Figure\",\"type\":\"Plot\"},{\"attributes\":{},\"id\":\"1118\",\"type\":\"WheelZoomTool\"},{\"attributes\":{\"overlay\":{\"id\":\"1123\"}},\"id\":\"1119\",\"type\":\"BoxZoomTool\"},{\"attributes\":{},\"id\":\"1117\",\"type\":\"PanTool\"},{\"attributes\":{\"axis_label\":\"Publicaciones\",\"formatter\":{\"id\":\"1149\"},\"ticker\":{\"id\":\"1114\"}},\"id\":\"1113\",\"type\":\"LinearAxis\"},{\"attributes\":{\"axis\":{\"id\":\"1109\"},\"ticker\":null},\"id\":\"1112\",\"type\":\"Grid\"},{\"attributes\":{\"axis\":{\"id\":\"1113\"},\"dimension\":1,\"ticker\":null},\"id\":\"1116\",\"type\":\"Grid\"},{\"attributes\":{},\"id\":\"1105\",\"type\":\"LinearScale\"},{\"attributes\":{},\"id\":\"1103\",\"type\":\"DataRange1d\"},{\"attributes\":{},\"id\":\"1147\",\"type\":\"BasicTickFormatter\"},{\"attributes\":{},\"id\":\"1120\",\"type\":\"SaveTool\"},{\"attributes\":{},\"id\":\"1110\",\"type\":\"BasicTicker\"},{\"attributes\":{},\"id\":\"1121\",\"type\":\"ResetTool\"},{\"attributes\":{\"data\":{\"top\":[40,991,30,150,36,2657,73,90,27,88,89,53,78,38,127,101,75,113,84,233,404,249,482,502,526,513,544,516,511,545,543,553,615,690,685,727,777,793,909,1028,1075,1146,1230,1277,1176,1152,1116,1092,1038,977,942,874,853,703,690,639,607,526,491,429,351,366,323,270,286,238,227,212,200,183,188,135,124,113,94,102,66,91,69,75,67,50,41,45,35,30,29,16,22,19,15,13,11,10,5,5,1,1,1,1],\"x\":{\"__ndarray__\":\"U3JwIwT8AEB0y7DFll4BQJQk8WcpwQFAtX0xCrwjAkDW1nGsToYCQPcvsk7h6AJAF4ny8HNLA0A44jKTBq4DQFk7czWZEARAepSz1ytzBECa7fN5vtUEQLtGNBxROAVA3J90vuOaBUD8+LRgdv0FQB1S9QIJYAZAPqs1pZvCBkBeBHZHLiUHQH9dtunAhwdAoLb2i1PqB0DBDzcu5kwIQOJod9B4rwhAAsK3cgsSCUAjG/gUnnQJQER0OLcw1wlAZM14WcM5CkCFJrn7VZwKQKZ/+Z3o/gpAxtg5QHthC0DnMXriDcQLQAiLuoSgJgxAKOT6JjOJDEBKPTvJxesMQGqWe2tYTg1Aiu+7DeuwDUCsSPyvfRMOQMyhPFIQdg5A7fp89KLYDkAOVL2WNTsPQC6t/TjInQ9AKAOfbS0AEEC4L7++djEQQEhc3w/AYhBA2Ij/YAmUEEBptR+yUsUQQPrhPwOc9hBAig5gVOUnEUAaO4ClLlkRQKpnoPZ3ihFAOpTAR8G7EUDLwOCYCu0RQFztAOpTHhJA7BkhO51PEkB8RkGM5oASQAxzYd0vshJAnZ+BLnnjEkAuzKF/whQTQL74wdALRhNATiXiIVV3E0DeUQJznqgTQG5+IsTn2RNA/6pCFTELFECQ12JmejwUQCAEg7fDbRRAsDCjCA2fFEBAXcNZVtAUQNGJ46qfARVAYbYD/OgyFUDy4iNNMmQVQIIPRJ57lRVAEjxk78TGFUCiaIRADvgVQDOVpJFXKRZAxMHE4qBaFkBU7uQz6osWQOQaBYUzvRZAdEcl1nzuFkAFdEUnxh8XQJWgZXgPURdAJs2FyViCF0C2+aUaorMXQEYmxmvr5BdA1lLmvDQWGEBnfwYOfkcYQPirJl/HeBhAiNhGsBCqGEAYBWcBWtsYQKgxh1KjDBlAOF6no+w9GUDKisf0NW8ZQFq350V/oBlA6uMHl8jRGUB6ECjoEQMaQAo9SDlbNBpAmmloiqRlGkAslojb7ZYaQLzCqCw3yBpATO/IfYD5GkDcG+nOySobQGxICSATXBtA/nQpcVyNG0A=\",\"dtype\":\"float64\",\"shape\":[100]}},\"selected\":{\"id\":\"1151\"},\"selection_policy\":{\"id\":\"1152\"}},\"id\":\"1131\",\"type\":\"ColumnDataSource\"},{\"attributes\":{},\"id\":\"1149\",\"type\":\"BasicTickFormatter\"},{\"attributes\":{\"fill_color\":{\"value\":\"#1f77b4\"},\"line_color\":{\"value\":\"#1f77b4\"},\"top\":{\"field\":\"top\"},\"width\":{\"value\":0.04331811984050273},\"x\":{\"field\":\"x\"}},\"id\":\"1132\",\"type\":\"VBar\"},{\"attributes\":{},\"id\":\"1114\",\"type\":\"BasicTicker\"},{\"attributes\":{},\"id\":\"1101\",\"type\":\"DataRange1d\"},{\"attributes\":{\"source\":{\"id\":\"1131\"}},\"id\":\"1135\",\"type\":\"CDSView\"},{\"attributes\":{},\"id\":\"1151\",\"type\":\"Selection\"},{\"attributes\":{},\"id\":\"1107\",\"type\":\"LinearScale\"},{\"attributes\":{},\"id\":\"1122\",\"type\":\"HelpTool\"},{\"attributes\":{\"text\":\"Histograma de alcance estimado, CDMX\"},\"id\":\"1099\",\"type\":\"Title\"},{\"attributes\":{\"bottom_units\":\"screen\",\"fill_alpha\":0.5,\"fill_color\":\"lightgrey\",\"left_units\":\"screen\",\"level\":\"overlay\",\"line_alpha\":1.0,\"line_color\":\"black\",\"line_dash\":[4,4],\"line_width\":2,\"render_mode\":\"css\",\"right_units\":\"screen\",\"top_units\":\"screen\"},\"id\":\"1123\",\"type\":\"BoxAnnotation\"},{\"attributes\":{\"data_source\":{\"id\":\"1131\"},\"glyph\":{\"id\":\"1132\"},\"hover_glyph\":null,\"muted_glyph\":null,\"nonselection_glyph\":{\"id\":\"1133\"},\"selection_glyph\":null,\"view\":{\"id\":\"1135\"}},\"id\":\"1134\",\"type\":\"GlyphRenderer\"},{\"attributes\":{},\"id\":\"1152\",\"type\":\"UnionRenderers\"},{\"attributes\":{\"fill_alpha\":{\"value\":0.1},\"fill_color\":{\"value\":\"#1f77b4\"},\"line_alpha\":{\"value\":0.1},\"line_color\":{\"value\":\"#1f77b4\"},\"top\":{\"field\":\"top\"},\"width\":{\"value\":0.04331811984050273},\"x\":{\"field\":\"x\"}},\"id\":\"1133\",\"type\":\"VBar\"},{\"attributes\":{\"active_drag\":\"auto\",\"active_inspect\":\"auto\",\"active_multi\":null,\"active_scroll\":\"auto\",\"active_tap\":\"auto\",\"tools\":[{\"id\":\"1117\"},{\"id\":\"1118\"},{\"id\":\"1119\"},{\"id\":\"1120\"},{\"id\":\"1121\"},{\"id\":\"1122\"}]},\"id\":\"1124\",\"type\":\"Toolbar\"},{\"attributes\":{\"axis_label\":\"Log10 del alcance estimado\",\"formatter\":{\"id\":\"1147\"},\"ticker\":{\"id\":\"1110\"}},\"id\":\"1109\",\"type\":\"LinearAxis\"}],\"root_ids\":[\"1098\"]},\"title\":\"Bokeh Application\",\"version\":\"2.0.1\"}};\n",
       "  var render_items = [{\"docid\":\"28c44827-9791-4ded-b097-1648391a1ac0\",\"root_ids\":[\"1098\"],\"roots\":{\"1098\":\"98527ad2-90ba-429b-bc8e-e5321fa031fb\"}}];\n",
       "  root.Bokeh.embed.embed_items_notebook(docs_json, render_items);\n",
       "\n",
       "  }\n",
       "  if (root.Bokeh !== undefined) {\n",
       "    embed_document(root);\n",
       "  } else {\n",
       "    var attempts = 0;\n",
       "    var timer = setInterval(function(root) {\n",
       "      if (root.Bokeh !== undefined) {\n",
       "        clearInterval(timer);\n",
       "        embed_document(root);\n",
       "      } else {\n",
       "        attempts++;\n",
       "        if (attempts > 100) {\n",
       "          clearInterval(timer);\n",
       "          console.log(\"Bokeh: ERROR: Unable to run BokehJS code because BokehJS library is missing\");\n",
       "        }\n",
       "      }\n",
       "    }, 10, root)\n",
       "  }\n",
       "})(window);"
      ],
      "application/vnd.bokehjs_exec.v0+json": ""
     },
     "metadata": {
      "application/vnd.bokehjs_exec.v0+json": {
       "id": "1098"
      }
     },
     "output_type": "display_data"
    }
   ],
   "source": [
    "bpl.show(p)"
   ]
  },
  {
   "cell_type": "code",
   "execution_count": 67,
   "metadata": {},
   "outputs": [
    {
     "data": {
      "text/plain": [
       "<matplotlib.axes._subplots.AxesSubplot at 0x1f6ac7e4ec8>"
      ]
     },
     "execution_count": 67,
     "metadata": {},
     "output_type": "execute_result"
    },
    {
     "data": {
      "image/png": "[encoded data removed]",
      "text/plain": [
       "<Figure size 432x288 with 1 Axes>"
      ]
     },
     "metadata": {
      "needs_background": "light"
     },
     "output_type": "display_data"
    }
   ],
   "source": [
    "data_plot_f[\"l_alcan_top\"].plot.hist(bins=100)"
   ]
  },
  {
   "cell_type": "code",
   "execution_count": 68,
   "metadata": {},
   "outputs": [
    {
     "data": {
      "text/plain": [
       "<matplotlib.axes._subplots.AxesSubplot at 0x1f6b11a18c8>"
      ]
     },
     "execution_count": 68,
     "metadata": {},
     "output_type": "execute_result"
    },
    {
     "data": {
      "image/png": "[encoded data removed]",
      "text/plain": [
       "<Figure size 432x288 with 1 Axes>"
      ]
     },
     "metadata": {
      "needs_background": "light"
     },
     "output_type": "display_data"
    }
   ],
   "source": [
    "data_plot_f[\"l_reac_alcan\"].plot.hist(bins=100)"
   ]
  },
  {
   "cell_type": "code",
   "execution_count": 69,
   "metadata": {},
   "outputs": [
    {
     "data": {
      "text/plain": [
       "<matplotlib.axes._subplots.AxesSubplot at 0x1f6b1337b48>"
      ]
     },
     "execution_count": 69,
     "metadata": {},
     "output_type": "execute_result"
    },
    {
     "data": {
      "image/png": "[encoded data removed]",
      "text/plain": [
       "<Figure size 432x288 with 1 Axes>"
      ]
     },
     "metadata": {
      "needs_background": "light"
     },
     "output_type": "display_data"
    }
   ],
   "source": [
    "data_plot_f[\"l_reac_alcan_top\"].plot.hist(bins=100)"
   ]
  },
  {
   "cell_type": "code",
   "execution_count": 70,
   "metadata": {},
   "outputs": [
    {
     "data": {
      "text/plain": [
       "<matplotlib.axes._subplots.AxesSubplot at 0x1f6b132df48>"
      ]
     },
     "execution_count": 70,
     "metadata": {},
     "output_type": "execute_result"
    },
    {
     "data": {
      "image/png": "[encoded data removed]",
      "text/plain": [
       "<Figure size 432x288 with 1 Axes>"
      ]
     },
     "metadata": {
      "needs_background": "light"
     },
     "output_type": "display_data"
    }
   ],
   "source": [
    "data_plot[\"score_T\"].plot.hist(bins=100)"
   ]
  },
  {
   "cell_type": "code",
   "execution_count": 71,
   "metadata": {},
   "outputs": [
    {
     "data": {
      "text/plain": [
       "<matplotlib.axes._subplots.AxesSubplot at 0x1f6ac34fbc8>"
      ]
     },
     "execution_count": 71,
     "metadata": {},
     "output_type": "execute_result"
    },
    {
     "data": {
      "image/png": "[encoded data removed]",
      "text/plain": [
       "<Figure size 432x288 with 1 Axes>"
      ]
     },
     "metadata": {
      "needs_background": "light"
     },
     "output_type": "display_data"
    }
   ],
   "source": [
    "data_plot_f[\"score_T\"].plot.hist(bins=100)"
   ]
  },
  {
   "cell_type": "code",
   "execution_count": 72,
   "metadata": {},
   "outputs": [
    {
     "data": {
      "text/plain": [
       "<matplotlib.axes._subplots.AxesSubplot at 0x1f6b152dd88>"
      ]
     },
     "execution_count": 72,
     "metadata": {},
     "output_type": "execute_result"
    },
    {
     "data": {
      "image/png": "[encoded data removed]",
      "text/plain": [
       "<Figure size 432x288 with 1 Axes>"
      ]
     },
     "metadata": {
      "needs_background": "light"
     },
     "output_type": "display_data"
    }
   ],
   "source": [
    "data_plot.plot.scatter(x=\"l_reacc\",y=\"l_alcan\",s=0.1)"
   ]
  },
  {
   "cell_type": "code",
   "execution_count": 73,
   "metadata": {},
   "outputs": [
    {
     "data": {
      "text/plain": [
       "<matplotlib.axes._subplots.AxesSubplot at 0x1f6b157b048>"
      ]
     },
     "execution_count": 73,
     "metadata": {},
     "output_type": "execute_result"
    },
    {
     "data": {
      "image/png": "[encoded data removed]",
      "text/plain": [
       "<Figure size 432x288 with 1 Axes>"
      ]
     },
     "metadata": {
      "needs_background": "light"
     },
     "output_type": "display_data"
    }
   ],
   "source": [
    "data_plot.plot.scatter(x=\"l_reacc\",y=\"l_alcan_top\",s=0.1)"
   ]
  },
  {
   "cell_type": "code",
   "execution_count": 74,
   "metadata": {},
   "outputs": [
    {
     "data": {
      "text/plain": [
       "<matplotlib.axes._subplots.AxesSubplot at 0x1f6b1de3a48>"
      ]
     },
     "execution_count": 74,
     "metadata": {},
     "output_type": "execute_result"
    },
    {
     "data": {
      "image/png": "[encoded data removed]",
      "text/plain": [
       "<Figure size 432x288 with 1 Axes>"
      ]
     },
     "metadata": {
      "needs_background": "light"
     },
     "output_type": "display_data"
    }
   ],
   "source": [
    "data_plot_f.groupby([\"idTema\",\"nombre_T\"])[\"l_reacc\"].max().plot.hist(bins=100)"
   ]
  },
  {
   "cell_type": "code",
   "execution_count": 75,
   "metadata": {},
   "outputs": [
    {
     "data": {
      "text/plain": [
       "<matplotlib.axes._subplots.AxesSubplot at 0x1f6b1573708>"
      ]
     },
     "execution_count": 75,
     "metadata": {},
     "output_type": "execute_result"
    },
    {
     "data": {
      "image/png": "[encoded data removed]",
      "text/plain": [
       "<Figure size 432x288 with 1 Axes>"
      ]
     },
     "metadata": {
      "needs_background": "light"
     },
     "output_type": "display_data"
    }
   ],
   "source": [
    "data_plot.groupby([\"idTema\",\"nombre_T\"])[\"l_alcan\"].max().plot.hist(bins=100)"
   ]
  },
  {
   "cell_type": "code",
   "execution_count": 76,
   "metadata": {},
   "outputs": [
    {
     "data": {
      "text/plain": [
       "<matplotlib.axes._subplots.AxesSubplot at 0x1f6b315bd88>"
      ]
     },
     "execution_count": 76,
     "metadata": {},
     "output_type": "execute_result"
    },
    {
     "data": {
      "image/png": "[encoded data removed]",
      "text/plain": [
       "<Figure size 432x288 with 1 Axes>"
      ]
     },
     "metadata": {
      "needs_background": "light"
     },
     "output_type": "display_data"
    }
   ],
   "source": [
    "data_plot_f.groupby([\"idTema\",\"nombre_T\"])[\"l_reac_alcan\"].max().plot.hist(bins=100)"
   ]
  },
  {
   "cell_type": "code",
   "execution_count": 77,
   "metadata": {},
   "outputs": [
    {
     "data": {
      "text/plain": [
       "<matplotlib.axes._subplots.AxesSubplot at 0x1f6b32ca788>"
      ]
     },
     "execution_count": 77,
     "metadata": {},
     "output_type": "execute_result"
    },
    {
     "data": {
      "image/png": "[encoded data removed]",
      "text/plain": [
       "<Figure size 432x288 with 1 Axes>"
      ]
     },
     "metadata": {
      "needs_background": "light"
     },
     "output_type": "display_data"
    }
   ],
   "source": [
    "data_plot_f.groupby([\"idTema\",\"nombre_T\"])[\"score_T\"].size().plot.hist(bins=100)"
   ]
  },
  {
   "cell_type": "code",
   "execution_count": 78,
   "metadata": {},
   "outputs": [],
   "source": [
    "histdata = np.histogram(np.log10(data_plot.groupby([\"idTema\",\"nombre_T\"])[\"score_T\"].size()),bins=100)\n",
    "colw = (histdata[1][1]-histdata[1][0])*0.9"
   ]
  },
  {
   "cell_type": "code",
   "execution_count": 79,
   "metadata": {},
   "outputs": [
    {
     "data": {
      "text/html": [
       "<div style=\"display: table;\"><div style=\"display: table-row;\"><div style=\"display: table-cell;\"><b title=\"bokeh.models.renderers.GlyphRenderer\">GlyphRenderer</b>(</div><div style=\"display: table-cell;\">id&nbsp;=&nbsp;'1238', <span id=\"1241\" style=\"cursor: pointer;\">&hellip;)</span></div></div><div class=\"1240\" style=\"display: none;\"><div style=\"display: table-cell;\"></div><div style=\"display: table-cell;\">data_source&nbsp;=&nbsp;ColumnDataSource(id='1235', ...),</div></div><div class=\"1240\" style=\"display: none;\"><div style=\"display: table-cell;\"></div><div style=\"display: table-cell;\">glyph&nbsp;=&nbsp;VBar(id='1236', ...),</div></div><div class=\"1240\" style=\"display: none;\"><div style=\"display: table-cell;\"></div><div style=\"display: table-cell;\">hover_glyph&nbsp;=&nbsp;None,</div></div><div class=\"1240\" style=\"display: none;\"><div style=\"display: table-cell;\"></div><div style=\"display: table-cell;\">js_event_callbacks&nbsp;=&nbsp;{},</div></div><div class=\"1240\" style=\"display: none;\"><div style=\"display: table-cell;\"></div><div style=\"display: table-cell;\">js_property_callbacks&nbsp;=&nbsp;{},</div></div><div class=\"1240\" style=\"display: none;\"><div style=\"display: table-cell;\"></div><div style=\"display: table-cell;\">level&nbsp;=&nbsp;'glyph',</div></div><div class=\"1240\" style=\"display: none;\"><div style=\"display: table-cell;\"></div><div style=\"display: table-cell;\">muted&nbsp;=&nbsp;False,</div></div><div class=\"1240\" style=\"display: none;\"><div style=\"display: table-cell;\"></div><div style=\"display: table-cell;\">muted_glyph&nbsp;=&nbsp;None,</div></div><div class=\"1240\" style=\"display: none;\"><div style=\"display: table-cell;\"></div><div style=\"display: table-cell;\">name&nbsp;=&nbsp;None,</div></div><div class=\"1240\" style=\"display: none;\"><div style=\"display: table-cell;\"></div><div style=\"display: table-cell;\">nonselection_glyph&nbsp;=&nbsp;VBar(id='1237', ...),</div></div><div class=\"1240\" style=\"display: none;\"><div style=\"display: table-cell;\"></div><div style=\"display: table-cell;\">selection_glyph&nbsp;=&nbsp;None,</div></div><div class=\"1240\" style=\"display: none;\"><div style=\"display: table-cell;\"></div><div style=\"display: table-cell;\">subscribed_events&nbsp;=&nbsp;[],</div></div><div class=\"1240\" style=\"display: none;\"><div style=\"display: table-cell;\"></div><div style=\"display: table-cell;\">tags&nbsp;=&nbsp;[],</div></div><div class=\"1240\" style=\"display: none;\"><div style=\"display: table-cell;\"></div><div style=\"display: table-cell;\">view&nbsp;=&nbsp;CDSView(id='1239', ...),</div></div><div class=\"1240\" style=\"display: none;\"><div style=\"display: table-cell;\"></div><div style=\"display: table-cell;\">visible&nbsp;=&nbsp;True,</div></div><div class=\"1240\" style=\"display: none;\"><div style=\"display: table-cell;\"></div><div style=\"display: table-cell;\">x_range_name&nbsp;=&nbsp;'default',</div></div><div class=\"1240\" style=\"display: none;\"><div style=\"display: table-cell;\"></div><div style=\"display: table-cell;\">y_range_name&nbsp;=&nbsp;'default')</div></div></div>\n",
       "<script>\n",
       "(function() {\n",
       "  var expanded = false;\n",
       "  var ellipsis = document.getElementById(\"1241\");\n",
       "  ellipsis.addEventListener(\"click\", function() {\n",
       "    var rows = document.getElementsByClassName(\"1240\");\n",
       "    for (var i = 0; i < rows.length; i++) {\n",
       "      var el = rows[i];\n",
       "      el.style.display = expanded ? \"none\" : \"table-row\";\n",
       "    }\n",
       "    ellipsis.innerHTML = expanded ? \"&hellip;)\" : \"&lsaquo;&lsaquo;&lsaquo;\";\n",
       "    expanded = !expanded;\n",
       "  });\n",
       "})();\n",
       "</script>\n"
      ],
      "text/plain": [
       "GlyphRenderer(id='1238', ...)"
      ]
     },
     "execution_count": 79,
     "metadata": {},
     "output_type": "execute_result"
    }
   ],
   "source": [
    "p = bpl.figure(plot_width=1000,plot_height=400,title=\"Histograma de publicaciones por tema, CDMX\",toolbar_location=None)\n",
    "p.vbar(x=histdata[1][:-1],bottom=0,top=histdata[0],width=colw)"
   ]
  },
  {
   "cell_type": "code",
   "execution_count": 80,
   "metadata": {},
   "outputs": [],
   "source": [
    "p.yaxis.axis_label = \"Temas\"\n",
    "p.xaxis.axis_label = \"Log10 del número de publicaciones por tema\""
   ]
  },
  {
   "cell_type": "code",
   "execution_count": 81,
   "metadata": {},
   "outputs": [
    {
     "data": {
      "text/html": [
       "\n",
       "\n",
       "\n",
       "\n",
       "\n",
       "\n",
       "  <div class=\"bk-root\" id=\"c0cee7ed-8697-418f-97a9-1108dff23a7d\" data-root-id=\"1202\"></div>\n"
      ]
     },
     "metadata": {},
     "output_type": "display_data"
    },
    {
     "data": {
      "application/javascript": [
       "(function(root) {\n",
       "  function embed_document(root) {\n",
       "    \n",
       "  var docs_json = {\"adba6971-8617-46c2-85f9-47c4a7f6dd97\":{\"roots\":{\"references\":[{\"attributes\":{\"below\":[{\"id\":\"1213\"}],\"center\":[{\"id\":\"1216\"},{\"id\":\"1220\"}],\"left\":[{\"id\":\"1217\"}],\"plot_height\":400,\"plot_width\":1000,\"renderers\":[{\"id\":\"1238\"}],\"title\":{\"id\":\"1203\"},\"toolbar\":{\"id\":\"1228\"},\"toolbar_location\":null,\"x_range\":{\"id\":\"1205\"},\"x_scale\":{\"id\":\"1209\"},\"y_range\":{\"id\":\"1207\"},\"y_scale\":{\"id\":\"1211\"}},\"id\":\"1202\",\"subtype\":\"Figure\",\"type\":\"Plot\"},{\"attributes\":{},\"id\":\"1226\",\"type\":\"HelpTool\"},{\"attributes\":{\"active_drag\":\"auto\",\"active_inspect\":\"auto\",\"active_multi\":null,\"active_scroll\":\"auto\",\"active_tap\":\"auto\",\"tools\":[{\"id\":\"1221\"},{\"id\":\"1222\"},{\"id\":\"1223\"},{\"id\":\"1224\"},{\"id\":\"1225\"},{\"id\":\"1226\"}]},\"id\":\"1228\",\"type\":\"Toolbar\"},{\"attributes\":{\"axis\":{\"id\":\"1217\"},\"dimension\":1,\"ticker\":null},\"id\":\"1220\",\"type\":\"Grid\"},{\"attributes\":{\"bottom_units\":\"screen\",\"fill_alpha\":0.5,\"fill_color\":\"lightgrey\",\"left_units\":\"screen\",\"level\":\"overlay\",\"line_alpha\":1.0,\"line_color\":\"black\",\"line_dash\":[4,4],\"line_width\":2,\"render_mode\":\"css\",\"right_units\":\"screen\",\"top_units\":\"screen\"},\"id\":\"1227\",\"type\":\"BoxAnnotation\"},{\"attributes\":{},\"id\":\"1218\",\"type\":\"BasicTicker\"},{\"attributes\":{},\"id\":\"1224\",\"type\":\"SaveTool\"},{\"attributes\":{\"text\":\"Histograma de publicaciones por tema, CDMX\"},\"id\":\"1203\",\"type\":\"Title\"},{\"attributes\":{\"axis_label\":\"Temas\",\"formatter\":{\"id\":\"1261\"},\"ticker\":{\"id\":\"1218\"}},\"id\":\"1217\",\"type\":\"LinearAxis\"},{\"attributes\":{},\"id\":\"1225\",\"type\":\"ResetTool\"},{\"attributes\":{},\"id\":\"1221\",\"type\":\"PanTool\"},{\"attributes\":{\"fill_color\":{\"value\":\"#1f77b4\"},\"line_color\":{\"value\":\"#1f77b4\"},\"top\":{\"field\":\"top\"},\"width\":{\"value\":0.020119756022167937},\"x\":{\"field\":\"x\"}},\"id\":\"1236\",\"type\":\"VBar\"},{\"attributes\":{},\"id\":\"1209\",\"type\":\"LinearScale\"},{\"attributes\":{\"data_source\":{\"id\":\"1235\"},\"glyph\":{\"id\":\"1236\"},\"hover_glyph\":null,\"muted_glyph\":null,\"nonselection_glyph\":{\"id\":\"1237\"},\"selection_glyph\":null,\"view\":{\"id\":\"1239\"}},\"id\":\"1238\",\"type\":\"GlyphRenderer\"},{\"attributes\":{\"overlay\":{\"id\":\"1227\"}},\"id\":\"1223\",\"type\":\"BoxZoomTool\"},{\"attributes\":{},\"id\":\"1259\",\"type\":\"BasicTickFormatter\"},{\"attributes\":{},\"id\":\"1211\",\"type\":\"LinearScale\"},{\"attributes\":{},\"id\":\"1264\",\"type\":\"UnionRenderers\"},{\"attributes\":{\"source\":{\"id\":\"1235\"}},\"id\":\"1239\",\"type\":\"CDSView\"},{\"attributes\":{\"axis_label\":\"Log10 del n\\u00famero de publicaciones por tema\",\"formatter\":{\"id\":\"1259\"},\"ticker\":{\"id\":\"1214\"}},\"id\":\"1213\",\"type\":\"LinearAxis\"},{\"attributes\":{},\"id\":\"1222\",\"type\":\"WheelZoomTool\"},{\"attributes\":{},\"id\":\"1261\",\"type\":\"BasicTickFormatter\"},{\"attributes\":{\"fill_alpha\":{\"value\":0.1},\"fill_color\":{\"value\":\"#1f77b4\"},\"line_alpha\":{\"value\":0.1},\"line_color\":{\"value\":\"#1f77b4\"},\"top\":{\"field\":\"top\"},\"width\":{\"value\":0.020119756022167937},\"x\":{\"field\":\"x\"}},\"id\":\"1237\",\"type\":\"VBar\"},{\"attributes\":{},\"id\":\"1263\",\"type\":\"Selection\"},{\"attributes\":{},\"id\":\"1214\",\"type\":\"BasicTicker\"},{\"attributes\":{\"data\":{\"top\":[2256,0,0,0,0,0,0,0,0,0,0,0,0,1247,0,0,0,0,0,0,0,840,0,0,0,0,621,0,0,0,0,461,0,0,387,0,0,277,0,0,211,0,194,0,140,0,128,0,106,88,0,75,63,51,0,37,40,32,26,28,29,18,12,14,29,13,18,17,12,13,7,7,8,5,5,7,5,2,2,1,4,2,1,0,0,2,2,1,2,0,0,0,1,0,0,1,0,0,0,1],\"x\":{\"__ndarray__\":\"AAAAAAAAAABz9L++TeSWP3P0v75N5KY/VvcPTzorsT9z9L++TeS2P5Dxby5hnbw/VvcPTzorwT/l9ecGxAfEP3P0v75N5MY/AfOXdtfAyT+Q8W8uYZ3MPx7wR+bqec8/VvcPTzor0T+d9vsqf5nSP+X15wbEB9Q/LPXT4gh21T9z9L++TeTWP7rzq5qSUtg/AfOXdtfA2T9J8oNSHC/bP5Dxby5hndw/1/BbCqYL3j8e8Efm6nnfP7P3GeEXdOA/VvcPTzor4T/69gW9XOLhP532+yp/meI/QfbxmKFQ4z/l9ecGxAfkP4j13XTmvuQ/LPXT4gh25T/P9MlQKy3mP3P0v75N5OY/F/S1LHCb5z+686uaklLoP17zoQi1Cek/AfOXdtfA6T+l8o3k+XfqP0nyg1IcL+s/7PF5wD7m6z+Q8W8uYZ3sPzPxZZyDVO0/1/BbCqYL7j978FF4yMLuPx7wR+bqee8/4fceqoYY8D+z9xnhF3TwP4T3FBipz/A/VvcPTzor8T8o9wqGy4bxP/r2Bb1c4vE/zPYA9O098j+d9vsqf5nyP2/29mEQ9fI/QfbxmKFQ8z8T9uzPMqzzP+X15wbEB/Q/tvXiPVVj9D+I9d105r70P1r12Kt3GvU/LPXT4gh29T/+9M4ZmtH1P8/0yVArLfY/ofTEh7yI9j9z9L++TeT2P0X0uvXeP/c/F/S1LHCb9z/o87BjAff3P7rzq5qSUvg/jPOm0SOu+D9e86EItQn5PzDznD9GZfk/AfOXdtfA+T/T8pKtaBz6P6XyjeT5d/o/d/KIG4vT+j9J8oNSHC/7Pxryfomtivs/7PF5wD7m+z++8XT3z0H8P5Dxby5hnfw/YvFqZfL4/D8z8WWcg1T9PwXxYNMUsP0/1/BbCqYL/j+p8FZBN2f+P3vwUXjIwv4/TPBMr1ke/z8e8Efm6nn/P/DvQh181f8/4fceqoYYAEDKd5xFT0YAQLP3GeEXdABAnHeXfOChAECE9xQYqc8AQG13krNx/QBAVvcPTzorAUA/d43qAlkBQCj3CobLhgFAEXeIIZS0AUA=\",\"dtype\":\"float64\",\"shape\":[100]}},\"selected\":{\"id\":\"1263\"},\"selection_policy\":{\"id\":\"1264\"}},\"id\":\"1235\",\"type\":\"ColumnDataSource\"},{\"attributes\":{},\"id\":\"1207\",\"type\":\"DataRange1d\"},{\"attributes\":{},\"id\":\"1205\",\"type\":\"DataRange1d\"},{\"attributes\":{\"axis\":{\"id\":\"1213\"},\"ticker\":null},\"id\":\"1216\",\"type\":\"Grid\"}],\"root_ids\":[\"1202\"]},\"title\":\"Bokeh Application\",\"version\":\"2.0.1\"}};\n",
       "  var render_items = [{\"docid\":\"adba6971-8617-46c2-85f9-47c4a7f6dd97\",\"root_ids\":[\"1202\"],\"roots\":{\"1202\":\"c0cee7ed-8697-418f-97a9-1108dff23a7d\"}}];\n",
       "  root.Bokeh.embed.embed_items_notebook(docs_json, render_items);\n",
       "\n",
       "  }\n",
       "  if (root.Bokeh !== undefined) {\n",
       "    embed_document(root);\n",
       "  } else {\n",
       "    var attempts = 0;\n",
       "    var timer = setInterval(function(root) {\n",
       "      if (root.Bokeh !== undefined) {\n",
       "        clearInterval(timer);\n",
       "        embed_document(root);\n",
       "      } else {\n",
       "        attempts++;\n",
       "        if (attempts > 100) {\n",
       "          clearInterval(timer);\n",
       "          console.log(\"Bokeh: ERROR: Unable to run BokehJS code because BokehJS library is missing\");\n",
       "        }\n",
       "      }\n",
       "    }, 10, root)\n",
       "  }\n",
       "})(window);"
      ],
      "application/vnd.bokehjs_exec.v0+json": ""
     },
     "metadata": {
      "application/vnd.bokehjs_exec.v0+json": {
       "id": "1202"
      }
     },
     "output_type": "display_data"
    }
   ],
   "source": [
    "bpl.show(p)"
   ]
  },
  {
   "cell_type": "code",
   "execution_count": 82,
   "metadata": {},
   "outputs": [],
   "source": [
    "temas = data_plot.groupby(\"idTema\").size().sort_values(ascending=False).index"
   ]
  },
  {
   "cell_type": "code",
   "execution_count": 83,
   "metadata": {},
   "outputs": [],
   "source": [
    "tema = temas[0]\n",
    "temdata = data_plot[data_plot[\"idTema\"]==tema]\n",
    "temdata_f = data_plot_f[data_plot_f[\"idTema\"]==tema]"
   ]
  },
  {
   "cell_type": "code",
   "execution_count": 84,
   "metadata": {},
   "outputs": [],
   "source": [
    "stema = temdata_f.sort_values(\"Alcance_estimado\",ascending=False)"
   ]
  },
  {
   "cell_type": "code",
   "execution_count": 85,
   "metadata": {},
   "outputs": [
    {
     "data": {
      "text/plain": [
       "Int64Index([63519, 63529, 62762, 63531, 63597, 63343, 62812, 63231, 62777,\n",
       "            63285,\n",
       "            ...\n",
       "            63526, 63513, 63505, 63191, 62804, 63183, 62998, 63556, 63568,\n",
       "            62805],\n",
       "           dtype='int64', length=161)"
      ]
     },
     "execution_count": 85,
     "metadata": {},
     "output_type": "execute_result"
    }
   ],
   "source": [
    "stema.index"
   ]
  },
  {
   "cell_type": "code",
   "execution_count": 86,
   "metadata": {},
   "outputs": [
    {
     "data": {
      "text/plain": [
       "412458.69613652944"
      ]
     },
     "execution_count": 86,
     "metadata": {},
     "output_type": "execute_result"
    }
   ],
   "source": [
    "stema[\"Alcance_estimado\"].max()"
   ]
  },
  {
   "cell_type": "code",
   "execution_count": 87,
   "metadata": {},
   "outputs": [],
   "source": [
    "def alcance_extra(serie,atope):\n",
    "    nserie = serie.apply(lambda x: min(x,atope))\n",
    "    serie_s = nserie.sort_values(ascending=False)\n",
    "    index = serie_s.index\n",
    "    a_max  = min(atope,serie_s.max())\n",
    "    r = (atope - a_max)/atope\n",
    "    rango = pd.Series(pd.RangeIndex(0,len(serie_s)),index=index)\n",
    "    mults = np.power(r,rango)\n",
    "    return (serie_s*mults).sum()-a_max"
   ]
  },
  {
   "cell_type": "code",
   "execution_count": 88,
   "metadata": {},
   "outputs": [
    {
     "data": {
      "text/plain": [
       "0.0"
      ]
     },
     "execution_count": 88,
     "metadata": {},
     "output_type": "execute_result"
    }
   ],
   "source": [
    "alcance_extra(pd.Series([10,5]),5)"
   ]
  },
  {
   "cell_type": "code",
   "execution_count": 89,
   "metadata": {},
   "outputs": [],
   "source": [
    "grupos = data_plot.groupby([\"idTema\",\"nombre_T\"])"
   ]
  },
  {
   "cell_type": "code",
   "execution_count": 90,
   "metadata": {},
   "outputs": [],
   "source": [
    "alcmaxb = alcmax\n",
    "por_tema = grupos.apply(lambda x: alcance_extra(x[\"Alcance_est_top\"],alcmaxb)).to_frame(\"Alcance_extra\")"
   ]
  },
  {
   "cell_type": "code",
   "execution_count": 91,
   "metadata": {},
   "outputs": [],
   "source": [
    "por_tema[\"Alcance_maximo\"] = grupos[\"Alcance_estimado\"].max()\n",
    "por_tema[\"Alcance_max_top\"] = grupos[\"Alcance_est_top\"].max()\n",
    "por_tema[\"Alcance_suma\"] = por_tema[\"Alcance_max_top\"] + por_tema[\"Alcance_extra\"]\n",
    "por_tema[\"Alcance_promedio\"] = grupos[\"Alcance_estimado\"].mean()\n",
    "por_tema[\"Alcance_prom_top\"] = grupos[\"Alcance_est_top\"].mean()\n",
    "por_tema[\"Publicaciones\"] = grupos[\"Alcance_estimado\"].size()"
   ]
  },
  {
   "cell_type": "code",
   "execution_count": 92,
   "metadata": {},
   "outputs": [
    {
     "data": {
      "text/html": [
       "<div>\n",
       "<style scoped>\n",
       "    .dataframe tbody tr th:only-of-type {\n",
       "        vertical-align: middle;\n",
       "    }\n",
       "\n",
       "    .dataframe tbody tr th {\n",
       "        vertical-align: top;\n",
       "    }\n",
       "\n",
       "    .dataframe thead th {\n",
       "        text-align: right;\n",
       "    }\n",
       "</style>\n",
       "<table border=\"1\" class=\"dataframe\">\n",
       "  <thead>\n",
       "    <tr style=\"text-align: right;\">\n",
       "      <th></th>\n",
       "      <th></th>\n",
       "      <th>Alcance_extra</th>\n",
       "      <th>Alcance_maximo</th>\n",
       "      <th>Alcance_max_top</th>\n",
       "      <th>Alcance_suma</th>\n",
       "      <th>Alcance_promedio</th>\n",
       "      <th>Alcance_prom_top</th>\n",
       "      <th>Publicaciones</th>\n",
       "    </tr>\n",
       "    <tr>\n",
       "      <th>idTema</th>\n",
       "      <th>nombre_T</th>\n",
       "      <th></th>\n",
       "      <th></th>\n",
       "      <th></th>\n",
       "      <th></th>\n",
       "      <th></th>\n",
       "      <th></th>\n",
       "      <th></th>\n",
       "    </tr>\n",
       "  </thead>\n",
       "  <tbody>\n",
       "    <tr>\n",
       "      <th>2693</th>\n",
       "      <th>Balacera Artz Pedregal, mueren 2 criminales israelíes, detienen a 1 mujer y cómplices escapan</th>\n",
       "      <td>2.639382e+06</td>\n",
       "      <td>4.124587e+05</td>\n",
       "      <td>4.124587e+05</td>\n",
       "      <td>3.051841e+06</td>\n",
       "      <td>42455.953247</td>\n",
       "      <td>42455.953247</td>\n",
       "      <td>172</td>\n",
       "    </tr>\n",
       "    <tr>\n",
       "      <th>827</th>\n",
       "      <th>Localizan el cuerpo de Norberto Ronquillo en Xochimilco</th>\n",
       "      <td>2.913194e+06</td>\n",
       "      <td>3.328631e+06</td>\n",
       "      <td>3.328631e+06</td>\n",
       "      <td>6.241825e+06</td>\n",
       "      <td>221040.505772</td>\n",
       "      <td>221040.505772</td>\n",
       "      <td>134</td>\n",
       "    </tr>\n",
       "    <tr>\n",
       "      <th>12023</th>\n",
       "      <th>CS anuncia detención de presuntos feminicidas de la niña Fátima en Edomex</th>\n",
       "      <td>1.551265e+06</td>\n",
       "      <td>5.153809e+06</td>\n",
       "      <td>5.153809e+06</td>\n",
       "      <td>6.705075e+06</td>\n",
       "      <td>243614.963995</td>\n",
       "      <td>243614.963995</td>\n",
       "      <td>115</td>\n",
       "    </tr>\n",
       "    <tr>\n",
       "      <th>8705</th>\n",
       "      <th>Marcha \"Ni una menos\" y vandalismo por día Internacional contra la violencia de género</th>\n",
       "      <td>2.196659e+06</td>\n",
       "      <td>4.749171e+06</td>\n",
       "      <td>4.749171e+06</td>\n",
       "      <td>6.945830e+06</td>\n",
       "      <td>263479.238026</td>\n",
       "      <td>263479.238026</td>\n",
       "      <td>94</td>\n",
       "    </tr>\n",
       "    <tr>\n",
       "      <th>12934</th>\n",
       "      <th>Choque de dos trenes en Metro Tacubaya deja como saldo 1 muerto y 41 heridos</th>\n",
       "      <td>2.901323e+06</td>\n",
       "      <td>2.588044e+06</td>\n",
       "      <td>2.588044e+06</td>\n",
       "      <td>5.489367e+06</td>\n",
       "      <td>196780.360864</td>\n",
       "      <td>196780.360864</td>\n",
       "      <td>93</td>\n",
       "    </tr>\n",
       "    <tr>\n",
       "      <th>...</th>\n",
       "      <th>...</th>\n",
       "      <td>...</td>\n",
       "      <td>...</td>\n",
       "      <td>...</td>\n",
       "      <td>...</td>\n",
       "      <td>...</td>\n",
       "      <td>...</td>\n",
       "      <td>...</td>\n",
       "    </tr>\n",
       "    <tr>\n",
       "      <th>15034</th>\n",
       "      <th>Sujeto asalta tienda ubicada en Lomas Hidalgo, Tlalpan</th>\n",
       "      <td>0.000000e+00</td>\n",
       "      <td>1.489227e+02</td>\n",
       "      <td>1.489227e+02</td>\n",
       "      <td>1.489227e+02</td>\n",
       "      <td>148.922718</td>\n",
       "      <td>148.922718</td>\n",
       "      <td>1</td>\n",
       "    </tr>\n",
       "    <tr>\n",
       "      <th>1893</th>\n",
       "      <th>Cuentahabiente herido tras asalto en Barranca del Muerto, ÁO</th>\n",
       "      <td>0.000000e+00</td>\n",
       "      <td>1.327562e+02</td>\n",
       "      <td>1.327562e+02</td>\n",
       "      <td>1.327562e+02</td>\n",
       "      <td>132.756186</td>\n",
       "      <td>132.756186</td>\n",
       "      <td>1</td>\n",
       "    </tr>\n",
       "    <tr>\n",
       "      <th>10563</th>\n",
       "      <th>Propietarios de negocios en la BJ denuncian extorsiones de grupo sindical llamada Plácido Mendoza</th>\n",
       "      <td>0.000000e+00</td>\n",
       "      <td>1.327562e+02</td>\n",
       "      <td>1.327562e+02</td>\n",
       "      <td>1.327562e+02</td>\n",
       "      <td>132.756186</td>\n",
       "      <td>132.756186</td>\n",
       "      <td>1</td>\n",
       "    </tr>\n",
       "    <tr>\n",
       "      <th>10647</th>\n",
       "      <th>La banda de \"Los Centenarios\" dedicada al robo a cuentahabiente opera en la BJ</th>\n",
       "      <td>0.000000e+00</td>\n",
       "      <td>1.327562e+02</td>\n",
       "      <td>1.327562e+02</td>\n",
       "      <td>1.327562e+02</td>\n",
       "      <td>132.756186</td>\n",
       "      <td>132.756186</td>\n",
       "      <td>1</td>\n",
       "    </tr>\n",
       "    <tr>\n",
       "      <th>11792</th>\n",
       "      <th>Mujer muere atropellada por amión en col. Lomas de Chapultepec; conductor se dio a la fuga</th>\n",
       "      <td>0.000000e+00</td>\n",
       "      <td>1.327562e+02</td>\n",
       "      <td>1.327562e+02</td>\n",
       "      <td>1.327562e+02</td>\n",
       "      <td>132.756186</td>\n",
       "      <td>132.756186</td>\n",
       "      <td>1</td>\n",
       "    </tr>\n",
       "  </tbody>\n",
       "</table>\n",
       "<p>7549 rows × 7 columns</p>\n",
       "</div>"
      ],
      "text/plain": [
       "                                                           Alcance_extra  \\\n",
       "idTema nombre_T                                                            \n",
       "2693   Balacera Artz Pedregal, mueren 2 criminales isr...   2.639382e+06   \n",
       "827    Localizan el cuerpo de Norberto Ronquillo en Xo...   2.913194e+06   \n",
       "12023  CS anuncia detención de presuntos feminicidas d...   1.551265e+06   \n",
       "8705   Marcha \"Ni una menos\" y vandalismo por día Inte...   2.196659e+06   \n",
       "12934  Choque de dos trenes en Metro Tacubaya deja com...   2.901323e+06   \n",
       "...                                                                  ...   \n",
       "15034  Sujeto asalta tienda ubicada en Lomas Hidalgo, ...   0.000000e+00   \n",
       "1893   Cuentahabiente herido tras asalto en Barranca d...   0.000000e+00   \n",
       "10563  Propietarios de negocios en la BJ denuncian ext...   0.000000e+00   \n",
       "10647  La banda de \"Los Centenarios\" dedicada al robo ...   0.000000e+00   \n",
       "11792  Mujer muere atropellada por amión en col. Lomas...   0.000000e+00   \n",
       "\n",
       "                                                           Alcance_maximo  \\\n",
       "idTema nombre_T                                                             \n",
       "2693   Balacera Artz Pedregal, mueren 2 criminales isr...    4.124587e+05   \n",
       "827    Localizan el cuerpo de Norberto Ronquillo en Xo...    3.328631e+06   \n",
       "12023  CS anuncia detención de presuntos feminicidas d...    5.153809e+06   \n",
       "8705   Marcha \"Ni una menos\" y vandalismo por día Inte...    4.749171e+06   \n",
       "12934  Choque de dos trenes en Metro Tacubaya deja com...    2.588044e+06   \n",
       "...                                                                   ...   \n",
       "15034  Sujeto asalta tienda ubicada en Lomas Hidalgo, ...    1.489227e+02   \n",
       "1893   Cuentahabiente herido tras asalto en Barranca d...    1.327562e+02   \n",
       "10563  Propietarios de negocios en la BJ denuncian ext...    1.327562e+02   \n",
       "10647  La banda de \"Los Centenarios\" dedicada al robo ...    1.327562e+02   \n",
       "11792  Mujer muere atropellada por amión en col. Lomas...    1.327562e+02   \n",
       "\n",
       "                                                           Alcance_max_top  \\\n",
       "idTema nombre_T                                                              \n",
       "2693   Balacera Artz Pedregal, mueren 2 criminales isr...     4.124587e+05   \n",
       "827    Localizan el cuerpo de Norberto Ronquillo en Xo...     3.328631e+06   \n",
       "12023  CS anuncia detención de presuntos feminicidas d...     5.153809e+06   \n",
       "8705   Marcha \"Ni una menos\" y vandalismo por día Inte...     4.749171e+06   \n",
       "12934  Choque de dos trenes en Metro Tacubaya deja com...     2.588044e+06   \n",
       "...                                                                    ...   \n",
       "15034  Sujeto asalta tienda ubicada en Lomas Hidalgo, ...     1.489227e+02   \n",
       "1893   Cuentahabiente herido tras asalto en Barranca d...     1.327562e+02   \n",
       "10563  Propietarios de negocios en la BJ denuncian ext...     1.327562e+02   \n",
       "10647  La banda de \"Los Centenarios\" dedicada al robo ...     1.327562e+02   \n",
       "11792  Mujer muere atropellada por amión en col. Lomas...     1.327562e+02   \n",
       "\n",
       "                                                           Alcance_suma  \\\n",
       "idTema nombre_T                                                           \n",
       "2693   Balacera Artz Pedregal, mueren 2 criminales isr...  3.051841e+06   \n",
       "827    Localizan el cuerpo de Norberto Ronquillo en Xo...  6.241825e+06   \n",
       "12023  CS anuncia detención de presuntos feminicidas d...  6.705075e+06   \n",
       "8705   Marcha \"Ni una menos\" y vandalismo por día Inte...  6.945830e+06   \n",
       "12934  Choque de dos trenes en Metro Tacubaya deja com...  5.489367e+06   \n",
       "...                                                                 ...   \n",
       "15034  Sujeto asalta tienda ubicada en Lomas Hidalgo, ...  1.489227e+02   \n",
       "1893   Cuentahabiente herido tras asalto en Barranca d...  1.327562e+02   \n",
       "10563  Propietarios de negocios en la BJ denuncian ext...  1.327562e+02   \n",
       "10647  La banda de \"Los Centenarios\" dedicada al robo ...  1.327562e+02   \n",
       "11792  Mujer muere atropellada por amión en col. Lomas...  1.327562e+02   \n",
       "\n",
       "                                                           Alcance_promedio  \\\n",
       "idTema nombre_T                                                               \n",
       "2693   Balacera Artz Pedregal, mueren 2 criminales isr...      42455.953247   \n",
       "827    Localizan el cuerpo de Norberto Ronquillo en Xo...     221040.505772   \n",
       "12023  CS anuncia detención de presuntos feminicidas d...     243614.963995   \n",
       "8705   Marcha \"Ni una menos\" y vandalismo por día Inte...     263479.238026   \n",
       "12934  Choque de dos trenes en Metro Tacubaya deja com...     196780.360864   \n",
       "...                                                                     ...   \n",
       "15034  Sujeto asalta tienda ubicada en Lomas Hidalgo, ...        148.922718   \n",
       "1893   Cuentahabiente herido tras asalto en Barranca d...        132.756186   \n",
       "10563  Propietarios de negocios en la BJ denuncian ext...        132.756186   \n",
       "10647  La banda de \"Los Centenarios\" dedicada al robo ...        132.756186   \n",
       "11792  Mujer muere atropellada por amión en col. Lomas...        132.756186   \n",
       "\n",
       "                                                           Alcance_prom_top  \\\n",
       "idTema nombre_T                                                               \n",
       "2693   Balacera Artz Pedregal, mueren 2 criminales isr...      42455.953247   \n",
       "827    Localizan el cuerpo de Norberto Ronquillo en Xo...     221040.505772   \n",
       "12023  CS anuncia detención de presuntos feminicidas d...     243614.963995   \n",
       "8705   Marcha \"Ni una menos\" y vandalismo por día Inte...     263479.238026   \n",
       "12934  Choque de dos trenes en Metro Tacubaya deja com...     196780.360864   \n",
       "...                                                                     ...   \n",
       "15034  Sujeto asalta tienda ubicada en Lomas Hidalgo, ...        148.922718   \n",
       "1893   Cuentahabiente herido tras asalto en Barranca d...        132.756186   \n",
       "10563  Propietarios de negocios en la BJ denuncian ext...        132.756186   \n",
       "10647  La banda de \"Los Centenarios\" dedicada al robo ...        132.756186   \n",
       "11792  Mujer muere atropellada por amión en col. Lomas...        132.756186   \n",
       "\n",
       "                                                           Publicaciones  \n",
       "idTema nombre_T                                                           \n",
       "2693   Balacera Artz Pedregal, mueren 2 criminales isr...            172  \n",
       "827    Localizan el cuerpo de Norberto Ronquillo en Xo...            134  \n",
       "12023  CS anuncia detención de presuntos feminicidas d...            115  \n",
       "8705   Marcha \"Ni una menos\" y vandalismo por día Inte...             94  \n",
       "12934  Choque de dos trenes en Metro Tacubaya deja com...             93  \n",
       "...                                                                  ...  \n",
       "15034  Sujeto asalta tienda ubicada en Lomas Hidalgo, ...              1  \n",
       "1893   Cuentahabiente herido tras asalto en Barranca d...              1  \n",
       "10563  Propietarios de negocios en la BJ denuncian ext...              1  \n",
       "10647  La banda de \"Los Centenarios\" dedicada al robo ...              1  \n",
       "11792  Mujer muere atropellada por amión en col. Lomas...              1  \n",
       "\n",
       "[7549 rows x 7 columns]"
      ]
     },
     "execution_count": 92,
     "metadata": {},
     "output_type": "execute_result"
    }
   ],
   "source": [
    "por_tema.sort_values([\"Publicaciones\",\"Alcance_suma\"],ascending=False)"
   ]
  },
  {
   "cell_type": "code",
   "execution_count": 93,
   "metadata": {},
   "outputs": [
    {
     "data": {
      "text/plain": [
       "<matplotlib.axes._subplots.AxesSubplot at 0x1f6b344aa48>"
      ]
     },
     "execution_count": 93,
     "metadata": {},
     "output_type": "execute_result"
    },
    {
     "data": {
      "image/png": "[encoded data removed]",
      "text/plain": [
       "<Figure size 432x288 with 1 Axes>"
      ]
     },
     "metadata": {
      "needs_background": "light"
     },
     "output_type": "display_data"
    }
   ],
   "source": [
    "np.log10(por_tema[\"Alcance_max_top\"]).plot.hist(bins=100)"
   ]
  },
  {
   "cell_type": "code",
   "execution_count": 94,
   "metadata": {},
   "outputs": [
    {
     "data": {
      "text/plain": [
       "<matplotlib.axes._subplots.AxesSubplot at 0x1f6b35e6c48>"
      ]
     },
     "execution_count": 94,
     "metadata": {},
     "output_type": "execute_result"
    },
    {
     "data": {
      "image/png": "[encoded data removed]",
      "text/plain": [
       "<Figure size 432x288 with 1 Axes>"
      ]
     },
     "metadata": {
      "needs_background": "light"
     },
     "output_type": "display_data"
    }
   ],
   "source": [
    "np.log10(por_tema[\"Alcance_suma\"]).plot.hist(bins=100)"
   ]
  },
  {
   "cell_type": "code",
   "execution_count": 95,
   "metadata": {},
   "outputs": [
    {
     "data": {
      "text/plain": [
       "<matplotlib.axes._subplots.AxesSubplot at 0x1f6b37718c8>"
      ]
     },
     "execution_count": 95,
     "metadata": {},
     "output_type": "execute_result"
    },
    {
     "data": {
      "image/png": "[encoded data removed]",
      "text/plain": [
       "<Figure size 432x288 with 1 Axes>"
      ]
     },
     "metadata": {
      "needs_background": "light"
     },
     "output_type": "display_data"
    }
   ],
   "source": [
    "np.log10(por_tema[\"Publicaciones\"]).plot.hist(bins=100)"
   ]
  },
  {
   "cell_type": "code",
   "execution_count": 96,
   "metadata": {},
   "outputs": [],
   "source": [
    "def scale(inp_domain,out_range,valor):\n",
    "    valor_estimado = ((out_range[1]-out_range[0])*(valor-inp_domain[0])/(inp_domain[1]-inp_domain[0])) + out_range[0]\n",
    "    return np.clip(valor_estimado,out_range[0],out_range[1])"
   ]
  },
  {
   "cell_type": "code",
   "execution_count": 97,
   "metadata": {},
   "outputs": [],
   "source": [
    "por_tema[\"Cal_alcance\"] = scale((0,np.log10(alcmax)),(0,50),np.log10(por_tema[\"Alcance_suma\"]))\n",
    "por_tema[\"Cal_publicaciones\"] = scale((0,np.log10(pubmax)),(0,50),np.log10(por_tema[\"Publicaciones\"]))\n",
    "por_tema[\"Calificacion\"] = por_tema[\"Cal_alcance\"] + por_tema[\"Cal_publicaciones\"]"
   ]
  },
  {
   "cell_type": "code",
   "execution_count": 98,
   "metadata": {},
   "outputs": [
    {
     "data": {
      "text/html": [
       "<div>\n",
       "<style scoped>\n",
       "    .dataframe tbody tr th:only-of-type {\n",
       "        vertical-align: middle;\n",
       "    }\n",
       "\n",
       "    .dataframe tbody tr th {\n",
       "        vertical-align: top;\n",
       "    }\n",
       "\n",
       "    .dataframe thead th {\n",
       "        text-align: right;\n",
       "    }\n",
       "</style>\n",
       "<table border=\"1\" class=\"dataframe\">\n",
       "  <thead>\n",
       "    <tr style=\"text-align: right;\">\n",
       "      <th></th>\n",
       "      <th></th>\n",
       "      <th>Alcance_max_top</th>\n",
       "      <th>Alcance_extra</th>\n",
       "      <th>Alcance_suma</th>\n",
       "      <th>Publicaciones</th>\n",
       "      <th>Cal_alcance</th>\n",
       "      <th>Cal_publicaciones</th>\n",
       "      <th>Calificacion</th>\n",
       "    </tr>\n",
       "    <tr>\n",
       "      <th>idTema</th>\n",
       "      <th>nombre_T</th>\n",
       "      <th></th>\n",
       "      <th></th>\n",
       "      <th></th>\n",
       "      <th></th>\n",
       "      <th></th>\n",
       "      <th></th>\n",
       "      <th></th>\n",
       "    </tr>\n",
       "  </thead>\n",
       "  <tbody>\n",
       "    <tr>\n",
       "      <th>2693</th>\n",
       "      <th>Balacera Artz Pedregal, mueren 2 criminales israelíes, detienen a 1 mujer y cómplices escapan</th>\n",
       "      <td>4.124587e+05</td>\n",
       "      <td>2.639382e+06</td>\n",
       "      <td>3.051841e+06</td>\n",
       "      <td>172</td>\n",
       "      <td>46.790084</td>\n",
       "      <td>48.576691</td>\n",
       "      <td>95.366775</td>\n",
       "    </tr>\n",
       "    <tr>\n",
       "      <th>827</th>\n",
       "      <th>Localizan el cuerpo de Norberto Ronquillo en Xochimilco</th>\n",
       "      <td>3.328631e+06</td>\n",
       "      <td>2.913194e+06</td>\n",
       "      <td>6.241825e+06</td>\n",
       "      <td>134</td>\n",
       "      <td>49.032334</td>\n",
       "      <td>46.220710</td>\n",
       "      <td>95.253044</td>\n",
       "    </tr>\n",
       "    <tr>\n",
       "      <th>12023</th>\n",
       "      <th>CS anuncia detención de presuntos feminicidas de la niña Fátima en Edomex</th>\n",
       "      <td>5.153809e+06</td>\n",
       "      <td>1.551265e+06</td>\n",
       "      <td>6.705075e+06</td>\n",
       "      <td>115</td>\n",
       "      <td>49.256681</td>\n",
       "      <td>44.777727</td>\n",
       "      <td>94.034408</td>\n",
       "    </tr>\n",
       "    <tr>\n",
       "      <th>8705</th>\n",
       "      <th>Marcha \"Ni una menos\" y vandalismo por día Internacional contra la violencia de género</th>\n",
       "      <td>4.749171e+06</td>\n",
       "      <td>2.196659e+06</td>\n",
       "      <td>6.945830e+06</td>\n",
       "      <td>94</td>\n",
       "      <td>49.367229</td>\n",
       "      <td>42.874883</td>\n",
       "      <td>92.242112</td>\n",
       "    </tr>\n",
       "    <tr>\n",
       "      <th>12934</th>\n",
       "      <th>Choque de dos trenes en Metro Tacubaya deja como saldo 1 muerto y 41 heridos</th>\n",
       "      <td>2.588044e+06</td>\n",
       "      <td>2.901323e+06</td>\n",
       "      <td>5.489367e+06</td>\n",
       "      <td>93</td>\n",
       "      <td>48.629779</td>\n",
       "      <td>42.773952</td>\n",
       "      <td>91.403732</td>\n",
       "    </tr>\n",
       "    <tr>\n",
       "      <th>...</th>\n",
       "      <th>...</th>\n",
       "      <td>...</td>\n",
       "      <td>...</td>\n",
       "      <td>...</td>\n",
       "      <td>...</td>\n",
       "      <td>...</td>\n",
       "      <td>...</td>\n",
       "      <td>...</td>\n",
       "    </tr>\n",
       "    <tr>\n",
       "      <th>15034</th>\n",
       "      <th>Sujeto asalta tienda ubicada en Lomas Hidalgo, Tlalpan</th>\n",
       "      <td>1.489227e+02</td>\n",
       "      <td>0.000000e+00</td>\n",
       "      <td>1.489227e+02</td>\n",
       "      <td>1</td>\n",
       "      <td>15.679244</td>\n",
       "      <td>0.000000</td>\n",
       "      <td>15.679244</td>\n",
       "    </tr>\n",
       "    <tr>\n",
       "      <th>1893</th>\n",
       "      <th>Cuentahabiente herido tras asalto en Barranca del Muerto, ÁO</th>\n",
       "      <td>1.327562e+02</td>\n",
       "      <td>0.000000e+00</td>\n",
       "      <td>1.327562e+02</td>\n",
       "      <td>1</td>\n",
       "      <td>15.319140</td>\n",
       "      <td>0.000000</td>\n",
       "      <td>15.319140</td>\n",
       "    </tr>\n",
       "    <tr>\n",
       "      <th>10563</th>\n",
       "      <th>Propietarios de negocios en la BJ denuncian extorsiones de grupo sindical llamada Plácido Mendoza</th>\n",
       "      <td>1.327562e+02</td>\n",
       "      <td>0.000000e+00</td>\n",
       "      <td>1.327562e+02</td>\n",
       "      <td>1</td>\n",
       "      <td>15.319140</td>\n",
       "      <td>0.000000</td>\n",
       "      <td>15.319140</td>\n",
       "    </tr>\n",
       "    <tr>\n",
       "      <th>10647</th>\n",
       "      <th>La banda de \"Los Centenarios\" dedicada al robo a cuentahabiente opera en la BJ</th>\n",
       "      <td>1.327562e+02</td>\n",
       "      <td>0.000000e+00</td>\n",
       "      <td>1.327562e+02</td>\n",
       "      <td>1</td>\n",
       "      <td>15.319140</td>\n",
       "      <td>0.000000</td>\n",
       "      <td>15.319140</td>\n",
       "    </tr>\n",
       "    <tr>\n",
       "      <th>11792</th>\n",
       "      <th>Mujer muere atropellada por amión en col. Lomas de Chapultepec; conductor se dio a la fuga</th>\n",
       "      <td>1.327562e+02</td>\n",
       "      <td>0.000000e+00</td>\n",
       "      <td>1.327562e+02</td>\n",
       "      <td>1</td>\n",
       "      <td>15.319140</td>\n",
       "      <td>0.000000</td>\n",
       "      <td>15.319140</td>\n",
       "    </tr>\n",
       "  </tbody>\n",
       "</table>\n",
       "<p>7549 rows × 7 columns</p>\n",
       "</div>"
      ],
      "text/plain": [
       "                                                           Alcance_max_top  \\\n",
       "idTema nombre_T                                                              \n",
       "2693   Balacera Artz Pedregal, mueren 2 criminales isr...     4.124587e+05   \n",
       "827    Localizan el cuerpo de Norberto Ronquillo en Xo...     3.328631e+06   \n",
       "12023  CS anuncia detención de presuntos feminicidas d...     5.153809e+06   \n",
       "8705   Marcha \"Ni una menos\" y vandalismo por día Inte...     4.749171e+06   \n",
       "12934  Choque de dos trenes en Metro Tacubaya deja com...     2.588044e+06   \n",
       "...                                                                    ...   \n",
       "15034  Sujeto asalta tienda ubicada en Lomas Hidalgo, ...     1.489227e+02   \n",
       "1893   Cuentahabiente herido tras asalto en Barranca d...     1.327562e+02   \n",
       "10563  Propietarios de negocios en la BJ denuncian ext...     1.327562e+02   \n",
       "10647  La banda de \"Los Centenarios\" dedicada al robo ...     1.327562e+02   \n",
       "11792  Mujer muere atropellada por amión en col. Lomas...     1.327562e+02   \n",
       "\n",
       "                                                           Alcance_extra  \\\n",
       "idTema nombre_T                                                            \n",
       "2693   Balacera Artz Pedregal, mueren 2 criminales isr...   2.639382e+06   \n",
       "827    Localizan el cuerpo de Norberto Ronquillo en Xo...   2.913194e+06   \n",
       "12023  CS anuncia detención de presuntos feminicidas d...   1.551265e+06   \n",
       "8705   Marcha \"Ni una menos\" y vandalismo por día Inte...   2.196659e+06   \n",
       "12934  Choque de dos trenes en Metro Tacubaya deja com...   2.901323e+06   \n",
       "...                                                                  ...   \n",
       "15034  Sujeto asalta tienda ubicada en Lomas Hidalgo, ...   0.000000e+00   \n",
       "1893   Cuentahabiente herido tras asalto en Barranca d...   0.000000e+00   \n",
       "10563  Propietarios de negocios en la BJ denuncian ext...   0.000000e+00   \n",
       "10647  La banda de \"Los Centenarios\" dedicada al robo ...   0.000000e+00   \n",
       "11792  Mujer muere atropellada por amión en col. Lomas...   0.000000e+00   \n",
       "\n",
       "                                                           Alcance_suma  \\\n",
       "idTema nombre_T                                                           \n",
       "2693   Balacera Artz Pedregal, mueren 2 criminales isr...  3.051841e+06   \n",
       "827    Localizan el cuerpo de Norberto Ronquillo en Xo...  6.241825e+06   \n",
       "12023  CS anuncia detención de presuntos feminicidas d...  6.705075e+06   \n",
       "8705   Marcha \"Ni una menos\" y vandalismo por día Inte...  6.945830e+06   \n",
       "12934  Choque de dos trenes en Metro Tacubaya deja com...  5.489367e+06   \n",
       "...                                                                 ...   \n",
       "15034  Sujeto asalta tienda ubicada en Lomas Hidalgo, ...  1.489227e+02   \n",
       "1893   Cuentahabiente herido tras asalto en Barranca d...  1.327562e+02   \n",
       "10563  Propietarios de negocios en la BJ denuncian ext...  1.327562e+02   \n",
       "10647  La banda de \"Los Centenarios\" dedicada al robo ...  1.327562e+02   \n",
       "11792  Mujer muere atropellada por amión en col. Lomas...  1.327562e+02   \n",
       "\n",
       "                                                           Publicaciones  \\\n",
       "idTema nombre_T                                                            \n",
       "2693   Balacera Artz Pedregal, mueren 2 criminales isr...            172   \n",
       "827    Localizan el cuerpo de Norberto Ronquillo en Xo...            134   \n",
       "12023  CS anuncia detención de presuntos feminicidas d...            115   \n",
       "8705   Marcha \"Ni una menos\" y vandalismo por día Inte...             94   \n",
       "12934  Choque de dos trenes en Metro Tacubaya deja com...             93   \n",
       "...                                                                  ...   \n",
       "15034  Sujeto asalta tienda ubicada en Lomas Hidalgo, ...              1   \n",
       "1893   Cuentahabiente herido tras asalto en Barranca d...              1   \n",
       "10563  Propietarios de negocios en la BJ denuncian ext...              1   \n",
       "10647  La banda de \"Los Centenarios\" dedicada al robo ...              1   \n",
       "11792  Mujer muere atropellada por amión en col. Lomas...              1   \n",
       "\n",
       "                                                           Cal_alcance  \\\n",
       "idTema nombre_T                                                          \n",
       "2693   Balacera Artz Pedregal, mueren 2 criminales isr...    46.790084   \n",
       "827    Localizan el cuerpo de Norberto Ronquillo en Xo...    49.032334   \n",
       "12023  CS anuncia detención de presuntos feminicidas d...    49.256681   \n",
       "8705   Marcha \"Ni una menos\" y vandalismo por día Inte...    49.367229   \n",
       "12934  Choque de dos trenes en Metro Tacubaya deja com...    48.629779   \n",
       "...                                                                ...   \n",
       "15034  Sujeto asalta tienda ubicada en Lomas Hidalgo, ...    15.679244   \n",
       "1893   Cuentahabiente herido tras asalto en Barranca d...    15.319140   \n",
       "10563  Propietarios de negocios en la BJ denuncian ext...    15.319140   \n",
       "10647  La banda de \"Los Centenarios\" dedicada al robo ...    15.319140   \n",
       "11792  Mujer muere atropellada por amión en col. Lomas...    15.319140   \n",
       "\n",
       "                                                           Cal_publicaciones  \\\n",
       "idTema nombre_T                                                                \n",
       "2693   Balacera Artz Pedregal, mueren 2 criminales isr...          48.576691   \n",
       "827    Localizan el cuerpo de Norberto Ronquillo en Xo...          46.220710   \n",
       "12023  CS anuncia detención de presuntos feminicidas d...          44.777727   \n",
       "8705   Marcha \"Ni una menos\" y vandalismo por día Inte...          42.874883   \n",
       "12934  Choque de dos trenes en Metro Tacubaya deja com...          42.773952   \n",
       "...                                                                      ...   \n",
       "15034  Sujeto asalta tienda ubicada en Lomas Hidalgo, ...           0.000000   \n",
       "1893   Cuentahabiente herido tras asalto en Barranca d...           0.000000   \n",
       "10563  Propietarios de negocios en la BJ denuncian ext...           0.000000   \n",
       "10647  La banda de \"Los Centenarios\" dedicada al robo ...           0.000000   \n",
       "11792  Mujer muere atropellada por amión en col. Lomas...           0.000000   \n",
       "\n",
       "                                                           Calificacion  \n",
       "idTema nombre_T                                                          \n",
       "2693   Balacera Artz Pedregal, mueren 2 criminales isr...     95.366775  \n",
       "827    Localizan el cuerpo de Norberto Ronquillo en Xo...     95.253044  \n",
       "12023  CS anuncia detención de presuntos feminicidas d...     94.034408  \n",
       "8705   Marcha \"Ni una menos\" y vandalismo por día Inte...     92.242112  \n",
       "12934  Choque de dos trenes en Metro Tacubaya deja com...     91.403732  \n",
       "...                                                                 ...  \n",
       "15034  Sujeto asalta tienda ubicada en Lomas Hidalgo, ...     15.679244  \n",
       "1893   Cuentahabiente herido tras asalto en Barranca d...     15.319140  \n",
       "10563  Propietarios de negocios en la BJ denuncian ext...     15.319140  \n",
       "10647  La banda de \"Los Centenarios\" dedicada al robo ...     15.319140  \n",
       "11792  Mujer muere atropellada por amión en col. Lomas...     15.319140  \n",
       "\n",
       "[7549 rows x 7 columns]"
      ]
     },
     "execution_count": 98,
     "metadata": {},
     "output_type": "execute_result"
    }
   ],
   "source": [
    "salida = por_tema[[\"Alcance_max_top\",\"Alcance_extra\",\"Alcance_suma\",\"Publicaciones\",\"Cal_alcance\",\"Cal_publicaciones\",\"Calificacion\"]]\n",
    "salida.sort_values([\"Calificacion\",\"Alcance_suma\"],ascending=False).to_csv(\"../data/procesados/vir_\" + cadmod + \"_50_50.csv\")\n",
    "salida.sort_values([\"Calificacion\",\"Alcance_suma\"],ascending=False)"
   ]
  },
  {
   "cell_type": "code",
   "execution_count": 99,
   "metadata": {},
   "outputs": [
    {
     "data": {
      "text/plain": [
       "<matplotlib.axes._subplots.AxesSubplot at 0x1f6b38d2848>"
      ]
     },
     "execution_count": 99,
     "metadata": {},
     "output_type": "execute_result"
    },
    {
     "data": {
      "image/png": "[encoded data removed]",
      "text/plain": [
       "<Figure size 432x288 with 1 Axes>"
      ]
     },
     "metadata": {
      "needs_background": "light"
     },
     "output_type": "display_data"
    }
   ],
   "source": [
    "salida[\"Cal_alcance\"].plot.hist(bins=100)"
   ]
  },
  {
   "cell_type": "code",
   "execution_count": 100,
   "metadata": {},
   "outputs": [
    {
     "data": {
      "text/plain": [
       "<matplotlib.axes._subplots.AxesSubplot at 0x1f6b3a91788>"
      ]
     },
     "execution_count": 100,
     "metadata": {},
     "output_type": "execute_result"
    },
    {
     "data": {
      "image/png": "[encoded data removed]",
      "text/plain": [
       "<Figure size 432x288 with 1 Axes>"
      ]
     },
     "metadata": {
      "needs_background": "light"
     },
     "output_type": "display_data"
    }
   ],
   "source": [
    "salida[\"Cal_publicaciones\"].plot.hist(bins=100)"
   ]
  },
  {
   "cell_type": "code",
   "execution_count": 101,
   "metadata": {},
   "outputs": [
    {
     "data": {
      "text/plain": [
       "<matplotlib.axes._subplots.AxesSubplot at 0x1f6b3bfd0c8>"
      ]
     },
     "execution_count": 101,
     "metadata": {},
     "output_type": "execute_result"
    },
    {
     "data": {
      "image/png": "[encoded data removed]",
      "text/plain": [
       "<Figure size 432x288 with 1 Axes>"
      ]
     },
     "metadata": {
      "needs_background": "light"
     },
     "output_type": "display_data"
    }
   ],
   "source": [
    "salida[\"Calificacion\"].plot.hist(bins=100)"
   ]
  },
  {
   "cell_type": "code",
   "execution_count": 102,
   "metadata": {},
   "outputs": [],
   "source": [
    "histdata = np.histogram(salida[\"Calificacion\"],bins=100)\n",
    "colw = (histdata[1][1]-histdata[1][0])*0.9"
   ]
  },
  {
   "cell_type": "code",
   "execution_count": 103,
   "metadata": {},
   "outputs": [
    {
     "data": {
      "text/html": [
       "<div style=\"display: table;\"><div style=\"display: table-row;\"><div style=\"display: table-cell;\"><b title=\"bokeh.models.renderers.GlyphRenderer\">GlyphRenderer</b>(</div><div style=\"display: table-cell;\">id&nbsp;=&nbsp;'1350', <span id=\"1353\" style=\"cursor: pointer;\">&hellip;)</span></div></div><div class=\"1352\" style=\"display: none;\"><div style=\"display: table-cell;\"></div><div style=\"display: table-cell;\">data_source&nbsp;=&nbsp;ColumnDataSource(id='1347', ...),</div></div><div class=\"1352\" style=\"display: none;\"><div style=\"display: table-cell;\"></div><div style=\"display: table-cell;\">glyph&nbsp;=&nbsp;VBar(id='1348', ...),</div></div><div class=\"1352\" style=\"display: none;\"><div style=\"display: table-cell;\"></div><div style=\"display: table-cell;\">hover_glyph&nbsp;=&nbsp;None,</div></div><div class=\"1352\" style=\"display: none;\"><div style=\"display: table-cell;\"></div><div style=\"display: table-cell;\">js_event_callbacks&nbsp;=&nbsp;{},</div></div><div class=\"1352\" style=\"display: none;\"><div style=\"display: table-cell;\"></div><div style=\"display: table-cell;\">js_property_callbacks&nbsp;=&nbsp;{},</div></div><div class=\"1352\" style=\"display: none;\"><div style=\"display: table-cell;\"></div><div style=\"display: table-cell;\">level&nbsp;=&nbsp;'glyph',</div></div><div class=\"1352\" style=\"display: none;\"><div style=\"display: table-cell;\"></div><div style=\"display: table-cell;\">muted&nbsp;=&nbsp;False,</div></div><div class=\"1352\" style=\"display: none;\"><div style=\"display: table-cell;\"></div><div style=\"display: table-cell;\">muted_glyph&nbsp;=&nbsp;None,</div></div><div class=\"1352\" style=\"display: none;\"><div style=\"display: table-cell;\"></div><div style=\"display: table-cell;\">name&nbsp;=&nbsp;None,</div></div><div class=\"1352\" style=\"display: none;\"><div style=\"display: table-cell;\"></div><div style=\"display: table-cell;\">nonselection_glyph&nbsp;=&nbsp;VBar(id='1349', ...),</div></div><div class=\"1352\" style=\"display: none;\"><div style=\"display: table-cell;\"></div><div style=\"display: table-cell;\">selection_glyph&nbsp;=&nbsp;None,</div></div><div class=\"1352\" style=\"display: none;\"><div style=\"display: table-cell;\"></div><div style=\"display: table-cell;\">subscribed_events&nbsp;=&nbsp;[],</div></div><div class=\"1352\" style=\"display: none;\"><div style=\"display: table-cell;\"></div><div style=\"display: table-cell;\">tags&nbsp;=&nbsp;[],</div></div><div class=\"1352\" style=\"display: none;\"><div style=\"display: table-cell;\"></div><div style=\"display: table-cell;\">view&nbsp;=&nbsp;CDSView(id='1351', ...),</div></div><div class=\"1352\" style=\"display: none;\"><div style=\"display: table-cell;\"></div><div style=\"display: table-cell;\">visible&nbsp;=&nbsp;True,</div></div><div class=\"1352\" style=\"display: none;\"><div style=\"display: table-cell;\"></div><div style=\"display: table-cell;\">x_range_name&nbsp;=&nbsp;'default',</div></div><div class=\"1352\" style=\"display: none;\"><div style=\"display: table-cell;\"></div><div style=\"display: table-cell;\">y_range_name&nbsp;=&nbsp;'default')</div></div></div>\n",
       "<script>\n",
       "(function() {\n",
       "  var expanded = false;\n",
       "  var ellipsis = document.getElementById(\"1353\");\n",
       "  ellipsis.addEventListener(\"click\", function() {\n",
       "    var rows = document.getElementsByClassName(\"1352\");\n",
       "    for (var i = 0; i < rows.length; i++) {\n",
       "      var el = rows[i];\n",
       "      el.style.display = expanded ? \"none\" : \"table-row\";\n",
       "    }\n",
       "    ellipsis.innerHTML = expanded ? \"&hellip;)\" : \"&lsaquo;&lsaquo;&lsaquo;\";\n",
       "    expanded = !expanded;\n",
       "  });\n",
       "})();\n",
       "</script>\n"
      ],
      "text/plain": [
       "GlyphRenderer(id='1350', ...)"
      ]
     },
     "execution_count": 103,
     "metadata": {},
     "output_type": "execute_result"
    }
   ],
   "source": [
    "p = bpl.figure(plot_width=1000,plot_height=400,title=\"Histograma de calificaciones, CDMX\",toolbar_location=None)\n",
    "p.vbar(x=histdata[1][:-1],bottom=0,top=histdata[0],width=colw)"
   ]
  },
  {
   "cell_type": "code",
   "execution_count": 104,
   "metadata": {},
   "outputs": [],
   "source": [
    "p.yaxis.axis_label = \"Temas\"\n",
    "p.xaxis.axis_label = \"Calificación\""
   ]
  },
  {
   "cell_type": "code",
   "execution_count": 105,
   "metadata": {},
   "outputs": [
    {
     "data": {
      "text/html": [
       "\n",
       "\n",
       "\n",
       "\n",
       "\n",
       "\n",
       "  <div class=\"bk-root\" id=\"9589f157-ae82-433b-ab18-f171515a341d\" data-root-id=\"1314\"></div>\n"
      ]
     },
     "metadata": {},
     "output_type": "display_data"
    },
    {
     "data": {
      "application/javascript": [
       "(function(root) {\n",
       "  function embed_document(root) {\n",
       "    \n",
       "  var docs_json = {\"94f4b620-32c2-413e-9570-59506a794906\":{\"roots\":{\"references\":[{\"attributes\":{\"below\":[{\"id\":\"1325\"}],\"center\":[{\"id\":\"1328\"},{\"id\":\"1332\"}],\"left\":[{\"id\":\"1329\"}],\"plot_height\":400,\"plot_width\":1000,\"renderers\":[{\"id\":\"1350\"}],\"title\":{\"id\":\"1315\"},\"toolbar\":{\"id\":\"1340\"},\"toolbar_location\":null,\"x_range\":{\"id\":\"1317\"},\"x_scale\":{\"id\":\"1321\"},\"y_range\":{\"id\":\"1319\"},\"y_scale\":{\"id\":\"1323\"}},\"id\":\"1314\",\"subtype\":\"Figure\",\"type\":\"Plot\"},{\"attributes\":{},\"id\":\"1319\",\"type\":\"DataRange1d\"},{\"attributes\":{},\"id\":\"1383\",\"type\":\"Selection\"},{\"attributes\":{\"text\":\"Histograma de calificaciones, CDMX\"},\"id\":\"1315\",\"type\":\"Title\"},{\"attributes\":{},\"id\":\"1379\",\"type\":\"BasicTickFormatter\"},{\"attributes\":{\"axis_label\":\"Temas\",\"formatter\":{\"id\":\"1381\"},\"ticker\":{\"id\":\"1330\"}},\"id\":\"1329\",\"type\":\"LinearAxis\"},{\"attributes\":{},\"id\":\"1321\",\"type\":\"LinearScale\"},{\"attributes\":{\"fill_alpha\":{\"value\":0.1},\"fill_color\":{\"value\":\"#1f77b4\"},\"line_alpha\":{\"value\":0.1},\"line_color\":{\"value\":\"#1f77b4\"},\"top\":{\"field\":\"top\"},\"width\":{\"value\":0.7204287117794916},\"x\":{\"field\":\"x\"}},\"id\":\"1349\",\"type\":\"VBar\"},{\"attributes\":{\"data_source\":{\"id\":\"1347\"},\"glyph\":{\"id\":\"1348\"},\"hover_glyph\":null,\"muted_glyph\":null,\"nonselection_glyph\":{\"id\":\"1349\"},\"selection_glyph\":null,\"view\":{\"id\":\"1351\"}},\"id\":\"1350\",\"type\":\"GlyphRenderer\"},{\"attributes\":{\"axis\":{\"id\":\"1325\"},\"ticker\":null},\"id\":\"1328\",\"type\":\"Grid\"},{\"attributes\":{},\"id\":\"1381\",\"type\":\"BasicTickFormatter\"},{\"attributes\":{\"data\":{\"top\":[97,21,55,13,30,7,24,21,52,63,116,108,124,112,107,108,147,169,153,185,156,144,125,125,119,106,133,133,163,160,142,136,155,142,141,133,141,157,136,123,126,141,125,149,126,126,122,143,127,112,110,112,111,95,85,99,82,96,75,85,71,65,52,61,57,57,56,39,42,23,32,34,32,27,26,17,15,14,15,12,14,10,6,6,5,3,5,6,4,4,1,2,0,1,1,1,1,0,1,2],\"x\":{\"__ndarray__\":\"djpdUGajLkB+t78snx4wQMHRUDGL6zBABOzhNXe4MUBHBnM6Y4UyQIogBD9PUjNAzTqVQzsfNEAQVSZIJ+w0QFNvt0wTuTVAlolIUf+FNkDYo9lV61I3QBy+alrXHzhAXtj7XsPsOECi8oxjr7k5QOQMHmibhjpAKCevbIdTO0BqQUBxcyA8QK5b0XVf7TxA8HVieku6PUA0kPN+N4c+QHaqhIMjVD9AXOIKxIcQQEB+b1PG/XZAQKD8m8hz3UBAwYnkyulDQUDiFi3NX6pBQASkdc/VEEJAJjG+0Ut3QkBHvgbUwd1CQGhLT9Y3RENAitiX2K2qQ0CsZeDaIxFEQM3yKN2Zd0RA7n9x3w/eREAQDbrhhURFQDKaAuT7qkVAUydL5nERRkB0tJPo53dGQJZB3Opd3kZAuM4k7dNER0DYW23vSatHQProtfG/EUhAHHb+8zV4SEA+A0f2q95IQF6Qj/ghRUlAgB3Y+perSUCiqiD9DRJKQMQ3af+DeEpA5MSxAfreSkAGUvoDcEVLQCjfQgbmq0tASmyLCFwSTEBq+dMK0nhMQIyGHA1I30xArhNlD75FTUDQoK0RNKxNQPAt9hOqEk5AErs+FiB5TkA0SIcYlt9OQFbVzxoMRk9AdmIYHYKsT0DMd7APfAlQQF2+1BC3PFBA7gT5EfJvUEB+Sx0TLaNQQA+SQRRo1lBAoNhlFaMJUUAwH4oW3jxRQMFlrhcZcFFAUqzSGFSjUUDj8vYZj9ZRQHM5GxvKCVJABIA/HAU9UkCVxmMdQHBSQCYNiB57o1JAtlOsH7bWUkBHmtAg8QlTQNjg9CEsPVNAaScZI2dwU0D5bT0koqNTQIq0YSXd1lNAG/uFJhgKVECsQaonUz1UQD2IziiOcFRAzc7yKcmjVEBeFRcrBNdUQO9bOyw/ClVAgKJfLXo9VUAQ6YMutXBVQKEvqC/wo1VAMnbMMCvXVUDDvPAxZgpWQFMDFTOhPVZA5Ek5NNxwVkB1kF01F6RWQAbXgTZS11ZAlh2mN40KV0AnZMo4yD1XQLiq7jkDcVdASPESOz6kV0A=\",\"dtype\":\"float64\",\"shape\":[100]}},\"selected\":{\"id\":\"1383\"},\"selection_policy\":{\"id\":\"1384\"}},\"id\":\"1347\",\"type\":\"ColumnDataSource\"},{\"attributes\":{\"axis\":{\"id\":\"1329\"},\"dimension\":1,\"ticker\":null},\"id\":\"1332\",\"type\":\"Grid\"},{\"attributes\":{\"overlay\":{\"id\":\"1339\"}},\"id\":\"1335\",\"type\":\"BoxZoomTool\"},{\"attributes\":{},\"id\":\"1333\",\"type\":\"PanTool\"},{\"attributes\":{\"source\":{\"id\":\"1347\"}},\"id\":\"1351\",\"type\":\"CDSView\"},{\"attributes\":{},\"id\":\"1330\",\"type\":\"BasicTicker\"},{\"attributes\":{\"bottom_units\":\"screen\",\"fill_alpha\":0.5,\"fill_color\":\"lightgrey\",\"left_units\":\"screen\",\"level\":\"overlay\",\"line_alpha\":1.0,\"line_color\":\"black\",\"line_dash\":[4,4],\"line_width\":2,\"render_mode\":\"css\",\"right_units\":\"screen\",\"top_units\":\"screen\"},\"id\":\"1339\",\"type\":\"BoxAnnotation\"},{\"attributes\":{\"axis_label\":\"Calificaci\\u00f3n\",\"formatter\":{\"id\":\"1379\"},\"ticker\":{\"id\":\"1326\"}},\"id\":\"1325\",\"type\":\"LinearAxis\"},{\"attributes\":{},\"id\":\"1323\",\"type\":\"LinearScale\"},{\"attributes\":{},\"id\":\"1337\",\"type\":\"ResetTool\"},{\"attributes\":{},\"id\":\"1326\",\"type\":\"BasicTicker\"},{\"attributes\":{},\"id\":\"1334\",\"type\":\"WheelZoomTool\"},{\"attributes\":{},\"id\":\"1338\",\"type\":\"HelpTool\"},{\"attributes\":{\"fill_color\":{\"value\":\"#1f77b4\"},\"line_color\":{\"value\":\"#1f77b4\"},\"top\":{\"field\":\"top\"},\"width\":{\"value\":0.7204287117794916},\"x\":{\"field\":\"x\"}},\"id\":\"1348\",\"type\":\"VBar\"},{\"attributes\":{\"active_drag\":\"auto\",\"active_inspect\":\"auto\",\"active_multi\":null,\"active_scroll\":\"auto\",\"active_tap\":\"auto\",\"tools\":[{\"id\":\"1333\"},{\"id\":\"1334\"},{\"id\":\"1335\"},{\"id\":\"1336\"},{\"id\":\"1337\"},{\"id\":\"1338\"}]},\"id\":\"1340\",\"type\":\"Toolbar\"},{\"attributes\":{},\"id\":\"1317\",\"type\":\"DataRange1d\"},{\"attributes\":{},\"id\":\"1336\",\"type\":\"SaveTool\"},{\"attributes\":{},\"id\":\"1384\",\"type\":\"UnionRenderers\"}],\"root_ids\":[\"1314\"]},\"title\":\"Bokeh Application\",\"version\":\"2.0.1\"}};\n",
       "  var render_items = [{\"docid\":\"94f4b620-32c2-413e-9570-59506a794906\",\"root_ids\":[\"1314\"],\"roots\":{\"1314\":\"9589f157-ae82-433b-ab18-f171515a341d\"}}];\n",
       "  root.Bokeh.embed.embed_items_notebook(docs_json, render_items);\n",
       "\n",
       "  }\n",
       "  if (root.Bokeh !== undefined) {\n",
       "    embed_document(root);\n",
       "  } else {\n",
       "    var attempts = 0;\n",
       "    var timer = setInterval(function(root) {\n",
       "      if (root.Bokeh !== undefined) {\n",
       "        clearInterval(timer);\n",
       "        embed_document(root);\n",
       "      } else {\n",
       "        attempts++;\n",
       "        if (attempts > 100) {\n",
       "          clearInterval(timer);\n",
       "          console.log(\"Bokeh: ERROR: Unable to run BokehJS code because BokehJS library is missing\");\n",
       "        }\n",
       "      }\n",
       "    }, 10, root)\n",
       "  }\n",
       "})(window);"
      ],
      "application/vnd.bokehjs_exec.v0+json": ""
     },
     "metadata": {
      "application/vnd.bokehjs_exec.v0+json": {
       "id": "1314"
      }
     },
     "output_type": "display_data"
    }
   ],
   "source": [
    "bpl.show(p)"
   ]
  },
  {
   "cell_type": "code",
   "execution_count": null,
   "metadata": {},
   "outputs": [],
   "source": []
  }
 ],
 "metadata": {
  "kernelspec": {
   "display_name": "Python 3",
   "language": "python",
   "name": "python3"
  },
  "language_info": {
   "codemirror_mode": {
    "name": "ipython",
    "version": 3
   },
   "file_extension": ".py",
   "mimetype": "text/x-python",
   "name": "python",
   "nbconvert_exporter": "python",
   "pygments_lexer": "ipython3",
   "version": "3.7.7"
  }
 },
 "nbformat": 4,
 "nbformat_minor": 4
}
