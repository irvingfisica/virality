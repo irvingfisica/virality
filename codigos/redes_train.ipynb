{
 "cells": [
  {
   "cell_type": "code",
   "execution_count": 1,
   "metadata": {},
   "outputs": [],
   "source": [
    "import pandas as pd\n",
    "import numpy as np\n",
    "from sklearn.model_selection import train_test_split\n",
    "from sklearn.preprocessing import FunctionTransformer\n",
    "from sklearn.preprocessing import MinMaxScaler\n",
    "import sklearn.metrics as skmet\n",
    "from sklearn.model_selection import cross_val_score\n",
    "from sklearn.model_selection import GridSearchCV\n",
    "from sklearn.neural_network import MLPRegressor"
   ]
  },
  {
   "cell_type": "code",
   "execution_count": 2,
   "metadata": {},
   "outputs": [],
   "source": [
    "data = pd.read_csv(\"../data/original/posts.csv\")"
   ]
  },
  {
   "cell_type": "code",
   "execution_count": 3,
   "metadata": {},
   "outputs": [],
   "source": [
    "metricas = ['likes', 'love', 'angry', 'wow', 'haha', 'sad', 'shares']"
   ]
  },
  {
   "cell_type": "code",
   "execution_count": 4,
   "metadata": {},
   "outputs": [],
   "source": [
    "data[\"reacciones\"] = data[metricas].sum(1)"
   ]
  },
  {
   "cell_type": "code",
   "execution_count": 5,
   "metadata": {},
   "outputs": [],
   "source": [
    "fdata=data[(data[\"scope\"]!=0)&(data[\"reacciones\"]>10)&(data[\"reacciones\"]<=data[\"scope\"])]"
   ]
  },
  {
   "cell_type": "code",
   "execution_count": 6,
   "metadata": {},
   "outputs": [
    {
     "data": {
      "text/plain": [
       "Index(['id', 'url', 'idPagina', 'nombrePagina', 'likesPagina', 'idPost',\n",
       "       'likes', 'love', 'angry', 'wow', 'haha', 'sad', 'shares', 'comments',\n",
       "       'impresions', 'scope', 'postDate', 'views', 'tipo', 'paidStatus',\n",
       "       'postNoPauta', 'reacciones'],\n",
       "      dtype='object')"
      ]
     },
     "execution_count": 6,
     "metadata": {},
     "output_type": "execute_result"
    }
   ],
   "source": [
    "fdata.columns"
   ]
  },
  {
   "cell_type": "code",
   "execution_count": 7,
   "metadata": {},
   "outputs": [],
   "source": [
    "mdata = fdata[metricas+[\"scope\",\"likesPagina\",\"tipo\"]]"
   ]
  },
  {
   "cell_type": "code",
   "execution_count": 8,
   "metadata": {},
   "outputs": [
    {
     "data": {
      "text/html": [
       "<div>\n",
       "<style scoped>\n",
       "    .dataframe tbody tr th:only-of-type {\n",
       "        vertical-align: middle;\n",
       "    }\n",
       "\n",
       "    .dataframe tbody tr th {\n",
       "        vertical-align: top;\n",
       "    }\n",
       "\n",
       "    .dataframe thead th {\n",
       "        text-align: right;\n",
       "    }\n",
       "</style>\n",
       "<table border=\"1\" class=\"dataframe\">\n",
       "  <thead>\n",
       "    <tr style=\"text-align: right;\">\n",
       "      <th></th>\n",
       "      <th>likes</th>\n",
       "      <th>love</th>\n",
       "      <th>angry</th>\n",
       "      <th>wow</th>\n",
       "      <th>haha</th>\n",
       "      <th>sad</th>\n",
       "      <th>shares</th>\n",
       "      <th>scope</th>\n",
       "      <th>likesPagina</th>\n",
       "      <th>tipo</th>\n",
       "    </tr>\n",
       "  </thead>\n",
       "  <tbody>\n",
       "    <tr>\n",
       "      <th>0</th>\n",
       "      <td>18</td>\n",
       "      <td>7</td>\n",
       "      <td>0</td>\n",
       "      <td>0</td>\n",
       "      <td>0</td>\n",
       "      <td>0</td>\n",
       "      <td>4</td>\n",
       "      <td>3660</td>\n",
       "      <td>604830</td>\n",
       "      <td>Post</td>\n",
       "    </tr>\n",
       "    <tr>\n",
       "      <th>1</th>\n",
       "      <td>526</td>\n",
       "      <td>117</td>\n",
       "      <td>189</td>\n",
       "      <td>15</td>\n",
       "      <td>51</td>\n",
       "      <td>8</td>\n",
       "      <td>107</td>\n",
       "      <td>77468</td>\n",
       "      <td>604830</td>\n",
       "      <td>Video</td>\n",
       "    </tr>\n",
       "    <tr>\n",
       "      <th>2</th>\n",
       "      <td>28</td>\n",
       "      <td>1</td>\n",
       "      <td>0</td>\n",
       "      <td>0</td>\n",
       "      <td>0</td>\n",
       "      <td>0</td>\n",
       "      <td>13</td>\n",
       "      <td>4399</td>\n",
       "      <td>604830</td>\n",
       "      <td>Video</td>\n",
       "    </tr>\n",
       "  </tbody>\n",
       "</table>\n",
       "</div>"
      ],
      "text/plain": [
       "   likes  love  angry  wow  haha  sad  shares  scope  likesPagina   tipo\n",
       "0     18     7      0    0     0    0       4   3660       604830   Post\n",
       "1    526   117    189   15    51    8     107  77468       604830  Video\n",
       "2     28     1      0    0     0    0      13   4399       604830  Video"
      ]
     },
     "execution_count": 8,
     "metadata": {},
     "output_type": "execute_result"
    }
   ],
   "source": [
    "mdata[:3]"
   ]
  },
  {
   "cell_type": "code",
   "execution_count": 9,
   "metadata": {},
   "outputs": [
    {
     "name": "stderr",
     "output_type": "stream",
     "text": [
      "D:\\Apps\\Anaconda\\lib\\site-packages\\ipykernel_launcher.py:1: SettingWithCopyWarning: \n",
      "A value is trying to be set on a copy of a slice from a DataFrame.\n",
      "Try using .loc[row_indexer,col_indexer] = value instead\n",
      "\n",
      "See the caveats in the documentation: https://pandas.pydata.org/pandas-docs/stable/user_guide/indexing.html#returning-a-view-versus-a-copy\n",
      "  \"\"\"Entry point for launching an IPython kernel.\n",
      "D:\\Apps\\Anaconda\\lib\\site-packages\\ipykernel_launcher.py:2: SettingWithCopyWarning: \n",
      "A value is trying to be set on a copy of a slice from a DataFrame.\n",
      "Try using .loc[row_indexer,col_indexer] = value instead\n",
      "\n",
      "See the caveats in the documentation: https://pandas.pydata.org/pandas-docs/stable/user_guide/indexing.html#returning-a-view-versus-a-copy\n",
      "  \n"
     ]
    }
   ],
   "source": [
    "mdata[\"Post\"] = mdata[\"tipo\"].replace({\"Post\":1,\"Video\":0})\n",
    "mdata[\"Video\"] = mdata[\"tipo\"].replace({\"Post\":0,\"Video\":1})"
   ]
  },
  {
   "cell_type": "code",
   "execution_count": 10,
   "metadata": {},
   "outputs": [
    {
     "data": {
      "text/html": [
       "<div>\n",
       "<style scoped>\n",
       "    .dataframe tbody tr th:only-of-type {\n",
       "        vertical-align: middle;\n",
       "    }\n",
       "\n",
       "    .dataframe tbody tr th {\n",
       "        vertical-align: top;\n",
       "    }\n",
       "\n",
       "    .dataframe thead th {\n",
       "        text-align: right;\n",
       "    }\n",
       "</style>\n",
       "<table border=\"1\" class=\"dataframe\">\n",
       "  <thead>\n",
       "    <tr style=\"text-align: right;\">\n",
       "      <th></th>\n",
       "      <th>likes</th>\n",
       "      <th>love</th>\n",
       "      <th>angry</th>\n",
       "      <th>wow</th>\n",
       "      <th>haha</th>\n",
       "      <th>sad</th>\n",
       "      <th>shares</th>\n",
       "      <th>scope</th>\n",
       "      <th>likesPagina</th>\n",
       "      <th>tipo</th>\n",
       "      <th>Post</th>\n",
       "      <th>Video</th>\n",
       "    </tr>\n",
       "  </thead>\n",
       "  <tbody>\n",
       "    <tr>\n",
       "      <th>0</th>\n",
       "      <td>18</td>\n",
       "      <td>7</td>\n",
       "      <td>0</td>\n",
       "      <td>0</td>\n",
       "      <td>0</td>\n",
       "      <td>0</td>\n",
       "      <td>4</td>\n",
       "      <td>3660</td>\n",
       "      <td>604830</td>\n",
       "      <td>Post</td>\n",
       "      <td>1</td>\n",
       "      <td>0</td>\n",
       "    </tr>\n",
       "    <tr>\n",
       "      <th>1</th>\n",
       "      <td>526</td>\n",
       "      <td>117</td>\n",
       "      <td>189</td>\n",
       "      <td>15</td>\n",
       "      <td>51</td>\n",
       "      <td>8</td>\n",
       "      <td>107</td>\n",
       "      <td>77468</td>\n",
       "      <td>604830</td>\n",
       "      <td>Video</td>\n",
       "      <td>0</td>\n",
       "      <td>1</td>\n",
       "    </tr>\n",
       "    <tr>\n",
       "      <th>2</th>\n",
       "      <td>28</td>\n",
       "      <td>1</td>\n",
       "      <td>0</td>\n",
       "      <td>0</td>\n",
       "      <td>0</td>\n",
       "      <td>0</td>\n",
       "      <td>13</td>\n",
       "      <td>4399</td>\n",
       "      <td>604830</td>\n",
       "      <td>Video</td>\n",
       "      <td>0</td>\n",
       "      <td>1</td>\n",
       "    </tr>\n",
       "  </tbody>\n",
       "</table>\n",
       "</div>"
      ],
      "text/plain": [
       "   likes  love  angry  wow  haha  sad  shares  scope  likesPagina   tipo  \\\n",
       "0     18     7      0    0     0    0       4   3660       604830   Post   \n",
       "1    526   117    189   15    51    8     107  77468       604830  Video   \n",
       "2     28     1      0    0     0    0      13   4399       604830  Video   \n",
       "\n",
       "   Post  Video  \n",
       "0     1      0  \n",
       "1     0      1  \n",
       "2     0      1  "
      ]
     },
     "execution_count": 10,
     "metadata": {},
     "output_type": "execute_result"
    }
   ],
   "source": [
    "mdata[:3]"
   ]
  },
  {
   "cell_type": "code",
   "execution_count": 11,
   "metadata": {},
   "outputs": [],
   "source": [
    "transformer = FunctionTransformer(np.log1p, validate=True)\n",
    "transformer_inv = FunctionTransformer(np.expm1, validate=True)"
   ]
  },
  {
   "cell_type": "code",
   "execution_count": 12,
   "metadata": {},
   "outputs": [],
   "source": [
    "def loger(data):\n",
    "    return transformer.transform(data)"
   ]
  },
  {
   "cell_type": "code",
   "execution_count": 13,
   "metadata": {},
   "outputs": [],
   "source": [
    "def loger_back(data):\n",
    "    return transformer_inv.transform(data)"
   ]
  },
  {
   "cell_type": "code",
   "execution_count": 14,
   "metadata": {},
   "outputs": [],
   "source": [
    "mtdata = pd.concat([np.log1p(mdata[metricas + [\"likesPagina\",\"scope\"]]),mdata[[\"Post\",\"Video\"]]],axis=1)"
   ]
  },
  {
   "cell_type": "code",
   "execution_count": 15,
   "metadata": {},
   "outputs": [
    {
     "data": {
      "text/html": [
       "<div>\n",
       "<style scoped>\n",
       "    .dataframe tbody tr th:only-of-type {\n",
       "        vertical-align: middle;\n",
       "    }\n",
       "\n",
       "    .dataframe tbody tr th {\n",
       "        vertical-align: top;\n",
       "    }\n",
       "\n",
       "    .dataframe thead th {\n",
       "        text-align: right;\n",
       "    }\n",
       "</style>\n",
       "<table border=\"1\" class=\"dataframe\">\n",
       "  <thead>\n",
       "    <tr style=\"text-align: right;\">\n",
       "      <th></th>\n",
       "      <th>likes</th>\n",
       "      <th>love</th>\n",
       "      <th>angry</th>\n",
       "      <th>wow</th>\n",
       "      <th>haha</th>\n",
       "      <th>sad</th>\n",
       "      <th>shares</th>\n",
       "      <th>likesPagina</th>\n",
       "      <th>scope</th>\n",
       "      <th>Post</th>\n",
       "      <th>Video</th>\n",
       "    </tr>\n",
       "  </thead>\n",
       "  <tbody>\n",
       "    <tr>\n",
       "      <th>0</th>\n",
       "      <td>2.944439</td>\n",
       "      <td>2.079442</td>\n",
       "      <td>0.000000</td>\n",
       "      <td>0.000000</td>\n",
       "      <td>0.000000</td>\n",
       "      <td>0.000000</td>\n",
       "      <td>1.609438</td>\n",
       "      <td>13.312704</td>\n",
       "      <td>8.205492</td>\n",
       "      <td>1</td>\n",
       "      <td>0</td>\n",
       "    </tr>\n",
       "    <tr>\n",
       "      <th>1</th>\n",
       "      <td>6.267201</td>\n",
       "      <td>4.770685</td>\n",
       "      <td>5.247024</td>\n",
       "      <td>2.772589</td>\n",
       "      <td>3.951244</td>\n",
       "      <td>2.197225</td>\n",
       "      <td>4.682131</td>\n",
       "      <td>13.312704</td>\n",
       "      <td>11.257633</td>\n",
       "      <td>0</td>\n",
       "      <td>1</td>\n",
       "    </tr>\n",
       "    <tr>\n",
       "      <th>2</th>\n",
       "      <td>3.367296</td>\n",
       "      <td>0.693147</td>\n",
       "      <td>0.000000</td>\n",
       "      <td>0.000000</td>\n",
       "      <td>0.000000</td>\n",
       "      <td>0.000000</td>\n",
       "      <td>2.639057</td>\n",
       "      <td>13.312704</td>\n",
       "      <td>8.389360</td>\n",
       "      <td>0</td>\n",
       "      <td>1</td>\n",
       "    </tr>\n",
       "  </tbody>\n",
       "</table>\n",
       "</div>"
      ],
      "text/plain": [
       "      likes      love     angry       wow      haha       sad    shares  \\\n",
       "0  2.944439  2.079442  0.000000  0.000000  0.000000  0.000000  1.609438   \n",
       "1  6.267201  4.770685  5.247024  2.772589  3.951244  2.197225  4.682131   \n",
       "2  3.367296  0.693147  0.000000  0.000000  0.000000  0.000000  2.639057   \n",
       "\n",
       "   likesPagina      scope  Post  Video  \n",
       "0    13.312704   8.205492     1      0  \n",
       "1    13.312704  11.257633     0      1  \n",
       "2    13.312704   8.389360     0      1  "
      ]
     },
     "execution_count": 15,
     "metadata": {},
     "output_type": "execute_result"
    }
   ],
   "source": [
    "mtdata[:3]"
   ]
  },
  {
   "cell_type": "code",
   "execution_count": 16,
   "metadata": {},
   "outputs": [],
   "source": [
    "train_set, test_set = train_test_split(mtdata,test_size=0.2,random_state=42)"
   ]
  },
  {
   "cell_type": "code",
   "execution_count": 17,
   "metadata": {},
   "outputs": [],
   "source": [
    "columnas = metricas + [\"likesPagina\"] + [\"Post\",\"Video\"]\n",
    "columnas = metricas\n",
    "train_set_var = train_set[columnas].copy()\n",
    "train_set_pred = train_set[[\"scope\"]].copy()\n",
    "test_set_var = test_set[columnas].copy()\n",
    "test_set_pred = test_set[[\"scope\"]].copy()"
   ]
  },
  {
   "cell_type": "code",
   "execution_count": 18,
   "metadata": {},
   "outputs": [
    {
     "data": {
      "text/html": [
       "<div>\n",
       "<style scoped>\n",
       "    .dataframe tbody tr th:only-of-type {\n",
       "        vertical-align: middle;\n",
       "    }\n",
       "\n",
       "    .dataframe tbody tr th {\n",
       "        vertical-align: top;\n",
       "    }\n",
       "\n",
       "    .dataframe thead th {\n",
       "        text-align: right;\n",
       "    }\n",
       "</style>\n",
       "<table border=\"1\" class=\"dataframe\">\n",
       "  <thead>\n",
       "    <tr style=\"text-align: right;\">\n",
       "      <th></th>\n",
       "      <th>likes</th>\n",
       "      <th>love</th>\n",
       "      <th>angry</th>\n",
       "      <th>wow</th>\n",
       "      <th>haha</th>\n",
       "      <th>sad</th>\n",
       "      <th>shares</th>\n",
       "    </tr>\n",
       "  </thead>\n",
       "  <tbody>\n",
       "    <tr>\n",
       "      <th>5237</th>\n",
       "      <td>2.564949</td>\n",
       "      <td>0.000000</td>\n",
       "      <td>0.000000</td>\n",
       "      <td>0.000000</td>\n",
       "      <td>2.397895</td>\n",
       "      <td>0.693147</td>\n",
       "      <td>2.639057</td>\n",
       "    </tr>\n",
       "    <tr>\n",
       "      <th>978</th>\n",
       "      <td>4.574711</td>\n",
       "      <td>3.367296</td>\n",
       "      <td>1.945910</td>\n",
       "      <td>1.386294</td>\n",
       "      <td>1.386294</td>\n",
       "      <td>0.000000</td>\n",
       "      <td>4.653960</td>\n",
       "    </tr>\n",
       "    <tr>\n",
       "      <th>810</th>\n",
       "      <td>5.525453</td>\n",
       "      <td>3.951244</td>\n",
       "      <td>1.386294</td>\n",
       "      <td>1.945910</td>\n",
       "      <td>1.386294</td>\n",
       "      <td>0.000000</td>\n",
       "      <td>4.143135</td>\n",
       "    </tr>\n",
       "  </tbody>\n",
       "</table>\n",
       "</div>"
      ],
      "text/plain": [
       "         likes      love     angry       wow      haha       sad    shares\n",
       "5237  2.564949  0.000000  0.000000  0.000000  2.397895  0.693147  2.639057\n",
       "978   4.574711  3.367296  1.945910  1.386294  1.386294  0.000000  4.653960\n",
       "810   5.525453  3.951244  1.386294  1.945910  1.386294  0.000000  4.143135"
      ]
     },
     "execution_count": 18,
     "metadata": {},
     "output_type": "execute_result"
    }
   ],
   "source": [
    "train_set_var[:3]"
   ]
  },
  {
   "cell_type": "code",
   "execution_count": 19,
   "metadata": {},
   "outputs": [
    {
     "data": {
      "text/html": [
       "<div>\n",
       "<style scoped>\n",
       "    .dataframe tbody tr th:only-of-type {\n",
       "        vertical-align: middle;\n",
       "    }\n",
       "\n",
       "    .dataframe tbody tr th {\n",
       "        vertical-align: top;\n",
       "    }\n",
       "\n",
       "    .dataframe thead th {\n",
       "        text-align: right;\n",
       "    }\n",
       "</style>\n",
       "<table border=\"1\" class=\"dataframe\">\n",
       "  <thead>\n",
       "    <tr style=\"text-align: right;\">\n",
       "      <th></th>\n",
       "      <th>scope</th>\n",
       "    </tr>\n",
       "  </thead>\n",
       "  <tbody>\n",
       "    <tr>\n",
       "      <th>5237</th>\n",
       "      <td>7.633854</td>\n",
       "    </tr>\n",
       "    <tr>\n",
       "      <th>978</th>\n",
       "      <td>10.178996</td>\n",
       "    </tr>\n",
       "    <tr>\n",
       "      <th>810</th>\n",
       "      <td>10.224665</td>\n",
       "    </tr>\n",
       "  </tbody>\n",
       "</table>\n",
       "</div>"
      ],
      "text/plain": [
       "          scope\n",
       "5237   7.633854\n",
       "978   10.178996\n",
       "810   10.224665"
      ]
     },
     "execution_count": 19,
     "metadata": {},
     "output_type": "execute_result"
    }
   ],
   "source": [
    "train_set_pred[:3]"
   ]
  },
  {
   "cell_type": "code",
   "execution_count": 20,
   "metadata": {},
   "outputs": [],
   "source": [
    "real_train = train_set_pred\n",
    "real = np.expm1(real_train)"
   ]
  },
  {
   "cell_type": "code",
   "execution_count": 21,
   "metadata": {},
   "outputs": [
    {
     "data": {
      "text/html": [
       "<div>\n",
       "<style scoped>\n",
       "    .dataframe tbody tr th:only-of-type {\n",
       "        vertical-align: middle;\n",
       "    }\n",
       "\n",
       "    .dataframe tbody tr th {\n",
       "        vertical-align: top;\n",
       "    }\n",
       "\n",
       "    .dataframe thead th {\n",
       "        text-align: right;\n",
       "    }\n",
       "</style>\n",
       "<table border=\"1\" class=\"dataframe\">\n",
       "  <thead>\n",
       "    <tr style=\"text-align: right;\">\n",
       "      <th></th>\n",
       "      <th>scope</th>\n",
       "    </tr>\n",
       "  </thead>\n",
       "  <tbody>\n",
       "    <tr>\n",
       "      <th>5237</th>\n",
       "      <td>7.633854</td>\n",
       "    </tr>\n",
       "    <tr>\n",
       "      <th>978</th>\n",
       "      <td>10.178996</td>\n",
       "    </tr>\n",
       "    <tr>\n",
       "      <th>810</th>\n",
       "      <td>10.224665</td>\n",
       "    </tr>\n",
       "  </tbody>\n",
       "</table>\n",
       "</div>"
      ],
      "text/plain": [
       "          scope\n",
       "5237   7.633854\n",
       "978   10.178996\n",
       "810   10.224665"
      ]
     },
     "execution_count": 21,
     "metadata": {},
     "output_type": "execute_result"
    }
   ],
   "source": [
    "real_train[:3]"
   ]
  },
  {
   "cell_type": "code",
   "execution_count": 22,
   "metadata": {},
   "outputs": [],
   "source": [
    "real_test = test_set_pred\n",
    "realt = np.expm1(real_test)"
   ]
  },
  {
   "cell_type": "code",
   "execution_count": 23,
   "metadata": {},
   "outputs": [],
   "source": [
    "clf = MLPRegressor(alpha=0.01, hidden_layer_sizes = (10,), max_iter = 50000, \n",
    "                 activation = 'logistic', learning_rate = 'adaptive',solver= 'lbfgs')"
   ]
  },
  {
   "cell_type": "code",
   "execution_count": 24,
   "metadata": {},
   "outputs": [
    {
     "data": {
      "text/plain": [
       "MLPRegressor(activation='logistic', alpha=0.01, batch_size='auto', beta_1=0.9,\n",
       "             beta_2=0.999, early_stopping=False, epsilon=1e-08,\n",
       "             hidden_layer_sizes=(10,), learning_rate='adaptive',\n",
       "             learning_rate_init=0.001, max_iter=50000, momentum=0.9,\n",
       "             n_iter_no_change=10, nesterovs_momentum=True, power_t=0.5,\n",
       "             random_state=None, shuffle=True, solver='lbfgs', tol=0.0001,\n",
       "             validation_fraction=0.1, verbose=False, warm_start=False)"
      ]
     },
     "execution_count": 24,
     "metadata": {},
     "output_type": "execute_result"
    }
   ],
   "source": [
    "clf.fit(train_set_var,train_set_pred[\"scope\"])\n",
    "#clf.fit(train_set_var[metricas],train_set_pred[\"scope\"])"
   ]
  },
  {
   "cell_type": "code",
   "execution_count": 26,
   "metadata": {},
   "outputs": [
    {
     "data": {
      "text/html": [
       "<div>\n",
       "<style scoped>\n",
       "    .dataframe tbody tr th:only-of-type {\n",
       "        vertical-align: middle;\n",
       "    }\n",
       "\n",
       "    .dataframe tbody tr th {\n",
       "        vertical-align: top;\n",
       "    }\n",
       "\n",
       "    .dataframe thead th {\n",
       "        text-align: right;\n",
       "    }\n",
       "</style>\n",
       "<table border=\"1\" class=\"dataframe\">\n",
       "  <thead>\n",
       "    <tr style=\"text-align: right;\">\n",
       "      <th></th>\n",
       "      <th>likes</th>\n",
       "      <th>love</th>\n",
       "      <th>angry</th>\n",
       "      <th>wow</th>\n",
       "      <th>haha</th>\n",
       "      <th>sad</th>\n",
       "      <th>shares</th>\n",
       "    </tr>\n",
       "  </thead>\n",
       "  <tbody>\n",
       "    <tr>\n",
       "      <th>5237</th>\n",
       "      <td>2.564949</td>\n",
       "      <td>0.000000</td>\n",
       "      <td>0.000000</td>\n",
       "      <td>0.000000</td>\n",
       "      <td>2.397895</td>\n",
       "      <td>0.693147</td>\n",
       "      <td>2.639057</td>\n",
       "    </tr>\n",
       "    <tr>\n",
       "      <th>978</th>\n",
       "      <td>4.574711</td>\n",
       "      <td>3.367296</td>\n",
       "      <td>1.945910</td>\n",
       "      <td>1.386294</td>\n",
       "      <td>1.386294</td>\n",
       "      <td>0.000000</td>\n",
       "      <td>4.653960</td>\n",
       "    </tr>\n",
       "    <tr>\n",
       "      <th>810</th>\n",
       "      <td>5.525453</td>\n",
       "      <td>3.951244</td>\n",
       "      <td>1.386294</td>\n",
       "      <td>1.945910</td>\n",
       "      <td>1.386294</td>\n",
       "      <td>0.000000</td>\n",
       "      <td>4.143135</td>\n",
       "    </tr>\n",
       "  </tbody>\n",
       "</table>\n",
       "</div>"
      ],
      "text/plain": [
       "         likes      love     angry       wow      haha       sad    shares\n",
       "5237  2.564949  0.000000  0.000000  0.000000  2.397895  0.693147  2.639057\n",
       "978   4.574711  3.367296  1.945910  1.386294  1.386294  0.000000  4.653960\n",
       "810   5.525453  3.951244  1.386294  1.945910  1.386294  0.000000  4.143135"
      ]
     },
     "execution_count": 26,
     "metadata": {},
     "output_type": "execute_result"
    }
   ],
   "source": [
    "train_set_var[:3]"
   ]
  },
  {
   "cell_type": "code",
   "execution_count": 41,
   "metadata": {},
   "outputs": [
    {
     "data": {
      "text/plain": [
       "array([2.94443898, 2.07944154, 0.        , 0.        , 0.        ,\n",
       "       0.        , 1.60943791])"
      ]
     },
     "execution_count": 41,
     "metadata": {},
     "output_type": "execute_result"
    }
   ],
   "source": [
    "test = train_set_var.loc[0].values\n",
    "test"
   ]
  },
  {
   "cell_type": "code",
   "execution_count": 42,
   "metadata": {},
   "outputs": [
    {
     "data": {
      "text/plain": [
       "array([8.09218004])"
      ]
     },
     "execution_count": 42,
     "metadata": {},
     "output_type": "execute_result"
    }
   ],
   "source": [
    "clf.predict([[2.94443898, 2.07944154, 0.        , 0.        , 0.        ,\n",
    "       0.        , 1.60943791]])"
   ]
  },
  {
   "cell_type": "code",
   "execution_count": 29,
   "metadata": {},
   "outputs": [],
   "source": [
    "red_pred = pd.DataFrame(clf.predict(train_set_var),columns=[\"Prediccion\"])\n",
    "#red_pred = clf.predict(train_set_var[metricas])\n",
    "red = np.expm1(red_pred)\n",
    "#red = pd.DataFrame(red_pred)"
   ]
  },
  {
   "cell_type": "code",
   "execution_count": 30,
   "metadata": {},
   "outputs": [
    {
     "data": {
      "text/html": [
       "<div>\n",
       "<style scoped>\n",
       "    .dataframe tbody tr th:only-of-type {\n",
       "        vertical-align: middle;\n",
       "    }\n",
       "\n",
       "    .dataframe tbody tr th {\n",
       "        vertical-align: top;\n",
       "    }\n",
       "\n",
       "    .dataframe thead th {\n",
       "        text-align: right;\n",
       "    }\n",
       "</style>\n",
       "<table border=\"1\" class=\"dataframe\">\n",
       "  <thead>\n",
       "    <tr style=\"text-align: right;\">\n",
       "      <th></th>\n",
       "      <th>Prediccion</th>\n",
       "    </tr>\n",
       "  </thead>\n",
       "  <tbody>\n",
       "    <tr>\n",
       "      <th>0</th>\n",
       "      <td>8.157780</td>\n",
       "    </tr>\n",
       "    <tr>\n",
       "      <th>1</th>\n",
       "      <td>10.105851</td>\n",
       "    </tr>\n",
       "    <tr>\n",
       "      <th>2</th>\n",
       "      <td>10.386452</td>\n",
       "    </tr>\n",
       "  </tbody>\n",
       "</table>\n",
       "</div>"
      ],
      "text/plain": [
       "   Prediccion\n",
       "0    8.157780\n",
       "1   10.105851\n",
       "2   10.386452"
      ]
     },
     "execution_count": 30,
     "metadata": {},
     "output_type": "execute_result"
    }
   ],
   "source": [
    "red_pred[:3]"
   ]
  },
  {
   "cell_type": "code",
   "execution_count": 27,
   "metadata": {},
   "outputs": [
    {
     "data": {
      "text/html": [
       "<div>\n",
       "<style scoped>\n",
       "    .dataframe tbody tr th:only-of-type {\n",
       "        vertical-align: middle;\n",
       "    }\n",
       "\n",
       "    .dataframe tbody tr th {\n",
       "        vertical-align: top;\n",
       "    }\n",
       "\n",
       "    .dataframe thead th {\n",
       "        text-align: right;\n",
       "    }\n",
       "</style>\n",
       "<table border=\"1\" class=\"dataframe\">\n",
       "  <thead>\n",
       "    <tr style=\"text-align: right;\">\n",
       "      <th></th>\n",
       "      <th>Prediccion</th>\n",
       "    </tr>\n",
       "  </thead>\n",
       "  <tbody>\n",
       "    <tr>\n",
       "      <th>0</th>\n",
       "      <td>2573.735212</td>\n",
       "    </tr>\n",
       "    <tr>\n",
       "      <th>1</th>\n",
       "      <td>23993.314686</td>\n",
       "    </tr>\n",
       "    <tr>\n",
       "      <th>2</th>\n",
       "      <td>31976.978174</td>\n",
       "    </tr>\n",
       "  </tbody>\n",
       "</table>\n",
       "</div>"
      ],
      "text/plain": [
       "     Prediccion\n",
       "0   2573.735212\n",
       "1  23993.314686\n",
       "2  31976.978174"
      ]
     },
     "execution_count": 27,
     "metadata": {},
     "output_type": "execute_result"
    }
   ],
   "source": [
    "red[:3]"
   ]
  },
  {
   "cell_type": "code",
   "execution_count": 28,
   "metadata": {},
   "outputs": [],
   "source": [
    "red_test = pd.DataFrame(clf.predict(test_set_var),columns=[\"Prediccion\"])\n",
    "#red_test = clf.predict(test_set_var[metricas])\n",
    "redt = np.expm1(red_test)\n",
    "#redt = pd.DataFrame(red_test)"
   ]
  },
  {
   "cell_type": "code",
   "execution_count": 31,
   "metadata": {},
   "outputs": [],
   "source": [
    "modelo = red_pred\n",
    "modelot = red_test\n",
    "modelol = red\n",
    "modelolt = redt\n",
    "nombre = \"Red Neuronal Profunda\"\n",
    "exvatr = skmet.explained_variance_score(real_train,modelo)\n",
    "exvate = skmet.explained_variance_score(real_test,modelot)\n",
    "msqeltr = np.sqrt(skmet.mean_squared_error(real_train,modelo))\n",
    "msqelte = np.sqrt(skmet.mean_squared_error(real_test,modelot))\n",
    "msqetr = np.sqrt(skmet.mean_squared_error(real,modelol))\n",
    "msqete = np.sqrt(skmet.mean_squared_error(realt,modelolt))\n",
    "salida = pd.DataFrame({\"real\":real[\"scope\"],\"modelo\":modelol[\"Prediccion\"]})\n",
    "maxetr = np.sqrt(np.power(salida[\"real\"] - salida[\"modelo\"],2).max())\n",
    "salidat = pd.DataFrame({\"real\":realt[\"scope\"],\"modelo\":modelolt[\"Prediccion\"]})\n",
    "maxete = np.sqrt(np.power(salidat[\"real\"] - salidat[\"modelo\"],2).max())"
   ]
  },
  {
   "cell_type": "code",
   "execution_count": 32,
   "metadata": {},
   "outputs": [
    {
     "data": {
      "text/html": [
       "<style  type=\"text/css\" >\n",
       "</style><table id=\"T_889062a4_7855_11ea_8569_e4b97a1361a0\" ><thead>    <tr>        <th class=\"blank level0\" ></th>        <th class=\"col_heading level0 col0\" >Set de entrenamiento</th>        <th class=\"col_heading level0 col1\" >Set de prueba</th>    </tr>    <tr>        <th class=\"index_name level0\" >Red Neuronal Profunda</th>        <th class=\"blank\" ></th>        <th class=\"blank\" ></th>    </tr></thead><tbody>\n",
       "                <tr>\n",
       "                        <th id=\"T_889062a4_7855_11ea_8569_e4b97a1361a0level0_row0\" class=\"row_heading level0 row0\" >Fracción de variabilidad explicada</th>\n",
       "                        <td id=\"T_889062a4_7855_11ea_8569_e4b97a1361a0row0_col0\" class=\"data row0 col0\" >0.790484312762874</td>\n",
       "                        <td id=\"T_889062a4_7855_11ea_8569_e4b97a1361a0row0_col1\" class=\"data row0 col1\" >0.7950035180352744</td>\n",
       "            </tr>\n",
       "            <tr>\n",
       "                        <th id=\"T_889062a4_7855_11ea_8569_e4b97a1361a0level0_row1\" class=\"row_heading level0 row1\" >Error cuadrático medio escala log</th>\n",
       "                        <td id=\"T_889062a4_7855_11ea_8569_e4b97a1361a0row1_col0\" class=\"data row1 col0\" >0.5926728770119154</td>\n",
       "                        <td id=\"T_889062a4_7855_11ea_8569_e4b97a1361a0row1_col1\" class=\"data row1 col1\" >0.6242708111222162</td>\n",
       "            </tr>\n",
       "            <tr>\n",
       "                        <th id=\"T_889062a4_7855_11ea_8569_e4b97a1361a0level0_row2\" class=\"row_heading level0 row2\" >Error cuadratico medio</th>\n",
       "                        <td id=\"T_889062a4_7855_11ea_8569_e4b97a1361a0row2_col0\" class=\"data row2 col0\" >79,917.45092646427</td>\n",
       "                        <td id=\"T_889062a4_7855_11ea_8569_e4b97a1361a0row2_col1\" class=\"data row2 col1\" >118,708.64698072789</td>\n",
       "            </tr>\n",
       "            <tr>\n",
       "                        <th id=\"T_889062a4_7855_11ea_8569_e4b97a1361a0level0_row3\" class=\"row_heading level0 row3\" >Error máximo</th>\n",
       "                        <td id=\"T_889062a4_7855_11ea_8569_e4b97a1361a0row3_col0\" class=\"data row3 col0\" >6,651,495.82752593</td>\n",
       "                        <td id=\"T_889062a4_7855_11ea_8569_e4b97a1361a0row3_col1\" class=\"data row3 col1\" >2,869,922.0191242117</td>\n",
       "            </tr>\n",
       "    </tbody></table>"
      ],
      "text/plain": [
       "<pandas.io.formats.style.Styler at 0x28774a5ada0>"
      ]
     },
     "execution_count": 32,
     "metadata": {},
     "output_type": "execute_result"
    }
   ],
   "source": [
    "frame = pd.DataFrame({\"Set de entrenamiento\":[exvatr,msqeltr,msqetr,maxetr],\"Set de prueba\":[exvate,msqelte,msqete,maxete]},index=[\"Fracción de variabilidad explicada\",\"Error cuadrático medio escala log\",\"Error cuadratico medio\",\"Error máximo\"])\n",
    "frame.index.name = nombre\n",
    "frame.style.format(\"{:,}\")"
   ]
  },
  {
   "cell_type": "code",
   "execution_count": 33,
   "metadata": {},
   "outputs": [],
   "source": [
    "scores = cross_val_score(clf,train_set_var,train_set_pred[\"scope\"],scoring=\"neg_mean_squared_error\",cv=10)"
   ]
  },
  {
   "cell_type": "code",
   "execution_count": 34,
   "metadata": {},
   "outputs": [
    {
     "data": {
      "text/plain": [
       "array([0.63639484, 0.64397098, 0.61738474, 0.74189676, 0.58032768,\n",
       "       0.60140173, 0.60452276, 0.65064436, 0.61351134, 0.63920558])"
      ]
     },
     "execution_count": 34,
     "metadata": {},
     "output_type": "execute_result"
    }
   ],
   "source": [
    "np.sqrt(scores*-1)"
   ]
  },
  {
   "cell_type": "code",
   "execution_count": 35,
   "metadata": {},
   "outputs": [],
   "source": [
    "param_grid = {\"hidden_layer_sizes\": [(10,),(30,),(10,10,)], \"activation\": [\"logistic\", \"tanh\", \"relu\"], \"solver\": [\"lbfgs\", \"sgd\", \"adam\"], \"alpha\": [0.001,0.005,0.01]}"
   ]
  },
  {
   "cell_type": "code",
   "execution_count": 36,
   "metadata": {},
   "outputs": [],
   "source": [
    "grid_search = GridSearchCV(MLPRegressor(max_iter = 50000, learning_rate = 'adaptive'),param_grid,cv=5,scoring='neg_mean_squared_error',return_train_score=True,verbose=3,n_jobs=-1)"
   ]
  },
  {
   "cell_type": "code",
   "execution_count": 37,
   "metadata": {},
   "outputs": [
    {
     "name": "stdout",
     "output_type": "stream",
     "text": [
      "Fitting 5 folds for each of 108 candidates, totalling 540 fits\n"
     ]
    },
    {
     "name": "stderr",
     "output_type": "stream",
     "text": [
      "[Parallel(n_jobs=-1)]: Using backend LokyBackend with 12 concurrent workers.\n",
      "[Parallel(n_jobs=-1)]: Done   8 tasks      | elapsed:    9.6s\n",
      "[Parallel(n_jobs=-1)]: Done 104 tasks      | elapsed:  5.1min\n",
      "[Parallel(n_jobs=-1)]: Done 264 tasks      | elapsed: 15.3min\n",
      "[Parallel(n_jobs=-1)]: Done 488 tasks      | elapsed: 22.0min\n",
      "[Parallel(n_jobs=-1)]: Done 540 out of 540 | elapsed: 22.9min finished\n"
     ]
    },
    {
     "data": {
      "text/plain": [
       "GridSearchCV(cv=5, error_score='raise-deprecating',\n",
       "             estimator=MLPRegressor(activation='relu', alpha=0.0001,\n",
       "                                    batch_size='auto', beta_1=0.9, beta_2=0.999,\n",
       "                                    early_stopping=False, epsilon=1e-08,\n",
       "                                    hidden_layer_sizes=(100,),\n",
       "                                    learning_rate='adaptive',\n",
       "                                    learning_rate_init=0.001, max_iter=50000,\n",
       "                                    momentum=0.9, n_iter_no_change=10,\n",
       "                                    nesterovs_momentum=True, power_t=0.5,\n",
       "                                    random_st...\n",
       "                                    solver='adam', tol=0.0001,\n",
       "                                    validation_fraction=0.1, verbose=False,\n",
       "                                    warm_start=False),\n",
       "             iid='warn', n_jobs=-1,\n",
       "             param_grid={'activation': ['logistic', 'tanh', 'relu'],\n",
       "                         'alpha': [0.001, 0.005, 0.01],\n",
       "                         'hidden_layer_sizes': [(10,), (30,), (10, 10),\n",
       "                                                (30, 10)],\n",
       "                         'solver': ['lbfgs', 'sgd', 'adam']},\n",
       "             pre_dispatch='2*n_jobs', refit=True, return_train_score=True,\n",
       "             scoring='neg_mean_squared_error', verbose=3)"
      ]
     },
     "execution_count": 37,
     "metadata": {},
     "output_type": "execute_result"
    }
   ],
   "source": [
    "grid_search.fit(train_set_var,train_set_pred[\"scope\"])"
   ]
  },
  {
   "cell_type": "code",
   "execution_count": 38,
   "metadata": {},
   "outputs": [
    {
     "data": {
      "text/plain": [
       "{'activation': 'tanh',\n",
       " 'alpha': 0.01,\n",
       " 'hidden_layer_sizes': (10,),\n",
       " 'solver': 'lbfgs'}"
      ]
     },
     "execution_count": 38,
     "metadata": {},
     "output_type": "execute_result"
    }
   ],
   "source": [
    "grid_search.best_params_"
   ]
  },
  {
   "cell_type": "code",
   "execution_count": 39,
   "metadata": {},
   "outputs": [],
   "source": [
    "cvres = grid_search.cv_results_"
   ]
  },
  {
   "cell_type": "code",
   "execution_count": 40,
   "metadata": {},
   "outputs": [
    {
     "data": {
      "text/plain": [
       "array([(0.61323874, b\"{'activation': 'tanh', 'alpha': 0.01, 'hidden_layer_sizes': (10,), 'solver': 'lbfgs'}\"),\n",
       "       (0.61350784, b\"{'activation': 'logistic', 'alpha': 0.005, 'hidden_layer_sizes': (10,), 'solver': 'lbfgs'}\"),\n",
       "       (0.61548948, b\"{'activation': 'tanh', 'alpha': 0.005, 'hidden_layer_sizes': (10,), 'solver': 'lbfgs'}\"),\n",
       "       (0.61654409, b\"{'activation': 'logistic', 'alpha': 0.001, 'hidden_layer_sizes': (10,), 'solver': 'lbfgs'}\"),\n",
       "       (0.61681081, b\"{'activation': 'logistic', 'alpha': 0.01, 'hidden_layer_sizes': (10,), 'solver': 'lbfgs'}\"),\n",
       "       (0.61692577, b\"{'activation': 'relu', 'alpha': 0.001, 'hidden_layer_sizes': (30,), 'solver': 'lbfgs'}\"),\n",
       "       (0.61779525, b\"{'activation': 'tanh', 'alpha': 0.001, 'hidden_layer_sizes': (10,), 'solver': 'lbfgs'}\"),\n",
       "       (0.61797719, b\"{'activation': 'tanh', 'alpha': 0.01, 'hidden_layer_sizes': (10, 10), 'solver': 'adam'}\"),\n",
       "       (0.6192527 , b\"{'activation': 'tanh', 'alpha': 0.01, 'hidden_layer_sizes': (30, 10), 'solver': 'adam'}\"),\n",
       "       (0.61950249, b\"{'activation': 'relu', 'alpha': 0.001, 'hidden_layer_sizes': (10, 10), 'solver': 'lbfgs'}\"),\n",
       "       (0.62015158, b\"{'activation': 'tanh', 'alpha': 0.001, 'hidden_layer_sizes': (10, 10), 'solver': 'adam'}\"),\n",
       "       (0.62043831, b\"{'activation': 'tanh', 'alpha': 0.001, 'hidden_layer_sizes': (30, 10), 'solver': 'adam'}\"),\n",
       "       (0.62046577, b\"{'activation': 'relu', 'alpha': 0.01, 'hidden_layer_sizes': (30,), 'solver': 'lbfgs'}\"),\n",
       "       (0.62135709, b\"{'activation': 'relu', 'alpha': 0.01, 'hidden_layer_sizes': (30, 10), 'solver': 'adam'}\"),\n",
       "       (0.6216934 , b\"{'activation': 'relu', 'alpha': 0.005, 'hidden_layer_sizes': (30, 10), 'solver': 'adam'}\"),\n",
       "       (0.62175529, b\"{'activation': 'relu', 'alpha': 0.005, 'hidden_layer_sizes': (10, 10), 'solver': 'lbfgs'}\"),\n",
       "       (0.62198795, b\"{'activation': 'tanh', 'alpha': 0.005, 'hidden_layer_sizes': (10, 10), 'solver': 'adam'}\"),\n",
       "       (0.62240143, b\"{'activation': 'relu', 'alpha': 0.005, 'hidden_layer_sizes': (30,), 'solver': 'lbfgs'}\"),\n",
       "       (0.62279006, b\"{'activation': 'relu', 'alpha': 0.005, 'hidden_layer_sizes': (30, 10), 'solver': 'lbfgs'}\"),\n",
       "       (0.62301335, b\"{'activation': 'tanh', 'alpha': 0.005, 'hidden_layer_sizes': (30, 10), 'solver': 'sgd'}\"),\n",
       "       (0.62324825, b\"{'activation': 'tanh', 'alpha': 0.005, 'hidden_layer_sizes': (30, 10), 'solver': 'adam'}\"),\n",
       "       (0.62375177, b\"{'activation': 'tanh', 'alpha': 0.01, 'hidden_layer_sizes': (30, 10), 'solver': 'sgd'}\"),\n",
       "       (0.62546931, b\"{'activation': 'logistic', 'alpha': 0.001, 'hidden_layer_sizes': (30, 10), 'solver': 'adam'}\"),\n",
       "       (0.62549723, b\"{'activation': 'relu', 'alpha': 0.01, 'hidden_layer_sizes': (30, 10), 'solver': 'lbfgs'}\"),\n",
       "       (0.62569151, b\"{'activation': 'relu', 'alpha': 0.001, 'hidden_layer_sizes': (30, 10), 'solver': 'adam'}\"),\n",
       "       (0.62578325, b\"{'activation': 'logistic', 'alpha': 0.001, 'hidden_layer_sizes': (10, 10), 'solver': 'adam'}\"),\n",
       "       (0.62631196, b\"{'activation': 'logistic', 'alpha': 0.005, 'hidden_layer_sizes': (30, 10), 'solver': 'adam'}\"),\n",
       "       (0.6266462 , b\"{'activation': 'logistic', 'alpha': 0.01, 'hidden_layer_sizes': (30, 10), 'solver': 'adam'}\"),\n",
       "       (0.62789403, b\"{'activation': 'logistic', 'alpha': 0.01, 'hidden_layer_sizes': (10, 10), 'solver': 'adam'}\"),\n",
       "       (0.62792698, b\"{'activation': 'tanh', 'alpha': 0.005, 'hidden_layer_sizes': (10,), 'solver': 'adam'}\"),\n",
       "       (0.62807325, b\"{'activation': 'tanh', 'alpha': 0.01, 'hidden_layer_sizes': (30,), 'solver': 'adam'}\"),\n",
       "       (0.62931756, b\"{'activation': 'tanh', 'alpha': 0.001, 'hidden_layer_sizes': (30, 10), 'solver': 'sgd'}\"),\n",
       "       (0.62936962, b\"{'activation': 'relu', 'alpha': 0.001, 'hidden_layer_sizes': (30, 10), 'solver': 'lbfgs'}\"),\n",
       "       (0.62962942, b\"{'activation': 'logistic', 'alpha': 0.005, 'hidden_layer_sizes': (10, 10), 'solver': 'adam'}\"),\n",
       "       (0.62980742, b\"{'activation': 'tanh', 'alpha': 0.001, 'hidden_layer_sizes': (10,), 'solver': 'adam'}\"),\n",
       "       (0.63019706, b\"{'activation': 'tanh', 'alpha': 0.005, 'hidden_layer_sizes': (10, 10), 'solver': 'sgd'}\"),\n",
       "       (0.63089527, b\"{'activation': 'tanh', 'alpha': 0.01, 'hidden_layer_sizes': (10,), 'solver': 'adam'}\"),\n",
       "       (0.63154865, b\"{'activation': 'tanh', 'alpha': 0.001, 'hidden_layer_sizes': (30,), 'solver': 'adam'}\"),\n",
       "       (0.63213138, b\"{'activation': 'tanh', 'alpha': 0.001, 'hidden_layer_sizes': (10, 10), 'solver': 'sgd'}\"),\n",
       "       (0.6321581 , b\"{'activation': 'tanh', 'alpha': 0.01, 'hidden_layer_sizes': (10, 10), 'solver': 'sgd'}\"),\n",
       "       (0.63289082, b\"{'activation': 'tanh', 'alpha': 0.01, 'hidden_layer_sizes': (10,), 'solver': 'sgd'}\"),\n",
       "       (0.63292358, b\"{'activation': 'tanh', 'alpha': 0.005, 'hidden_layer_sizes': (10,), 'solver': 'sgd'}\"),\n",
       "       (0.63327008, b\"{'activation': 'relu', 'alpha': 0.005, 'hidden_layer_sizes': (30, 10), 'solver': 'sgd'}\"),\n",
       "       (0.63362986, b\"{'activation': 'relu', 'alpha': 0.01, 'hidden_layer_sizes': (30,), 'solver': 'adam'}\"),\n",
       "       (0.6338705 , b\"{'activation': 'relu', 'alpha': 0.01, 'hidden_layer_sizes': (30, 10), 'solver': 'sgd'}\"),\n",
       "       (0.63428618, b\"{'activation': 'relu', 'alpha': 0.01, 'hidden_layer_sizes': (10, 10), 'solver': 'lbfgs'}\"),\n",
       "       (0.6343113 , b\"{'activation': 'relu', 'alpha': 0.005, 'hidden_layer_sizes': (10, 10), 'solver': 'adam'}\"),\n",
       "       (0.63439931, b\"{'activation': 'tanh', 'alpha': 0.005, 'hidden_layer_sizes': (30,), 'solver': 'sgd'}\"),\n",
       "       (0.63484016, b\"{'activation': 'relu', 'alpha': 0.01, 'hidden_layer_sizes': (10,), 'solver': 'lbfgs'}\"),\n",
       "       (0.63486399, b\"{'activation': 'tanh', 'alpha': 0.001, 'hidden_layer_sizes': (10,), 'solver': 'sgd'}\"),\n",
       "       (0.63487256, b\"{'activation': 'relu', 'alpha': 0.005, 'hidden_layer_sizes': (10,), 'solver': 'lbfgs'}\"),\n",
       "       (0.63510265, b\"{'activation': 'tanh', 'alpha': 0.005, 'hidden_layer_sizes': (30,), 'solver': 'adam'}\"),\n",
       "       (0.63529191, b\"{'activation': 'relu', 'alpha': 0.001, 'hidden_layer_sizes': (10,), 'solver': 'lbfgs'}\"),\n",
       "       (0.63543019, b\"{'activation': 'relu', 'alpha': 0.005, 'hidden_layer_sizes': (30,), 'solver': 'adam'}\"),\n",
       "       (0.63678156, b\"{'activation': 'relu', 'alpha': 0.01, 'hidden_layer_sizes': (30,), 'solver': 'sgd'}\"),\n",
       "       (0.636891  , b\"{'activation': 'relu', 'alpha': 0.005, 'hidden_layer_sizes': (30,), 'solver': 'sgd'}\"),\n",
       "       (0.63692761, b\"{'activation': 'relu', 'alpha': 0.001, 'hidden_layer_sizes': (30, 10), 'solver': 'sgd'}\"),\n",
       "       (0.63697221, b\"{'activation': 'relu', 'alpha': 0.001, 'hidden_layer_sizes': (30,), 'solver': 'sgd'}\"),\n",
       "       (0.63795584, b\"{'activation': 'relu', 'alpha': 0.001, 'hidden_layer_sizes': (30,), 'solver': 'adam'}\"),\n",
       "       (0.63837052, b\"{'activation': 'tanh', 'alpha': 0.001, 'hidden_layer_sizes': (30,), 'solver': 'sgd'}\"),\n",
       "       (0.64128088, b\"{'activation': 'logistic', 'alpha': 0.005, 'hidden_layer_sizes': (10, 10), 'solver': 'lbfgs'}\"),\n",
       "       (0.64134957, b\"{'activation': 'logistic', 'alpha': 0.01, 'hidden_layer_sizes': (10,), 'solver': 'adam'}\"),\n",
       "       (0.64289668, b\"{'activation': 'logistic', 'alpha': 0.005, 'hidden_layer_sizes': (10,), 'solver': 'adam'}\"),\n",
       "       (0.64362815, b\"{'activation': 'logistic', 'alpha': 0.001, 'hidden_layer_sizes': (10,), 'solver': 'adam'}\"),\n",
       "       (0.64497654, b\"{'activation': 'relu', 'alpha': 0.01, 'hidden_layer_sizes': (10, 10), 'solver': 'adam'}\"),\n",
       "       (0.6460454 , b\"{'activation': 'tanh', 'alpha': 0.01, 'hidden_layer_sizes': (30,), 'solver': 'sgd'}\"),\n",
       "       (0.64722105, b\"{'activation': 'relu', 'alpha': 0.001, 'hidden_layer_sizes': (10,), 'solver': 'sgd'}\"),\n",
       "       (0.64740533, b\"{'activation': 'relu', 'alpha': 0.005, 'hidden_layer_sizes': (10,), 'solver': 'adam'}\"),\n",
       "       (0.64758073, b\"{'activation': 'relu', 'alpha': 0.001, 'hidden_layer_sizes': (10, 10), 'solver': 'adam'}\"),\n",
       "       (0.64764175, b\"{'activation': 'relu', 'alpha': 0.01, 'hidden_layer_sizes': (10, 10), 'solver': 'sgd'}\"),\n",
       "       (0.64963486, b\"{'activation': 'logistic', 'alpha': 0.005, 'hidden_layer_sizes': (30,), 'solver': 'lbfgs'}\"),\n",
       "       (0.65008847, b\"{'activation': 'tanh', 'alpha': 0.001, 'hidden_layer_sizes': (10, 10), 'solver': 'lbfgs'}\"),\n",
       "       (0.65056518, b\"{'activation': 'relu', 'alpha': 0.001, 'hidden_layer_sizes': (10, 10), 'solver': 'sgd'}\"),\n",
       "       (0.65088661, b\"{'activation': 'logistic', 'alpha': 0.001, 'hidden_layer_sizes': (30,), 'solver': 'adam'}\"),\n",
       "       (0.65105323, b\"{'activation': 'logistic', 'alpha': 0.001, 'hidden_layer_sizes': (30,), 'solver': 'lbfgs'}\"),\n",
       "       (0.65144979, b\"{'activation': 'relu', 'alpha': 0.005, 'hidden_layer_sizes': (10, 10), 'solver': 'sgd'}\"),\n",
       "       (0.65190502, b\"{'activation': 'relu', 'alpha': 0.01, 'hidden_layer_sizes': (10,), 'solver': 'sgd'}\"),\n",
       "       (0.65240022, b\"{'activation': 'logistic', 'alpha': 0.001, 'hidden_layer_sizes': (10, 10), 'solver': 'lbfgs'}\"),\n",
       "       (0.65248962, b\"{'activation': 'relu', 'alpha': 0.001, 'hidden_layer_sizes': (10,), 'solver': 'adam'}\"),\n",
       "       (0.65249105, b\"{'activation': 'tanh', 'alpha': 0.005, 'hidden_layer_sizes': (10, 10), 'solver': 'lbfgs'}\"),\n",
       "       (0.65337672, b\"{'activation': 'logistic', 'alpha': 0.005, 'hidden_layer_sizes': (30,), 'solver': 'adam'}\"),\n",
       "       (0.65410257, b\"{'activation': 'relu', 'alpha': 0.005, 'hidden_layer_sizes': (10,), 'solver': 'sgd'}\"),\n",
       "       (0.65452132, b\"{'activation': 'logistic', 'alpha': 0.01, 'hidden_layer_sizes': (30,), 'solver': 'adam'}\"),\n",
       "       (0.65583246, b\"{'activation': 'logistic', 'alpha': 0.01, 'hidden_layer_sizes': (30,), 'solver': 'lbfgs'}\"),\n",
       "       (0.65606506, b\"{'activation': 'tanh', 'alpha': 0.005, 'hidden_layer_sizes': (30,), 'solver': 'lbfgs'}\"),\n",
       "       (0.65744153, b\"{'activation': 'tanh', 'alpha': 0.01, 'hidden_layer_sizes': (30,), 'solver': 'lbfgs'}\"),\n",
       "       (0.65776317, b\"{'activation': 'relu', 'alpha': 0.01, 'hidden_layer_sizes': (10,), 'solver': 'adam'}\"),\n",
       "       (0.65795815, b\"{'activation': 'tanh', 'alpha': 0.01, 'hidden_layer_sizes': (10, 10), 'solver': 'lbfgs'}\"),\n",
       "       (0.65936266, b\"{'activation': 'logistic', 'alpha': 0.01, 'hidden_layer_sizes': (10, 10), 'solver': 'sgd'}\"),\n",
       "       (0.66157032, b\"{'activation': 'logistic', 'alpha': 0.01, 'hidden_layer_sizes': (10, 10), 'solver': 'lbfgs'}\"),\n",
       "       (0.661693  , b\"{'activation': 'logistic', 'alpha': 0.005, 'hidden_layer_sizes': (10, 10), 'solver': 'sgd'}\"),\n",
       "       (0.66263553, b\"{'activation': 'tanh', 'alpha': 0.001, 'hidden_layer_sizes': (30,), 'solver': 'lbfgs'}\"),\n",
       "       (0.66326945, b\"{'activation': 'logistic', 'alpha': 0.001, 'hidden_layer_sizes': (10, 10), 'solver': 'sgd'}\"),\n",
       "       (0.66667579, b\"{'activation': 'logistic', 'alpha': 0.001, 'hidden_layer_sizes': (30, 10), 'solver': 'sgd'}\"),\n",
       "       (0.66678162, b\"{'activation': 'logistic', 'alpha': 0.01, 'hidden_layer_sizes': (30, 10), 'solver': 'sgd'}\"),\n",
       "       (0.66721467, b\"{'activation': 'logistic', 'alpha': 0.005, 'hidden_layer_sizes': (30, 10), 'solver': 'sgd'}\"),\n",
       "       (0.66909779, b\"{'activation': 'logistic', 'alpha': 0.001, 'hidden_layer_sizes': (10,), 'solver': 'sgd'}\"),\n",
       "       (0.66909948, b\"{'activation': 'logistic', 'alpha': 0.005, 'hidden_layer_sizes': (10,), 'solver': 'sgd'}\"),\n",
       "       (0.67001209, b\"{'activation': 'logistic', 'alpha': 0.01, 'hidden_layer_sizes': (10,), 'solver': 'sgd'}\"),\n",
       "       (0.67153585, b\"{'activation': 'logistic', 'alpha': 0.001, 'hidden_layer_sizes': (30,), 'solver': 'sgd'}\"),\n",
       "       (0.67167991, b\"{'activation': 'logistic', 'alpha': 0.01, 'hidden_layer_sizes': (30,), 'solver': 'sgd'}\"),\n",
       "       (0.67200085, b\"{'activation': 'logistic', 'alpha': 0.005, 'hidden_layer_sizes': (30,), 'solver': 'sgd'}\"),\n",
       "       (0.76384885, b\"{'activation': 'logistic', 'alpha': 0.005, 'hidden_layer_sizes': (30, 10), 'solver': 'lbfgs'}\"),\n",
       "       (0.77612051, b\"{'activation': 'tanh', 'alpha': 0.005, 'hidden_layer_sizes': (30, 10), 'solver': 'lbfgs'}\"),\n",
       "       (0.77885291, b\"{'activation': 'logistic', 'alpha': 0.01, 'hidden_layer_sizes': (30, 10), 'solver': 'lbfgs'}\"),\n",
       "       (0.78052891, b\"{'activation': 'tanh', 'alpha': 0.001, 'hidden_layer_sizes': (30, 10), 'solver': 'lbfgs'}\"),\n",
       "       (0.79046934, b\"{'activation': 'logistic', 'alpha': 0.001, 'hidden_layer_sizes': (30, 10), 'solver': 'lbfgs'}\"),\n",
       "       (0.82714502, b\"{'activation': 'tanh', 'alpha': 0.01, 'hidden_layer_sizes': (30, 10), 'solver': 'lbfgs'}\")],\n",
       "      dtype=[('error', '<f8'), ('params', 'S100')])"
      ]
     },
     "execution_count": 40,
     "metadata": {},
     "output_type": "execute_result"
    }
   ],
   "source": [
    "np.sort(np.array(list(zip(np.sqrt(cvres[\"mean_test_score\"]*-1),cvres[\"params\"])),dtype = [('error', float), ('params', 'S100')]),order=\"error\")"
   ]
  },
  {
   "cell_type": "code",
   "execution_count": 46,
   "metadata": {},
   "outputs": [],
   "source": [
    "final_model = grid_search.best_estimator_"
   ]
  },
  {
   "cell_type": "code",
   "execution_count": 47,
   "metadata": {},
   "outputs": [],
   "source": [
    "fmodel_pred = pd.DataFrame(final_model.predict(train_set_var),columns=[\"Prediccion\"])\n",
    "fmodel = np.expm1(fmodel_pred)"
   ]
  },
  {
   "cell_type": "code",
   "execution_count": 48,
   "metadata": {},
   "outputs": [],
   "source": [
    "fmodel_test = pd.DataFrame(final_model.predict(test_set_var),columns=[\"Prediccion\"])\n",
    "fmodelt = np.expm1(fmodel_test)"
   ]
  },
  {
   "cell_type": "code",
   "execution_count": 49,
   "metadata": {},
   "outputs": [],
   "source": [
    "modelo = fmodel_pred\n",
    "modelot = fmodel_test\n",
    "modelol = fmodel\n",
    "modelolt = fmodelt\n",
    "nombre = \"Red Neuronal Profunda\"\n",
    "exvatr = skmet.explained_variance_score(real_train,modelo)\n",
    "exvate = skmet.explained_variance_score(real_test,modelot)\n",
    "msqeltr = np.sqrt(skmet.mean_squared_error(real_train,modelo))\n",
    "msqelte = np.sqrt(skmet.mean_squared_error(real_test,modelot))\n",
    "msqetr = np.sqrt(skmet.mean_squared_error(real,modelol))\n",
    "msqete = np.sqrt(skmet.mean_squared_error(realt,modelolt))\n",
    "salida = pd.DataFrame({\"real\":real[\"scope\"],\"modelo\":modelol[\"Prediccion\"]})\n",
    "maxetr = np.sqrt(np.power(salida[\"real\"] - salida[\"modelo\"],2).max())\n",
    "salidat = pd.DataFrame({\"real\":realt[\"scope\"],\"modelo\":modelolt[\"Prediccion\"]})\n",
    "maxete = np.sqrt(np.power(salidat[\"real\"] - salidat[\"modelo\"],2).max())"
   ]
  },
  {
   "cell_type": "code",
   "execution_count": 50,
   "metadata": {},
   "outputs": [
    {
     "data": {
      "text/html": [
       "<style  type=\"text/css\" >\n",
       "</style><table id=\"T_321223e4_785b_11ea_960c_e4b97a1361a0\" ><thead>    <tr>        <th class=\"blank level0\" ></th>        <th class=\"col_heading level0 col0\" >Set de entrenamiento</th>        <th class=\"col_heading level0 col1\" >Set de prueba</th>    </tr>    <tr>        <th class=\"index_name level0\" >Red Neuronal Profunda</th>        <th class=\"blank\" ></th>        <th class=\"blank\" ></th>    </tr></thead><tbody>\n",
       "                <tr>\n",
       "                        <th id=\"T_321223e4_785b_11ea_960c_e4b97a1361a0level0_row0\" class=\"row_heading level0 row0\" >Fracción de variabilidad explicada</th>\n",
       "                        <td id=\"T_321223e4_785b_11ea_960c_e4b97a1361a0row0_col0\" class=\"data row0 col0\" >0.786293038395448</td>\n",
       "                        <td id=\"T_321223e4_785b_11ea_960c_e4b97a1361a0row0_col1\" class=\"data row0 col1\" >0.7897233511024311</td>\n",
       "            </tr>\n",
       "            <tr>\n",
       "                        <th id=\"T_321223e4_785b_11ea_960c_e4b97a1361a0level0_row1\" class=\"row_heading level0 row1\" >Error cuadrático medio escala log</th>\n",
       "                        <td id=\"T_321223e4_785b_11ea_960c_e4b97a1361a0row1_col0\" class=\"data row1 col0\" >0.5985716124217414</td>\n",
       "                        <td id=\"T_321223e4_785b_11ea_960c_e4b97a1361a0row1_col1\" class=\"data row1 col1\" >0.6322809354102273</td>\n",
       "            </tr>\n",
       "            <tr>\n",
       "                        <th id=\"T_321223e4_785b_11ea_960c_e4b97a1361a0level0_row2\" class=\"row_heading level0 row2\" >Error cuadratico medio</th>\n",
       "                        <td id=\"T_321223e4_785b_11ea_960c_e4b97a1361a0row2_col0\" class=\"data row2 col0\" >90,625.39985751086</td>\n",
       "                        <td id=\"T_321223e4_785b_11ea_960c_e4b97a1361a0row2_col1\" class=\"data row2 col1\" >82,067.63945992135</td>\n",
       "            </tr>\n",
       "            <tr>\n",
       "                        <th id=\"T_321223e4_785b_11ea_960c_e4b97a1361a0level0_row3\" class=\"row_heading level0 row3\" >Error máximo</th>\n",
       "                        <td id=\"T_321223e4_785b_11ea_960c_e4b97a1361a0row3_col0\" class=\"data row3 col0\" >6,651,520.983932345</td>\n",
       "                        <td id=\"T_321223e4_785b_11ea_960c_e4b97a1361a0row3_col1\" class=\"data row3 col1\" >2,868,890.989917356</td>\n",
       "            </tr>\n",
       "    </tbody></table>"
      ],
      "text/plain": [
       "<pandas.io.formats.style.Styler at 0x287774c9ac8>"
      ]
     },
     "execution_count": 50,
     "metadata": {},
     "output_type": "execute_result"
    }
   ],
   "source": [
    "frame = pd.DataFrame({\"Set de entrenamiento\":[exvatr,msqeltr,msqetr,maxetr],\"Set de prueba\":[exvate,msqelte,msqete,maxete]},index=[\"Fracción de variabilidad explicada\",\"Error cuadrático medio escala log\",\"Error cuadratico medio\",\"Error máximo\"])\n",
    "frame.index.name = nombre\n",
    "frame.style.format(\"{:,}\")"
   ]
  }
 ],
 "metadata": {
  "kernelspec": {
   "display_name": "Python 3",
   "language": "python",
   "name": "python3"
  },
  "language_info": {
   "codemirror_mode": {
    "name": "ipython",
    "version": 3
   },
   "file_extension": ".py",
   "mimetype": "text/x-python",
   "name": "python",
   "nbconvert_exporter": "python",
   "pygments_lexer": "ipython3",
   "version": "3.7.7"
  }
 },
 "nbformat": 4,
 "nbformat_minor": 4
}
