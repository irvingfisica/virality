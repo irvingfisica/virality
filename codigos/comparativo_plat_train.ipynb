{
 "cells": [
  {
   "cell_type": "code",
   "execution_count": 1,
   "metadata": {},
   "outputs": [],
   "source": [
    "import pandas as pd"
   ]
  },
  {
   "cell_type": "code",
   "execution_count": 2,
   "metadata": {},
   "outputs": [],
   "source": [
    "data = pd.read_csv(\"../data/originales/Temas_CDMX.tsv\",sep='\\t')"
   ]
  },
  {
   "cell_type": "code",
   "execution_count": 26,
   "metadata": {},
   "outputs": [
    {
     "data": {
      "text/html": [
       "<div>\n",
       "<style scoped>\n",
       "    .dataframe tbody tr th:only-of-type {\n",
       "        vertical-align: middle;\n",
       "    }\n",
       "\n",
       "    .dataframe tbody tr th {\n",
       "        vertical-align: top;\n",
       "    }\n",
       "\n",
       "    .dataframe thead th {\n",
       "        text-align: right;\n",
       "    }\n",
       "</style>\n",
       "<table border=\"1\" class=\"dataframe\">\n",
       "  <thead>\n",
       "    <tr style=\"text-align: right;\">\n",
       "      <th></th>\n",
       "      <th>id</th>\n",
       "      <th>nombre</th>\n",
       "      <th>estado</th>\n",
       "      <th>municipio</th>\n",
       "      <th>categorias</th>\n",
       "      <th>secretarias</th>\n",
       "      <th>Linea</th>\n",
       "      <th>Estacion</th>\n",
       "      <th>score</th>\n",
       "      <th>scoreManual</th>\n",
       "      <th>Destacado</th>\n",
       "      <th>estatus</th>\n",
       "      <th>imagen</th>\n",
       "      <th>url</th>\n",
       "      <th>fechaCreacion</th>\n",
       "      <th>fechaInsercion</th>\n",
       "      <th>fechaMod</th>\n",
       "      <th>idAnalitycs</th>\n",
       "    </tr>\n",
       "  </thead>\n",
       "  <tbody>\n",
       "    <tr>\n",
       "      <th>0</th>\n",
       "      <td>19020</td>\n",
       "      <td>Identifican a feministas que participaron en s...</td>\n",
       "      <td>Ciudad de México</td>\n",
       "      <td>Cuauhtémoc</td>\n",
       "      <td>Marchas / protesta social</td>\n",
       "      <td>SECRETARIA DE SEGURIDAD CIUDADANA</td>\n",
       "      <td>NaN</td>\n",
       "      <td>NaN</td>\n",
       "      <td>59.8</td>\n",
       "      <td>NaN</td>\n",
       "      <td>NO DESTACADO</td>\n",
       "      <td>ACTIVO</td>\n",
       "      <td>http://monitoringpol5c3f9f24c983d.s3.amazonaws...</td>\n",
       "      <td>https://www.facebook.com/permalink.php?story_f...</td>\n",
       "      <td>2020-06-10</td>\n",
       "      <td>2020-06-10 09:30:12</td>\n",
       "      <td>2020-06-10</td>\n",
       "      <td>NaN</td>\n",
       "    </tr>\n",
       "    <tr>\n",
       "      <th>1</th>\n",
       "      <td>19021</td>\n",
       "      <td>Banda de Los Rudos podría ser responsable de b...</td>\n",
       "      <td>Ciudad de México</td>\n",
       "      <td>Gustavo A. Madero</td>\n",
       "      <td>Seguridad</td>\n",
       "      <td>SECRETARIA DE SEGURIDAD CIUDADANA</td>\n",
       "      <td>NaN</td>\n",
       "      <td>NaN</td>\n",
       "      <td>33.1</td>\n",
       "      <td>NaN</td>\n",
       "      <td>NO DESTACADO</td>\n",
       "      <td>ACTIVO</td>\n",
       "      <td>http://monitoringpol5c3f9f24c983d.s3.amazonaws...</td>\n",
       "      <td>https://www.facebook.com/oficialticoman/posts/...</td>\n",
       "      <td>2020-06-10</td>\n",
       "      <td>2020-06-10 09:38:28</td>\n",
       "      <td>2020-06-10</td>\n",
       "      <td>NaN</td>\n",
       "    </tr>\n",
       "    <tr>\n",
       "      <th>2</th>\n",
       "      <td>19025</td>\n",
       "      <td>Hombre es detenido por robo a negocio en calle...</td>\n",
       "      <td>Ciudad de México</td>\n",
       "      <td>Benito Juárez</td>\n",
       "      <td>Seguridad</td>\n",
       "      <td>SECRETARIA DE SEGURIDAD CIUDADANA</td>\n",
       "      <td>NaN</td>\n",
       "      <td>NaN</td>\n",
       "      <td>25.5</td>\n",
       "      <td>NaN</td>\n",
       "      <td>NO DESTACADO</td>\n",
       "      <td>ACTIVO</td>\n",
       "      <td>http://monitoringpol5c3f9f24c983d.s3.amazonaws...</td>\n",
       "      <td>https://www.facebook.com/BlindarBenitoJuarez/p...</td>\n",
       "      <td>2020-06-10</td>\n",
       "      <td>2020-06-10 11:14:57</td>\n",
       "      <td>2020-06-10</td>\n",
       "      <td>NaN</td>\n",
       "    </tr>\n",
       "  </tbody>\n",
       "</table>\n",
       "</div>"
      ],
      "text/plain": [
       "      id                                             nombre            estado  \\\n",
       "0  19020  Identifican a feministas que participaron en s...  Ciudad de México   \n",
       "1  19021  Banda de Los Rudos podría ser responsable de b...  Ciudad de México   \n",
       "2  19025  Hombre es detenido por robo a negocio en calle...  Ciudad de México   \n",
       "\n",
       "           municipio                 categorias  \\\n",
       "0         Cuauhtémoc  Marchas / protesta social   \n",
       "1  Gustavo A. Madero                  Seguridad   \n",
       "2      Benito Juárez                  Seguridad   \n",
       "\n",
       "                         secretarias Linea Estacion  score  scoreManual  \\\n",
       "0  SECRETARIA DE SEGURIDAD CIUDADANA   NaN      NaN   59.8          NaN   \n",
       "1  SECRETARIA DE SEGURIDAD CIUDADANA   NaN      NaN   33.1          NaN   \n",
       "2  SECRETARIA DE SEGURIDAD CIUDADANA   NaN      NaN   25.5          NaN   \n",
       "\n",
       "      Destacado estatus                                             imagen  \\\n",
       "0  NO DESTACADO  ACTIVO  http://monitoringpol5c3f9f24c983d.s3.amazonaws...   \n",
       "1  NO DESTACADO  ACTIVO  http://monitoringpol5c3f9f24c983d.s3.amazonaws...   \n",
       "2  NO DESTACADO  ACTIVO  http://monitoringpol5c3f9f24c983d.s3.amazonaws...   \n",
       "\n",
       "                                                 url fechaCreacion  \\\n",
       "0  https://www.facebook.com/permalink.php?story_f...    2020-06-10   \n",
       "1  https://www.facebook.com/oficialticoman/posts/...    2020-06-10   \n",
       "2  https://www.facebook.com/BlindarBenitoJuarez/p...    2020-06-10   \n",
       "\n",
       "        fechaInsercion    fechaMod  idAnalitycs  \n",
       "0  2020-06-10 09:30:12  2020-06-10          NaN  \n",
       "1  2020-06-10 09:38:28  2020-06-10          NaN  \n",
       "2  2020-06-10 11:14:57  2020-06-10          NaN  "
      ]
     },
     "execution_count": 26,
     "metadata": {},
     "output_type": "execute_result"
    }
   ],
   "source": [
    "data[:3]"
   ]
  },
  {
   "cell_type": "code",
   "execution_count": 27,
   "metadata": {},
   "outputs": [
    {
     "data": {
      "text/plain": [
       "Index(['id', 'nombre', 'estado', 'municipio', 'categorias', 'secretarias',\n",
       "       'Linea', 'Estacion', 'score', 'scoreManual', 'Destacado', 'estatus',\n",
       "       'imagen', 'url', 'fechaCreacion', 'fechaInsercion', 'fechaMod',\n",
       "       'idAnalitycs'],\n",
       "      dtype='object')"
      ]
     },
     "execution_count": 27,
     "metadata": {},
     "output_type": "execute_result"
    }
   ],
   "source": [
    "data.columns"
   ]
  },
  {
   "cell_type": "code",
   "execution_count": 6,
   "metadata": {},
   "outputs": [],
   "source": [
    "datasql = pd.read_csv(\"../data/originales/salida_temas_sql.csv\")"
   ]
  },
  {
   "cell_type": "code",
   "execution_count": 7,
   "metadata": {},
   "outputs": [
    {
     "data": {
      "text/html": [
       "<div>\n",
       "<style scoped>\n",
       "    .dataframe tbody tr th:only-of-type {\n",
       "        vertical-align: middle;\n",
       "    }\n",
       "\n",
       "    .dataframe tbody tr th {\n",
       "        vertical-align: top;\n",
       "    }\n",
       "\n",
       "    .dataframe thead th {\n",
       "        text-align: right;\n",
       "    }\n",
       "</style>\n",
       "<table border=\"1\" class=\"dataframe\">\n",
       "  <thead>\n",
       "    <tr style=\"text-align: right;\">\n",
       "      <th></th>\n",
       "      <th>idTema</th>\n",
       "      <th>nombre_T</th>\n",
       "      <th>Alcance_max_top</th>\n",
       "      <th>Alcance_extra</th>\n",
       "      <th>Alcance_suma</th>\n",
       "      <th>Publicaciones</th>\n",
       "      <th>Cal_alcance</th>\n",
       "      <th>Cal_publicaciones</th>\n",
       "      <th>Calificacion</th>\n",
       "    </tr>\n",
       "  </thead>\n",
       "  <tbody>\n",
       "    <tr>\n",
       "      <th>0</th>\n",
       "      <td>2693</td>\n",
       "      <td>Balacera Artz Pedregal, mueren 2 criminales is...</td>\n",
       "      <td>4.540170e+05</td>\n",
       "      <td>2.885239e+06</td>\n",
       "      <td>3.339256e+06</td>\n",
       "      <td>172</td>\n",
       "      <td>47.072127</td>\n",
       "      <td>48.576691</td>\n",
       "      <td>95.648818</td>\n",
       "    </tr>\n",
       "    <tr>\n",
       "      <th>1</th>\n",
       "      <td>827</td>\n",
       "      <td>Localizan el cuerpo de Norberto Ronquillo en X...</td>\n",
       "      <td>3.045225e+06</td>\n",
       "      <td>3.189640e+06</td>\n",
       "      <td>6.234865e+06</td>\n",
       "      <td>136</td>\n",
       "      <td>49.028837</td>\n",
       "      <td>46.360519</td>\n",
       "      <td>95.389356</td>\n",
       "    </tr>\n",
       "    <tr>\n",
       "      <th>2</th>\n",
       "      <td>12023</td>\n",
       "      <td>CS anuncia detención de presuntos feminicidas ...</td>\n",
       "      <td>7.144220e+06</td>\n",
       "      <td>5.127239e+05</td>\n",
       "      <td>7.656944e+06</td>\n",
       "      <td>115</td>\n",
       "      <td>49.672675</td>\n",
       "      <td>44.777727</td>\n",
       "      <td>94.450401</td>\n",
       "    </tr>\n",
       "  </tbody>\n",
       "</table>\n",
       "</div>"
      ],
      "text/plain": [
       "   idTema                                           nombre_T  Alcance_max_top  \\\n",
       "0    2693  Balacera Artz Pedregal, mueren 2 criminales is...     4.540170e+05   \n",
       "1     827  Localizan el cuerpo de Norberto Ronquillo en X...     3.045225e+06   \n",
       "2   12023  CS anuncia detención de presuntos feminicidas ...     7.144220e+06   \n",
       "\n",
       "   Alcance_extra  Alcance_suma  Publicaciones  Cal_alcance  Cal_publicaciones  \\\n",
       "0   2.885239e+06  3.339256e+06            172    47.072127          48.576691   \n",
       "1   3.189640e+06  6.234865e+06            136    49.028837          46.360519   \n",
       "2   5.127239e+05  7.656944e+06            115    49.672675          44.777727   \n",
       "\n",
       "   Calificacion  \n",
       "0     95.648818  \n",
       "1     95.389356  \n",
       "2     94.450401  "
      ]
     },
     "execution_count": 7,
     "metadata": {},
     "output_type": "execute_result"
    }
   ],
   "source": [
    "datasql[:3]"
   ]
  },
  {
   "cell_type": "code",
   "execution_count": 9,
   "metadata": {},
   "outputs": [],
   "source": [
    "mixdata = pd.merge(data[[\"id\",\"score\"]],datasql[[\"idTema\",\"Calificacion\"]],how=\"outer\",left_on=\"id\",right_on=\"idTema\")"
   ]
  },
  {
   "cell_type": "code",
   "execution_count": 10,
   "metadata": {},
   "outputs": [
    {
     "data": {
      "text/html": [
       "<div>\n",
       "<style scoped>\n",
       "    .dataframe tbody tr th:only-of-type {\n",
       "        vertical-align: middle;\n",
       "    }\n",
       "\n",
       "    .dataframe tbody tr th {\n",
       "        vertical-align: top;\n",
       "    }\n",
       "\n",
       "    .dataframe thead th {\n",
       "        text-align: right;\n",
       "    }\n",
       "</style>\n",
       "<table border=\"1\" class=\"dataframe\">\n",
       "  <thead>\n",
       "    <tr style=\"text-align: right;\">\n",
       "      <th></th>\n",
       "      <th>id</th>\n",
       "      <th>score</th>\n",
       "      <th>idTema</th>\n",
       "      <th>Calificacion</th>\n",
       "    </tr>\n",
       "  </thead>\n",
       "  <tbody>\n",
       "    <tr>\n",
       "      <th>0</th>\n",
       "      <td>19020.0</td>\n",
       "      <td>59.8</td>\n",
       "      <td>19020.0</td>\n",
       "      <td>66.405267</td>\n",
       "    </tr>\n",
       "    <tr>\n",
       "      <th>1</th>\n",
       "      <td>19021.0</td>\n",
       "      <td>33.1</td>\n",
       "      <td>19021.0</td>\n",
       "      <td>33.541659</td>\n",
       "    </tr>\n",
       "    <tr>\n",
       "      <th>2</th>\n",
       "      <td>19025.0</td>\n",
       "      <td>25.5</td>\n",
       "      <td>19025.0</td>\n",
       "      <td>25.838722</td>\n",
       "    </tr>\n",
       "  </tbody>\n",
       "</table>\n",
       "</div>"
      ],
      "text/plain": [
       "        id  score   idTema  Calificacion\n",
       "0  19020.0   59.8  19020.0     66.405267\n",
       "1  19021.0   33.1  19021.0     33.541659\n",
       "2  19025.0   25.5  19025.0     25.838722"
      ]
     },
     "execution_count": 10,
     "metadata": {},
     "output_type": "execute_result"
    }
   ],
   "source": [
    "mixdata[:3]"
   ]
  },
  {
   "cell_type": "code",
   "execution_count": 13,
   "metadata": {},
   "outputs": [
    {
     "data": {
      "text/plain": [
       "False    9779\n",
       "True       56\n",
       "Name: score, dtype: int64"
      ]
     },
     "execution_count": 13,
     "metadata": {},
     "output_type": "execute_result"
    }
   ],
   "source": [
    "mixdata[\"score\"].isna().value_counts()"
   ]
  },
  {
   "cell_type": "code",
   "execution_count": 14,
   "metadata": {},
   "outputs": [
    {
     "data": {
      "text/plain": [
       "False    9691\n",
       "True      144\n",
       "Name: Calificacion, dtype: int64"
      ]
     },
     "execution_count": 14,
     "metadata": {},
     "output_type": "execute_result"
    }
   ],
   "source": [
    "mixdata[\"Calificacion\"].isna().value_counts()"
   ]
  },
  {
   "cell_type": "code",
   "execution_count": 17,
   "metadata": {},
   "outputs": [],
   "source": [
    "mixdata[\"resta\"] = (mixdata[\"score\"]-mixdata[\"Calificacion\"])"
   ]
  },
  {
   "cell_type": "code",
   "execution_count": 28,
   "metadata": {},
   "outputs": [
    {
     "data": {
      "text/html": [
       "<div>\n",
       "<style scoped>\n",
       "    .dataframe tbody tr th:only-of-type {\n",
       "        vertical-align: middle;\n",
       "    }\n",
       "\n",
       "    .dataframe tbody tr th {\n",
       "        vertical-align: top;\n",
       "    }\n",
       "\n",
       "    .dataframe thead th {\n",
       "        text-align: right;\n",
       "    }\n",
       "</style>\n",
       "<table border=\"1\" class=\"dataframe\">\n",
       "  <thead>\n",
       "    <tr style=\"text-align: right;\">\n",
       "      <th></th>\n",
       "      <th>id</th>\n",
       "      <th>score</th>\n",
       "      <th>idTema</th>\n",
       "      <th>Calificacion</th>\n",
       "      <th>resta</th>\n",
       "    </tr>\n",
       "  </thead>\n",
       "  <tbody>\n",
       "    <tr>\n",
       "      <th>8</th>\n",
       "      <td>19053.0</td>\n",
       "      <td>9.4</td>\n",
       "      <td>19053.0</td>\n",
       "      <td>33.900352</td>\n",
       "      <td>-24.500352</td>\n",
       "    </tr>\n",
       "    <tr>\n",
       "      <th>46</th>\n",
       "      <td>18989.0</td>\n",
       "      <td>53.2</td>\n",
       "      <td>18989.0</td>\n",
       "      <td>28.993183</td>\n",
       "      <td>24.206817</td>\n",
       "    </tr>\n",
       "    <tr>\n",
       "      <th>936</th>\n",
       "      <td>17127.0</td>\n",
       "      <td>40.8</td>\n",
       "      <td>17127.0</td>\n",
       "      <td>17.111845</td>\n",
       "      <td>23.688155</td>\n",
       "    </tr>\n",
       "    <tr>\n",
       "      <th>4086</th>\n",
       "      <td>11792.0</td>\n",
       "      <td>38.8</td>\n",
       "      <td>11792.0</td>\n",
       "      <td>15.791175</td>\n",
       "      <td>23.008825</td>\n",
       "    </tr>\n",
       "    <tr>\n",
       "      <th>4535</th>\n",
       "      <td>11211.0</td>\n",
       "      <td>43.6</td>\n",
       "      <td>11211.0</td>\n",
       "      <td>20.593887</td>\n",
       "      <td>23.006113</td>\n",
       "    </tr>\n",
       "    <tr>\n",
       "      <th>4890</th>\n",
       "      <td>10647.0</td>\n",
       "      <td>38.8</td>\n",
       "      <td>10647.0</td>\n",
       "      <td>15.791175</td>\n",
       "      <td>23.008825</td>\n",
       "    </tr>\n",
       "    <tr>\n",
       "      <th>4915</th>\n",
       "      <td>10563.0</td>\n",
       "      <td>38.8</td>\n",
       "      <td>10563.0</td>\n",
       "      <td>15.791175</td>\n",
       "      <td>23.008825</td>\n",
       "    </tr>\n",
       "    <tr>\n",
       "      <th>6292</th>\n",
       "      <td>8477.0</td>\n",
       "      <td>48.7</td>\n",
       "      <td>8477.0</td>\n",
       "      <td>28.041626</td>\n",
       "      <td>20.658374</td>\n",
       "    </tr>\n",
       "    <tr>\n",
       "      <th>8820</th>\n",
       "      <td>2626.0</td>\n",
       "      <td>46.7</td>\n",
       "      <td>2626.0</td>\n",
       "      <td>22.072673</td>\n",
       "      <td>24.627327</td>\n",
       "    </tr>\n",
       "    <tr>\n",
       "      <th>9168</th>\n",
       "      <td>1893.0</td>\n",
       "      <td>38.8</td>\n",
       "      <td>1893.0</td>\n",
       "      <td>15.791175</td>\n",
       "      <td>23.008825</td>\n",
       "    </tr>\n",
       "    <tr>\n",
       "      <th>9358</th>\n",
       "      <td>1439.0</td>\n",
       "      <td>47.8</td>\n",
       "      <td>1439.0</td>\n",
       "      <td>26.578852</td>\n",
       "      <td>21.221148</td>\n",
       "    </tr>\n",
       "  </tbody>\n",
       "</table>\n",
       "</div>"
      ],
      "text/plain": [
       "           id  score   idTema  Calificacion      resta\n",
       "8     19053.0    9.4  19053.0     33.900352 -24.500352\n",
       "46    18989.0   53.2  18989.0     28.993183  24.206817\n",
       "936   17127.0   40.8  17127.0     17.111845  23.688155\n",
       "4086  11792.0   38.8  11792.0     15.791175  23.008825\n",
       "4535  11211.0   43.6  11211.0     20.593887  23.006113\n",
       "4890  10647.0   38.8  10647.0     15.791175  23.008825\n",
       "4915  10563.0   38.8  10563.0     15.791175  23.008825\n",
       "6292   8477.0   48.7   8477.0     28.041626  20.658374\n",
       "8820   2626.0   46.7   2626.0     22.072673  24.627327\n",
       "9168   1893.0   38.8   1893.0     15.791175  23.008825\n",
       "9358   1439.0   47.8   1439.0     26.578852  21.221148"
      ]
     },
     "execution_count": 28,
     "metadata": {},
     "output_type": "execute_result"
    }
   ],
   "source": [
    "mixdata[mixdata[\"resta\"].abs()>20]"
   ]
  },
  {
   "cell_type": "code",
   "execution_count": null,
   "metadata": {},
   "outputs": [],
   "source": []
  }
 ],
 "metadata": {
  "kernelspec": {
   "display_name": "Python 3",
   "language": "python",
   "name": "python3"
  },
  "language_info": {
   "codemirror_mode": {
    "name": "ipython",
    "version": 3
   },
   "file_extension": ".py",
   "mimetype": "text/x-python",
   "name": "python",
   "nbconvert_exporter": "python",
   "pygments_lexer": "ipython3",
   "version": "3.7.7"
  }
 },
 "nbformat": 4,
 "nbformat_minor": 4
}
