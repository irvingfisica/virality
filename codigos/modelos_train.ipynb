{
 "cells": [
  {
   "cell_type": "code",
   "execution_count": 1,
   "metadata": {},
   "outputs": [],
   "source": [
    "import pandas as pd\n",
    "import numpy as np\n",
    "import bokeh.plotting as bpl\n",
    "from bokeh.io import export_png"
   ]
  },
  {
   "cell_type": "code",
   "execution_count": 2,
   "metadata": {},
   "outputs": [
    {
     "data": {
      "text/html": [
       "\n",
       "    <div class=\"bk-root\">\n",
       "        <a href=\"https://bokeh.org\" target=\"_blank\" class=\"bk-logo bk-logo-small bk-logo-notebook\"></a>\n",
       "        <span id=\"1001\">Loading BokehJS ...</span>\n",
       "    </div>"
      ]
     },
     "metadata": {},
     "output_type": "display_data"
    },
    {
     "data": {
      "application/javascript": [
       "\n",
       "(function(root) {\n",
       "  function now() {\n",
       "    return new Date();\n",
       "  }\n",
       "\n",
       "  var force = true;\n",
       "\n",
       "  if (typeof root._bokeh_onload_callbacks === \"undefined\" || force === true) {\n",
       "    root._bokeh_onload_callbacks = [];\n",
       "    root._bokeh_is_loading = undefined;\n",
       "  }\n",
       "\n",
       "  var JS_MIME_TYPE = 'application/javascript';\n",
       "  var HTML_MIME_TYPE = 'text/html';\n",
       "  var EXEC_MIME_TYPE = 'application/vnd.bokehjs_exec.v0+json';\n",
       "  var CLASS_NAME = 'output_bokeh rendered_html';\n",
       "\n",
       "  /**\n",
       "   * Render data to the DOM node\n",
       "   */\n",
       "  function render(props, node) {\n",
       "    var script = document.createElement(\"script\");\n",
       "    node.appendChild(script);\n",
       "  }\n",
       "\n",
       "  /**\n",
       "   * Handle when an output is cleared or removed\n",
       "   */\n",
       "  function handleClearOutput(event, handle) {\n",
       "    var cell = handle.cell;\n",
       "\n",
       "    var id = cell.output_area._bokeh_element_id;\n",
       "    var server_id = cell.output_area._bokeh_server_id;\n",
       "    // Clean up Bokeh references\n",
       "    if (id != null && id in Bokeh.index) {\n",
       "      Bokeh.index[id].model.document.clear();\n",
       "      delete Bokeh.index[id];\n",
       "    }\n",
       "\n",
       "    if (server_id !== undefined) {\n",
       "      // Clean up Bokeh references\n",
       "      var cmd = \"from bokeh.io.state import curstate; print(curstate().uuid_to_server['\" + server_id + \"'].get_sessions()[0].document.roots[0]._id)\";\n",
       "      cell.notebook.kernel.execute(cmd, {\n",
       "        iopub: {\n",
       "          output: function(msg) {\n",
       "            var id = msg.content.text.trim();\n",
       "            if (id in Bokeh.index) {\n",
       "              Bokeh.index[id].model.document.clear();\n",
       "              delete Bokeh.index[id];\n",
       "            }\n",
       "          }\n",
       "        }\n",
       "      });\n",
       "      // Destroy server and session\n",
       "      var cmd = \"import bokeh.io.notebook as ion; ion.destroy_server('\" + server_id + \"')\";\n",
       "      cell.notebook.kernel.execute(cmd);\n",
       "    }\n",
       "  }\n",
       "\n",
       "  /**\n",
       "   * Handle when a new output is added\n",
       "   */\n",
       "  function handleAddOutput(event, handle) {\n",
       "    var output_area = handle.output_area;\n",
       "    var output = handle.output;\n",
       "\n",
       "    // limit handleAddOutput to display_data with EXEC_MIME_TYPE content only\n",
       "    if ((output.output_type != \"display_data\") || (!output.data.hasOwnProperty(EXEC_MIME_TYPE))) {\n",
       "      return\n",
       "    }\n",
       "\n",
       "    var toinsert = output_area.element.find(\".\" + CLASS_NAME.split(' ')[0]);\n",
       "\n",
       "    if (output.metadata[EXEC_MIME_TYPE][\"id\"] !== undefined) {\n",
       "      toinsert[toinsert.length - 1].firstChild.textContent = output.data[JS_MIME_TYPE];\n",
       "      // store reference to embed id on output_area\n",
       "      output_area._bokeh_element_id = output.metadata[EXEC_MIME_TYPE][\"id\"];\n",
       "    }\n",
       "    if (output.metadata[EXEC_MIME_TYPE][\"server_id\"] !== undefined) {\n",
       "      var bk_div = document.createElement(\"div\");\n",
       "      bk_div.innerHTML = output.data[HTML_MIME_TYPE];\n",
       "      var script_attrs = bk_div.children[0].attributes;\n",
       "      for (var i = 0; i < script_attrs.length; i++) {\n",
       "        toinsert[toinsert.length - 1].firstChild.setAttribute(script_attrs[i].name, script_attrs[i].value);\n",
       "        toinsert[toinsert.length - 1].firstChild.textContent = bk_div.children[0].textContent\n",
       "      }\n",
       "      // store reference to server id on output_area\n",
       "      output_area._bokeh_server_id = output.metadata[EXEC_MIME_TYPE][\"server_id\"];\n",
       "    }\n",
       "  }\n",
       "\n",
       "  function register_renderer(events, OutputArea) {\n",
       "\n",
       "    function append_mime(data, metadata, element) {\n",
       "      // create a DOM node to render to\n",
       "      var toinsert = this.create_output_subarea(\n",
       "        metadata,\n",
       "        CLASS_NAME,\n",
       "        EXEC_MIME_TYPE\n",
       "      );\n",
       "      this.keyboard_manager.register_events(toinsert);\n",
       "      // Render to node\n",
       "      var props = {data: data, metadata: metadata[EXEC_MIME_TYPE]};\n",
       "      render(props, toinsert[toinsert.length - 1]);\n",
       "      element.append(toinsert);\n",
       "      return toinsert\n",
       "    }\n",
       "\n",
       "    /* Handle when an output is cleared or removed */\n",
       "    events.on('clear_output.CodeCell', handleClearOutput);\n",
       "    events.on('delete.Cell', handleClearOutput);\n",
       "\n",
       "    /* Handle when a new output is added */\n",
       "    events.on('output_added.OutputArea', handleAddOutput);\n",
       "\n",
       "    /**\n",
       "     * Register the mime type and append_mime function with output_area\n",
       "     */\n",
       "    OutputArea.prototype.register_mime_type(EXEC_MIME_TYPE, append_mime, {\n",
       "      /* Is output safe? */\n",
       "      safe: true,\n",
       "      /* Index of renderer in `output_area.display_order` */\n",
       "      index: 0\n",
       "    });\n",
       "  }\n",
       "\n",
       "  // register the mime type if in Jupyter Notebook environment and previously unregistered\n",
       "  if (root.Jupyter !== undefined) {\n",
       "    var events = require('base/js/events');\n",
       "    var OutputArea = require('notebook/js/outputarea').OutputArea;\n",
       "\n",
       "    if (OutputArea.prototype.mime_types().indexOf(EXEC_MIME_TYPE) == -1) {\n",
       "      register_renderer(events, OutputArea);\n",
       "    }\n",
       "  }\n",
       "\n",
       "  \n",
       "  if (typeof (root._bokeh_timeout) === \"undefined\" || force === true) {\n",
       "    root._bokeh_timeout = Date.now() + 5000;\n",
       "    root._bokeh_failed_load = false;\n",
       "  }\n",
       "\n",
       "  var NB_LOAD_WARNING = {'data': {'text/html':\n",
       "     \"<div style='background-color: #fdd'>\\n\"+\n",
       "     \"<p>\\n\"+\n",
       "     \"BokehJS does not appear to have successfully loaded. If loading BokehJS from CDN, this \\n\"+\n",
       "     \"may be due to a slow or bad network connection. Possible fixes:\\n\"+\n",
       "     \"</p>\\n\"+\n",
       "     \"<ul>\\n\"+\n",
       "     \"<li>re-rerun `output_notebook()` to attempt to load from CDN again, or</li>\\n\"+\n",
       "     \"<li>use INLINE resources instead, as so:</li>\\n\"+\n",
       "     \"</ul>\\n\"+\n",
       "     \"<code>\\n\"+\n",
       "     \"from bokeh.resources import INLINE\\n\"+\n",
       "     \"output_notebook(resources=INLINE)\\n\"+\n",
       "     \"</code>\\n\"+\n",
       "     \"</div>\"}};\n",
       "\n",
       "  function display_loaded() {\n",
       "    var el = document.getElementById(\"1001\");\n",
       "    if (el != null) {\n",
       "      el.textContent = \"BokehJS is loading...\";\n",
       "    }\n",
       "    if (root.Bokeh !== undefined) {\n",
       "      if (el != null) {\n",
       "        el.textContent = \"BokehJS \" + root.Bokeh.version + \" successfully loaded.\";\n",
       "      }\n",
       "    } else if (Date.now() < root._bokeh_timeout) {\n",
       "      setTimeout(display_loaded, 100)\n",
       "    }\n",
       "  }\n",
       "\n",
       "\n",
       "  function run_callbacks() {\n",
       "    try {\n",
       "      root._bokeh_onload_callbacks.forEach(function(callback) {\n",
       "        if (callback != null)\n",
       "          callback();\n",
       "      });\n",
       "    } finally {\n",
       "      delete root._bokeh_onload_callbacks\n",
       "    }\n",
       "    console.debug(\"Bokeh: all callbacks have finished\");\n",
       "  }\n",
       "\n",
       "  function load_libs(css_urls, js_urls, callback) {\n",
       "    if (css_urls == null) css_urls = [];\n",
       "    if (js_urls == null) js_urls = [];\n",
       "\n",
       "    root._bokeh_onload_callbacks.push(callback);\n",
       "    if (root._bokeh_is_loading > 0) {\n",
       "      console.debug(\"Bokeh: BokehJS is being loaded, scheduling callback at\", now());\n",
       "      return null;\n",
       "    }\n",
       "    if (js_urls == null || js_urls.length === 0) {\n",
       "      run_callbacks();\n",
       "      return null;\n",
       "    }\n",
       "    console.debug(\"Bokeh: BokehJS not loaded, scheduling load and callback at\", now());\n",
       "    root._bokeh_is_loading = css_urls.length + js_urls.length;\n",
       "\n",
       "    function on_load() {\n",
       "      root._bokeh_is_loading--;\n",
       "      if (root._bokeh_is_loading === 0) {\n",
       "        console.debug(\"Bokeh: all BokehJS libraries/stylesheets loaded\");\n",
       "        run_callbacks()\n",
       "      }\n",
       "    }\n",
       "\n",
       "    function on_error() {\n",
       "      console.error(\"failed to load \" + url);\n",
       "    }\n",
       "\n",
       "    for (var i = 0; i < css_urls.length; i++) {\n",
       "      var url = css_urls[i];\n",
       "      const element = document.createElement(\"link\");\n",
       "      element.onload = on_load;\n",
       "      element.onerror = on_error;\n",
       "      element.rel = \"stylesheet\";\n",
       "      element.type = \"text/css\";\n",
       "      element.href = url;\n",
       "      console.debug(\"Bokeh: injecting link tag for BokehJS stylesheet: \", url);\n",
       "      document.body.appendChild(element);\n",
       "    }\n",
       "\n",
       "    const hashes = {\"https://cdn.bokeh.org/bokeh/release/bokeh-2.0.1.min.js\": \"JpP8FXbgAZLkfur7LiK3j9AGBhHNIvF742meBJrjO2ShJDhCG2I1uVvW+0DUtrmc\", \"https://cdn.bokeh.org/bokeh/release/bokeh-widgets-2.0.1.min.js\": \"xZlADit0Q04ISQEdKg2k3L4W9AwQBAuDs9nJL9fM/WwzL1tEU9VPNezOFX0nLEAz\", \"https://cdn.bokeh.org/bokeh/release/bokeh-tables-2.0.1.min.js\": \"4BuPRZkdMKSnj3zoxiNrQ86XgNw0rYmBOxe7nshquXwwcauupgBF2DHLVG1WuZlV\", \"https://cdn.bokeh.org/bokeh/release/bokeh-gl-2.0.1.min.js\": \"Dv1SQ87hmDqK6S5OhBf0bCuwAEvL5QYL0PuR/F1SPVhCS/r/abjkbpKDYL2zeM19\"};\n",
       "\n",
       "    for (var i = 0; i < js_urls.length; i++) {\n",
       "      var url = js_urls[i];\n",
       "      var element = document.createElement('script');\n",
       "      element.onload = on_load;\n",
       "      element.onerror = on_error;\n",
       "      element.async = false;\n",
       "      element.src = url;\n",
       "      if (url in hashes) {\n",
       "        element.crossOrigin = \"anonymous\";\n",
       "        element.integrity = \"sha384-\" + hashes[url];\n",
       "      }\n",
       "      console.debug(\"Bokeh: injecting script tag for BokehJS library: \", url);\n",
       "      document.head.appendChild(element);\n",
       "    }\n",
       "  };var element = document.getElementById(\"1001\");\n",
       "  if (element == null) {\n",
       "    console.error(\"Bokeh: ERROR: autoload.js configured with elementid '1001' but no matching script tag was found. \")\n",
       "    return false;\n",
       "  }\n",
       "\n",
       "  function inject_raw_css(css) {\n",
       "    const element = document.createElement(\"style\");\n",
       "    element.appendChild(document.createTextNode(css));\n",
       "    document.body.appendChild(element);\n",
       "  }\n",
       "\n",
       "  \n",
       "  var js_urls = [\"https://cdn.bokeh.org/bokeh/release/bokeh-2.0.1.min.js\", \"https://cdn.bokeh.org/bokeh/release/bokeh-widgets-2.0.1.min.js\", \"https://cdn.bokeh.org/bokeh/release/bokeh-tables-2.0.1.min.js\", \"https://cdn.bokeh.org/bokeh/release/bokeh-gl-2.0.1.min.js\"];\n",
       "  var css_urls = [];\n",
       "  \n",
       "\n",
       "  var inline_js = [\n",
       "    function(Bokeh) {\n",
       "      Bokeh.set_log_level(\"info\");\n",
       "    },\n",
       "    function(Bokeh) {\n",
       "    \n",
       "    \n",
       "    }\n",
       "  ];\n",
       "\n",
       "  function run_inline_js() {\n",
       "    \n",
       "    if (root.Bokeh !== undefined || force === true) {\n",
       "      \n",
       "    for (var i = 0; i < inline_js.length; i++) {\n",
       "      inline_js[i].call(root, root.Bokeh);\n",
       "    }\n",
       "    if (force === true) {\n",
       "        display_loaded();\n",
       "      }} else if (Date.now() < root._bokeh_timeout) {\n",
       "      setTimeout(run_inline_js, 100);\n",
       "    } else if (!root._bokeh_failed_load) {\n",
       "      console.log(\"Bokeh: BokehJS failed to load within specified timeout.\");\n",
       "      root._bokeh_failed_load = true;\n",
       "    } else if (force !== true) {\n",
       "      var cell = $(document.getElementById(\"1001\")).parents('.cell').data().cell;\n",
       "      cell.output_area.append_execute_result(NB_LOAD_WARNING)\n",
       "    }\n",
       "\n",
       "  }\n",
       "\n",
       "  if (root._bokeh_is_loading === 0) {\n",
       "    console.debug(\"Bokeh: BokehJS loaded, going straight to plotting\");\n",
       "    run_inline_js();\n",
       "  } else {\n",
       "    load_libs(css_urls, js_urls, function() {\n",
       "      console.debug(\"Bokeh: BokehJS plotting callback run at\", now());\n",
       "      run_inline_js();\n",
       "    });\n",
       "  }\n",
       "}(window));"
      ],
      "application/vnd.bokehjs_load.v0+json": "\n(function(root) {\n  function now() {\n    return new Date();\n  }\n\n  var force = true;\n\n  if (typeof root._bokeh_onload_callbacks === \"undefined\" || force === true) {\n    root._bokeh_onload_callbacks = [];\n    root._bokeh_is_loading = undefined;\n  }\n\n  \n\n  \n  if (typeof (root._bokeh_timeout) === \"undefined\" || force === true) {\n    root._bokeh_timeout = Date.now() + 5000;\n    root._bokeh_failed_load = false;\n  }\n\n  var NB_LOAD_WARNING = {'data': {'text/html':\n     \"<div style='background-color: #fdd'>\\n\"+\n     \"<p>\\n\"+\n     \"BokehJS does not appear to have successfully loaded. If loading BokehJS from CDN, this \\n\"+\n     \"may be due to a slow or bad network connection. Possible fixes:\\n\"+\n     \"</p>\\n\"+\n     \"<ul>\\n\"+\n     \"<li>re-rerun `output_notebook()` to attempt to load from CDN again, or</li>\\n\"+\n     \"<li>use INLINE resources instead, as so:</li>\\n\"+\n     \"</ul>\\n\"+\n     \"<code>\\n\"+\n     \"from bokeh.resources import INLINE\\n\"+\n     \"output_notebook(resources=INLINE)\\n\"+\n     \"</code>\\n\"+\n     \"</div>\"}};\n\n  function display_loaded() {\n    var el = document.getElementById(\"1001\");\n    if (el != null) {\n      el.textContent = \"BokehJS is loading...\";\n    }\n    if (root.Bokeh !== undefined) {\n      if (el != null) {\n        el.textContent = \"BokehJS \" + root.Bokeh.version + \" successfully loaded.\";\n      }\n    } else if (Date.now() < root._bokeh_timeout) {\n      setTimeout(display_loaded, 100)\n    }\n  }\n\n\n  function run_callbacks() {\n    try {\n      root._bokeh_onload_callbacks.forEach(function(callback) {\n        if (callback != null)\n          callback();\n      });\n    } finally {\n      delete root._bokeh_onload_callbacks\n    }\n    console.debug(\"Bokeh: all callbacks have finished\");\n  }\n\n  function load_libs(css_urls, js_urls, callback) {\n    if (css_urls == null) css_urls = [];\n    if (js_urls == null) js_urls = [];\n\n    root._bokeh_onload_callbacks.push(callback);\n    if (root._bokeh_is_loading > 0) {\n      console.debug(\"Bokeh: BokehJS is being loaded, scheduling callback at\", now());\n      return null;\n    }\n    if (js_urls == null || js_urls.length === 0) {\n      run_callbacks();\n      return null;\n    }\n    console.debug(\"Bokeh: BokehJS not loaded, scheduling load and callback at\", now());\n    root._bokeh_is_loading = css_urls.length + js_urls.length;\n\n    function on_load() {\n      root._bokeh_is_loading--;\n      if (root._bokeh_is_loading === 0) {\n        console.debug(\"Bokeh: all BokehJS libraries/stylesheets loaded\");\n        run_callbacks()\n      }\n    }\n\n    function on_error() {\n      console.error(\"failed to load \" + url);\n    }\n\n    for (var i = 0; i < css_urls.length; i++) {\n      var url = css_urls[i];\n      const element = document.createElement(\"link\");\n      element.onload = on_load;\n      element.onerror = on_error;\n      element.rel = \"stylesheet\";\n      element.type = \"text/css\";\n      element.href = url;\n      console.debug(\"Bokeh: injecting link tag for BokehJS stylesheet: \", url);\n      document.body.appendChild(element);\n    }\n\n    const hashes = {\"https://cdn.bokeh.org/bokeh/release/bokeh-2.0.1.min.js\": \"JpP8FXbgAZLkfur7LiK3j9AGBhHNIvF742meBJrjO2ShJDhCG2I1uVvW+0DUtrmc\", \"https://cdn.bokeh.org/bokeh/release/bokeh-widgets-2.0.1.min.js\": \"xZlADit0Q04ISQEdKg2k3L4W9AwQBAuDs9nJL9fM/WwzL1tEU9VPNezOFX0nLEAz\", \"https://cdn.bokeh.org/bokeh/release/bokeh-tables-2.0.1.min.js\": \"4BuPRZkdMKSnj3zoxiNrQ86XgNw0rYmBOxe7nshquXwwcauupgBF2DHLVG1WuZlV\", \"https://cdn.bokeh.org/bokeh/release/bokeh-gl-2.0.1.min.js\": \"Dv1SQ87hmDqK6S5OhBf0bCuwAEvL5QYL0PuR/F1SPVhCS/r/abjkbpKDYL2zeM19\"};\n\n    for (var i = 0; i < js_urls.length; i++) {\n      var url = js_urls[i];\n      var element = document.createElement('script');\n      element.onload = on_load;\n      element.onerror = on_error;\n      element.async = false;\n      element.src = url;\n      if (url in hashes) {\n        element.crossOrigin = \"anonymous\";\n        element.integrity = \"sha384-\" + hashes[url];\n      }\n      console.debug(\"Bokeh: injecting script tag for BokehJS library: \", url);\n      document.head.appendChild(element);\n    }\n  };var element = document.getElementById(\"1001\");\n  if (element == null) {\n    console.error(\"Bokeh: ERROR: autoload.js configured with elementid '1001' but no matching script tag was found. \")\n    return false;\n  }\n\n  function inject_raw_css(css) {\n    const element = document.createElement(\"style\");\n    element.appendChild(document.createTextNode(css));\n    document.body.appendChild(element);\n  }\n\n  \n  var js_urls = [\"https://cdn.bokeh.org/bokeh/release/bokeh-2.0.1.min.js\", \"https://cdn.bokeh.org/bokeh/release/bokeh-widgets-2.0.1.min.js\", \"https://cdn.bokeh.org/bokeh/release/bokeh-tables-2.0.1.min.js\", \"https://cdn.bokeh.org/bokeh/release/bokeh-gl-2.0.1.min.js\"];\n  var css_urls = [];\n  \n\n  var inline_js = [\n    function(Bokeh) {\n      Bokeh.set_log_level(\"info\");\n    },\n    function(Bokeh) {\n    \n    \n    }\n  ];\n\n  function run_inline_js() {\n    \n    if (root.Bokeh !== undefined || force === true) {\n      \n    for (var i = 0; i < inline_js.length; i++) {\n      inline_js[i].call(root, root.Bokeh);\n    }\n    if (force === true) {\n        display_loaded();\n      }} else if (Date.now() < root._bokeh_timeout) {\n      setTimeout(run_inline_js, 100);\n    } else if (!root._bokeh_failed_load) {\n      console.log(\"Bokeh: BokehJS failed to load within specified timeout.\");\n      root._bokeh_failed_load = true;\n    } else if (force !== true) {\n      var cell = $(document.getElementById(\"1001\")).parents('.cell').data().cell;\n      cell.output_area.append_execute_result(NB_LOAD_WARNING)\n    }\n\n  }\n\n  if (root._bokeh_is_loading === 0) {\n    console.debug(\"Bokeh: BokehJS loaded, going straight to plotting\");\n    run_inline_js();\n  } else {\n    load_libs(css_urls, js_urls, function() {\n      console.debug(\"Bokeh: BokehJS plotting callback run at\", now());\n      run_inline_js();\n    });\n  }\n}(window));"
     },
     "metadata": {},
     "output_type": "display_data"
    }
   ],
   "source": [
    "bpl.output_notebook()"
   ]
  },
  {
   "cell_type": "markdown",
   "metadata": {},
   "source": [
    "Carga de datos de publicaciones"
   ]
  },
  {
   "cell_type": "code",
   "execution_count": 3,
   "metadata": {},
   "outputs": [],
   "source": [
    "data = pd.read_csv(\"../data/originales/posts.csv\")"
   ]
  },
  {
   "cell_type": "code",
   "execution_count": 4,
   "metadata": {},
   "outputs": [
    {
     "data": {
      "text/html": [
       "<div>\n",
       "<style scoped>\n",
       "    .dataframe tbody tr th:only-of-type {\n",
       "        vertical-align: middle;\n",
       "    }\n",
       "\n",
       "    .dataframe tbody tr th {\n",
       "        vertical-align: top;\n",
       "    }\n",
       "\n",
       "    .dataframe thead th {\n",
       "        text-align: right;\n",
       "    }\n",
       "</style>\n",
       "<table border=\"1\" class=\"dataframe\">\n",
       "  <thead>\n",
       "    <tr style=\"text-align: right;\">\n",
       "      <th></th>\n",
       "      <th>id</th>\n",
       "      <th>url</th>\n",
       "      <th>idPagina</th>\n",
       "      <th>nombrePagina</th>\n",
       "      <th>likesPagina</th>\n",
       "      <th>idPost</th>\n",
       "      <th>likes</th>\n",
       "      <th>love</th>\n",
       "      <th>angry</th>\n",
       "      <th>wow</th>\n",
       "      <th>...</th>\n",
       "      <th>sad</th>\n",
       "      <th>shares</th>\n",
       "      <th>comments</th>\n",
       "      <th>impresions</th>\n",
       "      <th>scope</th>\n",
       "      <th>postDate</th>\n",
       "      <th>views</th>\n",
       "      <th>tipo</th>\n",
       "      <th>paidStatus</th>\n",
       "      <th>postNoPauta</th>\n",
       "    </tr>\n",
       "  </thead>\n",
       "  <tbody>\n",
       "    <tr>\n",
       "      <th>0</th>\n",
       "      <td>1</td>\n",
       "      <td>https://www.facebook.com/191231480284/posts/10...</td>\n",
       "      <td>1.912315e+11</td>\n",
       "      <td>Gobierno de la Ciudad de México</td>\n",
       "      <td>604830</td>\n",
       "      <td>191231480284_10163125614090285</td>\n",
       "      <td>18</td>\n",
       "      <td>7</td>\n",
       "      <td>0</td>\n",
       "      <td>0</td>\n",
       "      <td>...</td>\n",
       "      <td>0</td>\n",
       "      <td>4</td>\n",
       "      <td>1</td>\n",
       "      <td>4373</td>\n",
       "      <td>3660</td>\n",
       "      <td>2020-03-19T15:00:01+0000</td>\n",
       "      <td>0</td>\n",
       "      <td>Post</td>\n",
       "      <td>inactive</td>\n",
       "      <td>NaN</td>\n",
       "    </tr>\n",
       "    <tr>\n",
       "      <th>1</th>\n",
       "      <td>2</td>\n",
       "      <td>https://www.facebook.com/GobiernoCDMX/videos/7...</td>\n",
       "      <td>1.912315e+11</td>\n",
       "      <td>Gobierno de la Ciudad de México</td>\n",
       "      <td>604830</td>\n",
       "      <td>191231480284_771993773326751</td>\n",
       "      <td>526</td>\n",
       "      <td>117</td>\n",
       "      <td>189</td>\n",
       "      <td>15</td>\n",
       "      <td>...</td>\n",
       "      <td>8</td>\n",
       "      <td>107</td>\n",
       "      <td>495</td>\n",
       "      <td>93589</td>\n",
       "      <td>77468</td>\n",
       "      <td>2020-03-19T13:16:17+0000</td>\n",
       "      <td>40533</td>\n",
       "      <td>Video</td>\n",
       "      <td>inactive</td>\n",
       "      <td>NaN</td>\n",
       "    </tr>\n",
       "    <tr>\n",
       "      <th>2</th>\n",
       "      <td>3</td>\n",
       "      <td>https://www.facebook.com/191231480284/posts/10...</td>\n",
       "      <td>1.912315e+11</td>\n",
       "      <td>Gobierno de la Ciudad de México</td>\n",
       "      <td>604830</td>\n",
       "      <td>191231480284_10163128235245285</td>\n",
       "      <td>28</td>\n",
       "      <td>1</td>\n",
       "      <td>0</td>\n",
       "      <td>0</td>\n",
       "      <td>...</td>\n",
       "      <td>0</td>\n",
       "      <td>13</td>\n",
       "      <td>4</td>\n",
       "      <td>5106</td>\n",
       "      <td>4399</td>\n",
       "      <td>2020-03-19T01:22:23+0000</td>\n",
       "      <td>878</td>\n",
       "      <td>Video</td>\n",
       "      <td>inactive</td>\n",
       "      <td>NaN</td>\n",
       "    </tr>\n",
       "  </tbody>\n",
       "</table>\n",
       "<p>3 rows × 21 columns</p>\n",
       "</div>"
      ],
      "text/plain": [
       "   id                                                url      idPagina  \\\n",
       "0   1  https://www.facebook.com/191231480284/posts/10...  1.912315e+11   \n",
       "1   2  https://www.facebook.com/GobiernoCDMX/videos/7...  1.912315e+11   \n",
       "2   3  https://www.facebook.com/191231480284/posts/10...  1.912315e+11   \n",
       "\n",
       "                      nombrePagina  likesPagina  \\\n",
       "0  Gobierno de la Ciudad de México       604830   \n",
       "1  Gobierno de la Ciudad de México       604830   \n",
       "2  Gobierno de la Ciudad de México       604830   \n",
       "\n",
       "                           idPost  likes  love  angry  wow  ...  sad  shares  \\\n",
       "0  191231480284_10163125614090285     18     7      0    0  ...    0       4   \n",
       "1    191231480284_771993773326751    526   117    189   15  ...    8     107   \n",
       "2  191231480284_10163128235245285     28     1      0    0  ...    0      13   \n",
       "\n",
       "   comments  impresions  scope                  postDate  views   tipo  \\\n",
       "0         1        4373   3660  2020-03-19T15:00:01+0000      0   Post   \n",
       "1       495       93589  77468  2020-03-19T13:16:17+0000  40533  Video   \n",
       "2         4        5106   4399  2020-03-19T01:22:23+0000    878  Video   \n",
       "\n",
       "  paidStatus postNoPauta  \n",
       "0   inactive         NaN  \n",
       "1   inactive         NaN  \n",
       "2   inactive         NaN  \n",
       "\n",
       "[3 rows x 21 columns]"
      ]
     },
     "execution_count": 4,
     "metadata": {},
     "output_type": "execute_result"
    }
   ],
   "source": [
    "data[:3]"
   ]
  },
  {
   "cell_type": "code",
   "execution_count": 5,
   "metadata": {},
   "outputs": [
    {
     "data": {
      "text/plain": [
       "Index(['id', 'url', 'idPagina', 'nombrePagina', 'likesPagina', 'idPost',\n",
       "       'likes', 'love', 'angry', 'wow', 'haha', 'sad', 'shares', 'comments',\n",
       "       'impresions', 'scope', 'postDate', 'views', 'tipo', 'paidStatus',\n",
       "       'postNoPauta'],\n",
       "      dtype='object')"
      ]
     },
     "execution_count": 5,
     "metadata": {},
     "output_type": "execute_result"
    }
   ],
   "source": [
    "data.columns"
   ]
  },
  {
   "cell_type": "code",
   "execution_count": 6,
   "metadata": {},
   "outputs": [
    {
     "data": {
      "text/plain": [
       "25061"
      ]
     },
     "execution_count": 6,
     "metadata": {},
     "output_type": "execute_result"
    }
   ],
   "source": [
    "len(data)"
   ]
  },
  {
   "cell_type": "code",
   "execution_count": 7,
   "metadata": {},
   "outputs": [
    {
     "data": {
      "text/plain": [
       "array(['Gobierno de la Ciudad de México', 'Las 10 más virales',\n",
       "       'Tiempo de Enterarse', 'Reacción Baja California', 'Informante Mx',\n",
       "       '24 Siete', 'Aquí lo supo', 'Gobierno de Quintana Roo',\n",
       "       'Proyecto Entropía', 'Noticias para despertar', 'La voz de ahora',\n",
       "       'Metrópoli ADN', 'Síntesis informativa', 'Libre Acceso',\n",
       "       'Tamaulipas Opina', 'Instituto del Deporte de la Ciudad de México',\n",
       "       'Iniciativa Ciudadana', 'Red Córdoba News', 'Informe en Red',\n",
       "       'Vértice Noticias', 'El Informador de la Península',\n",
       "       'Referencia Noticiosa', 'ObservadorTv', 'Politicamente INcorrecto',\n",
       "       'Capital Noticias', 'Metrocdmx', 'Sol Azteca', 'La Opinión',\n",
       "       'Lo Más Relevante', 'Newsweek Tamaulipas',\n",
       "       'Todos Somos Hermosillo', 'Quadrante', 'Perspectiva Matamoros',\n",
       "       'Índice de Precios', 'Ruta Tamaulipas', 'Elecciones 2019',\n",
       "       'Polaka MX', 'Minuto x Minuto', 'Somos tu Voz', 'Código Zacatecas',\n",
       "       'Eje Informativo', 'Veracruz Unido', 'Radar Digital',\n",
       "       'Encuestas MX', 'Rescatemos a Veracruz YA', 'Estacionario',\n",
       "       'AR Agencia de Noticias', 'NO más PRI', 'NTMX', 'La Silla',\n",
       "       'Hipertexto', 'Critic-On', 'Nuevas Reglas', 'Crónica Nacional',\n",
       "       'Central de Encuestas', 'Ciudadanos con Cabeza', 'ContraPunto',\n",
       "       'Luchando por Durango', 'Puntos y Comas Media', 'Red Tamaulipeca',\n",
       "       'Pulso MX', 'Arista Noticias', 'Plataforma Informativa',\n",
       "       'Expediente', 'Plan Estatal de Desarrollo',\n",
       "       'Express de Tamaulipas', 'Dossier MX', 'Ecos de Coahuila',\n",
       "       'Tintero Digital', 'Election LAB', 'Data Lab Mx',\n",
       "       'Semanario México', 'Divergente Norte', 'Reporte Especial',\n",
       "       'Titulares de Hoy', 'Lucha Contra la Desigualdad', 'Es Noticia',\n",
       "       'Voz Libre', 'Ciudadanos Unidos', 'Tendencia 360', 'SOS Ciudadano',\n",
       "       'La Segunda Opinión', 'Conexión Informativa',\n",
       "       'Noticias en Tiempo y Forma', 'Jornada 24', 'Más Noticia',\n",
       "       'Acompáñame', 'Espacio Ciudadano', 'Hora 24', 'Voces Unidas',\n",
       "       'Red Ciudadana', 'En Datos - Tamaulipas', 'Vocero',\n",
       "       'Despierta Tamaulipas', 'El Titular', 'Por un Puebla Justo',\n",
       "       'Arre Coahuilenses', 'La Contienda', 'Morena en defensa del voto',\n",
       "       'Fuerza Ciudadana', 'Capital CDMX', 'Politikeros',\n",
       "       'Denuncia Nuevo Laredo', 'Ecos De Tamaulipas',\n",
       "       'No vendas tu voto, No vendas tu libertad', 'Frontera Noreste',\n",
       "       'El Analista de Reynosa', 'Vigilante Cdmx',\n",
       "       'Al Pie de la Letra - APL'], dtype=object)"
      ]
     },
     "execution_count": 7,
     "metadata": {},
     "output_type": "execute_result"
    }
   ],
   "source": [
    "data[\"nombrePagina\"].unique()"
   ]
  },
  {
   "cell_type": "code",
   "execution_count": 8,
   "metadata": {},
   "outputs": [],
   "source": [
    "metricas = ['likes', 'love', 'angry', 'wow', 'haha', 'sad', 'shares', 'comments']"
   ]
  },
  {
   "cell_type": "code",
   "execution_count": 9,
   "metadata": {},
   "outputs": [
    {
     "data": {
      "text/html": [
       "<div>\n",
       "<style scoped>\n",
       "    .dataframe tbody tr th:only-of-type {\n",
       "        vertical-align: middle;\n",
       "    }\n",
       "\n",
       "    .dataframe tbody tr th {\n",
       "        vertical-align: top;\n",
       "    }\n",
       "\n",
       "    .dataframe thead th {\n",
       "        text-align: right;\n",
       "    }\n",
       "</style>\n",
       "<table border=\"1\" class=\"dataframe\">\n",
       "  <thead>\n",
       "    <tr style=\"text-align: right;\">\n",
       "      <th></th>\n",
       "      <th>likes</th>\n",
       "      <th>love</th>\n",
       "      <th>angry</th>\n",
       "      <th>wow</th>\n",
       "      <th>haha</th>\n",
       "      <th>sad</th>\n",
       "      <th>shares</th>\n",
       "      <th>comments</th>\n",
       "    </tr>\n",
       "  </thead>\n",
       "  <tbody>\n",
       "    <tr>\n",
       "      <th>count</th>\n",
       "      <td>25061.000000</td>\n",
       "      <td>25061.000000</td>\n",
       "      <td>25061.000000</td>\n",
       "      <td>25061.000000</td>\n",
       "      <td>25061.000000</td>\n",
       "      <td>25061.000000</td>\n",
       "      <td>25061.000000</td>\n",
       "      <td>25061.000000</td>\n",
       "    </tr>\n",
       "    <tr>\n",
       "      <th>mean</th>\n",
       "      <td>75.689398</td>\n",
       "      <td>7.535853</td>\n",
       "      <td>1.951798</td>\n",
       "      <td>1.887834</td>\n",
       "      <td>3.005866</td>\n",
       "      <td>0.655082</td>\n",
       "      <td>57.193648</td>\n",
       "      <td>10.983600</td>\n",
       "    </tr>\n",
       "    <tr>\n",
       "      <th>std</th>\n",
       "      <td>511.499571</td>\n",
       "      <td>68.242673</td>\n",
       "      <td>51.128332</td>\n",
       "      <td>57.809444</td>\n",
       "      <td>99.856113</td>\n",
       "      <td>15.145557</td>\n",
       "      <td>2389.211299</td>\n",
       "      <td>90.370704</td>\n",
       "    </tr>\n",
       "    <tr>\n",
       "      <th>min</th>\n",
       "      <td>0.000000</td>\n",
       "      <td>0.000000</td>\n",
       "      <td>0.000000</td>\n",
       "      <td>0.000000</td>\n",
       "      <td>0.000000</td>\n",
       "      <td>0.000000</td>\n",
       "      <td>0.000000</td>\n",
       "      <td>0.000000</td>\n",
       "    </tr>\n",
       "    <tr>\n",
       "      <th>25%</th>\n",
       "      <td>2.000000</td>\n",
       "      <td>0.000000</td>\n",
       "      <td>0.000000</td>\n",
       "      <td>0.000000</td>\n",
       "      <td>0.000000</td>\n",
       "      <td>0.000000</td>\n",
       "      <td>0.000000</td>\n",
       "      <td>0.000000</td>\n",
       "    </tr>\n",
       "    <tr>\n",
       "      <th>50%</th>\n",
       "      <td>13.000000</td>\n",
       "      <td>0.000000</td>\n",
       "      <td>0.000000</td>\n",
       "      <td>0.000000</td>\n",
       "      <td>0.000000</td>\n",
       "      <td>0.000000</td>\n",
       "      <td>3.000000</td>\n",
       "      <td>1.000000</td>\n",
       "    </tr>\n",
       "    <tr>\n",
       "      <th>75%</th>\n",
       "      <td>54.000000</td>\n",
       "      <td>2.000000</td>\n",
       "      <td>0.000000</td>\n",
       "      <td>0.000000</td>\n",
       "      <td>0.000000</td>\n",
       "      <td>0.000000</td>\n",
       "      <td>13.000000</td>\n",
       "      <td>5.000000</td>\n",
       "    </tr>\n",
       "    <tr>\n",
       "      <th>max</th>\n",
       "      <td>45952.000000</td>\n",
       "      <td>4694.000000</td>\n",
       "      <td>6496.000000</td>\n",
       "      <td>8623.000000</td>\n",
       "      <td>14418.000000</td>\n",
       "      <td>1244.000000</td>\n",
       "      <td>342306.000000</td>\n",
       "      <td>5450.000000</td>\n",
       "    </tr>\n",
       "  </tbody>\n",
       "</table>\n",
       "</div>"
      ],
      "text/plain": [
       "              likes          love         angry           wow          haha  \\\n",
       "count  25061.000000  25061.000000  25061.000000  25061.000000  25061.000000   \n",
       "mean      75.689398      7.535853      1.951798      1.887834      3.005866   \n",
       "std      511.499571     68.242673     51.128332     57.809444     99.856113   \n",
       "min        0.000000      0.000000      0.000000      0.000000      0.000000   \n",
       "25%        2.000000      0.000000      0.000000      0.000000      0.000000   \n",
       "50%       13.000000      0.000000      0.000000      0.000000      0.000000   \n",
       "75%       54.000000      2.000000      0.000000      0.000000      0.000000   \n",
       "max    45952.000000   4694.000000   6496.000000   8623.000000  14418.000000   \n",
       "\n",
       "                sad         shares      comments  \n",
       "count  25061.000000   25061.000000  25061.000000  \n",
       "mean       0.655082      57.193648     10.983600  \n",
       "std       15.145557    2389.211299     90.370704  \n",
       "min        0.000000       0.000000      0.000000  \n",
       "25%        0.000000       0.000000      0.000000  \n",
       "50%        0.000000       3.000000      1.000000  \n",
       "75%        0.000000      13.000000      5.000000  \n",
       "max     1244.000000  342306.000000   5450.000000  "
      ]
     },
     "execution_count": 9,
     "metadata": {},
     "output_type": "execute_result"
    }
   ],
   "source": [
    "data[metricas].describe()"
   ]
  },
  {
   "cell_type": "code",
   "execution_count": 10,
   "metadata": {},
   "outputs": [],
   "source": [
    "data[\"reacciones\"] = data[metricas].sum(1)"
   ]
  },
  {
   "cell_type": "code",
   "execution_count": 11,
   "metadata": {},
   "outputs": [],
   "source": [
    "fdata=data[(data[\"scope\"]!=0)&(data[\"reacciones\"]>10)&(data[\"reacciones\"]<=data[\"scope\"])]"
   ]
  },
  {
   "cell_type": "code",
   "execution_count": 12,
   "metadata": {},
   "outputs": [
    {
     "data": {
      "text/plain": [
       "Index(['id', 'url', 'idPagina', 'nombrePagina', 'likesPagina', 'idPost',\n",
       "       'likes', 'love', 'angry', 'wow', 'haha', 'sad', 'shares', 'comments',\n",
       "       'impresions', 'scope', 'postDate', 'views', 'tipo', 'paidStatus',\n",
       "       'postNoPauta', 'reacciones'],\n",
       "      dtype='object')"
      ]
     },
     "execution_count": 12,
     "metadata": {},
     "output_type": "execute_result"
    }
   ],
   "source": [
    "fdata.columns"
   ]
  },
  {
   "cell_type": "code",
   "execution_count": 13,
   "metadata": {},
   "outputs": [
    {
     "data": {
      "text/plain": [
       "6954"
      ]
     },
     "execution_count": 13,
     "metadata": {},
     "output_type": "execute_result"
    }
   ],
   "source": [
    "len(fdata)"
   ]
  },
  {
   "cell_type": "code",
   "execution_count": 14,
   "metadata": {},
   "outputs": [
    {
     "data": {
      "text/plain": [
       "Post     3557\n",
       "Video    3397\n",
       "Name: tipo, dtype: int64"
      ]
     },
     "execution_count": 14,
     "metadata": {},
     "output_type": "execute_result"
    }
   ],
   "source": [
    "fdata[\"tipo\"].value_counts()"
   ]
  },
  {
   "cell_type": "code",
   "execution_count": 15,
   "metadata": {},
   "outputs": [
    {
     "data": {
      "text/plain": [
       "count      6954.000000\n",
       "mean        380.810756\n",
       "std        5441.285957\n",
       "min          11.000000\n",
       "25%          31.000000\n",
       "50%          71.000000\n",
       "75%         210.000000\n",
       "max      380608.000000\n",
       "Name: reacciones, dtype: float64"
      ]
     },
     "execution_count": 15,
     "metadata": {},
     "output_type": "execute_result"
    }
   ],
   "source": [
    "fdata[\"reacciones\"].describe()"
   ]
  },
  {
   "cell_type": "code",
   "execution_count": 16,
   "metadata": {},
   "outputs": [
    {
     "data": {
      "text/plain": [
       "65"
      ]
     },
     "execution_count": 16,
     "metadata": {},
     "output_type": "execute_result"
    }
   ],
   "source": [
    "len(fdata[\"nombrePagina\"].value_counts())"
   ]
  },
  {
   "cell_type": "code",
   "execution_count": 17,
   "metadata": {},
   "outputs": [
    {
     "data": {
      "text/plain": [
       "Gobierno de la Ciudad de México                 2257\n",
       "Metrocdmx                                       1949\n",
       "Gobierno de Quintana Roo                        1336\n",
       "Instituto del Deporte de la Ciudad de México     977\n",
       "Data Lab Mx                                       74\n",
       "La Silla                                          35\n",
       "Vigilante Cdmx                                    30\n",
       "Capital CDMX                                      26\n",
       "Polaka MX                                         26\n",
       "Proyecto Entropía                                 17\n",
       "Name: nombrePagina, dtype: int64"
      ]
     },
     "execution_count": 17,
     "metadata": {},
     "output_type": "execute_result"
    }
   ],
   "source": [
    "fdata[\"nombrePagina\"].value_counts()[:10]"
   ]
  },
  {
   "cell_type": "code",
   "execution_count": 18,
   "metadata": {},
   "outputs": [
    {
     "data": {
      "text/plain": [
       "inactive      6166\n",
       "ineligible     788\n",
       "Name: paidStatus, dtype: int64"
      ]
     },
     "execution_count": 18,
     "metadata": {},
     "output_type": "execute_result"
    }
   ],
   "source": [
    "fdata[\"paidStatus\"].value_counts()"
   ]
  },
  {
   "cell_type": "code",
   "execution_count": 19,
   "metadata": {},
   "outputs": [
    {
     "data": {
      "text/plain": [
       "12765.0    1\n",
       "12827.0    1\n",
       "12040.0    1\n",
       "11526.0    1\n",
       "8834.0     1\n",
       "Name: postNoPauta, dtype: int64"
      ]
     },
     "execution_count": 19,
     "metadata": {},
     "output_type": "execute_result"
    }
   ],
   "source": [
    "fdata[\"postNoPauta\"].value_counts()"
   ]
  },
  {
   "cell_type": "code",
   "execution_count": 20,
   "metadata": {},
   "outputs": [
    {
     "name": "stderr",
     "output_type": "stream",
     "text": [
      "D:\\Apps\\Anaconda\\lib\\site-packages\\ipykernel_launcher.py:1: SettingWithCopyWarning: \n",
      "A value is trying to be set on a copy of a slice from a DataFrame.\n",
      "Try using .loc[row_indexer,col_indexer] = value instead\n",
      "\n",
      "See the caveats in the documentation: https://pandas.pydata.org/pandas-docs/stable/user_guide/indexing.html#returning-a-view-versus-a-copy\n",
      "  \"\"\"Entry point for launching an IPython kernel.\n"
     ]
    }
   ],
   "source": [
    "fdata[\"fecha\"] = pd.to_datetime(fdata[\"postDate\"])"
   ]
  },
  {
   "cell_type": "code",
   "execution_count": 21,
   "metadata": {},
   "outputs": [
    {
     "data": {
      "text/plain": [
       "2015     177\n",
       "2016     390\n",
       "2017     716\n",
       "2018    1518\n",
       "2019    2449\n",
       "2020    1704\n",
       "Name: fecha, dtype: int64"
      ]
     },
     "execution_count": 21,
     "metadata": {},
     "output_type": "execute_result"
    }
   ],
   "source": [
    "fdata[\"fecha\"].dt.year.value_counts().sort_index()"
   ]
  },
  {
   "cell_type": "code",
   "execution_count": 22,
   "metadata": {},
   "outputs": [
    {
     "data": {
      "text/plain": [
       "1      936\n",
       "2     1012\n",
       "3      778\n",
       "4      436\n",
       "5      447\n",
       "6      433\n",
       "7      508\n",
       "8      485\n",
       "9      450\n",
       "10     458\n",
       "11     529\n",
       "12     482\n",
       "Name: fecha, dtype: int64"
      ]
     },
     "execution_count": 22,
     "metadata": {},
     "output_type": "execute_result"
    }
   ],
   "source": [
    "fdata[\"fecha\"].dt.month.value_counts().sort_index()"
   ]
  },
  {
   "cell_type": "code",
   "execution_count": 23,
   "metadata": {},
   "outputs": [
    {
     "data": {
      "text/plain": [
       "0     934\n",
       "1    1028\n",
       "2    1085\n",
       "3    1113\n",
       "4    1115\n",
       "5     826\n",
       "6     853\n",
       "Name: fecha, dtype: int64"
      ]
     },
     "execution_count": 23,
     "metadata": {},
     "output_type": "execute_result"
    }
   ],
   "source": [
    "fdata[\"fecha\"].dt.weekday.value_counts().sort_index()"
   ]
  },
  {
   "cell_type": "code",
   "execution_count": 24,
   "metadata": {},
   "outputs": [
    {
     "data": {
      "text/plain": [
       "0     464\n",
       "1     397\n",
       "2     240\n",
       "3     149\n",
       "4     123\n",
       "5     133\n",
       "6      11\n",
       "7       5\n",
       "8       6\n",
       "9       1\n",
       "10     48\n",
       "11    110\n",
       "12     89\n",
       "13    224\n",
       "14    462\n",
       "15    482\n",
       "16    502\n",
       "17    536\n",
       "18    503\n",
       "19    479\n",
       "20    460\n",
       "21    498\n",
       "22    476\n",
       "23    556\n",
       "Name: fecha, dtype: int64"
      ]
     },
     "execution_count": 24,
     "metadata": {},
     "output_type": "execute_result"
    }
   ],
   "source": [
    "fdata[\"fecha\"].dt.hour.value_counts().sort_index()"
   ]
  },
  {
   "cell_type": "code",
   "execution_count": 25,
   "metadata": {},
   "outputs": [
    {
     "data": {
      "text/html": [
       "<div>\n",
       "<style scoped>\n",
       "    .dataframe tbody tr th:only-of-type {\n",
       "        vertical-align: middle;\n",
       "    }\n",
       "\n",
       "    .dataframe tbody tr th {\n",
       "        vertical-align: top;\n",
       "    }\n",
       "\n",
       "    .dataframe thead th {\n",
       "        text-align: right;\n",
       "    }\n",
       "</style>\n",
       "<table border=\"1\" class=\"dataframe\">\n",
       "  <thead>\n",
       "    <tr style=\"text-align: right;\">\n",
       "      <th></th>\n",
       "      <th>likes</th>\n",
       "      <th>love</th>\n",
       "      <th>angry</th>\n",
       "      <th>wow</th>\n",
       "      <th>haha</th>\n",
       "      <th>sad</th>\n",
       "      <th>shares</th>\n",
       "      <th>comments</th>\n",
       "    </tr>\n",
       "  </thead>\n",
       "  <tbody>\n",
       "    <tr>\n",
       "      <th>False</th>\n",
       "      <td>6954</td>\n",
       "      <td>6954</td>\n",
       "      <td>6954</td>\n",
       "      <td>6954</td>\n",
       "      <td>6954</td>\n",
       "      <td>6954</td>\n",
       "      <td>6954</td>\n",
       "      <td>6954</td>\n",
       "    </tr>\n",
       "  </tbody>\n",
       "</table>\n",
       "</div>"
      ],
      "text/plain": [
       "       likes  love  angry   wow  haha   sad  shares  comments\n",
       "False   6954  6954   6954  6954  6954  6954    6954      6954"
      ]
     },
     "execution_count": 25,
     "metadata": {},
     "output_type": "execute_result"
    }
   ],
   "source": [
    "fdata[metricas].isna().apply(lambda x: x.value_counts())"
   ]
  },
  {
   "cell_type": "code",
   "execution_count": 26,
   "metadata": {},
   "outputs": [
    {
     "data": {
      "text/plain": [
       "likes         6175\n",
       "love          2270\n",
       "angry          343\n",
       "wow            398\n",
       "haha           551\n",
       "sad            128\n",
       "shares        3846\n",
       "comments      2037\n",
       "reacciones    6954\n",
       "dtype: int64"
      ]
     },
     "execution_count": 26,
     "metadata": {},
     "output_type": "execute_result"
    }
   ],
   "source": [
    "fdata[metricas + [\"reacciones\"]].apply(lambda x: len(x[x>10]))"
   ]
  },
  {
   "cell_type": "code",
   "execution_count": 27,
   "metadata": {},
   "outputs": [
    {
     "data": {
      "text/html": [
       "<div>\n",
       "<style scoped>\n",
       "    .dataframe tbody tr th:only-of-type {\n",
       "        vertical-align: middle;\n",
       "    }\n",
       "\n",
       "    .dataframe tbody tr th {\n",
       "        vertical-align: top;\n",
       "    }\n",
       "\n",
       "    .dataframe thead th {\n",
       "        text-align: right;\n",
       "    }\n",
       "</style>\n",
       "<table border=\"1\" class=\"dataframe\">\n",
       "  <thead>\n",
       "    <tr style=\"text-align: right;\">\n",
       "      <th></th>\n",
       "      <th>likes</th>\n",
       "      <th>love</th>\n",
       "      <th>angry</th>\n",
       "      <th>wow</th>\n",
       "      <th>haha</th>\n",
       "      <th>sad</th>\n",
       "      <th>shares</th>\n",
       "      <th>comments</th>\n",
       "      <th>reacciones</th>\n",
       "      <th>scope</th>\n",
       "    </tr>\n",
       "  </thead>\n",
       "  <tbody>\n",
       "    <tr>\n",
       "      <th>count</th>\n",
       "      <td>6954.000000</td>\n",
       "      <td>6954.000000</td>\n",
       "      <td>6954.000000</td>\n",
       "      <td>6954.000000</td>\n",
       "      <td>6954.000000</td>\n",
       "      <td>6954.000000</td>\n",
       "      <td>6954.000000</td>\n",
       "      <td>6954.000000</td>\n",
       "      <td>6954.000000</td>\n",
       "      <td>6.954000e+03</td>\n",
       "    </tr>\n",
       "    <tr>\n",
       "      <th>mean</th>\n",
       "      <td>141.387691</td>\n",
       "      <td>24.373454</td>\n",
       "      <td>6.040552</td>\n",
       "      <td>6.085850</td>\n",
       "      <td>9.821829</td>\n",
       "      <td>2.723612</td>\n",
       "      <td>165.583837</td>\n",
       "      <td>27.848001</td>\n",
       "      <td>380.810756</td>\n",
       "      <td>3.256927e+04</td>\n",
       "    </tr>\n",
       "    <tr>\n",
       "      <th>std</th>\n",
       "      <td>915.669382</td>\n",
       "      <td>127.080033</td>\n",
       "      <td>93.754649</td>\n",
       "      <td>109.191113</td>\n",
       "      <td>188.726132</td>\n",
       "      <td>27.040006</td>\n",
       "      <td>4524.451104</td>\n",
       "      <td>163.497006</td>\n",
       "      <td>5441.285957</td>\n",
       "      <td>2.798356e+05</td>\n",
       "    </tr>\n",
       "    <tr>\n",
       "      <th>min</th>\n",
       "      <td>1.000000</td>\n",
       "      <td>1.000000</td>\n",
       "      <td>1.000000</td>\n",
       "      <td>1.000000</td>\n",
       "      <td>1.000000</td>\n",
       "      <td>1.000000</td>\n",
       "      <td>1.000000</td>\n",
       "      <td>1.000000</td>\n",
       "      <td>11.000000</td>\n",
       "      <td>1.330000e+02</td>\n",
       "    </tr>\n",
       "    <tr>\n",
       "      <th>25%</th>\n",
       "      <td>17.000000</td>\n",
       "      <td>1.000000</td>\n",
       "      <td>1.000000</td>\n",
       "      <td>1.000000</td>\n",
       "      <td>1.000000</td>\n",
       "      <td>1.000000</td>\n",
       "      <td>5.000000</td>\n",
       "      <td>2.000000</td>\n",
       "      <td>31.000000</td>\n",
       "      <td>3.578000e+03</td>\n",
       "    </tr>\n",
       "    <tr>\n",
       "      <th>50%</th>\n",
       "      <td>40.000000</td>\n",
       "      <td>4.000000</td>\n",
       "      <td>1.000000</td>\n",
       "      <td>1.000000</td>\n",
       "      <td>1.000000</td>\n",
       "      <td>1.000000</td>\n",
       "      <td>13.000000</td>\n",
       "      <td>4.000000</td>\n",
       "      <td>71.000000</td>\n",
       "      <td>8.720000e+03</td>\n",
       "    </tr>\n",
       "    <tr>\n",
       "      <th>75%</th>\n",
       "      <td>109.000000</td>\n",
       "      <td>17.000000</td>\n",
       "      <td>1.000000</td>\n",
       "      <td>2.000000</td>\n",
       "      <td>2.000000</td>\n",
       "      <td>1.000000</td>\n",
       "      <td>43.000000</td>\n",
       "      <td>14.000000</td>\n",
       "      <td>210.000000</td>\n",
       "      <td>1.973300e+04</td>\n",
       "    </tr>\n",
       "    <tr>\n",
       "      <th>max</th>\n",
       "      <td>45952.000000</td>\n",
       "      <td>4694.000000</td>\n",
       "      <td>6496.000000</td>\n",
       "      <td>8623.000000</td>\n",
       "      <td>14418.000000</td>\n",
       "      <td>1244.000000</td>\n",
       "      <td>342306.000000</td>\n",
       "      <td>5450.000000</td>\n",
       "      <td>380608.000000</td>\n",
       "      <td>1.140382e+07</td>\n",
       "    </tr>\n",
       "  </tbody>\n",
       "</table>\n",
       "</div>"
      ],
      "text/plain": [
       "              likes         love        angry          wow          haha  \\\n",
       "count   6954.000000  6954.000000  6954.000000  6954.000000   6954.000000   \n",
       "mean     141.387691    24.373454     6.040552     6.085850      9.821829   \n",
       "std      915.669382   127.080033    93.754649   109.191113    188.726132   \n",
       "min        1.000000     1.000000     1.000000     1.000000      1.000000   \n",
       "25%       17.000000     1.000000     1.000000     1.000000      1.000000   \n",
       "50%       40.000000     4.000000     1.000000     1.000000      1.000000   \n",
       "75%      109.000000    17.000000     1.000000     2.000000      2.000000   \n",
       "max    45952.000000  4694.000000  6496.000000  8623.000000  14418.000000   \n",
       "\n",
       "               sad         shares     comments     reacciones         scope  \n",
       "count  6954.000000    6954.000000  6954.000000    6954.000000  6.954000e+03  \n",
       "mean      2.723612     165.583837    27.848001     380.810756  3.256927e+04  \n",
       "std      27.040006    4524.451104   163.497006    5441.285957  2.798356e+05  \n",
       "min       1.000000       1.000000     1.000000      11.000000  1.330000e+02  \n",
       "25%       1.000000       5.000000     2.000000      31.000000  3.578000e+03  \n",
       "50%       1.000000      13.000000     4.000000      71.000000  8.720000e+03  \n",
       "75%       1.000000      43.000000    14.000000     210.000000  1.973300e+04  \n",
       "max    1244.000000  342306.000000  5450.000000  380608.000000  1.140382e+07  "
      ]
     },
     "execution_count": 27,
     "metadata": {},
     "output_type": "execute_result"
    }
   ],
   "source": [
    "fdata[metricas + [\"reacciones\",\"scope\"]].replace({0:1}).describe()"
   ]
  },
  {
   "cell_type": "code",
   "execution_count": 28,
   "metadata": {},
   "outputs": [
    {
     "data": {
      "text/html": [
       "<div>\n",
       "<style scoped>\n",
       "    .dataframe tbody tr th:only-of-type {\n",
       "        vertical-align: middle;\n",
       "    }\n",
       "\n",
       "    .dataframe tbody tr th {\n",
       "        vertical-align: top;\n",
       "    }\n",
       "\n",
       "    .dataframe thead th {\n",
       "        text-align: right;\n",
       "    }\n",
       "</style>\n",
       "<table border=\"1\" class=\"dataframe\">\n",
       "  <thead>\n",
       "    <tr style=\"text-align: right;\">\n",
       "      <th></th>\n",
       "      <th>likes</th>\n",
       "      <th>love</th>\n",
       "      <th>angry</th>\n",
       "      <th>wow</th>\n",
       "      <th>haha</th>\n",
       "      <th>sad</th>\n",
       "      <th>shares</th>\n",
       "      <th>comments</th>\n",
       "      <th>reacciones</th>\n",
       "      <th>scope</th>\n",
       "    </tr>\n",
       "  </thead>\n",
       "  <tbody>\n",
       "    <tr>\n",
       "      <th>count</th>\n",
       "      <td>6954.000000</td>\n",
       "      <td>6954.000000</td>\n",
       "      <td>6954.000000</td>\n",
       "      <td>6954.000000</td>\n",
       "      <td>6954.000000</td>\n",
       "      <td>6954.000000</td>\n",
       "      <td>6954.000000</td>\n",
       "      <td>6954.000000</td>\n",
       "      <td>6954.000000</td>\n",
       "      <td>6954.000000</td>\n",
       "    </tr>\n",
       "    <tr>\n",
       "      <th>mean</th>\n",
       "      <td>1.664910</td>\n",
       "      <td>0.718823</td>\n",
       "      <td>0.156890</td>\n",
       "      <td>0.194716</td>\n",
       "      <td>0.233953</td>\n",
       "      <td>0.070031</td>\n",
       "      <td>1.174608</td>\n",
       "      <td>0.742617</td>\n",
       "      <td>1.935080</td>\n",
       "      <td>3.945537</td>\n",
       "    </tr>\n",
       "    <tr>\n",
       "      <th>std</th>\n",
       "      <td>0.558450</td>\n",
       "      <td>0.679814</td>\n",
       "      <td>0.388694</td>\n",
       "      <td>0.401501</td>\n",
       "      <td>0.464658</td>\n",
       "      <td>0.259727</td>\n",
       "      <td>0.691573</td>\n",
       "      <td>0.654504</td>\n",
       "      <td>0.571783</td>\n",
       "      <td>0.575648</td>\n",
       "    </tr>\n",
       "    <tr>\n",
       "      <th>min</th>\n",
       "      <td>0.000000</td>\n",
       "      <td>0.000000</td>\n",
       "      <td>0.000000</td>\n",
       "      <td>0.000000</td>\n",
       "      <td>0.000000</td>\n",
       "      <td>0.000000</td>\n",
       "      <td>0.000000</td>\n",
       "      <td>0.000000</td>\n",
       "      <td>1.041393</td>\n",
       "      <td>2.123852</td>\n",
       "    </tr>\n",
       "    <tr>\n",
       "      <th>25%</th>\n",
       "      <td>1.230449</td>\n",
       "      <td>0.000000</td>\n",
       "      <td>0.000000</td>\n",
       "      <td>0.000000</td>\n",
       "      <td>0.000000</td>\n",
       "      <td>0.000000</td>\n",
       "      <td>0.698970</td>\n",
       "      <td>0.301030</td>\n",
       "      <td>1.491362</td>\n",
       "      <td>3.553640</td>\n",
       "    </tr>\n",
       "    <tr>\n",
       "      <th>50%</th>\n",
       "      <td>1.602060</td>\n",
       "      <td>0.602060</td>\n",
       "      <td>0.000000</td>\n",
       "      <td>0.000000</td>\n",
       "      <td>0.000000</td>\n",
       "      <td>0.000000</td>\n",
       "      <td>1.113943</td>\n",
       "      <td>0.602060</td>\n",
       "      <td>1.851258</td>\n",
       "      <td>3.940516</td>\n",
       "    </tr>\n",
       "    <tr>\n",
       "      <th>75%</th>\n",
       "      <td>2.037426</td>\n",
       "      <td>1.230449</td>\n",
       "      <td>0.000000</td>\n",
       "      <td>0.301030</td>\n",
       "      <td>0.301030</td>\n",
       "      <td>0.000000</td>\n",
       "      <td>1.633468</td>\n",
       "      <td>1.146128</td>\n",
       "      <td>2.322219</td>\n",
       "      <td>4.295193</td>\n",
       "    </tr>\n",
       "    <tr>\n",
       "      <th>max</th>\n",
       "      <td>4.662304</td>\n",
       "      <td>3.671543</td>\n",
       "      <td>3.812646</td>\n",
       "      <td>3.935658</td>\n",
       "      <td>4.158905</td>\n",
       "      <td>3.094820</td>\n",
       "      <td>5.534415</td>\n",
       "      <td>3.736397</td>\n",
       "      <td>5.580478</td>\n",
       "      <td>7.057050</td>\n",
       "    </tr>\n",
       "  </tbody>\n",
       "</table>\n",
       "</div>"
      ],
      "text/plain": [
       "             likes         love        angry          wow         haha  \\\n",
       "count  6954.000000  6954.000000  6954.000000  6954.000000  6954.000000   \n",
       "mean      1.664910     0.718823     0.156890     0.194716     0.233953   \n",
       "std       0.558450     0.679814     0.388694     0.401501     0.464658   \n",
       "min       0.000000     0.000000     0.000000     0.000000     0.000000   \n",
       "25%       1.230449     0.000000     0.000000     0.000000     0.000000   \n",
       "50%       1.602060     0.602060     0.000000     0.000000     0.000000   \n",
       "75%       2.037426     1.230449     0.000000     0.301030     0.301030   \n",
       "max       4.662304     3.671543     3.812646     3.935658     4.158905   \n",
       "\n",
       "               sad       shares     comments   reacciones        scope  \n",
       "count  6954.000000  6954.000000  6954.000000  6954.000000  6954.000000  \n",
       "mean      0.070031     1.174608     0.742617     1.935080     3.945537  \n",
       "std       0.259727     0.691573     0.654504     0.571783     0.575648  \n",
       "min       0.000000     0.000000     0.000000     1.041393     2.123852  \n",
       "25%       0.000000     0.698970     0.301030     1.491362     3.553640  \n",
       "50%       0.000000     1.113943     0.602060     1.851258     3.940516  \n",
       "75%       0.000000     1.633468     1.146128     2.322219     4.295193  \n",
       "max       3.094820     5.534415     3.736397     5.580478     7.057050  "
      ]
     },
     "execution_count": 28,
     "metadata": {},
     "output_type": "execute_result"
    }
   ],
   "source": [
    "np.log10(fdata[metricas + [\"reacciones\",\"scope\"]].replace({0:1})).describe()"
   ]
  },
  {
   "cell_type": "code",
   "execution_count": 29,
   "metadata": {},
   "outputs": [],
   "source": [
    "fvdata = fdata[fdata[\"tipo\"]==\"Video\"].replace({0:1})\n",
    "fpdata = fdata[fdata[\"tipo\"]==\"Post\"].replace({0:1})"
   ]
  },
  {
   "cell_type": "code",
   "execution_count": 30,
   "metadata": {},
   "outputs": [
    {
     "data": {
      "text/plain": [
       "['likes',\n",
       " 'love',\n",
       " 'angry',\n",
       " 'wow',\n",
       " 'haha',\n",
       " 'sad',\n",
       " 'shares',\n",
       " 'comments',\n",
       " 'reacciones']"
      ]
     },
     "execution_count": 30,
     "metadata": {},
     "output_type": "execute_result"
    }
   ],
   "source": [
    "metricas + [\"reacciones\"]"
   ]
  },
  {
   "cell_type": "code",
   "execution_count": 72,
   "metadata": {},
   "outputs": [],
   "source": [
    "metric = \"reacciones\"\n",
    "p = bpl.figure(plot_width=600,plot_height=600,x_axis_type=\"log\",y_axis_type=\"log\",title=metric,toolbar_location=None)\n",
    "p.xaxis.axis_label = metric\n",
    "p.yaxis.axis_label = 'Scope'"
   ]
  },
  {
   "cell_type": "code",
   "execution_count": 73,
   "metadata": {},
   "outputs": [
    {
     "data": {
      "text/html": [
       "<div style=\"display: table;\"><div style=\"display: table-row;\"><div style=\"display: table-cell;\"><b title=\"bokeh.models.renderers.GlyphRenderer\">GlyphRenderer</b>(</div><div style=\"display: table-cell;\">id&nbsp;=&nbsp;'3953', <span id=\"3956\" style=\"cursor: pointer;\">&hellip;)</span></div></div><div class=\"3955\" style=\"display: none;\"><div style=\"display: table-cell;\"></div><div style=\"display: table-cell;\">data_source&nbsp;=&nbsp;ColumnDataSource(id='3950', ...),</div></div><div class=\"3955\" style=\"display: none;\"><div style=\"display: table-cell;\"></div><div style=\"display: table-cell;\">glyph&nbsp;=&nbsp;Circle(id='3951', ...),</div></div><div class=\"3955\" style=\"display: none;\"><div style=\"display: table-cell;\"></div><div style=\"display: table-cell;\">hover_glyph&nbsp;=&nbsp;None,</div></div><div class=\"3955\" style=\"display: none;\"><div style=\"display: table-cell;\"></div><div style=\"display: table-cell;\">js_event_callbacks&nbsp;=&nbsp;{},</div></div><div class=\"3955\" style=\"display: none;\"><div style=\"display: table-cell;\"></div><div style=\"display: table-cell;\">js_property_callbacks&nbsp;=&nbsp;{},</div></div><div class=\"3955\" style=\"display: none;\"><div style=\"display: table-cell;\"></div><div style=\"display: table-cell;\">level&nbsp;=&nbsp;'glyph',</div></div><div class=\"3955\" style=\"display: none;\"><div style=\"display: table-cell;\"></div><div style=\"display: table-cell;\">muted&nbsp;=&nbsp;False,</div></div><div class=\"3955\" style=\"display: none;\"><div style=\"display: table-cell;\"></div><div style=\"display: table-cell;\">muted_glyph&nbsp;=&nbsp;None,</div></div><div class=\"3955\" style=\"display: none;\"><div style=\"display: table-cell;\"></div><div style=\"display: table-cell;\">name&nbsp;=&nbsp;None,</div></div><div class=\"3955\" style=\"display: none;\"><div style=\"display: table-cell;\"></div><div style=\"display: table-cell;\">nonselection_glyph&nbsp;=&nbsp;Circle(id='3952', ...),</div></div><div class=\"3955\" style=\"display: none;\"><div style=\"display: table-cell;\"></div><div style=\"display: table-cell;\">selection_glyph&nbsp;=&nbsp;None,</div></div><div class=\"3955\" style=\"display: none;\"><div style=\"display: table-cell;\"></div><div style=\"display: table-cell;\">subscribed_events&nbsp;=&nbsp;[],</div></div><div class=\"3955\" style=\"display: none;\"><div style=\"display: table-cell;\"></div><div style=\"display: table-cell;\">tags&nbsp;=&nbsp;[],</div></div><div class=\"3955\" style=\"display: none;\"><div style=\"display: table-cell;\"></div><div style=\"display: table-cell;\">view&nbsp;=&nbsp;CDSView(id='3954', ...),</div></div><div class=\"3955\" style=\"display: none;\"><div style=\"display: table-cell;\"></div><div style=\"display: table-cell;\">visible&nbsp;=&nbsp;True,</div></div><div class=\"3955\" style=\"display: none;\"><div style=\"display: table-cell;\"></div><div style=\"display: table-cell;\">x_range_name&nbsp;=&nbsp;'default',</div></div><div class=\"3955\" style=\"display: none;\"><div style=\"display: table-cell;\"></div><div style=\"display: table-cell;\">y_range_name&nbsp;=&nbsp;'default')</div></div></div>\n",
       "<script>\n",
       "(function() {\n",
       "  var expanded = false;\n",
       "  var ellipsis = document.getElementById(\"3956\");\n",
       "  ellipsis.addEventListener(\"click\", function() {\n",
       "    var rows = document.getElementsByClassName(\"3955\");\n",
       "    for (var i = 0; i < rows.length; i++) {\n",
       "      var el = rows[i];\n",
       "      el.style.display = expanded ? \"none\" : \"table-row\";\n",
       "    }\n",
       "    ellipsis.innerHTML = expanded ? \"&hellip;)\" : \"&lsaquo;&lsaquo;&lsaquo;\";\n",
       "    expanded = !expanded;\n",
       "  });\n",
       "})();\n",
       "</script>\n"
      ],
      "text/plain": [
       "GlyphRenderer(id='3953', ...)"
      ]
     },
     "execution_count": 73,
     "metadata": {},
     "output_type": "execute_result"
    }
   ],
   "source": [
    "p.circle(x=fvdata[metric],y=fvdata[\"scope\"],color=\"blue\",alpha=0.2)\n",
    "p.circle(x=fpdata[metric],y=fpdata[\"scope\"],color=\"red\",alpha=0.2)"
   ]
  },
  {
   "cell_type": "code",
   "execution_count": 74,
   "metadata": {},
   "outputs": [
    {
     "data": {
      "text/html": [
       "\n",
       "\n",
       "\n",
       "\n",
       "\n",
       "\n",
       "  <div class=\"bk-root\" id=\"2fa13fb1-fae6-400d-8c4d-a336605d703a\" data-root-id=\"3912\"></div>\n"
      ]
     },
     "metadata": {},
     "output_type": "display_data"
    },
    {
     "data": {
      "application/javascript": [
       "(function(root) {\n",
       "  function embed_document(root) {\n",
       "    \n",
       "  var docs_json = {\"0d5e6487-ba42-46c8-84dc-be5c6ad86b04\":{\"roots\":{\"references\":[{\"attributes\":{\"below\":[{\"id\":\"3923\"}],\"center\":[{\"id\":\"3926\"},{\"id\":\"3930\"}],\"left\":[{\"id\":\"3927\"}],\"renderers\":[{\"id\":\"3948\"},{\"id\":\"3953\"}],\"title\":{\"id\":\"3913\"},\"toolbar\":{\"id\":\"3938\"},\"toolbar_location\":null,\"x_range\":{\"id\":\"3915\"},\"x_scale\":{\"id\":\"3919\"},\"y_range\":{\"id\":\"3917\"},\"y_scale\":{\"id\":\"3921\"}},\"id\":\"3912\",\"subtype\":\"Figure\",\"type\":\"Plot\"},{\"attributes\":{},\"id\":\"3919\",\"type\":\"LogScale\"},{\"attributes\":{},\"id\":\"3921\",\"type\":\"LogScale\"},{\"attributes\":{\"source\":{\"id\":\"3945\"}},\"id\":\"3949\",\"type\":\"CDSView\"},{\"attributes\":{\"axis_label\":\"Scope\",\"formatter\":{\"id\":\"4061\"},\"ticker\":{\"id\":\"3928\"}},\"id\":\"3927\",\"type\":\"LogAxis\"},{\"attributes\":{},\"id\":\"4066\",\"type\":\"Selection\"},{\"attributes\":{\"data_source\":{\"id\":\"3950\"},\"glyph\":{\"id\":\"3951\"},\"hover_glyph\":null,\"muted_glyph\":null,\"nonselection_glyph\":{\"id\":\"3952\"},\"selection_glyph\":null,\"view\":{\"id\":\"3954\"}},\"id\":\"3953\",\"type\":\"GlyphRenderer\"},{\"attributes\":{\"fill_alpha\":{\"value\":0.2},\"fill_color\":{\"value\":\"blue\"},\"line_alpha\":{\"value\":0.2},\"line_color\":{\"value\":\"blue\"},\"x\":{\"field\":\"x\"},\"y\":{\"field\":\"y\"}},\"id\":\"3946\",\"type\":\"Circle\"},{\"attributes\":{},\"id\":\"3935\",\"type\":\"ResetTool\"},{\"attributes\":{\"axis_label\":\"reacciones\",\"formatter\":{\"id\":\"4059\"},\"ticker\":{\"id\":\"3924\"}},\"id\":\"3923\",\"type\":\"LogAxis\"},{\"attributes\":{\"overlay\":{\"id\":\"3937\"}},\"id\":\"3933\",\"type\":\"BoxZoomTool\"},{\"attributes\":{\"bottom_units\":\"screen\",\"fill_alpha\":0.5,\"fill_color\":\"lightgrey\",\"left_units\":\"screen\",\"level\":\"overlay\",\"line_alpha\":1.0,\"line_color\":\"black\",\"line_dash\":[4,4],\"line_width\":2,\"render_mode\":\"css\",\"right_units\":\"screen\",\"top_units\":\"screen\"},\"id\":\"3937\",\"type\":\"BoxAnnotation\"},{\"attributes\":{\"axis\":{\"id\":\"3927\"},\"dimension\":1,\"ticker\":null},\"id\":\"3930\",\"type\":\"Grid\"},{\"attributes\":{},\"id\":\"4065\",\"type\":\"UnionRenderers\"},{\"attributes\":{\"fill_alpha\":{\"value\":0.1},\"fill_color\":{\"value\":\"red\"},\"line_alpha\":{\"value\":0.1},\"line_color\":{\"value\":\"red\"},\"x\":{\"field\":\"x\"},\"y\":{\"field\":\"y\"}},\"id\":\"3952\",\"type\":\"Circle\"},{\"attributes\":{\"ticker\":null},\"id\":\"4061\",\"type\":\"LogTickFormatter\"},{\"attributes\":{\"data\":{\"x\":[30,1903,322,404,154,2182,275,149,83,207,204,255,208,75,89,150,318,51,115,157,386,354,725,181,425,250,158,54,816,2301,69,521,49,1146,69,132,169,360,435,428,1862,7478,127,343,101,161,117,225,135,88,257,75,104,677,58,104,149,404,146,73,272,1511,121,122,79,99,84,458,72,59,68,128,1843,138,106,767,60,343,91,287,175,52,410,232,215,161,178,68,238,88,198,62,369,458,378,210,107,614,48,292,391,88,83,1577,47,224,258,60,89,94,64,134,267,2401,97,99,194,936,145,125,1673,142,1640,109,1338,707,98,327,93,219,52,403,787,278,64,354,1265,83,128,110,129,121,65,102,76,291,171,120,256,134,249,270,156,162,890,319,335,127,178,170,177,571,58,113,231,155,164,84,259,1025,280,144,61,207,55,58,220,652,116,55,336,335,347,313,114,73,1310,726,196,266,126,200,919,257,363,2186,181,139,456,2077,415,172,72,117,78,63,139,250,301,218,1736,63,85,1401,663,350,549,215,110,2029,931,101,86,254,36,67,164,1103,99,317,243,65,205,186,118,1368,718,404,239,1883,195,118,372,1215,294,1209,263,983,138,68,2727,464,660,886,259,55,87,125,242,224,180,333,147,134,2697,3299,188,56,285,104,193,1448,137,794,83,611,377,545,151,103,157,454,94,195,11158,171,676,313,94,153,73,57,108,81,57,18,50,39,102,16,132,99,80,23,15,51,118,85,127,38,38,24,165,157,91,22,193,80,109,63,47,12,165,3903,17,24,18,28,19,20,93,20,60,97,399,14,36,21,19,12,34,11,15,15,67,13,15,27,36,16,27,22,19,11,24,25,11,19,33,28,89,23,159,18,58,24,35,188,16,64,37,44,37,43,16,71,17,14,68,13,23,19,221,85,140,13,52,25,43,17,289,21,21,12,15,23,47,84,171,27,41,13,16,106,12,39,64,50,108,26,29,72,24,16,50,27,57,20,52,164,28,29,11,27,14,425,29,24,50,11,23,22,34,13,18,124,29,68,24,309,74,13,114,16,11,23,56,541,28,13,19,11,15,23,22,51,29,22,36,24,25,68,31,13,14,78,30,464,461,14,19,53,16,32,127,174,82,1663,23,39,12,42,17,18,225,303,25,703,18,16,50,13,60,41,122,66,51,11,19,228,48,54,41,56,23,53,73,37,63,33,253,13,163,43,11,26,24,33,121,13,37,31,46,15,12,41,13,11,63,65,34,191,46,106,43,40,48,1261,32,18,27,155,44,26,89,126,21,23,30,23,36,50,20,43,32,67,41,69,111,31,49,150,26,160,137,17,28,1672,98,80,320,54,107,154,24,14,84,28,46,161,600,31,16,48,53,30,47,127,104,127,232,25,125,67,18,75,41,35,34,67,37,479,79,19,257,32,29,33,32,18,50,59,40,30,30,49,76,36,45,56,52,46,23,30,23,35,77,255,42,53,27,22,65,598,34,66,45,77,25,56,32,91,94,41,156,37,28,32,26,134,28,18,26,55,29,33,54,45,52,14,38,27,27,34,137,195,38,43,68,204,41,32,46,19,51,24,87,134,167,57,25,410,59,46,68,30,20,28,22,25,29,22,21,25,28,161,46,56,27,11,14,94,20,28,36,22,17,27,21,64,17,23,26,49,79,15,96,18,24,25,54,15,46,18,15,14,21,44,60,25,37,18,43,18,13,23,23,33,16,13,189,76,19,13,31,16,23,32,17,26,68,38,12,32,14,16,18,32,51,34,24,35,41,23,38,781,22,26,11,161,25,28,26,18,46,44,29,19,22,22,54,27,37,53,24,54,48,89,29,24,20,23,30,36,14,74,49,24,27,22,62,27,255,11,25,21,100,87,17,36,24,35,393,40,67,17,87,34,14,91,28,25,45,41,16,17,52,23,27,43,16,46,27,19,33,31,30,20,24,26,21,48,16,35,23,167,23,46,59,21,87,21,34,16,29,27,25,13,19,24,36,37,44,60,26,944,39,35,12,57,416,168,93,29,32,24,13,135,29,84,44,58,80,24,22,22,49,16,29,50,30,33,29,47,12,126,43,66,59,63,65,31,20,21,17,35,24,171,43,26,27,32,54,26,48,36,17,19,11,11,67,19,26,18,14,26,16,34,28,62,64,63,37,72,16,103,13,27,25,68,63,18,29,44,28,22,12,30,28,94,127,51,14,19,32,50,22,17,44,74,59,21,32,69,13,34,70,16,67,21,56,87,25,43,18,31,91,13,19,19,35,19,33,90,28,12,74,201,27,61,55,22,21,19,13,47,34,35,16,121,26,43,306,23,76,17,36,22,27,47,16,41,40,66,30,19,19,44,19,19,240,31,49,44,34,47,15,112,54,423,20,20,16,15,12,18,76,23,44,23,57,15,15,152,481,52,126,11,21,19,24,20,125,39,11,14,20,95,32,111,17,29,26,27,17,16,39,35,17,34,18,26,66,13,71,18,18,20,14,90,28,45,25,44,79,50,24,20,175,52,178,48,24,20,11,21,18,51,33,11,29,22,25,23,34,13,16,16,15,61,30,15,36,18,27,16,19,15,66,13,25,14,24,18,20,12,51,24,39,18,17,17,13,25,144,25,51,28,37,47,13,48,32,22,64,17,32,13,21,236,18,27,45,37,18,16,62,19,34,34,49,31,32,17,17,15,17,21,44,18,17,13,20,22,19,64,20,17,13,12,13,41,12,11,33,37,14,57,44,18,93,25,75,124,38,76,91,34,19,23,17,37,32,172,27,17,14,27,38,133,434,15,16,59,17,18,15,12,38,19,227,19,82,30,66,54,36,12,21,34,25,15,18,103,24,42,16,60,40,13,350,15,26,1201,18,82,163,36,11,125,25,36,18,179,43,13,12,20,17,164,38,43,53,15,17,28,27,34,18,35,16,14,14,27,17,19,14,33,30,14,11,350,13,13,21,28,71,33,63,17,17,46,30,16,27,24,29,53,24,41,19,43,39,21,34,39,23,13,24,119,24,65,14,88,37,52,46,21,151,21,43,66,38,11,19,30,39,30,16,43,19,54,34,154,25,26,16,49,22,30,276,29,119,332,34,75,91,112,53,39,88,325,60,71,133,41,73,68,52,66,33,12,61,163,24,173,121,76,29,16,25,103,321,44,75,96,180,105,84,36,112,42,117,153,72,68,78,30,17,44,53,66,206,16,49,69,76,35,43,19,48,22,40,98,45,43,72,58,73,59,238,63,33,86,50,77,79,45,102,46,821,24,106,375,100,143,13,21,36,24,15,406,32,59,81,93,151,37,69,77,20,75,89,73,50,37,148,26,86,59,65,96,29,32,131,198,68,41,60,77,42,50,59,53,44,55,61,32,24,27,75,324,148,81,75,76,58,63,12,70,30,501,48,20,176,40,18,90,81,27,93,15,204,39,121,26,78,14,26,14,52,39,29,177,87,75,82,12,77,100,150,47,273,11,57,856,362,67,150,25,161,85,64,239,43,37,35,254,23,19,19,148,42,248,91,63,61,50,251,331,904,42,21,68,38,26,33,28,51,31,34,54,94,88,55,24,30,121,27,263,97,890,34,60,84,620,106,73,65,252,163,61,54,228,47,51,94,111,685,451,133,333,207,55,44,127,324,93,87,220,47,297,69,130,117,129,122,52,40,117,140,114,145,81,25,53,82,54,97,37,38,113,324,70,75,11,60,41,47,106,89,96,67,65,87,42,87,57,60,41,34,66,113,54,41,31,11,49,99,128,59,113,64,40,51,110,108,87,76,82,82,115,185,29,202,134,136,76,153,22,110,215,597,447,174,185,100,80,44,276,123,31,77,73,192,576,43,585,123,143,200,28,208,56,38,56,13,99,86,81,233,147,78,28,35,116,28,27,45,43,293,89,227,47,16,171,60,70,40,106,59,65,210,67,90,123,28,55,137,322,91,169,203,143,44,123,45,138,426,64,39,78,44,77,57,77,36,35,28,59,37,106,53,48,34,65,111,634,1166,44,50,181,78,39,120,269,31,36,27,65,15,26,287,132,173,39,33,14,17,24,143,170,28,30,77,68,19,109,64,314,50,25,33,30,29,27,108,14,77,11,17,74,249,84,154,289,73,47,1528,16,12,25,21,64,21,12,144,241,35,38,40,65,65,221,104,82,234,52,27,31,15,59,169,254,874,40,20,135,17,75,105,21,12,45,41,250,21,19,161,55,457,47,34,47,257,16,49,130,96,17,18,22,90,103,74,76,49,38,23,167,29,27,147,179,23,151,817,17,71,62,18,31,73,24,321,32,37,73,133,69,11,36,626,47,309,53,51,42,43,68,35,16,61,31,26,53,22,35,24,37,77,945,76,34,178,73,100,206,55,560,88,30,146,22,37,120,128,58,161,42,89,20,20,84,40,77,38,88,42,53,76,46,122,333,152,21,63,45,121,126,420,47,86,38,225,111,28,24,98,31,12,23,70,101,113,195,26,54,134,140,12,32,71,13,82,38,59,12,44,55,12,34,13,13,38,61,15,14,72,39,50,17,89,61,33,31,105,16,15,31,18,40,41,14,27,39,47,12,99,111,43,107,39,38,69,119,14,28,30,59,26,24,220,41,70,28,82,49,12,16,122,47,26,37,41,75,58,48,44,40,47,40,49,36,17,62,149,81,41,27,48,52,169,11,61,39,20,23,107,35,47,105,13,25,18,40,27,16,12,168,11,26,18,59,27,28,18,13,74,54,89,163,51,24,21,24,13,96,19,77,211,521,50,723,36,22,106,87,78,18,17,54,580,48,25,25,17,44,24,73,37,44,98,18,23,30,23,24,11,38,37,57,116,17,16,21,187,27,17,14,122,61,48,32,24,25,11,17,25,12,49,76,35,24,30,22,30,35,15,18,40,51,26,14,24,17,11,26,26,17,36,72,17,15,108,13,26,26,65,14,12,21,41,19,18,21,39,27,27,14,11,19,283,28,25,21,1816,22,22,33,38,16,17,20,675,16,27,25,11,26,45,284,273,68,141,79,938,52,444,332,180,1479,46,608,489,349,708,482,493,339,465,605,161,584,454,229,126,1423,9648,8001,386,121,111,708,738,30,681,77,418,30,853,179,77,318,276,202,51,626,342,230,375,59,65,120,43,396,213,493,384,61,6249,384,306,321,212,76,271,233,183,41,45,30,549,301,259,171,79,26,69,433,255,176,233,176,94,66,220,112,386,305,475,76,46,202,349,335,26,83,191,356,216,54,28,75,324,339,254,274,46,2750,76,334,258,51,66,153,627,331,227,50,75,351,428,374,447,353,396,38,124,2778,43,266,312,244,31,378,320,220,508,38,85,334,297,39,297,189,144,409,205,406,61,212,270,411,292,25,467,207,137,22,260,28,353,275,62,238,1649,514,247,160,368,415,415,63,30,587,382,263,393,239,59,432,239,58,1309,24,40,164,383,285,158,261,341,1130,23,406,217,85,12,35,292,241,548,204,39,30,22,56,44,830,537,261,217,377,25,969,382,336,52,56,45,359,284,665,45,390,1348,60,251,460,310,264,31,45,290,502,35,50,228,362,373,372,75,286,284,102,13,13,28,51,124,3138,151,104,301,239,378,313,146,592,44,410,243,70,261,28,33,343,93,297,235,259,379,37,31,132,1194,391,176,391,264,33,386,68,71,145,400,383,34,96,359,246,101,146,186,391,276,240,174,47,269,40,287,177,641,4606,36,307,429,27,96,213,158,452,287,309,193,516,262,201,262,364,82,65,167,304,263,266,298,449,227,194,48,565,257,271,262,191,518,194,359,72,310,1844,1000,1953,349,235,389,707,299,233,305,284,153,34,278,343,302,33,26,273,308,387,260,75,34,403,14,56,370,145,94,77,404,370,228,25,382,297,30,46,270,240,285,867,166,38,413,62,229,27,744,42,279,27,281,360,440,62,248,382,29,598,523,127,357,404,433,61,24,287,435,82,338,56,239,1490,121,427,250,95,266,66,537,551,34,472,37,457,282,88,41,256,776,64,300,36,38,335,329,215,19,258,37,77,31,25,250,60,193,35,206,24,298,56,254,177,13,213,28,261,37,38,643,175,240,276,246,908,178,274,78,58,237,681,31,38,226,460,36,193,105,93,259,39,31,180,123,66,62,68,82,241,48,363,172,278,306,384,103,283,270,311,344,206,409,2185,45,71,46,94,361,273,770,34,270,160,148,47,189,399,29,100,259,30,28,144,207,15,60,100,284,416,534,247,32,24,46,339,36,35,309,15,2224,54,23,300,30,63,57,497,341,28,428,53,390,65,292,67,335,245,35,74,114,58,300,52,216,33,143,1669,151,55,258,353,69,88,378,94,46,201,38,73,373,93,257,94,84,26,82,278,73,3720,35,50,105,25,325,84,59,234,271,138,457,207,42,205,32,285,245,195,65,24,1042,35,1167,339,356,74,98,144,43,347,30,193,219,39,309,153,101,247,271,47,48,166,114,171,172,54,53,238,60,331,86,202,184,873,736,329,56,69,37,167,61,174,57,198,276,426,176,64,176,82,33,252,435,26,776,263,18,181,29,56,39,61,184,39,153,143,125,149,420,563,206,214,103,63,100,169,546,53,223,374,136,59,288,49,945,66,36,427,673,19,38,150,283,62,11,259,48,18,51,111,118,26,173,285,67,226,624,19,687,271,212,34,772,22,556,2527,570,1017,266,147,195,204,59,161,191,934,31,183,70,27,948,51,496,154,534,36,276,71,665,75,148,180,76,102,58,222,80,152,54,194,221,538,20,16,597,16,21,154,82,47,439,53,113,57,87,131,73,87,796,46,300,43,63,88,187,96,169,867,59,39,270,190,108,48,61,568,329,221,226,148,385,782,64,277,157,109,1050,37,30,17,140,43,119,992,315,242,187,158,17,19,154,346,694,180,53,14,53,129,1798,259,402,134,147,17,63,26,45,47,74,511,85,328,233,206,687,141,107,297,14,168,51,86,169,130,41,84,22,16,40,66,55,24,134,108,64,63,82,16,38,135,37,95,220,133,559,17,12,41,715,23,195,68,208,21,54,16,74,24,50,328,75,11,88,41,18,49,24,146,44,59,101,54,79,49,31,77,222,109,160,19,18,57,89,145,42,99,46,58,39,24,25,88,47,55,45,58,58,23,45,57,118,60,20,68,95,89,59,67,116,20,67,34,64,14,62,87,18,75,46,61,49,60,102,73,79,11,45,49,35,70,41,14,19,57,75,200,43,58,58,78,38,39,77,242,21,16,86,114,51,218,91,30,32,35,11,33,12,11,38,98,32,69,78,48,42,77,25,25,36,96,121,42,15,82,20,313,49,31,312,43,66,45,29,14,46,24,25,313,54,38,22,21,28,24,42,97,44,11,38,36,28,18,81,15,910,45,39,86,38,24,138,77,35,94,112,40,148,24,65,31,12,23,37,42,27,26,66,15,18,90,12,36,71,38,83,53,66,58,44,55,85,52,457,60,41,61,12,58,13,73,73,106,65,50,25,30,143,16,108,68,83,58,92,40,26,89,16,54,72,66,28,12,30,15,49,79,195,105,31,46,75,110,37,12,78,71,80,19,56,14,30,66,66,29,41,22,65,19,46,14,68,28,180,105,91,70,39,134,28,55,215,30,70,67,18,14,17,65,62,31,24,49,58,11,67,202,90,35,90,20,14,16,77,85,200,2823,45426,32,23,11,24,12,17,15,16,17,21,24,19,16,11,12,29,18,19,20,342,57,12,11,38,88,14,17,12,17,21,14,16,37,26,26,25,17,21,22,21,20,12,11,48,28,19,25,31,24,21,19,18,13,25,14,13,18,16,27,20,12,16,28,13,1667,27,27,16,16,18,25,19,16,15,15,12,21,29,11,12,12,14,25,22,21,21,17,17,15,12,22,11,12,18,11,31,17,37,12,24,13,12,38,16,16,17,11,13,36,12,13,18,242,110,29,102,67,15,17,11,11,11,11,16,40,15,20,105,85,16,20,36,190,157,19,99,15,160,21,23,106,38,31,14,21,13,24,98,20,74,29,27,51,25,14,34,15,13,17,31,98,22,30,13,31,116,39,11,215,21,40,50,83,113,74,72,152,117,57,97,61,60,72,38,43,78,97,164,85,32,71,51,30,35,18,27],\"y\":[3660,101761,45665,43908,23390,150395,33044,30026,16578,44291,33011,40525,37352,28645,16525,39786,52655,28654,17603,36964,55477,35975,88616,25366,43400,33382,39735,15411,58008,198829,16091,45513,25109,80470,25429,38127,21066,40884,36131,48704,124948,201396,28452,29330,18523,22294,30448,33003,28007,17897,30267,19167,24651,64513,15739,21930,24319,48927,22099,19547,23169,112758,23879,21077,15057,22269,24235,49892,13542,12845,14299,13886,113237,29876,21967,76652,14214,52442,21765,46730,27925,14520,48729,56179,34847,21401,36352,18357,30244,20689,32346,13884,29168,56417,35071,39034,17978,58999,26591,42187,37129,17654,15645,112666,15091,34953,31105,16509,20286,19163,15088,29288,39899,173717,20997,22261,37526,80117,18967,17410,77658,24746,120397,18791,75246,62174,32870,26283,14224,31856,13721,64891,73380,36131,15639,32560,91566,18481,17479,21474,21362,24823,14890,37282,19159,32944,27515,41869,37684,17394,31510,23640,39704,31349,98594,32762,63201,23249,22183,35719,35265,55024,14229,15106,23309,18225,20357,20260,28167,70441,38083,29434,13096,24301,11974,13604,32994,44538,18067,14528,41999,37715,41462,40228,20825,15609,112120,52817,24132,32621,20632,50044,76826,33493,39863,131431,17441,30489,38930,140373,32625,33279,27418,29229,14921,14204,33454,31518,23193,17468,127680,14478,26654,107943,67071,45455,43027,23621,18762,126636,72322,31059,14614,34165,10471,24030,28934,98937,25136,35302,30859,12364,28710,19535,18838,84239,69843,80037,22945,167265,38835,30489,30022,100935,35948,70985,38148,74488,30049,15093,172469,35146,56453,85921,32695,10971,21111,28052,31595,28276,24685,37639,36498,27788,173126,171550,22981,12125,43370,27404,23669,120925,24636,58996,26877,60003,42887,69924,29864,29263,28031,49851,22969,34551,2295577,25021,52516,57956,38790,35995,7664,7190,11185,8701,8241,6244,9490,6159,13626,6205,11776,10087,6705,4068,1951,6010,11664,7877,14343,3732,4764,3050,14004,9904,7065,3477,17690,5411,10879,5161,5360,3168,18658,35677,4307,4349,4112,3678,3192,3355,10986,4135,5311,9512,45949,5280,7690,4105,3672,3624,6714,3900,3493,3063,6375,3493,3402,4869,7604,3880,5411,5404,704,709,5674,4357,822,5150,2921,873,14700,6693,17191,3345,5330,8620,794,16657,861,8060,6655,1152,7217,6939,900,716,3499,551,1220,2634,923,3014,1933,1212,1349,584,1038,5278,4744,951,17267,696,4283,3428,4924,4039,4417,10549,7322,2497,5014,330,1562,4275,3294,5805,1154,881,1628,4496,601,10887,737,3854,1024,713,1001,14431,1220,9956,3201,3145,3455,3927,3789,26994,4827,4880,6820,3789,4243,3365,2249,1358,814,1567,896,1056,7780,6326,8273,687,10585,867,4142,844,987,3795,746,4806,881,713,617,668,892,820,4025,4913,6629,806,4684,858,6214,461,3927,1789,6550,3732,28768,4039,1098,1107,820,1071,12975,10042,6710,9193,2871,900,2807,5916,3527,750,2019,1902,3381,28049,798,878,6048,3751,1394,6817,10376,8019,6200,5526,6628,20490,6675,9652,5876,6179,5630,7654,11745,7321,10247,8265,18495,4408,20249,9360,2772,4332,8835,4816,45057,1307,2066,1716,1487,837,1885,1491,1621,219,3840,6407,3450,7762,3538,6364,4578,3941,4806,77436,2988,3732,2155,4734,4434,4417,5685,4478,2627,2765,2827,2414,2405,3555,2535,6657,2704,7229,4299,7260,6346,3230,4082,40485,1768,5517,7614,1857,2477,113295,6219,4775,16480,4795,5894,8396,2118,1292,4227,1923,3324,5922,11207,2322,1599,1777,4165,2670,4075,6127,10280,4505,12323,2101,4704,5288,1857,3583,2573,3041,2366,4003,3284,27718,6004,3880,18447,2757,1643,1887,2796,2366,3345,3192,2738,2933,2908,3555,3221,2535,2175,2892,3319,3274,2088,2127,2421,2896,5845,16071,3274,5711,5231,2279,4578,58025,2637,5848,4551,7116,1928,6636,2363,7909,9007,3391,8057,2285,2851,3827,2414,9362,2587,1702,2332,2997,2971,3108,2946,4408,26224,2038,4188,2971,3407,3201,9747,16623,2963,3150,5374,13285,2609,2366,5401,3023,5280,2480,7136,7442,14005,2641,3010,41079,34191,3595,5409,3654,2389,2276,3941,2060,2063,2376,2213,2079,1789,13528,3789,7280,2535,1115,1478,7101,1695,3150,3274,1630,1811,2950,2033,5821,1339,1779,2127,2570,6317,1756,4902,1895,2892,1784,4142,1476,4349,2170,1601,1650,2535,2637,2843,2147,2389,1760,3672,1639,1418,2570,2041,2784,1466,1520,11117,5752,1902,1328,2623,1977,1988,2344,1698,1554,4061,2542,1497,2071,1582,1462,1892,2196,4946,2556,2282,2511,2304,1870,2113,57727,2316,2753,1446,11365,2196,2099,2003,2170,2745,2652,2645,1560,2090,1698,5216,2267,3001,3407,2261,4551,3450,6509,2480,1725,1753,1808,1520,1442,1533,9861,3612,2360,2273,2096,3182,1895,20680,1229,1977,1709,9179,4391,3510,5221,2772,3225,21751,2738,5442,1855,6165,3126,2167,7137,3197,2738,5419,2855,2118,2487,4848,2068,2627,3434,1900,2904,1946,1912,2060,2912,2645,1845,2147,1915,1737,2172,1524,2467,2234,9619,1462,2912,5159,1782,5290,1977,2900,2573,3789,3164,2761,1723,1751,1495,2792,1823,2294,3360,2457,69775,2444,2379,2172,3402,27236,5778,8167,1828,3834,3493,1967,7494,3402,5188,4837,2670,5131,2507,1709,1632,6438,695,3314,3714,2082,2408,4275,3412,1951,9301,4541,4816,4391,5978,5323,2627,2267,1666,2298,3527,2052,12047,5812,3090,3284,4032,9260,3407,4935,2077,1744,2477,1242,1442,3595,1847,2738,2984,1723,2726,1825,1370,1995,9637,3996,3887,5519,7569,1684,5299,1775,3493,1177,7321,5990,2282,2149,3821,1925,1828,1178,2670,8270,7250,7602,3618,1134,1326,2491,2395,3154,1103,3455,3543,4120,2041,5472,9811,1432,3566,7737,1588,5049,4061,3284,4211,1282,5645,1615,1275,11682,1760,1322,1394,3054,1335,2993,3726,2325,1852,5790,26474,4560,4578,12045,2470,2360,1362,1623,5712,1777,2971,744,7500,2418,2667,12680,2273,4806,1322,3041,2009,3045,2501,1852,3245,3678,6655,3770,2184,1416,3920,1324,1698,17208,2803,5543,3006,3072,4734,1670,8725,3402,27395,2584,1730,634,1221,1556,928,4017,1967,2044,1725,13506,2027,1440,5851,27503,8248,7232,1478,1639,1351,3636,1054,13833,5703,1682,1487,1948,7121,2656,4891,1535,2819,1777,1446,1686,1360,2518,3304,3477,3702,2110,2335,3521,1076,6472,1558,1068,1744,1575,6575,1595,2959,1586,2184,4211,3900,1998,809,12469,3510,28788,6303,3197,1650,1275,1961,2057,4227,1964,1198,1825,1974,2730,2734,2178,1801,1328,1730,1232,4827,2401,1772,2477,2175,2006,1784,1969,1485,4332,3304,1820,1212,2389,2389,2753,1850,6540,1830,2210,1442,1714,2757,1643,2811,12054,2294,3019,2104,5964,2942,1794,5715,2467,2264,3770,1324,2135,1702,2167,25597,2715,2549,3648,1885,1619,1117,2231,1756,2219,2252,5596,3642,5851,1682,1434,1842,1730,1882,2587,2255,1732,3010,2152,2063,1655,6306,1102,1753,847,963,1005,5615,623,1115,3612,1998,1458,3216,3624,3391,3642,2542,2652,5857,2401,7627,7291,2627,1760,3450,1659,3019,4541,18600,2204,1704,1567,1510,3108,6806,889,1193,1396,3329,2431,1691,1974,1221,2929,1808,10471,1995,11019,1569,4417,4902,444,854,1472,2827,2152,1902,1684,8111,1753,2663,1953,4425,2181,1933,31388,534,371,59103,3240,2249,714,3023,133,2700,657,420,1382,2556,2700,958,225,1510,1112,809,4150,2288,1562,1064,1307,1328,1269,1520,1013,192,807,915,613,553,990,785,1267,1704,1796,753,196,2447,1115,901,737,817,2288,408,3948,2663,1026,1709,2158,912,1928,1711,2405,2307,975,1862,600,1969,1031,1085,1751,2079,1343,1028,2017,4891,1318,4046,1063,4408,1728,2022,2144,1041,12998,1456,1416,2741,2663,356,1777,438,1808,2243,969,2531,1073,2531,1396,958,1526,1768,1150,1943,232,1355,15505,1438,5453,26968,538,3340,3948,4203,441,1875,4902,11586,2427,3122,2875,3572,2294,3240,2019,3230,1372,1520,2637,9933,1595,11774,8239,2917,1634,374,1865,518,11014,1599,2079,8217,5827,2761,2196,1320,4523,1877,2954,4991,2704,3350,4332,1054,203,2170,1240,1264,1956,324,2988,1862,2765,350,6205,1543,1582,1974,3235,6245,1643,1311,2181,2216,1243,3173,13522,2310,1016,1578,1514,2027,2193,1353,2921,2619,25695,969,1772,17290,2963,14740,464,593,1173,1659,344,10891,943,2167,2900,2573,5422,773,2341,2036,517,2605,6029,5996,1478,1129,9879,823,2796,1801,2190,2788,1093,1044,4626,7826,1634,1121,1670,5506,864,1837,1531,1448,1652,2049,2006,2121,2255,1803,10766,11309,10715,9203,8381,8151,7467,3660,1541,83311,2172,20379,5929,3072,10309,6151,3386,7078,8573,4578,8572,3294,14194,6054,476,3696,6800,3854,3370,2993,4764,4332,3381,9011,24217,6940,9244,3279,8292,7862,245,4664,15098,2792,5177,39476,14638,5549,14803,3583,17954,8048,5187,11847,7072,4142,5061,9752,2823,4173,3211,11267,5805,13770,6357,4859,5387,4425,15777,18382,88192,5433,3572,5462,3636,3259,2984,4251,3515,2447,6076,5988,6352,10458,5197,3578,4003,7754,3934,15440,8877,62229,3660,11002,8045,29162,13111,6998,6904,14469,10984,6386,6161,12991,5475,4980,8288,13976,29128,16415,9767,15864,13035,6998,6114,11168,14603,5547,9094,12686,4391,13526,6069,8723,8490,10838,7763,4827,3941,8314,10919,8625,25314,7323,4913,5149,8069,6142,11834,4496,3913,8511,18683,6892,7487,4425,4880,6480,4869,7579,7090,9278,7969,5376,8388,5513,9011,6244,7674,3299,4443,5893,8093,7032,4795,3319,2535,12251,8586,8180,7073,8985,4523,3407,3726,9146,7412,8880,6890,13476,6834,7822,12325,4626,12392,8335,9758,6010,12556,1806,6119,13114,25698,20904,11340,15097,7678,8206,3555,12003,6975,3113,4744,6155,9502,20011,3815,22666,8410,9060,8686,1732,15389,5536,4523,5268,1438,6632,7618,10773,14794,11028,5807,3201,4764,7122,2659,3145,5372,3776,15540,14336,8942,3815,2354,8098,4859,5273,4211,7928,5240,4674,12019,4374,10057,4127,2993,5661,12411,16763,13282,12005,10704,9111,5898,8993,4127,9790,25339,7101,4626,6742,7947,1136,6249,5420,6000,7075,4754,8519,5232,8005,5759,6950,5038,6904,8456,28440,53540,4744,5539,8968,6858,4902,9109,33045,4924,5441,4754,5563,3499,4046,14972,10421,10655,5141,8925,2196,2605,2984,8091,10176,3714,3941,3867,3776,3023,6018,6068,16253,6326,3145,4032,4075,3284,2950,4969,3386,1136,2745,2357,6908,8982,6102,9203,14674,6930,3168,108787,3187,2313,4275,3225,5628,4635,2484,6042,14030,4460,3187,3407,6973,4616,12222,7663,8341,15931,4496,3714,4434,4283,19716,10412,12523,37544,16490,3968,11371,4382,6775,9873,3834,2997,5499,4816,9508,3482,3757,26138,7186,26393,5487,6507,8591,16784,2556,3815,6444,6328,2892,2207,1900,4764,5169,4349,4315,3023,3566,2831,13901,3450,2663,7536,14183,3340,7295,32934,2859,4869,4283,3245,3439,9978,3538,17913,2946,3450,5497,25516,4391,1668,3521,35034,17334,18946,4496,3355,4112,4003,3887,2929,2587,3450,2738,2434,5347,3085,3989,3206,4017,4588,51723,10155,10945,12959,5246,13817,5267,4505,37475,6115,3555,8783,3434,3636,20338,6531,3913,4090,7384,4061,1702,5335,17763,3532,9760,3789,4315,3023,2788,5121,2392,12441,29289,11676,2984,3041,5720,7357,6227,34386,3081,3355,3058,10382,4090,4046,3221,3538,1964,1659,2036,5821,10397,14412,10919,2170,3099,4924,5670,772,2946,4541,1723,3624,3036,3444,1956,2288,3739,1571,1639,2085,2437,2730,4340,1739,1619,3672,3827,2494,1392,2937,3350,2843,1799,11711,1977,1682,2298,2784,2663,2152,1412,2912,3067,4332,1892,6674,10659,3612,6731,4357,2623,3028,5401,1865,1573,2149,3397,2645,1753,4112,2046,3510,2066,3450,2104,1541,2118,6497,3063,2831,2605,2835,3150,3770,3477,4003,2765,2875,2784,7986,3023,2827,3636,9782,5464,3182,2474,4275,13151,9178,1693,4332,2884,2521,2196,17670,4607,23186,14431,2124,2470,2601,7862,2584,1623,1714,8041,2001,3159,3854,8428,3873,6469,4664,4211,30258,7616,6467,5789,23522,4597,2761,4142,4032,9437,4532,27865,25955,54272,6657,113419,5169,4127,13046,8439,9071,2138,1845,6670,54301,4541,1953,1503,1777,2240,2414,8204,2988,5325,13009,1565,1772,2723,3108,1497,1220,1664,2041,2366,2859,1245,1588,2009,8728,1707,1294,1282,5888,2630,2811,1299,1478,1668,1292,1707,6218,1127,3182,6166,2827,1943,1845,5756,1982,2135,1036,980,1639,2963,1806,1267,1483,838,651,1203,849,1410,1784,12587,783,631,5577,1054,1758,1483,2888,1105,872,1318,2301,1119,1938,1347,2313,1406,1677,1024,1117,1214,26055,301,6147,1316,295914,3014,1081,1679,1915,1374,964,782,38131,767,2030,604,621,4120,6966,17213,14862,11328,11544,10643,58009,8302,22767,23906,15703,116734,9930,46070,38186,29513,45883,53347,35165,34442,36970,43548,27592,50588,40350,34304,35463,128652,618830,545060,50483,43357,43772,47559,43028,21224,59862,23987,34789,20310,75108,23983,23493,27353,26306,25435,15684,75737,23295,21785,29297,15353,14416,24284,13174,24234,16212,46526,25526,13424,233486,35256,19206,21655,28542,15168,19813,16711,20777,12327,14840,11066,33342,19907,20535,20655,17685,19319,19472,28865,22702,32962,42373,21098,22755,18147,21247,17417,21917,23351,24865,12701,10466,22160,20317,24856,10777,14113,23201,18112,15661,12858,9737,11234,43343,16651,15456,21915,11649,94963,12529,17521,17369,10495,12036,25254,32518,20313,21534,12401,13954,28434,28681,26463,50467,22257,23989,11341,14322,268019,11391,15074,17449,21739,9951,37106,18032,13362,30377,9429,11531,15729,16744,13065,14993,17276,16639,27265,16738,28895,12216,15393,19082,24509,20070,8879,24468,14459,18043,6862,28017,7416,19447,16286,9618,17444,116755,47981,17318,22346,18560,22636,24438,8847,8144,47920,17845,15767,24301,31004,10653,21101,15856,14829,67752,8145,7663,14209,20567,16843,17576,16298,18721,44138,9448,23720,30626,9640,7307,9312,18780,14551,31649,20452,8632,6556,6957,7077,8032,82922,23618,14929,19557,19868,7238,65273,19405,18283,9218,8056,8721,16948,17356,47706,14107,25494,96809,8336,20381,23280,17846,20784,10977,10845,20721,28584,11708,12586,16686,23586,27469,39083,11439,16788,18000,18043,8346,9708,9407,11489,14091,215691,17545,12087,17037,14720,40763,21235,13565,50746,8826,17834,15504,11416,25373,8678,11577,24318,11097,14161,12881,27091,23128,8571,7102,25639,36380,26868,13153,15576,15830,8902,22984,12079,8991,13677,19526,18670,14174,11941,18018,16902,15290,15379,21301,31819,14513,14178,15409,11522,26960,11217,17028,15013,38961,315778,14012,29494,38068,8708,13599,13220,12648,29664,26086,23393,16805,44643,18162,21304,24728,27417,21283,18555,23221,18803,16414,17039,21134,42220,25040,24687,10522,26988,18216,21340,17197,24185,34618,12071,20309,15892,24689,113567,55762,79579,17466,15715,19534,38848,13759,15193,23293,17487,19806,10675,20442,16415,18877,10515,14168,19702,21568,16467,16639,12833,10076,31349,9185,9254,19030,17377,16528,11807,26499,17742,13296,9081,21614,32185,8142,8249,14463,14667,19769,38879,20253,9728,58913,11168,15450,9348,31614,9394,25525,8052,17701,26402,28985,11036,15845,20894,9810,37008,30745,17797,21825,20132,25540,11048,9414,16088,24036,12083,34758,19292,25484,116788,13804,23328,18487,16157,25172,14414,28673,30440,10769,49209,10798,22948,20263,15672,11383,23803,36045,10202,15333,13220,7680,16077,16320,14415,8410,15615,12022,15108,8011,9496,15862,12004,11721,8239,12883,7099,16034,8323,13624,11150,5552,13421,8465,14276,9048,10457,54344,12466,14655,15515,25200,40859,16107,16007,11693,7975,15147,45314,7294,6859,13702,26649,9069,11887,15436,13159,16073,8063,8841,25446,13855,14277,12813,11189,12493,14682,10597,22924,15374,18201,19593,22942,14155,17084,27837,20857,23204,19787,22002,64874,10818,13631,12013,11760,19944,16745,39867,9112,15918,14190,17174,10145,14836,17836,8546,12710,16877,9791,7827,13013,14528,7518,12630,13854,19681,23152,40495,20433,8374,8633,8536,18000,8918,9980,17408,7424,106697,10687,8308,26538,7533,10637,9585,38464,14134,8143,24040,9144,18788,9865,20746,7385,15065,16040,34513,10202,14134,7548,13558,7525,17792,8313,12565,71220,10569,8105,21519,20454,10723,13327,18179,9287,7410,10495,8241,8756,17231,12667,15204,15177,11197,7076,9233,12838,10547,161115,5787,6313,12148,9032,14487,15880,10636,12302,13248,12984,19663,16757,7649,14402,10339,19004,12195,10979,9588,7754,55256,8895,77619,13763,24648,10139,12046,21619,10688,18574,7581,9140,11156,8446,12627,19329,11305,13319,13485,9275,7209,11170,16811,27745,19736,12687,10585,13931,14293,15921,15452,13107,17186,59607,54597,15494,10794,11712,11450,10582,11302,11218,14288,15914,14961,22006,15941,12605,12187,12062,8311,12399,25495,8674,46897,13593,10048,11835,7821,8703,11102,8183,11821,7136,9235,10347,16841,8470,23234,23205,15464,11303,12987,8752,13381,9157,20321,8347,12101,15861,11866,8441,16456,8774,63221,9829,8864,27995,27343,5377,7336,14923,15928,9080,5014,12160,9154,5224,7946,15565,14810,7974,10760,16132,9598,16432,27812,6661,30634,23483,11278,9046,37043,5266,34531,67538,32901,40059,14710,9875,11363,14561,8589,16746,11732,114693,9501,13809,16613,11238,45889,9027,28983,10531,28363,8023,21740,9520,37490,9304,15997,14335,13504,16146,10341,16722,18201,18191,9427,12634,13447,35376,6236,5611,59101,6622,7130,13221,11171,10445,25344,8985,16394,12463,13549,14266,11027,11097,58825,13228,20815,9435,23127,12823,25801,18908,19604,52816,13884,12990,26410,21338,17495,10874,12661,23607,24457,38103,21246,23603,26346,53470,12132,21320,14236,22246,83718,9187,6679,7783,14471,9074,12183,47270,18897,17199,15625,19300,8044,6368,12906,26167,32765,17529,11652,6337,9188,13999,116169,16570,18560,13178,11290,5800,7471,6896,9228,10625,14381,27504,10337,23710,30521,20013,46833,12953,9238,26056,6554,12728,8047,11785,15859,12644,8882,11036,6067,5701,8929,9443,13052,4434,11547,9804,9982,11507,12016,10137,7358,11675,6520,8686,12689,11656,29152,5231,5120,10246,32789,6191,14033,9098,15291,5276,7534,7019,9834,24727,8479,19123,8951,6909,8943,6288,6538,8030,6157,12719,11572,8696,12169,9822,9600,7672,9539,12263,19497,13723,17649,7219,6817,14721,10623,13132,9800,14506,10939,11125,8315,7672,9857,11693,9102,11285,12041,11003,9314,8355,7806,12728,17597,13134,11373,13765,16388,16847,21962,15560,19622,12045,16973,13988,12241,9007,14399,11779,8836,14588,10637,10741,12194,10650,10979,1333,10467,6578,8595,8730,9488,9052,7235,7160,9933,10042,12295,12747,10283,9455,13237,7485,10363,9270,10926,16419,4607,5673,12557,10715,6509,18208,11186,10009,12620,38099,8829,9930,7147,6191,11053,13346,8948,8547,9077,7311,8735,10642,9731,10253,9188,33273,10709,7055,5594,7997,5279,20727,7083,6315,18980,8029,11504,6005,4243,4142,6775,6228,4365,28309,6811,6004,3672,5722,4127,4203,13115,6698,7908,5990,4251,7184,3907,3076,5221,3345,3941,4837,12237,9616,2988,5155,10374,9530,5224,11852,15687,6181,13988,5488,5448,4203,4764,8642,5906,5388,6782,6187,6760,4142,5852,10124,4097,8857,9510,6921,9393,8221,8040,8715,6451,6472,13734,9251,792,5647,6530,10074,6035,10309,4090,7750,7536,11504,8355,7560,5780,7026,12269,6306,11428,7822,8801,7480,11813,8983,9971,15435,6295,7127,10027,16628,5560,4017,4196,5382,5423,9173,14957,9011,5421,4754,7578,13757,12964,5355,7988,7601,8044,5773,7720,4616,6947,7867,6913,8321,6967,7600,9212,4935,7429,4724,4913,8054,12350,6059,7498,9043,6794,11614,5711,7101,20123,5800,11464,9443,7338,6778,3334,6856,4203,3975,2036,123452,1646,926,1320,104431,104688,90700,11088,363,415,327,359,16887,17658,1022470,4706716,2605,2003,1655,2009,2347,1845,1164,1452,5329,1357,1621,1086,876,925,1049,1597,843,627,1801,64467,2282,781,1240,1933,2921,533,697,2681,406,544,455,485,389,769,1036,947,256,555,494,383,595,413,577,1650,906,425,649,2022,355,383,440,355,265,418,335,286,674,515,1126,587,320,504,869,560,143027,831,1189,660,893,415,1390,1140,819,700,422,428,517,1483,632,553,307,564,400,426,640,465,772,710,585,354,820,222,236,494,251,896,346,537,511,955,384,438,1328,579,537,1225,1131,1593,3402,2421,2025,2888,4434,2450,1682,3708,2988,1623,1360,1351,1349,1129,1808,1604,2354,2046,5806,5903,5236,4391,1462,1961,167586,15040,67361,2888,1185,100957,749,1974,3642,2563,2019,1478,2025,1138,2696,4157,2447,6436,1842,2199,3595,1478,825,3654,2772,873,1039,2273,5846,914,1046,763,328,104252,73654,719,132556,1890,2784,8780,8975,10907,14391,14019,14785,15991,11293,14918,10652,11379,10151,9358,9659,9790,9667,12567,11835,13984,14131,13578,12901,12333,11638,10372]},\"selected\":{\"id\":\"4066\"},\"selection_policy\":{\"id\":\"4065\"}},\"id\":\"3950\",\"type\":\"ColumnDataSource\"},{\"attributes\":{\"fill_alpha\":{\"value\":0.1},\"fill_color\":{\"value\":\"blue\"},\"line_alpha\":{\"value\":0.1},\"line_color\":{\"value\":\"blue\"},\"x\":{\"field\":\"x\"},\"y\":{\"field\":\"y\"}},\"id\":\"3947\",\"type\":\"Circle\"},{\"attributes\":{},\"id\":\"4063\",\"type\":\"UnionRenderers\"},{\"attributes\":{},\"id\":\"4064\",\"type\":\"Selection\"},{\"attributes\":{},\"id\":\"3936\",\"type\":\"HelpTool\"},{\"attributes\":{\"data\":{\"x\":[1508,46,151,162,141,1776,338,11027,402,338,116,4256,186,900,113,539,2192,557,629,269,452,216,893,2068,136,90,108,507,433,791,642,521,66,59,2738,374,421,429,197,197,347,81,410,4743,1526,635,615,851,454,192,1398,631,554,76,598,515,75,123,84,400,702,118,98,793,196,159,1747,88,102,920,515,120,178,400,753,773,151,148,526,1056,772,379,92,260,9939,78,628,73,427,2523,1204,156,94697,208,789,265,136,766,54,540,137,75,88,1017,331,2911,1714,814,647,324,390,82,86,163,75,250,151,42,1506,137,1070,73,1334,180,131,53,754,893,107,94,93,716,141,2602,423,93,2637,73,6786,276,4227,1705,459,893,90,1378,197,705,2196,2874,635,752,994,2138,2668,3439,197,463,487,667,1004,84,147,164,539,976,108,515,307,401,990,71,493,627,112,1963,126,443,2153,2195,92,428,779,1495,888,1054,51,63,204,415,929,70,146,552,3447,998,410,157,239,241,560,133,643,141,675,159,155,102,730,1349,127,278,1117,83,99,875,112,481,935,75,85,60,23,565,235,119,615,73,1382,4306,1135,769,1009,186,97,1346,343,996,729,462,39,57,973,94,828,87,144,152,600,44,537,208,100,1423,85,705,1037,818,652,114,1877,2009,977,115,295,308,1323,682,40,369,124,135,432,3075,217,2397,851,234,1397,107,66,328,235,2650,2067,253,507,104,656,746,2227,250,489,295,293,1675,174,814,1387,138,416,220,894,459,720,868,927,949,899,81,85,42,195,269,589,1031,142,747,1830,260,527,1009,607,82,75,1472,734,202,3176,697,1962,1642,174,604,1030,1269,2223,52,1285,1317,1009,493,317,1812,2086,54,853,1503,1273,66,85,74,3732,3646,1740,1707,1519,228,3114,1327,987,740,696,381,804,510,658,630,999,1289,2717,629,647,463,609,1077,412,514,794,2947,172,415,93,156,170,250,1353,185,243,284,184,206,183,142,219,236,877,506,296,427,542,322,290,242,2178,1965,681,210,1719,1281,5991,2916,2782,345,272,267,306,474,223,370,28346,358,409,289,183,357,257,287,2102,722,275,284,520,10689,165,180,177,450,342,1196,2230,2229,263,326,837,308,386,222,225,3191,3414,239,322,1758,3222,304,198,139,179,369,481,193,1104,988,729,320,981,204,1400,264,369,192,250,232,314,1226,514,371,446,260,303,223,1158,658,153,509,302,682,212,383,255,304,137,212,149,179,135,184,211,152,144,126,84,111,202,405,3730,322,1515,282,1737,128,275,500,211,285,130,290,590,406,821,283,265,1638,261,212,258,242,237,586,352,154,1272,285,513,294,184,102,277,186,138,211,212,153,173,265,285,259,776,195,226,370,1630,243,296,208,398,209,502,246,321,342,297,236,390,240,149,231,342,793,131,373,342,247,40,180,215,216,237,202,298,1591,47,129,1607,640,429,182,352,544,387,194,622,762,221,364,336,173,376,654,119,94,1131,263,537,425,282,449,618,377,426,666,211,249,344,214,49,283,181,179,155,200,253,121,599,197,401,209,162,134,933,145,870,49,776,213,204,919,236,200,514,125,161,264,157,166,252,64,399,634,238,194,354,391,581,310,358,652,502,63,252,176,176,227,179,134,291,116,217,387,181,77,224,1485,594,443,223,239,126,233,1367,272,312,1956,409,150,126,273,198,455,176,95,166,216,293,101,181,63,43,302,61,29,47,52,138,46,240,72,54,97,190,27,375,41,167,227,40,249,972,32,318,39,97,1235,30,30,17,34,28,23,61,37,72,24,102,240,29,189,28,134,813,42,877,504,15,34,258,205,33,58,151,46,182,84,234,248,46,127,32,37,197,89,173,1196,30,194,29,1949,58,43,146,197,40,34,37,185,195,27,175,38,52,61,458,306,33,103,100,94,103,171,187,143,90,2104,285,357,154,408,113,304,112,181,220,151,31,1391,41,170,24,329,58,182,24,36,203,27,132,224,56,49,51,495,207,272,87,30,271,142,333,28,372,298,458,182,105,115,34,1224,113,399,44,309,65,340,60,61,236,354,316,313,37,436,40,23,200,108,222,34,135,167,250,22,302,45,339,35,48,219,121,318,26,126,153,147,42,124,303,37,236,82,913,176,295,44,41,50,49,25,199,78,121,194,12,361,97,72,78,205,29,23,33,417,321,51,198,65,36,219,47,66,503,28,412,206,43,824,172,224,111,569,373,302,63,349,41,173,563,213,223,167,538,32,915,211,341,23,1343,130,100,2619,208,549,433,308,196,218,636,191,228,206,300,284,210,50,261,51,373,214,157,258,175,79,150,282,622,35,990,211,50,544,1035,298,2554,136,185,48,129,58,1127,196,22,59,15,12,28,49,145,14,28,13,39,11,19,49,406,22,11,23,33,37,12,29,18,28,38,79,16,145,13,65,17,23,19,205,77,37,12,27,20,29,12,19,11,77,105,42,130,41,13,16,34,13,95,20,93,178,25,16,13,27,20,105,16,172,82,64,37,31,13,71,34,14,11,61,47,1893,30,40,40,23,63,23,63,21,325,59,33,54,21,47,17,37,22,22,48,23,474,13,18,37,52,36,84,40,60,86,34,54,64,168,67,29,40,367,69,38,196,46,107,38,37,53,34,142,393,74,49,553,14,23,107,545,38,78,306,173,42,22,16,49,64,19,14,49,717,30,33,297,254,503,35,86,75,48,131,105,94,45,55,184,31,34,16,48,62,32,151,305,25,62,32,180,17,204,29,31,96,118,20,16,12,25,36,91,118,117,71,61,58,23,110,99,28,18,31,69,103,921,351,59,87,32,145,35,1396,6590,43,214,138,21,136,123,37,27,53,42,59,73,28,68,133,65,74,87,502,65,72,59,44,85,60,34,333,77,27,255,409,33,28,1252,60,29,84,85,32,44,277,2461,4192,252,29,751,66,18,43,28,22,69,26,363,815,86,45,80,41,44,21,45,25,1951,136,23,62,26,64,23,40,155,114,17,128,21,21,198,63,6821,73,41,142,1335,317,61,84,41,112,40,91,296,29,162,130,974,50,45,67,40,1038,20,38,175,111,117,188,155,73,2543,331,91,30,57,91,62,291,137,45,51,54,39,104,80,88,56,52,325,196,157,145,72,48,32,59,94,35,1006,1160,3242,416,62,66,232,64,542,54,31,289,60,78,62,5836,62,86,135,56,83,114,75,153,94,86,70,47,64,105,53,48,223,76,40,44,43,32,78,76,91,33,12,22,37,73,147,173,71,117,71,159,160,87,755,48,421,45,277,108,45,81,122,159,40,189,186,27,89,114,147,80,168,220,109,85,100,94,273,482,583,114,78,237,104,87,45,126,286,61,423,407,191,61,218,84,116,32,127,59,137,24,102,86,289,399,35,183,337,126,244,291,144,209,344,116,61,585,72,957,21,61,350,97,368,35,38,160,345,98,54,225,82,41,98,77,85,264,42,82,1260,149,274,50,221,211,46,186,1648,222,38,146,103,51,219,492,59,210,361,133,749,990,149,442,67,521,100,61,87,115,44,206,228,67,66,418,112,251,140,602,95,115,158,373,372,359,252,119,235,353,96,241,212,751,141,116,117,139,237,306,576,145,201,1357,201,127,687,315,288,135,296,434,336,518,275,108,2864,1008,1327,1909,245,371,246,90,477,107,231,305,166,101,89,2510,253,190,350,225,271,203,171,74,125,265,221,400,1123,248,102,101,310,469,628,150,333,165,79,200,129,426,654,186,187,134,166,567,263,147,200,642,281,196,141,3163,243,270,359,531,1035,999,208,298,929,5804,552,186,270,160,187,186,149,461,170,368,323,190,390,350,147,776,238,690,147,170,158,202,342,294,376,1142,75,213,432,513,142,536,177,51,442,140,263,414,73,96,697,784,1265,654,132,53,128,113,103,215,322,146,162,84,35,67,85,213,111,88,105,92,62,135,79,65,173,113,57,67,49,88,61,163,206,150,156,123,216,86,82,40,103,165,73,195,115,213,60,46,34,97,144,272,85,101,197,112,162,78,165,27,42,126,216,15,45,117,107,42,29,125,25,89,78,62,21,58,93,68,71,143,25,134,49,42,59,57,46,77,107,289,57,30949,12,48,12,30,24,27,105,163,180,22,23,157,60,57,25,19,108,57,60,21,26,67,171,12,27,20,56,29,25,42,43,103,18,32,25,55,59,136,171,44,50,160,99,44,19,131,33,22,69,45,52,49,15,21,48,20,18,27,15,11,33,15,18,11,19,38,14,29,36,31,86,24,23,29,29,38,25,18,1441,171,33,20,28,16,12,22,29,27,16,26,29,30,17,16,45,57,28,29,18,16,27,18,31,12,20,11,20,16,21,47,22,11,146,31,29,71,58,12,25,119,287,17,31,12,14,39,30,2230,1279,28,17,13,158,15,104,17,17,53,17,17,63,65,32,11,35,26,56,13,15,39,30,11,12,42,19,220,28,190,13,260,1921,24,31,15,77,76,52,28,39,14,27,141,347,47,38,79,22,27,21,14,95,53,33,47,161,46,20,59,12,28,53,34,22,37,54,35,87,76,20,102,25,518,39,30,14,174,42,26,54,22,38,939,27,2510,46,14,76,18,36,23,99,2422,38,30,234,23,49,56,43,107,32,45,49,39,44,92,90,263,37,172,95,10817,70,563,45,146,57,55,75,176,114,58,80,17,4341,3051,19,14,11,17,19,12,15,14,11,209,41,84,89,48,12,17,29,102,30,30,26,48,590,150,24,19,29,34,34,27,18,23,12,1004,32,20,16,18,90,24,379,38,252,20,39,147,22,30,13,25,160,33,230,25,444,295,662,2425,166,108,234,71,33,116,40,14,54,40,55,40,12,25,145,28,16,14,37,56,53,11,45,99,25,24,17,19,19,19,25,13,11,11,17,12,22,35,203,29,37,65,293,683,21,78,246,18,330,27,23,25,36,364,15,22,194,23,16,1181,21,24,94,73,59,191,76,22,11,130,20,23,2777,22,111,2257,579,13,27,1228,14,84,12,2110,23,25,18,18005,108,136,152,72,39,14,39,19,144,18,93,31,22,47,52,124,232,45,139,23,31,21,28,35,28,88,92,43,16,48,186,186,34,34,61,163,172,47,152,39,415,554,49,100,41,80,27,20,152,186,68,206,166,223,101,244,738,134,600,441,27,22,112,182,30,355,26,284,73,85,239,305,145,255,20,23,30,81,368,215,288,23,494,270,111,267,127,503,56,237,36,171,57,58,272,70,907,131,136,37,108,158,23,67,22,276,337,57,504,110,42,24,230,143,128,30,556,80,64,168,138,311,62,219,72,215,42,15,157,38,19,90,40,95,100,49,78,53,85,84,255,17,28,36,107,31,163,64,75,118,20,18,134,159,18,68,39,111,45,41,66,41,57,241,80,65,30,66,19,57,40,42,64,190,193,16,100,35,119,88,25,40,29,19,35,93,161,27,33,125,64,12,13,12,20,13,176,38,31,169,12,387,82,456,98,38,231,218,54,151,239,111,38,66,14,18,49,298,12,29,133,14,53,28,34,62,73,51,113,116,79,137,321,96,20,190,234,153,428,36,1784,175,52,169,57,302,53,54,22,150,15,22,547,17,77,54,25,42,34,13,13,45,17,12,15,205,18,23,31,60,31,15,22,13,17,20,11,32,12,12,12,22,27,44,14,26,14,26,58,23,60,51,29,17,12,14,16,29,12,407,23,309,173,509,242,446,471,302,398,1721,521,440,59,71,1098,65,38,70,27,149,38,145,216,41,151,34,33,42,108,1774,128,76,89,27,3219,392,710,199,236,470,628,31,1177,502,1700,116,246,1412,27,233,55,64,258,789,1360,81,1483,16,22,14,279,286,65,312,45,16,41,450,23,89,57,26,11,96,38,29,353,25,23,19,15,26,24,50,108,38,68,148,17,81,62,13,16,113,161,20,52,43,99,14,13,22,14,18,43,16,31,56,70,29,20,41,35,85,12,20,116,17,75,13,20,13,32,21,36,11,14,19,32,32,27,27,28,15,17,17,18,32,2042,70,15,13,11,22,34,31,20,15,24,19,15,21,12,26,24,17,452,40,19,34,73,2307,44,18,18,52,16,83,15,11,42,44,34,126,51,52,14,18,37,26,16,38,172,18,46,16,31,14,16,29,13,72,36,22,30,40,16,23,18,13,25,41,66,16,18,41,26,24,338,15,11,38,146,16,22,43,24,29,93,17,11,152,11,17,31,17,14,22,22,34,80,13,31,59,32,35,24,13,11,14,13,12,17,15,69,11,11,42,11,23,134,26,32,16,34,37,79,74,11,41,293,341,27,133,24,40,19,13,89,6695,17,25,67,32,26,14,19,15,28,19,23,404,93,24,69,95,15,12,23,29,17,30,11,12,70,152,22,71,19,16,13,18,36,23,15,67,15,17,17,17,414,14,20,19,13,18,71,34,17,39,136,16,753,17,27,13,12,12,12,14,54,92,29,131,16,11,15,25,13,11,16,16,16,17,43,39,13,12,14,55,25,33,55,37,35,52,216,65,20,50,123,24,40,41,58,31,28,180,314,173,16,35,24,46,325,352,30,37,46,387,29,69,25,80,47,118,23,32,545,94,14,23,69,37,40,31,16,29,46,172,282,571,23,34,29,162,72,22,29,13,77,21,49,12,18,63,279,61,15,18,35,37,31,375,44,60,41,59,61,114,20,14,39,13,38,17,93,107,77,20,72,45,97,31,61,41,20,16,27,127,57,18,59,20,34,31,175,300,39,93,44,33,55,34,565,24,43,51,149,57,14714,46,61,30,66,68,39,62,95,106,65,25,43,34,75,162,104,35,193,57,240,67,348,2837,62,106,44,40,137,52,100,793,167,1958,130,259,49,160,391,154,38,2419,127,36,26,2886,48,63,38,27,278,470,300,155,285,1987,603,198,401,74,486,335,227,261,485,275,33,349,269,328,242,281,43,187,201,790,362,101,2816,34,40,1367,88,54,55,484,2845,81,202,21,200,34,128,79,545,425,1798,380,78,257,27,154,59,217,370,473,330,348,190,105,52,415,87,220,54,48,3619,78,26689,140,109,153,190,71,77,79,100,53,125,202,200,70,145,71,63,138,69,78,2691,27,111,26,62,141,71,154,101,73,1051,110,41,70,93,93,262,54,210,56,1230,84,370,157,789,440,247,920,74,91,157,108,427,240,66,187,88,69,43,234,347,187,96,139,57,55,45,62,52,89,25360,66,42,77,58,129,232,195,97,259,96,89,35,209,101,39,76,247,56,81,36,93,83,61,148,48,493,55,58,75,69,56,62,79,79,116,103,388,81,138,67,112,121,67,109,107,167,537,297,146,445,634,1040,2097,185,141,85,395,894,583,194,299,412,167,134,285,189,415,764,1040,205,1944,159,151,196,314,158,126,244,134,558,180,205,140,639,406,245,332,535,871,227,1842,361,78,89,176,835,3573,468,16342,303,2757,870,113,3105,605,235,83,4177,670,618,79,118,123,380,295,342,2371,448,266,137,244,816,682,1014,62,496,590,553,519,901,158,1489,2572,344,1057,89906,119,914,1978,1791,146,58,32,16,19,11,21,17,13,11,11,76,100,295,87,156,277,103,95,3888,360,78,95,55,462,127,668,404,73,386,223,154,139,348,11,380608,804,41,24,30,62,15,21,16,14,36903,16,187,13,15,40,14,12,46,33,27,54,26,11,29,31,19,82,52,15,104,47,24,14,11,31,43,61,12,29,45,42,11,77,56,16,18,48,367,268,39,60,187,22,39,36,45,85,57,46,250,15,65,284,220,159,1345,11,12,18,28,15,56,46,22,53,48,20,14,16,14,26,18,16,49,13,46,202,22198,221,38,28,19,11,23,45,1466,41,57,52852,177971,95,60,105,636,106,41,99,21,268,140,17,100,23,88,302,21,41,21,116,153,532],\"y\":[77468,4399,12793,17343,16804,196810,32101,446791,36736,36500,17002,676340,15424,67393,16450,35062,247793,49074,56139,27845,41362,19645,85436,222770,15016,11508,11673,41417,37237,23664,49957,50521,8925,11158,258733,57373,31752,65134,23961,38332,27504,12199,73143,599079,130471,84648,48175,74256,45087,19950,76921,42175,39468,12074,68915,62383,15767,13688,17844,31557,63574,16975,9226,77071,14586,12120,126049,14658,11884,63073,48756,11258,14346,38260,76065,57853,10578,19436,49457,81358,98333,80379,15061,37449,2898977,11336,55167,15927,38013,162392,103413,18593,6652286,18137,68448,22609,18290,72603,8643,48473,30773,13254,10186,150637,34863,107234,104521,75508,60740,40904,34251,22739,10468,24359,15415,22115,29421,6028,137558,12609,40989,9156,136200,15820,10919,11221,48106,59525,9960,19778,9392,36407,15974,295976,38819,9783,401861,15903,223617,29003,470082,72664,27673,48317,13796,90270,14191,41715,203456,176296,50616,86983,44174,125938,162362,218904,29590,48469,25747,70991,76162,9353,21268,24293,63616,106985,19584,52299,35298,28477,47608,7432,54826,88999,9177,135806,10115,53138,117015,86578,10060,32975,66830,87431,60119,31243,11830,8047,20520,37134,71388,8843,16727,43024,105902,77842,48312,14286,23655,18860,62587,13103,63447,18097,89636,18078,17825,20480,48007,107044,30313,17146,98628,16745,18663,103263,10271,57268,170318,9932,11693,9042,7518,69993,23601,13357,61405,8746,76679,195344,96941,71926,87178,20130,15956,102416,26605,70572,76389,44901,6920,7052,47650,10780,111103,9494,18577,20314,75973,13509,60283,25684,9809,138519,16599,72996,56073,123958,44797,13667,75055,72955,149004,13123,15823,52586,130249,84810,14872,37291,12784,13693,33956,129849,21402,158890,86297,21558,125278,13184,17009,16006,20587,158673,114748,29768,67216,12326,75795,87250,97179,14881,67619,29109,33334,143747,13110,57143,116276,20497,54103,30048,49493,35647,61907,78408,60631,95197,83521,15463,17805,13417,22022,40383,47684,96857,11522,50000,239132,24007,33578,75342,77666,8983,10017,124993,86880,16436,209779,44183,190943,95088,23880,69841,104968,213860,143641,9884,104888,127960,95315,24562,25475,97699,140043,10899,82008,71540,157416,10623,22123,21917,288732,219057,213289,117993,129064,43976,166592,173741,94153,92704,77092,55358,75180,46991,60397,40194,110112,167803,213100,88164,59601,42653,64692,52997,53211,45213,55316,276752,25729,27430,7401,13055,13950,29896,60939,25716,30478,28262,19290,24569,16778,20110,20828,18298,33180,49005,26999,40833,97758,25773,26936,18298,110681,98017,86297,33298,80112,118068,167276,114586,151942,32031,33724,21785,38328,37749,21456,29345,1161417,38929,43010,29159,20499,31360,26213,37927,162726,44412,68421,37405,54648,323456,23928,19929,16725,46300,39453,121262,172834,105480,30727,40432,57439,35569,35703,27894,33113,168726,247304,20621,26012,139000,447780,34715,17723,31301,25065,52458,72104,29322,110157,113063,82356,62144,40981,17870,96586,23468,38524,27257,30343,25216,28130,97043,54218,35123,57346,28678,46045,22770,109792,59573,13307,100160,35062,67042,22241,32815,29578,30811,13205,17695,11575,23461,14573,14038,19270,19914,10098,12824,8530,15683,23563,78888,151872,31345,154251,32061,90540,11164,28419,48337,15503,22363,8443,40771,45694,27574,114733,24568,26481,59545,43860,17480,29218,23619,22474,72557,23063,23109,93645,29193,37291,37351,16491,18008,20071,12393,18205,21563,16458,13763,16311,41793,27226,35668,70554,20455,27786,35356,107058,18405,34394,28374,59517,17512,36679,18034,42509,36634,35647,22723,31649,17339,13026,22263,35790,79169,15642,40084,47095,18060,9902,12622,29007,12813,16507,14282,31668,147912,8850,8981,104420,47672,46882,19265,44631,55305,45499,15029,52779,78019,19152,25663,42169,10893,30447,104493,10292,11084,97979,16905,29227,65100,34259,79234,50667,26610,33476,41245,16230,20643,42984,35528,11800,26064,19031,34208,24490,19186,19336,10324,33245,12861,23112,15444,11770,11361,80750,14208,74136,9751,82036,20186,13108,47599,25780,12814,32867,8955,10570,25834,13490,15005,15283,11624,28139,62256,17450,23420,28357,26059,34536,15779,28206,42653,40830,9740,15970,13670,11012,15382,14238,11347,19055,11293,20756,25836,17367,10543,14408,100902,47561,36111,16919,28313,15708,16997,58573,24573,19299,102306,34433,13698,14035,26343,13698,31188,15607,9060,15358,21660,27426,15655,21025,8883,7295,16939,7828,5184,7017,8378,12131,6680,21782,7904,6766,10365,13552,6029,24477,7358,10930,11761,4025,12869,52221,6723,22125,6968,9741,71834,3941,4795,4869,5874,4569,4578,11910,7459,13701,6003,12666,17261,6443,28086,6269,10042,48669,6446,62064,37981,1751,5927,13593,21323,5322,7905,16357,5885,11027,8012,22373,12310,5555,10074,4913,5935,11451,8080,9707,66919,4382,11557,4349,98991,7250,5220,9760,13389,6586,7113,4496,15699,15559,4391,7230,4616,5014,6978,32455,19927,5237,9752,7692,9414,8020,15459,12636,8886,8188,153601,18028,18704,9905,24867,8284,15804,10452,13964,17435,11884,4120,116934,4478,14338,4112,21310,7145,13669,3504,3783,13042,4541,7976,14196,7021,6630,7526,26693,17224,13819,6572,4469,27510,8693,28579,4434,27098,9401,21873,16132,8719,7037,4560,79713,9431,25231,4880,24221,5951,25446,6121,6628,11872,23314,19241,22437,4541,30510,5230,4235,14144,8755,12718,4061,12498,13735,9022,5641,22394,8304,19462,5549,7646,17998,10448,18019,6152,9303,9694,14988,7298,9307,20719,6967,19067,9570,51521,13584,22779,5864,6092,7702,6507,3982,25691,5871,9623,16550,2730,25850,12881,6495,7611,16698,3666,3006,4291,21148,31897,5231,18981,9362,4902,16691,4664,7242,31155,4032,20842,31168,3815,45455,14379,13463,6757,25868,45387,37037,4259,21237,4704,16927,33894,12930,22898,8584,24513,4785,64582,14957,35258,2988,61730,9724,18252,122121,17136,39884,21387,20340,9588,12182,37341,14311,20644,14712,34625,19380,24273,6402,27610,8318,35724,10677,11183,17186,11694,7064,9434,26259,25987,6262,46122,15438,3527,20608,48281,25994,51741,9978,9185,5144,6699,7750,81686,8356,3355,6789,923,5174,4046,5164,1207,1990,661,2827,4806,2246,2946,6263,30022,2757,1573,2623,2884,7182,667,3624,1974,3583,4514,6403,2282,11415,2538,6556,3802,5785,4203,16062,5276,4307,3907,5306,6926,4097,2213,1818,2319,19702,12998,5571,13747,5256,2811,3555,7374,925,9810,8974,8621,15657,4684,4487,2294,4664,4267,15715,3726,22771,9055,9770,6792,6749,449,6628,5166,3250,838,6016,5863,216191,4635,4694,4391,3783,5411,5757,5751,4180,23095,5419,4382,7346,2060,5547,2060,4219,4082,4569,3630,2563,22114,2619,3164,2946,5573,2276,9575,4434,5038,5507,3355,4025,5395,11193,5681,2504,3739,22892,4785,3941,10402,4082,8004,3808,3941,4267,4869,8975,48626,11426,5605,17669,3407,5877,18491,32502,6823,5892,18604,19838,4315,2681,5441,5142,8332,3757,1295,3666,77728,15035,2937,32833,26142,43075,3696,17417,9538,13157,12704,17669,20964,4935,5811,26482,11114,7367,7593,4946,27494,3099,24702,17749,11826,17387,2001,27302,5496,18866,6045,5171,26441,16891,2566,4714,5557,7134,5160,7182,18418,7306,7017,5826,18944,13198,24120,17978,9319,7144,4946,15771,11254,52540,29568,6761,8145,10468,25375,11144,178605,438620,12765,56118,19683,5997,8667,23942,11063,4451,6102,7742,32659,4913,8454,5372,11343,4188,17502,10676,29693,13674,6767,6801,8995,7259,6032,8126,15072,5903,5685,29664,18587,6809,3555,53814,4991,6638,5862,29013,6319,5129,21630,144839,645351,15438,6471,53735,7534,5619,6657,3595,7643,7770,2427,18536,39932,6212,3131,7776,3041,8339,8224,16677,5816,84989,9047,5429,8034,4694,5295,7309,4597,9376,36287,5844,7426,6326,7901,46092,5409,607397,9777,3230,14130,48883,16219,3776,9997,11468,32892,8761,7140,17105,4211,10830,9301,35942,10657,10972,14445,11219,118790,7418,11291,34005,7013,16593,16353,8590,5742,199497,54086,14605,3583,7428,8016,4616,59269,16074,8008,4859,3678,3504,8068,5610,21851,4150,5909,13417,34092,12778,35889,5977,6935,5417,5953,8888,2418,147136,54806,255519,109252,11887,3815,45557,5375,42388,4891,5223,13512,9498,3789,38369,295939,7123,17826,13410,9648,14371,9400,12953,10783,6789,5407,9404,3578,4694,10509,8188,5228,11757,2963,2904,4532,3032,3289,3006,6763,10583,3887,1331,2325,1760,3150,7689,12420,8314,9139,3434,9037,22947,3961,54836,6749,33922,2044,9830,4469,2641,4173,5882,7681,2976,6850,8335,16816,15836,8171,22836,25391,7984,48956,5922,4243,8296,4165,34108,43383,33174,7562,14984,12336,15014,11216,6775,12292,39519,5893,17533,20823,13358,5163,12797,17380,14327,4645,21998,13227,18547,8425,9296,24008,53259,39351,8227,24057,39084,14219,20184,20382,44017,31761,25995,40759,28353,35962,10825,41923,3893,13037,17055,6373,12494,2726,3345,9092,20456,10601,7080,13355,5729,4090,4340,9156,4003,11892,6794,6605,51085,10374,19029,4434,37731,8458,3245,10407,71984,9969,2587,5941,6600,4616,11016,18948,3982,9121,33400,6705,27523,110084,10493,63090,11772,62887,21374,16663,4541,5478,4235,10387,17698,5230,18195,29685,9774,11187,8170,81146,31886,16832,7367,54501,68315,14489,37772,12151,10073,19663,8354,10868,10614,85470,11332,6104,33338,7319,16867,45370,35938,36280,17636,76965,59094,21099,48465,35826,22123,22776,25447,107720,48604,43916,29184,15795,505917,334507,132761,113646,18922,21681,50564,21533,71873,30025,31219,33645,31645,36707,18026,1212738,23102,21687,36416,24119,74982,58501,52895,16673,16683,30598,22943,82221,197506,31146,59615,18809,133076,57904,47728,19413,65188,16934,10789,25248,16646,47267,65234,26300,27489,20885,25280,226520,43067,21243,28597,58530,45122,48301,25898,337448,32179,36628,46736,54075,174379,177035,53791,39413,417404,1400003,93941,34655,39486,31419,22199,27852,18967,61280,29914,40433,47752,26054,44907,37308,32754,67707,25710,58690,21250,25273,36983,24274,32689,70205,99510,90765,13762,27545,51158,61214,27091,60970,23717,13264,41800,17116,23575,58190,14985,21167,137644,60577,85905,58115,45597,17673,23628,18448,22221,23152,28586,12411,15311,9281,5994,8601,11116,17211,12560,8370,10197,10240,8340,12888,10186,9581,19426,9862,6701,7752,6146,11064,8565,15672,18839,12442,16229,12502,19429,11421,12122,5998,15858,13474,10531,19915,21806,16338,7822,9271,7050,10575,13750,49974,11868,11841,17411,15348,13967,9954,14917,5648,7584,13844,19462,7691,11459,16148,25243,10480,7293,12837,9572,8823,7133,10656,5904,6752,19378,12112,9478,19280,7661,13507,12328,7288,8150,7732,11711,21721,10715,40105,10037,5946812,1652,32148,23816,2096,2559,2946,6418,6455,9265,4541,2689,9150,4180,2605,2003,2719,5233,2904,4357,2068,2164,4211,6408,1514,2434,1424,2892,2566,2511,2851,3041,5138,3407,1935,2584,3618,5085,6039,17441,2225,3684,6907,5252,3225,3006,5640,1768,1677,3488,2815,2827,2707,2264,1408,2099,1328,1468,1466,1003,1489,1462,1434,1152,1033,1260,1808,1877,1462,2101,1865,5254,1444,1512,1452,1982,1666,1253,1088,756841,10097,2601,1440,2335,1634,1019,1221,1066,1100,1095,1117,1560,1845,1830,860,2190,2730,1606,1595,1103,1108,1825,1095,1588,788,1406,788,628,1355,1382,4188,1499,1171,8254,2033,2652,2477,1998,695,1668,4935,13226,1069,1273,1520,1049,2867,2598,491308,111219,1207,1264,950,11839,1016,5511,1501,889,1714,1196,5597,2950,3001,1928,947,4127,2678,3927,1623,1376,2001,1396,1370,900,2261,1221,9145,3274,14145,1531,11093,207341,929,3381,213,5478,5394,2261,408,4243,1194,298,12918,17597,415,559,788,1159,5675,1078,1014,8108,403,234,7543,19907,2587,1121,3187,271,1093,2385,1933,489,1512,3720,2457,4112,9216,1418,11252,2460,42012,2444,1516,1249,9450,6541,2017,4324,1074,2634,70022,1177,322174,2711,338,7000,1147,2014,1305,2187,184453,2204,1632,15857,1454,2172,2408,616,3893,1262,1959,1643,401,440,3757,2132,6867,929,5400,2282,1605727,2190,104638,1895,3847,1847,985,3045,3867,6656,1202,2487,1110,483505,298983,925,1069,1122,926,1105,534,753,760,831,11114,1730,5215,4251,3192,896,1221,1299,5747,1251,1349,890,1845,35971,8798,2068,1238,2231,2477,1679,3376,1412,1562,988,55669,1345,2234,1134,1702,5294,966,24093,2335,35516,470,1742,11197,1010,2360,995,2741,7482,1290,18042,1535,105831,60908,24160,147206,10515,6775,15380,2501,2144,6184,1480,591,4068,2261,2411,3934,674,1388,4487,846,834,901,1571,4032,5273,599,2892,10850,5878,5123,4684,3795,3493,2022,1615,1650,1309,1440,1915,1684,2006,1728,59417,1852,1428,5684,49366,136815,1203,8423,73045,1905,27077,2421,1806,6165,1977,24877,2819,2222,18636,3054,3259,137626,1887,1028,11850,9270,8692,24230,16747,736,281,18636,255,3279,49762,386,7241,202351,82284,199,649,182689,291,5194,428,223508,356,471,1573,2963821,35429,55094,53610,54243,6878,17356,59620,5931,43826,9253,18480,13855,14882,12537,11245,16928,27874,7272,11568,8162,8857,3001,5264,5296,4795,6260,7472,3726,2437,4551,17520,11279,6855,3434,6660,15105,12762,3624,10336,6059,72044,35228,4532,9809,7554,6538,3023,6764,10345,17267,5185,10293,12840,15875,7108,15893,110176,11046,166076,34248,4734,2863,9290,11259,3612,20225,5627,16940,5818,5273,46414,74183,31469,49599,2360,2085,2984,5752,26188,19736,22422,3397,58985,47102,7406,16218,7783,34036,4173,12282,3245,10896,5609,5362,20763,4744,178933,10158,7093,2681,6430,9804,3900,4980,4283,14541,35212,3578,47274,7428,4374,6062,25423,7483,11283,6595,85334,6852,8482,33622,10166,18551,4025,12750,5465,33192,4324,2963,9863,4053,2497,6733,3192,5943,5845,3391,3397,4399,5323,3834,11385,1682,2566,3821,8198,2313,12829,6303,4332,8596,3126,1628,5917,7738,1865,3968,3493,5863,5566,2531,4837,2570,3867,21236,4219,5554,5191,5337,2696,4315,3757,4869,6081,16942,16444,2411,7680,2656,6632,4541,2041,16300,2144,1982,2082,28509,11776,2046,3259,6163,4460,1539,2199,1487,1303,1402,16004,2255,6518,10268,1626,80514,3304,60081,7418,2933,10621,7272,4399,10188,11881,8813,3010,6754,1472,1682,2619,15615,1406,1168,18231,1408,2276,1862,2689,11414,4219,3840,6900,19531,10642,9486,44978,5366,3982,28584,16407,17324,40863,3708,145123,14729,1604,13115,6970,23971,7250,6361,1499,10299,1303,926,40105,917,8919,4075,2252,3601,1460,847,864,3527,942,645,689,8049,852,1416,1001,5258,1430,934,1124,1337,1392,647,756,1560,2504,642,1446,3893,3566,2501,1303,3538,7324,7611,3360,2414,3521,5318,2929,1860,2044,1765,15450,20062,16503,42168,23757,19100,6494,40404,32566,31489,48958,21425,33216,107707,76659,35665,10836,22982,71469,13376,7561,8849,7450,16815,6785,12530,16679,7550,22230,5845,5240,6209,15656,114682,20194,12655,10410,6900,567875,18982,75112,20713,20070,36890,38665,5489,38499,28282,82646,8219,25445,84307,6356,11291,7566,5923,19798,44095,55133,4935,57293,3099,4785,3783,11764,17103,6915,36128,5290,3789,4165,23272,3873,8697,6816,4068,3455,8255,5512,5752,24524,5249,5250,4259,4219,4785,3927,8047,12155,6526,12589,12406,5209,7514,6517,5214,4075,10206,14698,4010,7264,5841,7582,4157,3961,5215,4541,3360,3968,5332,4267,8280,8646,7562,5684,7662,5422,8209,6326,5863,10231,4505,13701,5651,4434,3294,4560,5302,5178,3045,4478,4275,4578,4785,4127,2369,5327,3690,3708,2772,3690,5892,111858,6882,4017,3221,3164,4068,5429,2761,4645,3802,4451,4399,3324,5199,3504,4902,2659,1990,32889,5353,5128,5896,5722,94477,3145,3770,3907,6866,3549,11772,1961,2408,6948,6650,5929,10992,8150,8440,4112,4251,5217,5329,4541,5855,18414,4588,6156,5752,8769,3827,4694,8692,5555,12750,11856,11696,9970,14200,9477,10791,12681,9184,7917,10228,9294,7640,7677,7199,5959,7142,32088,8301,5814,11137,17800,7080,7019,6216,5191,5606,9225,4434,3140,17763,3510,4478,5674,3504,2867,4674,4188,7432,7284,4135,3636,7091,5247,6503,4105,2738,2591,2984,2811,2645,2563,3402,8763,4127,2700,4626,2715,4150,8378,5657,4827,2929,4291,5299,9861,7245,2504,4764,12715,22159,5290,11925,2950,5952,2491,2178,8742,181675,2954,3050,6381,5185,2807,3538,2723,1880,4203,3684,4425,23324,13202,3150,7752,6277,3187,2310,2252,3206,2494,2497,1938,1615,7605,29208,2807,5693,3402,1580,1794,1661,4469,5992,3113,6601,2444,2285,1977,1666,18969,2408,1860,1988,2041,7152,11007,6685,4514,9220,10879,3578,40720,4340,6104,3732,3455,3216,3543,3702,10866,14682,6084,13680,4291,3159,4664,8069,3482,3996,5779,3739,3873,4460,8476,8475,4588,4827,5434,9537,6786,6450,17987,9458,8381,9974,30127,14889,11335,10725,16579,15905,11701,8133,8440,5488,18550,25528,45002,32200,5602,8833,7892,10253,23458,27152,8688,8955,12104,38632,7609,14119,5919,6689,9305,16516,5290,6371,45038,17407,5455,6532,15433,4946,7662,9128,5949,5433,7908,15369,32916,68279,6876,7254,6703,22516,15624,8319,5675,5146,13715,7031,10712,3887,5273,12078,34967,11344,4505,3690,7034,7473,7139,31235,10866,12653,8793,12230,11545,11313,5689,4219,7053,4816,6725,4523,11195,14155,14647,7504,15299,9306,15397,6504,12383,7204,4664,4588,4734,14479,7883,4560,11298,3847,8100,8411,16250,31837,10134,20070,5519,8164,10077,8586,46999,7579,8546,9339,13862,9711,1494891,8141,6542,5968,7924,12115,9330,9709,7031,10874,9909,6279,6785,9118,11438,22865,15363,7455,20897,7613,26386,13053,53013,142716,7217,10099,6724,11886,17919,7001,8872,24434,19673,306689,9497,17425,6682,10107,28183,6470,7684,94283,11511,5926,3854,139296,5933,9063,5527,6847,21810,35732,29953,10757,29703,139651,29827,26300,43679,8546,24438,36802,25361,21330,32801,31361,5236,14428,10408,12939,13596,19025,9045,8748,35183,64018,38226,14409,139323,5298,8066,107999,9766,6894,10487,50696,222744,13442,12683,3678,16855,7385,25325,14790,21917,17004,64375,45479,7853,7705,5375,9304,13449,9438,14245,23716,16863,17375,32479,18534,7840,13253,8227,14084,8821,2663,255090,10272,1382165,12880,4795,24049,13777,17879,10628,12178,23935,6187,12874,19531,19064,9154,16162,8621,10349,22030,7867,7639,144491,5218,17728,6966,6781,17733,8043,17872,10934,6276,71635,11322,6299,4913,6739,9786,33578,4645,8947,8323,238126,8291,34665,15535,73768,42438,11132,55243,8633,7081,12792,8601,25419,27196,14451,50909,16990,11160,11093,21623,41680,20100,18569,17895,8247,8469,9708,15538,6241,9199,1891202,8526,3802,4173,5908,12989,28222,55119,37331,55419,50924,21483,41252,28738,13823,4991,18096,26950,5714,9096,7960,15849,9103,11224,9990,6776,22971,7581,8604,7148,11042,10157,21603,15275,15673,18178,15061,29659,12380,18663,6471,9276,22054,6654,11866,20795,28794,94701,58823,19428,47740,173246,99305,200643,35548,23587,19570,33062,125065,46453,32226,38270,37289,19523,33742,27750,16245,31191,104258,64851,29906,214642,28099,20160,42414,45121,24910,17637,25848,41687,55852,19309,28264,26653,71635,45163,30009,68408,58751,164167,43232,214270,165040,60282,87796,174751,391337,726900,85623,2455147,136908,420053,279539,94360,1049299,96898,94979,34566,518835,596026,97617,197706,39920,44443,51303,36061,82907,264968,103614,60844,43730,51696,105149,103056,123669,21753,58260,87397,90328,105673,134093,65484,171682,315868,88332,137432,10419096,226970,457225,526047,556193,184070,7043,3324,2803,3827,3455,3240,3521,4112,1464,895,3920,7812,17118,5517,6814,11224,5593,11616,240372,14427,6014,11470,11044,35698,5749,61177,74031,18016,72107,92547,104065,94090,92420,1628,11403817,45097,8028,5345,2605,6009,8713,2823,6654,3642,5532673,116298,86141,1114,1789,1746,1249,52659,28766,5603,4616,2207,2335,2946,8267,4082,7951,29894,26107,27337,19724,12627,3808,10350,2594,30503,15194,15839,3099,11125,11443,16326,3014,135741,7735,3259,2110,28206,171374,16074,9494,6774,4969,6045,4399,4267,5635,7922,4332,4382,4365,2294,7240,27573,20606,19472,150356,4307,2917,479,682,591,1162,4560,660,4795,7386,2044,726,1031,2152,67086,36688,29396,50785,3854,7434,23409,2072877,63828,9659,9612,2046,8877,5488,7041,331569,5627,4010,2002133,10479286,8107,4017,13865,47394,19893,8840,12374,4365,16690,16487,1303,7233,2187,5628,11536,1436,3136,1396,16576,16524,24989]},\"selected\":{\"id\":\"4064\"},\"selection_policy\":{\"id\":\"4063\"}},\"id\":\"3945\",\"type\":\"ColumnDataSource\"},{\"attributes\":{\"num_minor_ticks\":10},\"id\":\"3928\",\"type\":\"LogTicker\"},{\"attributes\":{\"fill_alpha\":{\"value\":0.2},\"fill_color\":{\"value\":\"red\"},\"line_alpha\":{\"value\":0.2},\"line_color\":{\"value\":\"red\"},\"x\":{\"field\":\"x\"},\"y\":{\"field\":\"y\"}},\"id\":\"3951\",\"type\":\"Circle\"},{\"attributes\":{\"data_source\":{\"id\":\"3945\"},\"glyph\":{\"id\":\"3946\"},\"hover_glyph\":null,\"muted_glyph\":null,\"nonselection_glyph\":{\"id\":\"3947\"},\"selection_glyph\":null,\"view\":{\"id\":\"3949\"}},\"id\":\"3948\",\"type\":\"GlyphRenderer\"},{\"attributes\":{\"axis\":{\"id\":\"3923\"},\"ticker\":null},\"id\":\"3926\",\"type\":\"Grid\"},{\"attributes\":{\"active_drag\":\"auto\",\"active_inspect\":\"auto\",\"active_multi\":null,\"active_scroll\":\"auto\",\"active_tap\":\"auto\",\"tools\":[{\"id\":\"3931\"},{\"id\":\"3932\"},{\"id\":\"3933\"},{\"id\":\"3934\"},{\"id\":\"3935\"},{\"id\":\"3936\"}]},\"id\":\"3938\",\"type\":\"Toolbar\"},{\"attributes\":{},\"id\":\"3915\",\"type\":\"DataRange1d\"},{\"attributes\":{\"num_minor_ticks\":10},\"id\":\"3924\",\"type\":\"LogTicker\"},{\"attributes\":{\"text\":\"reacciones\"},\"id\":\"3913\",\"type\":\"Title\"},{\"attributes\":{},\"id\":\"3934\",\"type\":\"SaveTool\"},{\"attributes\":{\"ticker\":null},\"id\":\"4059\",\"type\":\"LogTickFormatter\"},{\"attributes\":{},\"id\":\"3932\",\"type\":\"WheelZoomTool\"},{\"attributes\":{},\"id\":\"3931\",\"type\":\"PanTool\"},{\"attributes\":{},\"id\":\"3917\",\"type\":\"DataRange1d\"},{\"attributes\":{\"source\":{\"id\":\"3950\"}},\"id\":\"3954\",\"type\":\"CDSView\"}],\"root_ids\":[\"3912\"]},\"title\":\"Bokeh Application\",\"version\":\"2.0.1\"}};\n",
       "  var render_items = [{\"docid\":\"0d5e6487-ba42-46c8-84dc-be5c6ad86b04\",\"root_ids\":[\"3912\"],\"roots\":{\"3912\":\"2fa13fb1-fae6-400d-8c4d-a336605d703a\"}}];\n",
       "  root.Bokeh.embed.embed_items_notebook(docs_json, render_items);\n",
       "\n",
       "  }\n",
       "  if (root.Bokeh !== undefined) {\n",
       "    embed_document(root);\n",
       "  } else {\n",
       "    var attempts = 0;\n",
       "    var timer = setInterval(function(root) {\n",
       "      if (root.Bokeh !== undefined) {\n",
       "        clearInterval(timer);\n",
       "        embed_document(root);\n",
       "      } else {\n",
       "        attempts++;\n",
       "        if (attempts > 100) {\n",
       "          clearInterval(timer);\n",
       "          console.log(\"Bokeh: ERROR: Unable to run BokehJS code because BokehJS library is missing\");\n",
       "        }\n",
       "      }\n",
       "    }, 10, root)\n",
       "  }\n",
       "})(window);"
      ],
      "application/vnd.bokehjs_exec.v0+json": ""
     },
     "metadata": {
      "application/vnd.bokehjs_exec.v0+json": {
       "id": "3912"
      }
     },
     "output_type": "display_data"
    }
   ],
   "source": [
    "bpl.show(p)"
   ]
  },
  {
   "cell_type": "code",
   "execution_count": 75,
   "metadata": {},
   "outputs": [
    {
     "data": {
      "text/plain": [
       "'E:\\\\proyectos\\\\ds\\\\virality\\\\imagenes\\\\procesados\\\\reacciones.png'"
      ]
     },
     "execution_count": 75,
     "metadata": {},
     "output_type": "execute_result"
    }
   ],
   "source": [
    "export_png(p,filename=\"../imagenes/procesados/\" + metric + \".png\")"
   ]
  },
  {
   "cell_type": "code",
   "execution_count": 76,
   "metadata": {},
   "outputs": [
    {
     "data": {
      "text/html": [
       "<div>\n",
       "<style scoped>\n",
       "    .dataframe tbody tr th:only-of-type {\n",
       "        vertical-align: middle;\n",
       "    }\n",
       "\n",
       "    .dataframe tbody tr th {\n",
       "        vertical-align: top;\n",
       "    }\n",
       "\n",
       "    .dataframe thead th {\n",
       "        text-align: right;\n",
       "    }\n",
       "</style>\n",
       "<table border=\"1\" class=\"dataframe\">\n",
       "  <thead>\n",
       "    <tr style=\"text-align: right;\">\n",
       "      <th></th>\n",
       "      <th>likes</th>\n",
       "      <th>love</th>\n",
       "      <th>angry</th>\n",
       "      <th>wow</th>\n",
       "      <th>haha</th>\n",
       "      <th>sad</th>\n",
       "      <th>shares</th>\n",
       "      <th>comments</th>\n",
       "      <th>reacciones</th>\n",
       "      <th>scope</th>\n",
       "    </tr>\n",
       "  </thead>\n",
       "  <tbody>\n",
       "    <tr>\n",
       "      <th>0</th>\n",
       "      <td>18</td>\n",
       "      <td>7</td>\n",
       "      <td>0</td>\n",
       "      <td>0</td>\n",
       "      <td>0</td>\n",
       "      <td>0</td>\n",
       "      <td>4</td>\n",
       "      <td>1</td>\n",
       "      <td>30</td>\n",
       "      <td>3660</td>\n",
       "    </tr>\n",
       "    <tr>\n",
       "      <th>1</th>\n",
       "      <td>526</td>\n",
       "      <td>117</td>\n",
       "      <td>189</td>\n",
       "      <td>15</td>\n",
       "      <td>51</td>\n",
       "      <td>8</td>\n",
       "      <td>107</td>\n",
       "      <td>495</td>\n",
       "      <td>1508</td>\n",
       "      <td>77468</td>\n",
       "    </tr>\n",
       "    <tr>\n",
       "      <th>2</th>\n",
       "      <td>28</td>\n",
       "      <td>1</td>\n",
       "      <td>0</td>\n",
       "      <td>0</td>\n",
       "      <td>0</td>\n",
       "      <td>0</td>\n",
       "      <td>13</td>\n",
       "      <td>4</td>\n",
       "      <td>46</td>\n",
       "      <td>4399</td>\n",
       "    </tr>\n",
       "  </tbody>\n",
       "</table>\n",
       "</div>"
      ],
      "text/plain": [
       "   likes  love  angry  wow  haha  sad  shares  comments  reacciones  scope\n",
       "0     18     7      0    0     0    0       4         1          30   3660\n",
       "1    526   117    189   15    51    8     107       495        1508  77468\n",
       "2     28     1      0    0     0    0      13         4          46   4399"
      ]
     },
     "execution_count": 76,
     "metadata": {},
     "output_type": "execute_result"
    }
   ],
   "source": [
    "fdata[metricas+[\"reacciones\",\"scope\"]][:3]"
   ]
  },
  {
   "cell_type": "code",
   "execution_count": 77,
   "metadata": {},
   "outputs": [],
   "source": [
    "mdata = fdata[metricas+[\"reacciones\",\"scope\"]]"
   ]
  },
  {
   "cell_type": "code",
   "execution_count": 78,
   "metadata": {},
   "outputs": [],
   "source": [
    "from sklearn.model_selection import train_test_split"
   ]
  },
  {
   "cell_type": "code",
   "execution_count": 79,
   "metadata": {},
   "outputs": [],
   "source": [
    "train_set, test_set = train_test_split(mdata,test_size=0.2,random_state=42)"
   ]
  },
  {
   "cell_type": "code",
   "execution_count": 80,
   "metadata": {},
   "outputs": [
    {
     "data": {
      "text/plain": [
       "scope         1.000000\n",
       "likes         0.877618\n",
       "reacciones    0.818656\n",
       "shares        0.732963\n",
       "comments      0.713920\n",
       "love          0.498080\n",
       "haha          0.443225\n",
       "angry         0.436268\n",
       "wow           0.409375\n",
       "sad           0.255209\n",
       "Name: scope, dtype: float64"
      ]
     },
     "execution_count": 80,
     "metadata": {},
     "output_type": "execute_result"
    }
   ],
   "source": [
    "train_set.corr()[\"scope\"].sort_values(ascending=False)"
   ]
  },
  {
   "cell_type": "code",
   "execution_count": 81,
   "metadata": {},
   "outputs": [
    {
     "data": {
      "text/plain": [
       "scope         1.000000\n",
       "reacciones    0.865275\n",
       "likes         0.851891\n",
       "comments      0.703179\n",
       "shares        0.688538\n",
       "love          0.660936\n",
       "wow           0.593068\n",
       "haha          0.584740\n",
       "angry         0.531937\n",
       "sad           0.416357\n",
       "Name: scope, dtype: float64"
      ]
     },
     "execution_count": 81,
     "metadata": {},
     "output_type": "execute_result"
    }
   ],
   "source": [
    "np.log1p(train_set).corr()[\"scope\"].sort_values(ascending=False)"
   ]
  },
  {
   "cell_type": "code",
   "execution_count": 82,
   "metadata": {},
   "outputs": [],
   "source": [
    "from sklearn.preprocessing import FunctionTransformer\n",
    "from sklearn.preprocessing import MinMaxScaler\n",
    "from sklearn.pipeline import Pipeline"
   ]
  },
  {
   "cell_type": "code",
   "execution_count": 83,
   "metadata": {},
   "outputs": [],
   "source": [
    "transformer = FunctionTransformer(np.log1p, validate=True)\n",
    "transformer_inv = FunctionTransformer(np.expm1, validate=True)\n",
    "min_max_scaler = MinMaxScaler()"
   ]
  },
  {
   "cell_type": "code",
   "execution_count": 84,
   "metadata": {},
   "outputs": [],
   "source": [
    "def escaler(data):\n",
    "    return min_max_scaler.fit_transform(transformer.transform(data))"
   ]
  },
  {
   "cell_type": "code",
   "execution_count": 85,
   "metadata": {},
   "outputs": [],
   "source": [
    "def loger(data):\n",
    "    return transformer.transform(data)"
   ]
  },
  {
   "cell_type": "code",
   "execution_count": 86,
   "metadata": {},
   "outputs": [],
   "source": [
    "def loger_back(data):\n",
    "    return transformer_inv.transform(data)"
   ]
  },
  {
   "cell_type": "code",
   "execution_count": 87,
   "metadata": {},
   "outputs": [],
   "source": [
    "train_set_var = train_set.drop(columns=[\"scope\"])\n",
    "train_set_pred = train_set[[\"scope\"]].copy()\n",
    "test_set_var = test_set.drop(columns=[\"scope\"])\n",
    "test_set_pred = test_set[[\"scope\"]].copy()"
   ]
  },
  {
   "cell_type": "code",
   "execution_count": 88,
   "metadata": {},
   "outputs": [
    {
     "data": {
      "text/html": [
       "<div>\n",
       "<style scoped>\n",
       "    .dataframe tbody tr th:only-of-type {\n",
       "        vertical-align: middle;\n",
       "    }\n",
       "\n",
       "    .dataframe tbody tr th {\n",
       "        vertical-align: top;\n",
       "    }\n",
       "\n",
       "    .dataframe thead th {\n",
       "        text-align: right;\n",
       "    }\n",
       "</style>\n",
       "<table border=\"1\" class=\"dataframe\">\n",
       "  <thead>\n",
       "    <tr style=\"text-align: right;\">\n",
       "      <th></th>\n",
       "      <th>0</th>\n",
       "      <th>1</th>\n",
       "      <th>2</th>\n",
       "      <th>3</th>\n",
       "      <th>4</th>\n",
       "      <th>5</th>\n",
       "      <th>6</th>\n",
       "      <th>7</th>\n",
       "      <th>8</th>\n",
       "      <th>9</th>\n",
       "    </tr>\n",
       "  </thead>\n",
       "  <tbody>\n",
       "    <tr>\n",
       "      <th>count</th>\n",
       "      <td>5563.000000</td>\n",
       "      <td>5563.000000</td>\n",
       "      <td>5563.000000</td>\n",
       "      <td>5563.000000</td>\n",
       "      <td>5563.000000</td>\n",
       "      <td>5563.000000</td>\n",
       "      <td>5563.000000</td>\n",
       "      <td>5563.000000</td>\n",
       "      <td>5563.000000</td>\n",
       "      <td>5563.000000</td>\n",
       "    </tr>\n",
       "    <tr>\n",
       "      <th>mean</th>\n",
       "      <td>3.872234</td>\n",
       "      <td>1.843596</td>\n",
       "      <td>0.486103</td>\n",
       "      <td>0.618716</td>\n",
       "      <td>0.680562</td>\n",
       "      <td>0.248867</td>\n",
       "      <td>2.830929</td>\n",
       "      <td>1.907891</td>\n",
       "      <td>4.477930</td>\n",
       "      <td>9.087482</td>\n",
       "    </tr>\n",
       "    <tr>\n",
       "      <th>std</th>\n",
       "      <td>1.245930</td>\n",
       "      <td>1.470142</td>\n",
       "      <td>0.934531</td>\n",
       "      <td>0.953271</td>\n",
       "      <td>1.097248</td>\n",
       "      <td>0.650883</td>\n",
       "      <td>1.480897</td>\n",
       "      <td>1.418372</td>\n",
       "      <td>1.297882</td>\n",
       "      <td>1.321942</td>\n",
       "    </tr>\n",
       "    <tr>\n",
       "      <th>min</th>\n",
       "      <td>0.000000</td>\n",
       "      <td>0.000000</td>\n",
       "      <td>0.000000</td>\n",
       "      <td>0.000000</td>\n",
       "      <td>0.000000</td>\n",
       "      <td>0.000000</td>\n",
       "      <td>0.000000</td>\n",
       "      <td>0.000000</td>\n",
       "      <td>2.484907</td>\n",
       "      <td>4.897840</td>\n",
       "    </tr>\n",
       "    <tr>\n",
       "      <th>25%</th>\n",
       "      <td>2.890372</td>\n",
       "      <td>0.693147</td>\n",
       "      <td>0.000000</td>\n",
       "      <td>0.000000</td>\n",
       "      <td>0.000000</td>\n",
       "      <td>0.000000</td>\n",
       "      <td>1.791759</td>\n",
       "      <td>0.895880</td>\n",
       "      <td>3.433987</td>\n",
       "      <td>8.187577</td>\n",
       "    </tr>\n",
       "    <tr>\n",
       "      <th>50%</th>\n",
       "      <td>3.713572</td>\n",
       "      <td>1.609438</td>\n",
       "      <td>0.000000</td>\n",
       "      <td>0.000000</td>\n",
       "      <td>0.000000</td>\n",
       "      <td>0.000000</td>\n",
       "      <td>2.639057</td>\n",
       "      <td>1.609438</td>\n",
       "      <td>4.276666</td>\n",
       "      <td>9.072916</td>\n",
       "    </tr>\n",
       "    <tr>\n",
       "      <th>75%</th>\n",
       "      <td>4.709530</td>\n",
       "      <td>2.890372</td>\n",
       "      <td>0.693147</td>\n",
       "      <td>1.098612</td>\n",
       "      <td>1.098612</td>\n",
       "      <td>0.000000</td>\n",
       "      <td>3.784190</td>\n",
       "      <td>2.708050</td>\n",
       "      <td>5.358939</td>\n",
       "      <td>9.886799</td>\n",
       "    </tr>\n",
       "    <tr>\n",
       "      <th>max</th>\n",
       "      <td>10.481841</td>\n",
       "      <td>8.454253</td>\n",
       "      <td>8.779096</td>\n",
       "      <td>9.062304</td>\n",
       "      <td>9.576302</td>\n",
       "      <td>7.126891</td>\n",
       "      <td>12.743463</td>\n",
       "      <td>8.603554</td>\n",
       "      <td>12.849528</td>\n",
       "      <td>16.249459</td>\n",
       "    </tr>\n",
       "  </tbody>\n",
       "</table>\n",
       "</div>"
      ],
      "text/plain": [
       "                 0            1            2            3            4  \\\n",
       "count  5563.000000  5563.000000  5563.000000  5563.000000  5563.000000   \n",
       "mean      3.872234     1.843596     0.486103     0.618716     0.680562   \n",
       "std       1.245930     1.470142     0.934531     0.953271     1.097248   \n",
       "min       0.000000     0.000000     0.000000     0.000000     0.000000   \n",
       "25%       2.890372     0.693147     0.000000     0.000000     0.000000   \n",
       "50%       3.713572     1.609438     0.000000     0.000000     0.000000   \n",
       "75%       4.709530     2.890372     0.693147     1.098612     1.098612   \n",
       "max      10.481841     8.454253     8.779096     9.062304     9.576302   \n",
       "\n",
       "                 5            6            7            8            9  \n",
       "count  5563.000000  5563.000000  5563.000000  5563.000000  5563.000000  \n",
       "mean      0.248867     2.830929     1.907891     4.477930     9.087482  \n",
       "std       0.650883     1.480897     1.418372     1.297882     1.321942  \n",
       "min       0.000000     0.000000     0.000000     2.484907     4.897840  \n",
       "25%       0.000000     1.791759     0.895880     3.433987     8.187577  \n",
       "50%       0.000000     2.639057     1.609438     4.276666     9.072916  \n",
       "75%       0.000000     3.784190     2.708050     5.358939     9.886799  \n",
       "max       7.126891    12.743463     8.603554    12.849528    16.249459  "
      ]
     },
     "execution_count": 88,
     "metadata": {},
     "output_type": "execute_result"
    }
   ],
   "source": [
    "pd.DataFrame(loger(train_set)).describe()"
   ]
  },
  {
   "cell_type": "code",
   "execution_count": 89,
   "metadata": {},
   "outputs": [
    {
     "data": {
      "text/html": [
       "<div>\n",
       "<style scoped>\n",
       "    .dataframe tbody tr th:only-of-type {\n",
       "        vertical-align: middle;\n",
       "    }\n",
       "\n",
       "    .dataframe tbody tr th {\n",
       "        vertical-align: top;\n",
       "    }\n",
       "\n",
       "    .dataframe thead th {\n",
       "        text-align: right;\n",
       "    }\n",
       "</style>\n",
       "<table border=\"1\" class=\"dataframe\">\n",
       "  <thead>\n",
       "    <tr style=\"text-align: right;\">\n",
       "      <th></th>\n",
       "      <th>0</th>\n",
       "    </tr>\n",
       "  </thead>\n",
       "  <tbody>\n",
       "    <tr>\n",
       "      <th>count</th>\n",
       "      <td>5563.000000</td>\n",
       "    </tr>\n",
       "    <tr>\n",
       "      <th>mean</th>\n",
       "      <td>9.087482</td>\n",
       "    </tr>\n",
       "    <tr>\n",
       "      <th>std</th>\n",
       "      <td>1.321942</td>\n",
       "    </tr>\n",
       "    <tr>\n",
       "      <th>min</th>\n",
       "      <td>4.897840</td>\n",
       "    </tr>\n",
       "    <tr>\n",
       "      <th>25%</th>\n",
       "      <td>8.187577</td>\n",
       "    </tr>\n",
       "    <tr>\n",
       "      <th>50%</th>\n",
       "      <td>9.072916</td>\n",
       "    </tr>\n",
       "    <tr>\n",
       "      <th>75%</th>\n",
       "      <td>9.886799</td>\n",
       "    </tr>\n",
       "    <tr>\n",
       "      <th>max</th>\n",
       "      <td>16.249459</td>\n",
       "    </tr>\n",
       "  </tbody>\n",
       "</table>\n",
       "</div>"
      ],
      "text/plain": [
       "                 0\n",
       "count  5563.000000\n",
       "mean      9.087482\n",
       "std       1.321942\n",
       "min       4.897840\n",
       "25%       8.187577\n",
       "50%       9.072916\n",
       "75%       9.886799\n",
       "max      16.249459"
      ]
     },
     "execution_count": 89,
     "metadata": {},
     "output_type": "execute_result"
    }
   ],
   "source": [
    "pd.DataFrame(loger(train_set_pred)).describe()"
   ]
  },
  {
   "cell_type": "code",
   "execution_count": 90,
   "metadata": {},
   "outputs": [],
   "source": [
    "from sklearn.linear_model import LinearRegression\n",
    "from sklearn.tree import DecisionTreeRegressor\n",
    "from sklearn.ensemble import RandomForestRegressor"
   ]
  },
  {
   "cell_type": "code",
   "execution_count": 91,
   "metadata": {},
   "outputs": [],
   "source": [
    "lin_reg = LinearRegression()\n",
    "lin_reg_multi = LinearRegression()\n",
    "tree_reg = DecisionTreeRegressor()\n",
    "forest_reg = RandomForestRegressor()"
   ]
  },
  {
   "cell_type": "code",
   "execution_count": 92,
   "metadata": {},
   "outputs": [
    {
     "data": {
      "text/plain": [
       "RandomForestRegressor(bootstrap=True, ccp_alpha=0.0, criterion='mse',\n",
       "                      max_depth=None, max_features='auto', max_leaf_nodes=None,\n",
       "                      max_samples=None, min_impurity_decrease=0.0,\n",
       "                      min_impurity_split=None, min_samples_leaf=1,\n",
       "                      min_samples_split=2, min_weight_fraction_leaf=0.0,\n",
       "                      n_estimators=100, n_jobs=None, oob_score=False,\n",
       "                      random_state=None, verbose=0, warm_start=False)"
      ]
     },
     "execution_count": 92,
     "metadata": {},
     "output_type": "execute_result"
    }
   ],
   "source": [
    "lin_reg.fit(loger(train_set_var[[\"reacciones\"]]),loger(train_set_pred))\n",
    "lin_reg_multi.fit(loger(train_set_var[metricas]),loger(train_set_pred))\n",
    "tree_reg.fit(loger(train_set_var[metricas]),loger(train_set_pred))\n",
    "forest_reg.fit(loger(train_set_var[metricas]),loger(train_set_pred)[:,0])"
   ]
  },
  {
   "cell_type": "code",
   "execution_count": 93,
   "metadata": {},
   "outputs": [],
   "source": [
    "import sklearn.metrics as skmet"
   ]
  },
  {
   "cell_type": "code",
   "execution_count": 94,
   "metadata": {},
   "outputs": [],
   "source": [
    "uni_pred = lin_reg.predict(loger(train_set_var[[\"reacciones\"]]))\n",
    "uni = loger_back(uni_pred)"
   ]
  },
  {
   "cell_type": "code",
   "execution_count": 95,
   "metadata": {},
   "outputs": [],
   "source": [
    "uni_test = lin_reg.predict(loger(test_set_var[[\"reacciones\"]]))\n",
    "unit = loger_back(uni_test)"
   ]
  },
  {
   "cell_type": "code",
   "execution_count": 96,
   "metadata": {},
   "outputs": [],
   "source": [
    "multi_pred = lin_reg_multi.predict(loger(train_set_var[metricas]))\n",
    "multi = loger_back(multi_pred)"
   ]
  },
  {
   "cell_type": "code",
   "execution_count": 97,
   "metadata": {},
   "outputs": [],
   "source": [
    "multi_test = lin_reg_multi.predict(loger(test_set_var[metricas]))\n",
    "multit = loger_back(multi_test)"
   ]
  },
  {
   "cell_type": "code",
   "execution_count": 98,
   "metadata": {},
   "outputs": [],
   "source": [
    "tree_pred = tree_reg.predict(loger(train_set_var[metricas]))\n",
    "tree = loger_back(pd.DataFrame(tree_pred))"
   ]
  },
  {
   "cell_type": "code",
   "execution_count": 99,
   "metadata": {},
   "outputs": [],
   "source": [
    "tree_test = tree_reg.predict(loger(test_set_var[metricas]))\n",
    "treet = loger_back(pd.DataFrame(tree_test))"
   ]
  },
  {
   "cell_type": "code",
   "execution_count": 100,
   "metadata": {},
   "outputs": [],
   "source": [
    "forest_pred = forest_reg.predict(loger(train_set_var[metricas]))\n",
    "forest = loger_back(pd.DataFrame(forest_pred))"
   ]
  },
  {
   "cell_type": "code",
   "execution_count": 101,
   "metadata": {},
   "outputs": [],
   "source": [
    "forest_test = forest_reg.predict(loger(test_set_var[metricas]))\n",
    "forestt = loger_back(pd.DataFrame(forest_test))"
   ]
  },
  {
   "cell_type": "code",
   "execution_count": 102,
   "metadata": {},
   "outputs": [],
   "source": [
    "real_train = loger(train_set_pred)\n",
    "real = loger_back(real_train)"
   ]
  },
  {
   "cell_type": "code",
   "execution_count": 103,
   "metadata": {},
   "outputs": [],
   "source": [
    "real_test = loger(test_set_pred)\n",
    "realt = loger_back(real_test)"
   ]
  },
  {
   "cell_type": "code",
   "execution_count": 104,
   "metadata": {},
   "outputs": [],
   "source": [
    "from sklearn.model_selection import cross_val_score"
   ]
  },
  {
   "cell_type": "code",
   "execution_count": 105,
   "metadata": {},
   "outputs": [],
   "source": [
    "scores = cross_val_score(lin_reg,loger(train_set_var[[\"reacciones\"]]),loger(train_set_pred),scoring=\"r2\",cv=10)"
   ]
  },
  {
   "cell_type": "code",
   "execution_count": 106,
   "metadata": {},
   "outputs": [],
   "source": [
    "scores = cross_val_score(tree_reg,loger(train_set_var[metricas]),loger(train_set_pred),scoring=\"r2\",cv=10)"
   ]
  },
  {
   "cell_type": "code",
   "execution_count": 107,
   "metadata": {},
   "outputs": [],
   "source": [
    "scores = cross_val_score(forest_reg,loger(train_set_var[metricas]),loger(train_set_pred)[:,0],scoring=\"r2\",cv=10)"
   ]
  },
  {
   "cell_type": "code",
   "execution_count": 108,
   "metadata": {},
   "outputs": [
    {
     "data": {
      "text/plain": [
       "array([0.76136459, 0.7637633 , 0.78708036, 0.75313414, 0.73055839,\n",
       "       0.78740386, 0.77187587, 0.76447929, 0.75014703, 0.74576921])"
      ]
     },
     "execution_count": 108,
     "metadata": {},
     "output_type": "execute_result"
    }
   ],
   "source": [
    "scores"
   ]
  },
  {
   "cell_type": "code",
   "execution_count": 109,
   "metadata": {},
   "outputs": [],
   "source": [
    "from sklearn.model_selection import GridSearchCV"
   ]
  },
  {
   "cell_type": "code",
   "execution_count": 110,
   "metadata": {},
   "outputs": [],
   "source": [
    "param_grid = [{'n_estimators':[3,10,30,50,100],'max_features':[2,4,6,8]},{'bootstrap':[False],'n_estimators':[3,10],'max_features':[2,3,4]}]"
   ]
  },
  {
   "cell_type": "code",
   "execution_count": 111,
   "metadata": {},
   "outputs": [],
   "source": [
    "grid_search = GridSearchCV(forest_reg,param_grid,cv=5,scoring='neg_mean_squared_error',return_train_score=True)"
   ]
  },
  {
   "cell_type": "code",
   "execution_count": 112,
   "metadata": {},
   "outputs": [
    {
     "data": {
      "text/plain": [
       "GridSearchCV(cv=5, error_score=nan,\n",
       "             estimator=RandomForestRegressor(bootstrap=True, ccp_alpha=0.0,\n",
       "                                             criterion='mse', max_depth=None,\n",
       "                                             max_features='auto',\n",
       "                                             max_leaf_nodes=None,\n",
       "                                             max_samples=None,\n",
       "                                             min_impurity_decrease=0.0,\n",
       "                                             min_impurity_split=None,\n",
       "                                             min_samples_leaf=1,\n",
       "                                             min_samples_split=2,\n",
       "                                             min_weight_fraction_leaf=0.0,\n",
       "                                             n_estimators=100, n_jobs=None,\n",
       "                                             oob_score=False, random_state=None,\n",
       "                                             verbose=0, warm_start=False),\n",
       "             iid='deprecated', n_jobs=None,\n",
       "             param_grid=[{'max_features': [2, 4, 6, 8],\n",
       "                          'n_estimators': [3, 10, 30, 50, 100]},\n",
       "                         {'bootstrap': [False], 'max_features': [2, 3, 4],\n",
       "                          'n_estimators': [3, 10]}],\n",
       "             pre_dispatch='2*n_jobs', refit=True, return_train_score=True,\n",
       "             scoring='neg_mean_squared_error', verbose=0)"
      ]
     },
     "execution_count": 112,
     "metadata": {},
     "output_type": "execute_result"
    }
   ],
   "source": [
    "grid_search.fit(loger(train_set_var[metricas]),loger(train_set_pred)[:,0])"
   ]
  },
  {
   "cell_type": "code",
   "execution_count": 113,
   "metadata": {},
   "outputs": [
    {
     "data": {
      "text/plain": [
       "{'max_features': 2, 'n_estimators': 100}"
      ]
     },
     "execution_count": 113,
     "metadata": {},
     "output_type": "execute_result"
    }
   ],
   "source": [
    "grid_search.best_params_"
   ]
  },
  {
   "cell_type": "code",
   "execution_count": 114,
   "metadata": {},
   "outputs": [],
   "source": [
    "cvres = grid_search.cv_results_"
   ]
  },
  {
   "cell_type": "code",
   "execution_count": 115,
   "metadata": {},
   "outputs": [
    {
     "name": "stdout",
     "output_type": "stream",
     "text": [
      "0.7285189476844175 {'max_features': 2, 'n_estimators': 3}\n",
      "0.6655836041328809 {'max_features': 2, 'n_estimators': 10}\n",
      "0.6335037661813551 {'max_features': 2, 'n_estimators': 30}\n",
      "0.6334098472760937 {'max_features': 2, 'n_estimators': 50}\n",
      "0.6302602885989608 {'max_features': 2, 'n_estimators': 100}\n",
      "0.7126619880299297 {'max_features': 4, 'n_estimators': 3}\n",
      "0.6618815059778769 {'max_features': 4, 'n_estimators': 10}\n",
      "0.6401777182928406 {'max_features': 4, 'n_estimators': 30}\n",
      "0.6353523035771604 {'max_features': 4, 'n_estimators': 50}\n",
      "0.6328425227520167 {'max_features': 4, 'n_estimators': 100}\n",
      "0.7245301129107682 {'max_features': 6, 'n_estimators': 3}\n",
      "0.6664004906848083 {'max_features': 6, 'n_estimators': 10}\n",
      "0.6475569785212991 {'max_features': 6, 'n_estimators': 30}\n",
      "0.6411356597515858 {'max_features': 6, 'n_estimators': 50}\n",
      "0.6392895949386013 {'max_features': 6, 'n_estimators': 100}\n",
      "0.7373191585221601 {'max_features': 8, 'n_estimators': 3}\n",
      "0.6640059455084018 {'max_features': 8, 'n_estimators': 10}\n",
      "0.6516643117357211 {'max_features': 8, 'n_estimators': 30}\n",
      "0.6464364825691233 {'max_features': 8, 'n_estimators': 50}\n",
      "0.6442724560912936 {'max_features': 8, 'n_estimators': 100}\n",
      "0.7332537411009539 {'bootstrap': False, 'max_features': 2, 'n_estimators': 3}\n",
      "0.677515252808307 {'bootstrap': False, 'max_features': 2, 'n_estimators': 10}\n",
      "0.7267252090567999 {'bootstrap': False, 'max_features': 3, 'n_estimators': 3}\n",
      "0.6803681553304838 {'bootstrap': False, 'max_features': 3, 'n_estimators': 10}\n",
      "0.7363278619183263 {'bootstrap': False, 'max_features': 4, 'n_estimators': 3}\n",
      "0.6818056407438122 {'bootstrap': False, 'max_features': 4, 'n_estimators': 10}\n"
     ]
    }
   ],
   "source": [
    "for mean_score, params in zip(cvres[\"mean_test_score\"],cvres[\"params\"]):\n",
    "    print(np.sqrt(-mean_score),params)"
   ]
  },
  {
   "cell_type": "code",
   "execution_count": 116,
   "metadata": {},
   "outputs": [],
   "source": [
    "featured_importances = grid_search.best_estimator_.feature_importances_"
   ]
  },
  {
   "cell_type": "code",
   "execution_count": 117,
   "metadata": {},
   "outputs": [
    {
     "data": {
      "text/plain": [
       "array(['likes', 'love', 'angry', 'wow', 'haha', 'sad', 'shares',\n",
       "       'comments', 'reacciones'], dtype=object)"
      ]
     },
     "execution_count": 117,
     "metadata": {},
     "output_type": "execute_result"
    }
   ],
   "source": [
    "np.array(train_set_var.columns)"
   ]
  },
  {
   "cell_type": "code",
   "execution_count": 118,
   "metadata": {},
   "outputs": [
    {
     "data": {
      "text/plain": [
       "[(0.3376362877638803, 'likes'),\n",
       " (0.20593956345242603, 'shares'),\n",
       " (0.1873811493343826, 'comments'),\n",
       " (0.10824807897304316, 'love'),\n",
       " (0.06268292991369258, 'haha'),\n",
       " (0.05178507358387805, 'wow'),\n",
       " (0.03583883716090309, 'angry'),\n",
       " (0.010488079817794253, 'sad')]"
      ]
     },
     "execution_count": 118,
     "metadata": {},
     "output_type": "execute_result"
    }
   ],
   "source": [
    "sorted(zip(featured_importances,np.array(train_set_var.columns)),reverse=True)"
   ]
  },
  {
   "cell_type": "code",
   "execution_count": 119,
   "metadata": {},
   "outputs": [],
   "source": [
    "final_model = grid_search.best_estimator_"
   ]
  },
  {
   "cell_type": "code",
   "execution_count": 120,
   "metadata": {},
   "outputs": [],
   "source": [
    "fmodel_pred = final_model.predict(loger(train_set_var[metricas]))\n",
    "fmodel = loger_back(pd.DataFrame(fmodel_pred))"
   ]
  },
  {
   "cell_type": "code",
   "execution_count": 121,
   "metadata": {},
   "outputs": [],
   "source": [
    "fmodel_test = final_model.predict(loger(test_set_var[metricas]))\n",
    "fmodelt = loger_back(pd.DataFrame(fmodel_test))"
   ]
  },
  {
   "cell_type": "code",
   "execution_count": 122,
   "metadata": {},
   "outputs": [],
   "source": [
    "from sklearn.neural_network import MLPRegressor"
   ]
  },
  {
   "cell_type": "code",
   "execution_count": 123,
   "metadata": {},
   "outputs": [],
   "source": [
    "clf = MLPRegressor(alpha=0.01, hidden_layer_sizes = (50,), max_iter = 50000, \n",
    "                 activation = 'relu', verbose = 'True', learning_rate = 'adaptive')"
   ]
  },
  {
   "cell_type": "code",
   "execution_count": 124,
   "metadata": {},
   "outputs": [
    {
     "name": "stdout",
     "output_type": "stream",
     "text": [
      "Iteration 1, loss = 38.63974798\n",
      "Iteration 2, loss = 19.66964099\n",
      "Iteration 3, loss = 7.69992220\n",
      "Iteration 4, loss = 4.09748904\n",
      "Iteration 5, loss = 3.36390998\n",
      "Iteration 6, loss = 2.80899462\n",
      "Iteration 7, loss = 2.38715049\n",
      "Iteration 8, loss = 2.04224486\n",
      "Iteration 9, loss = 1.75188970\n",
      "Iteration 10, loss = 1.51181030\n",
      "Iteration 11, loss = 1.31345683\n",
      "Iteration 12, loss = 1.14826385\n",
      "Iteration 13, loss = 1.00911505\n",
      "Iteration 14, loss = 0.89309359\n",
      "Iteration 15, loss = 0.79870856\n",
      "Iteration 16, loss = 0.72468038\n",
      "Iteration 17, loss = 0.66615151\n",
      "Iteration 18, loss = 0.62251722\n",
      "Iteration 19, loss = 0.58800619\n",
      "Iteration 20, loss = 0.56127572\n",
      "Iteration 21, loss = 0.54018089\n",
      "Iteration 22, loss = 0.52187027\n",
      "Iteration 23, loss = 0.50577233\n",
      "Iteration 24, loss = 0.49113013\n",
      "Iteration 25, loss = 0.47780970\n",
      "Iteration 26, loss = 0.46466337\n",
      "Iteration 27, loss = 0.45241629\n",
      "Iteration 28, loss = 0.44090644\n",
      "Iteration 29, loss = 0.43023018\n",
      "Iteration 30, loss = 0.41940722\n",
      "Iteration 31, loss = 0.40859100\n",
      "Iteration 32, loss = 0.39790245\n",
      "Iteration 33, loss = 0.38839786\n",
      "Iteration 34, loss = 0.37837496\n",
      "Iteration 35, loss = 0.36941723\n",
      "Iteration 36, loss = 0.36047517\n",
      "Iteration 37, loss = 0.35145905\n",
      "Iteration 38, loss = 0.34212050\n",
      "Iteration 39, loss = 0.33399614\n",
      "Iteration 40, loss = 0.32561110\n",
      "Iteration 41, loss = 0.31781665\n",
      "Iteration 42, loss = 0.31051557\n",
      "Iteration 43, loss = 0.30240416\n",
      "Iteration 44, loss = 0.29561501\n",
      "Iteration 45, loss = 0.28872859\n",
      "Iteration 46, loss = 0.28229887\n",
      "Iteration 47, loss = 0.27609685\n",
      "Iteration 48, loss = 0.27112829\n",
      "Iteration 49, loss = 0.26464948\n",
      "Iteration 50, loss = 0.25944113\n",
      "Iteration 51, loss = 0.25473225\n",
      "Iteration 52, loss = 0.25041337\n",
      "Iteration 53, loss = 0.24648480\n",
      "Iteration 54, loss = 0.24200667\n",
      "Iteration 55, loss = 0.23807614\n",
      "Iteration 56, loss = 0.23472871\n",
      "Iteration 57, loss = 0.23119413\n",
      "Iteration 58, loss = 0.22880136\n",
      "Iteration 59, loss = 0.22589007\n",
      "Iteration 60, loss = 0.22337303\n",
      "Iteration 61, loss = 0.22114467\n",
      "Iteration 62, loss = 0.21885626\n",
      "Iteration 63, loss = 0.21719122\n",
      "Iteration 64, loss = 0.21624528\n",
      "Iteration 65, loss = 0.21388251\n",
      "Iteration 66, loss = 0.21222920\n",
      "Iteration 67, loss = 0.21130205\n",
      "Iteration 68, loss = 0.21071116\n",
      "Iteration 69, loss = 0.20933116\n",
      "Iteration 70, loss = 0.20823522\n",
      "Iteration 71, loss = 0.20692053\n",
      "Iteration 72, loss = 0.20625302\n",
      "Iteration 73, loss = 0.20568586\n",
      "Iteration 74, loss = 0.20479805\n",
      "Iteration 75, loss = 0.20425369\n",
      "Iteration 76, loss = 0.20344956\n",
      "Iteration 77, loss = 0.20284567\n",
      "Iteration 78, loss = 0.20274458\n",
      "Iteration 79, loss = 0.20208006\n",
      "Iteration 80, loss = 0.20155799\n",
      "Iteration 81, loss = 0.20130347\n",
      "Iteration 82, loss = 0.20081154\n",
      "Iteration 83, loss = 0.20057385\n",
      "Iteration 84, loss = 0.20045588\n",
      "Iteration 85, loss = 0.19959094\n",
      "Iteration 86, loss = 0.19974740\n",
      "Iteration 87, loss = 0.19931824\n",
      "Iteration 88, loss = 0.19891944\n",
      "Iteration 89, loss = 0.19861700\n",
      "Iteration 90, loss = 0.19877097\n",
      "Iteration 91, loss = 0.19851374\n",
      "Iteration 92, loss = 0.19811730\n",
      "Iteration 93, loss = 0.19799495\n",
      "Iteration 94, loss = 0.19796196\n",
      "Iteration 95, loss = 0.19785957\n",
      "Iteration 96, loss = 0.19743527\n",
      "Iteration 97, loss = 0.19758353\n",
      "Iteration 98, loss = 0.19729079\n",
      "Iteration 99, loss = 0.19686761\n",
      "Iteration 100, loss = 0.19693518\n",
      "Iteration 101, loss = 0.19624134\n",
      "Iteration 102, loss = 0.19579578\n",
      "Iteration 103, loss = 0.19657199\n",
      "Iteration 104, loss = 0.19540423\n",
      "Iteration 105, loss = 0.19512103\n",
      "Iteration 106, loss = 0.19512040\n",
      "Iteration 107, loss = 0.19498106\n",
      "Iteration 108, loss = 0.19545697\n",
      "Iteration 109, loss = 0.19506727\n",
      "Iteration 110, loss = 0.19445900\n",
      "Iteration 111, loss = 0.19613400\n",
      "Iteration 112, loss = 0.19394934\n",
      "Iteration 113, loss = 0.19369251\n",
      "Iteration 114, loss = 0.19401226\n",
      "Iteration 115, loss = 0.19365454\n",
      "Iteration 116, loss = 0.19328948\n",
      "Iteration 117, loss = 0.19287667\n",
      "Iteration 118, loss = 0.19276778\n",
      "Iteration 119, loss = 0.19269049\n",
      "Iteration 120, loss = 0.19261955\n",
      "Iteration 121, loss = 0.19261551\n",
      "Iteration 122, loss = 0.19246266\n",
      "Iteration 123, loss = 0.19418456\n",
      "Iteration 124, loss = 0.19182267\n",
      "Iteration 125, loss = 0.19116761\n",
      "Iteration 126, loss = 0.19173456\n",
      "Iteration 127, loss = 0.19117509\n",
      "Iteration 128, loss = 0.19087885\n",
      "Iteration 129, loss = 0.19124497\n",
      "Iteration 130, loss = 0.19082675\n",
      "Iteration 131, loss = 0.19053284\n",
      "Iteration 132, loss = 0.19073916\n",
      "Iteration 133, loss = 0.19090596\n",
      "Iteration 134, loss = 0.19053645\n",
      "Iteration 135, loss = 0.19038518\n",
      "Iteration 136, loss = 0.18991594\n",
      "Iteration 137, loss = 0.18964554\n",
      "Iteration 138, loss = 0.18920146\n",
      "Iteration 139, loss = 0.18989994\n",
      "Iteration 140, loss = 0.18899522\n",
      "Iteration 141, loss = 0.18982237\n",
      "Iteration 142, loss = 0.18956141\n",
      "Iteration 143, loss = 0.18912733\n",
      "Iteration 144, loss = 0.18927237\n",
      "Iteration 145, loss = 0.18860059\n",
      "Iteration 146, loss = 0.18830374\n",
      "Iteration 147, loss = 0.18841225\n",
      "Iteration 148, loss = 0.18799758\n",
      "Iteration 149, loss = 0.18853909\n",
      "Iteration 150, loss = 0.18738423\n",
      "Iteration 151, loss = 0.18773417\n",
      "Iteration 152, loss = 0.18742398\n",
      "Iteration 153, loss = 0.18723145\n",
      "Iteration 154, loss = 0.18676184\n",
      "Iteration 155, loss = 0.18700794\n",
      "Iteration 156, loss = 0.18678121\n",
      "Iteration 157, loss = 0.18748839\n",
      "Iteration 158, loss = 0.18657723\n",
      "Iteration 159, loss = 0.18680077\n",
      "Iteration 160, loss = 0.18672311\n",
      "Iteration 161, loss = 0.18621529\n",
      "Iteration 162, loss = 0.18643617\n",
      "Iteration 163, loss = 0.18555672\n",
      "Iteration 164, loss = 0.18631798\n",
      "Iteration 165, loss = 0.18550831\n",
      "Iteration 166, loss = 0.18584499\n",
      "Iteration 167, loss = 0.18545408\n",
      "Iteration 168, loss = 0.18551296\n",
      "Iteration 169, loss = 0.18437590\n",
      "Iteration 170, loss = 0.18503413\n",
      "Iteration 171, loss = 0.18532873\n",
      "Iteration 172, loss = 0.18760750\n",
      "Iteration 173, loss = 0.18511367\n",
      "Iteration 174, loss = 0.18510913\n",
      "Iteration 175, loss = 0.18565523\n",
      "Iteration 176, loss = 0.18395583\n",
      "Iteration 177, loss = 0.18443602\n",
      "Iteration 178, loss = 0.18403792\n",
      "Iteration 179, loss = 0.18343113\n",
      "Iteration 180, loss = 0.18417147\n",
      "Iteration 181, loss = 0.18329203\n",
      "Iteration 182, loss = 0.18334341\n",
      "Iteration 183, loss = 0.18349331\n",
      "Iteration 184, loss = 0.18346133\n",
      "Iteration 185, loss = 0.18309401\n",
      "Iteration 186, loss = 0.18337262\n",
      "Iteration 187, loss = 0.18339488\n",
      "Iteration 188, loss = 0.18385308\n",
      "Iteration 189, loss = 0.18347702\n",
      "Iteration 190, loss = 0.18434370\n",
      "Iteration 191, loss = 0.18256186\n",
      "Iteration 192, loss = 0.18293240\n",
      "Iteration 193, loss = 0.18324433\n",
      "Iteration 194, loss = 0.18407048\n",
      "Iteration 195, loss = 0.18419192\n",
      "Iteration 196, loss = 0.18286194\n",
      "Iteration 197, loss = 0.18170643\n",
      "Iteration 198, loss = 0.18180447\n",
      "Iteration 199, loss = 0.18310543\n",
      "Iteration 200, loss = 0.18255515\n",
      "Iteration 201, loss = 0.18209930\n",
      "Iteration 202, loss = 0.18157718\n",
      "Iteration 203, loss = 0.18119358\n",
      "Iteration 204, loss = 0.18158051\n",
      "Iteration 205, loss = 0.18258312\n",
      "Iteration 206, loss = 0.18223673\n",
      "Iteration 207, loss = 0.18201008\n",
      "Iteration 208, loss = 0.18199274\n",
      "Iteration 209, loss = 0.18194596\n",
      "Iteration 210, loss = 0.18162495\n",
      "Iteration 211, loss = 0.18097865\n",
      "Iteration 212, loss = 0.18478887\n",
      "Iteration 213, loss = 0.18079592\n",
      "Iteration 214, loss = 0.18088684\n",
      "Iteration 215, loss = 0.18015274\n",
      "Iteration 216, loss = 0.18034511\n",
      "Iteration 217, loss = 0.18075819\n",
      "Iteration 218, loss = 0.18074616\n",
      "Iteration 219, loss = 0.18051931\n",
      "Iteration 220, loss = 0.18039026\n",
      "Iteration 221, loss = 0.18041552\n",
      "Iteration 222, loss = 0.18012577\n",
      "Iteration 223, loss = 0.17981620\n",
      "Iteration 224, loss = 0.18019757\n",
      "Iteration 225, loss = 0.18026024\n",
      "Iteration 226, loss = 0.18009081\n",
      "Iteration 227, loss = 0.17993697\n",
      "Iteration 228, loss = 0.17967439\n",
      "Iteration 229, loss = 0.18064658\n",
      "Iteration 230, loss = 0.18233823\n",
      "Iteration 231, loss = 0.18165447\n",
      "Iteration 232, loss = 0.18039998\n",
      "Iteration 233, loss = 0.17935383\n",
      "Iteration 234, loss = 0.17952974\n",
      "Iteration 235, loss = 0.17926221\n",
      "Iteration 236, loss = 0.17906466\n",
      "Iteration 237, loss = 0.17968537\n",
      "Iteration 238, loss = 0.17901170\n",
      "Iteration 239, loss = 0.18023920\n",
      "Iteration 240, loss = 0.17973842\n",
      "Iteration 241, loss = 0.18244507\n",
      "Iteration 242, loss = 0.18282714\n",
      "Iteration 243, loss = 0.18010777\n",
      "Iteration 244, loss = 0.17945449\n",
      "Iteration 245, loss = 0.17881887\n",
      "Iteration 246, loss = 0.17872440\n",
      "Iteration 247, loss = 0.18052394\n",
      "Iteration 248, loss = 0.17888284\n",
      "Iteration 249, loss = 0.18059988\n",
      "Iteration 250, loss = 0.17913503\n",
      "Iteration 251, loss = 0.17889080\n",
      "Iteration 252, loss = 0.17939355\n",
      "Iteration 253, loss = 0.18025139\n",
      "Iteration 254, loss = 0.17895740\n",
      "Iteration 255, loss = 0.17875819\n",
      "Iteration 256, loss = 0.17976928\n",
      "Training loss did not improve more than tol=0.000100 for 10 consecutive epochs. Stopping.\n"
     ]
    },
    {
     "data": {
      "text/plain": [
       "MLPRegressor(activation='relu', alpha=0.01, batch_size='auto', beta_1=0.9,\n",
       "             beta_2=0.999, early_stopping=False, epsilon=1e-08,\n",
       "             hidden_layer_sizes=(50,), learning_rate='adaptive',\n",
       "             learning_rate_init=0.001, max_fun=15000, max_iter=50000,\n",
       "             momentum=0.9, n_iter_no_change=10, nesterovs_momentum=True,\n",
       "             power_t=0.5, random_state=None, shuffle=True, solver='adam',\n",
       "             tol=0.0001, validation_fraction=0.1, verbose='True',\n",
       "             warm_start=False)"
      ]
     },
     "execution_count": 124,
     "metadata": {},
     "output_type": "execute_result"
    }
   ],
   "source": [
    "clf.fit(loger(train_set_var[metricas]),loger(train_set_pred)[:,0])\n",
    "#clf.fit(train_set_var[metricas],train_set_pred[\"scope\"])"
   ]
  },
  {
   "cell_type": "code",
   "execution_count": 125,
   "metadata": {},
   "outputs": [],
   "source": [
    "red_pred = clf.predict(loger(train_set_var[metricas]))\n",
    "#red_pred = clf.predict(train_set_var[metricas])\n",
    "red = loger_back(pd.DataFrame(red_pred))\n",
    "#red = pd.DataFrame(red_pred)"
   ]
  },
  {
   "cell_type": "code",
   "execution_count": 126,
   "metadata": {},
   "outputs": [],
   "source": [
    "red_test = clf.predict(loger(test_set_var[metricas]))\n",
    "#red_test = clf.predict(test_set_var[metricas])\n",
    "redt = loger_back(pd.DataFrame(red_test))\n",
    "#redt = pd.DataFrame(red_test)"
   ]
  },
  {
   "cell_type": "code",
   "execution_count": 127,
   "metadata": {},
   "outputs": [],
   "source": [
    "modelo = red_pred\n",
    "modelot = red_test\n",
    "modelol = red\n",
    "modelolt = redt\n",
    "nombre = \"Red Neuronal Profunda\"\n",
    "exvatr = skmet.explained_variance_score(real_train,modelo)\n",
    "exvate = skmet.explained_variance_score(real_test,modelot)\n",
    "msqeltr = np.sqrt(skmet.mean_squared_error(real_train,modelo))\n",
    "msqelte = np.sqrt(skmet.mean_squared_error(real_test,modelot))\n",
    "msqetr = np.sqrt(skmet.mean_squared_error(real,modelol))\n",
    "msqete = np.sqrt(skmet.mean_squared_error(realt,modelolt))\n",
    "salida = pd.DataFrame({\"real\":real[:,0],\"modelo\":modelol[:,0]})\n",
    "maxetr = np.sqrt(np.power(salida[\"real\"] - salida[\"modelo\"],2).max())\n",
    "salidat = pd.DataFrame({\"real\":realt[:,0],\"modelo\":modelolt[:,0]})\n",
    "maxete = np.sqrt(np.power(salidat[\"real\"] - salidat[\"modelo\"],2).max())"
   ]
  },
  {
   "cell_type": "code",
   "execution_count": 128,
   "metadata": {},
   "outputs": [
    {
     "data": {
      "text/html": [
       "<style  type=\"text/css\" >\n",
       "</style><table id=\"T_b5332e92_9f94_11ea_9ae1_e4b97a1361a0\" ><thead>    <tr>        <th class=\"blank level0\" ></th>        <th class=\"col_heading level0 col0\" >Set de entrenamiento</th>        <th class=\"col_heading level0 col1\" >Set de prueba</th>    </tr>    <tr>        <th class=\"index_name level0\" >Red Neuronal Profunda</th>        <th class=\"blank\" ></th>        <th class=\"blank\" ></th>    </tr></thead><tbody>\n",
       "                <tr>\n",
       "                        <th id=\"T_b5332e92_9f94_11ea_9ae1_e4b97a1361a0level0_row0\" class=\"row_heading level0 row0\" >Fracción de variabilidad explicada</th>\n",
       "                        <td id=\"T_b5332e92_9f94_11ea_9ae1_e4b97a1361a0row0_col0\" class=\"data row0 col0\" >0.7973981889087471</td>\n",
       "                        <td id=\"T_b5332e92_9f94_11ea_9ae1_e4b97a1361a0row0_col1\" class=\"data row0 col1\" >0.7647372810906625</td>\n",
       "            </tr>\n",
       "            <tr>\n",
       "                        <th id=\"T_b5332e92_9f94_11ea_9ae1_e4b97a1361a0level0_row1\" class=\"row_heading level0 row1\" >Error cuadrático medio escala log</th>\n",
       "                        <td id=\"T_b5332e92_9f94_11ea_9ae1_e4b97a1361a0row1_col0\" class=\"data row1 col0\" >0.5949971464825928</td>\n",
       "                        <td id=\"T_b5332e92_9f94_11ea_9ae1_e4b97a1361a0row1_col1\" class=\"data row1 col1\" >0.6490574802896558</td>\n",
       "            </tr>\n",
       "            <tr>\n",
       "                        <th id=\"T_b5332e92_9f94_11ea_9ae1_e4b97a1361a0level0_row2\" class=\"row_heading level0 row2\" >Error cuadratico medio</th>\n",
       "                        <td id=\"T_b5332e92_9f94_11ea_9ae1_e4b97a1361a0row2_col0\" class=\"data row2 col0\" >107,033.49718958806</td>\n",
       "                        <td id=\"T_b5332e92_9f94_11ea_9ae1_e4b97a1361a0row2_col1\" class=\"data row2 col1\" >77,501.462766044</td>\n",
       "            </tr>\n",
       "            <tr>\n",
       "                        <th id=\"T_b5332e92_9f94_11ea_9ae1_e4b97a1361a0level0_row3\" class=\"row_heading level0 row3\" >Error máximo</th>\n",
       "                        <td id=\"T_b5332e92_9f94_11ea_9ae1_e4b97a1361a0row3_col0\" class=\"data row3 col0\" >4,363,770.650996396</td>\n",
       "                        <td id=\"T_b5332e92_9f94_11ea_9ae1_e4b97a1361a0row3_col1\" class=\"data row3 col1\" >1,911,113.27983263</td>\n",
       "            </tr>\n",
       "    </tbody></table>"
      ],
      "text/plain": [
       "<pandas.io.formats.style.Styler at 0x173ffacb188>"
      ]
     },
     "execution_count": 128,
     "metadata": {},
     "output_type": "execute_result"
    }
   ],
   "source": [
    "frame = pd.DataFrame({\"Set de entrenamiento\":[exvatr,msqeltr,msqetr,maxetr],\"Set de prueba\":[exvate,msqelte,msqete,maxete]},index=[\"Fracción de variabilidad explicada\",\"Error cuadrático medio escala log\",\"Error cuadratico medio\",\"Error máximo\"])\n",
    "frame.index.name = nombre\n",
    "frame.style.format(\"{:,}\")"
   ]
  },
  {
   "cell_type": "code",
   "execution_count": 129,
   "metadata": {},
   "outputs": [
    {
     "data": {
      "text/html": [
       "<div>\n",
       "<style scoped>\n",
       "    .dataframe tbody tr th:only-of-type {\n",
       "        vertical-align: middle;\n",
       "    }\n",
       "\n",
       "    .dataframe tbody tr th {\n",
       "        vertical-align: top;\n",
       "    }\n",
       "\n",
       "    .dataframe thead th {\n",
       "        text-align: right;\n",
       "    }\n",
       "</style>\n",
       "<table border=\"1\" class=\"dataframe\">\n",
       "  <thead>\n",
       "    <tr style=\"text-align: right;\">\n",
       "      <th></th>\n",
       "      <th>real</th>\n",
       "      <th>uni</th>\n",
       "      <th>multi</th>\n",
       "      <th>tree</th>\n",
       "      <th>forest</th>\n",
       "      <th>fmodel</th>\n",
       "      <th>red</th>\n",
       "    </tr>\n",
       "  </thead>\n",
       "  <tbody>\n",
       "    <tr>\n",
       "      <th>0</th>\n",
       "      <td>2354.0</td>\n",
       "      <td>2074.524824</td>\n",
       "      <td>2398.944773</td>\n",
       "      <td>2354.0</td>\n",
       "      <td>3011.149678</td>\n",
       "      <td>2640.182563</td>\n",
       "      <td>2566.032092</td>\n",
       "    </tr>\n",
       "    <tr>\n",
       "      <th>1</th>\n",
       "      <td>36964.0</td>\n",
       "      <td>14804.533069</td>\n",
       "      <td>13950.026662</td>\n",
       "      <td>36964.0</td>\n",
       "      <td>23761.518990</td>\n",
       "      <td>26523.106767</td>\n",
       "      <td>13557.648307</td>\n",
       "    </tr>\n",
       "    <tr>\n",
       "      <th>2</th>\n",
       "      <td>3122.0</td>\n",
       "      <td>7405.442572</td>\n",
       "      <td>7878.576478</td>\n",
       "      <td>3122.0</td>\n",
       "      <td>3120.201505</td>\n",
       "      <td>3387.043495</td>\n",
       "      <td>5678.103081</td>\n",
       "    </tr>\n",
       "    <tr>\n",
       "      <th>3</th>\n",
       "      <td>2294.0</td>\n",
       "      <td>4893.583171</td>\n",
       "      <td>4607.265337</td>\n",
       "      <td>2294.0</td>\n",
       "      <td>2751.118081</td>\n",
       "      <td>2875.180897</td>\n",
       "      <td>4171.831555</td>\n",
       "    </tr>\n",
       "    <tr>\n",
       "      <th>4</th>\n",
       "      <td>47561.0</td>\n",
       "      <td>47635.280230</td>\n",
       "      <td>45263.036023</td>\n",
       "      <td>47561.0</td>\n",
       "      <td>48649.073382</td>\n",
       "      <td>51028.260108</td>\n",
       "      <td>49276.195526</td>\n",
       "    </tr>\n",
       "  </tbody>\n",
       "</table>\n",
       "</div>"
      ],
      "text/plain": [
       "      real           uni         multi     tree        forest        fmodel  \\\n",
       "0   2354.0   2074.524824   2398.944773   2354.0   3011.149678   2640.182563   \n",
       "1  36964.0  14804.533069  13950.026662  36964.0  23761.518990  26523.106767   \n",
       "2   3122.0   7405.442572   7878.576478   3122.0   3120.201505   3387.043495   \n",
       "3   2294.0   4893.583171   4607.265337   2294.0   2751.118081   2875.180897   \n",
       "4  47561.0  47635.280230  45263.036023  47561.0  48649.073382  51028.260108   \n",
       "\n",
       "            red  \n",
       "0   2566.032092  \n",
       "1  13557.648307  \n",
       "2   5678.103081  \n",
       "3   4171.831555  \n",
       "4  49276.195526  "
      ]
     },
     "execution_count": 129,
     "metadata": {},
     "output_type": "execute_result"
    }
   ],
   "source": [
    "pd.DataFrame({\"real\":real[:,0],\"uni\":uni[:,0],\"multi\":multi[:,0],\"tree\":tree[:,0],\"forest\":forest[:,0],\"fmodel\":fmodel[:,0],\"red\":red[:,0]})[:5]"
   ]
  },
  {
   "cell_type": "code",
   "execution_count": 130,
   "metadata": {},
   "outputs": [
    {
     "data": {
      "text/html": [
       "<div>\n",
       "<style scoped>\n",
       "    .dataframe tbody tr th:only-of-type {\n",
       "        vertical-align: middle;\n",
       "    }\n",
       "\n",
       "    .dataframe tbody tr th {\n",
       "        vertical-align: top;\n",
       "    }\n",
       "\n",
       "    .dataframe thead th {\n",
       "        text-align: right;\n",
       "    }\n",
       "</style>\n",
       "<table border=\"1\" class=\"dataframe\">\n",
       "  <thead>\n",
       "    <tr style=\"text-align: right;\">\n",
       "      <th></th>\n",
       "      <th>real</th>\n",
       "      <th>uni</th>\n",
       "      <th>multi</th>\n",
       "      <th>tree</th>\n",
       "      <th>forest</th>\n",
       "      <th>fmodel</th>\n",
       "      <th>red</th>\n",
       "    </tr>\n",
       "  </thead>\n",
       "  <tbody>\n",
       "    <tr>\n",
       "      <th>0</th>\n",
       "      <td>10445.0</td>\n",
       "      <td>5180.050669</td>\n",
       "      <td>5897.443393</td>\n",
       "      <td>6102.0</td>\n",
       "      <td>9167.764267</td>\n",
       "      <td>8218.290137</td>\n",
       "      <td>10173.198567</td>\n",
       "    </tr>\n",
       "    <tr>\n",
       "      <th>1</th>\n",
       "      <td>25344.0</td>\n",
       "      <td>36510.439259</td>\n",
       "      <td>38887.327251</td>\n",
       "      <td>46999.0</td>\n",
       "      <td>40553.421608</td>\n",
       "      <td>32377.776995</td>\n",
       "      <td>34085.348757</td>\n",
       "    </tr>\n",
       "    <tr>\n",
       "      <th>2</th>\n",
       "      <td>40433.0</td>\n",
       "      <td>31265.071735</td>\n",
       "      <td>36788.926987</td>\n",
       "      <td>82907.0</td>\n",
       "      <td>54526.728805</td>\n",
       "      <td>57606.108073</td>\n",
       "      <td>51575.483042</td>\n",
       "    </tr>\n",
       "    <tr>\n",
       "      <th>3</th>\n",
       "      <td>28645.0</td>\n",
       "      <td>7766.904818</td>\n",
       "      <td>8217.363573</td>\n",
       "      <td>7997.0</td>\n",
       "      <td>11926.371192</td>\n",
       "      <td>11719.982701</td>\n",
       "      <td>10594.523473</td>\n",
       "    </tr>\n",
       "    <tr>\n",
       "      <th>4</th>\n",
       "      <td>21681.0</td>\n",
       "      <td>31488.990397</td>\n",
       "      <td>37408.850671</td>\n",
       "      <td>19055.0</td>\n",
       "      <td>34654.760521</td>\n",
       "      <td>33963.326923</td>\n",
       "      <td>56353.398072</td>\n",
       "    </tr>\n",
       "  </tbody>\n",
       "</table>\n",
       "</div>"
      ],
      "text/plain": [
       "      real           uni         multi     tree        forest        fmodel  \\\n",
       "0  10445.0   5180.050669   5897.443393   6102.0   9167.764267   8218.290137   \n",
       "1  25344.0  36510.439259  38887.327251  46999.0  40553.421608  32377.776995   \n",
       "2  40433.0  31265.071735  36788.926987  82907.0  54526.728805  57606.108073   \n",
       "3  28645.0   7766.904818   8217.363573   7997.0  11926.371192  11719.982701   \n",
       "4  21681.0  31488.990397  37408.850671  19055.0  34654.760521  33963.326923   \n",
       "\n",
       "            red  \n",
       "0  10173.198567  \n",
       "1  34085.348757  \n",
       "2  51575.483042  \n",
       "3  10594.523473  \n",
       "4  56353.398072  "
      ]
     },
     "execution_count": 130,
     "metadata": {},
     "output_type": "execute_result"
    }
   ],
   "source": [
    "pd.DataFrame({\"real\":realt[:,0],\"uni\":unit[:,0],\"multi\":multit[:,0],\"tree\":treet[:,0],\"forest\":forestt[:,0],\"fmodel\":fmodelt[:,0],\"red\":redt[:,0]})[:5]"
   ]
  },
  {
   "cell_type": "code",
   "execution_count": null,
   "metadata": {},
   "outputs": [],
   "source": []
  },
  {
   "cell_type": "code",
   "execution_count": null,
   "metadata": {},
   "outputs": [],
   "source": []
  }
 ],
 "metadata": {
  "kernelspec": {
   "display_name": "Python 3",
   "language": "python",
   "name": "python3"
  },
  "language_info": {
   "codemirror_mode": {
    "name": "ipython",
    "version": 3
   },
   "file_extension": ".py",
   "mimetype": "text/x-python",
   "name": "python",
   "nbconvert_exporter": "python",
   "pygments_lexer": "ipython3",
   "version": "3.7.7"
  }
 },
 "nbformat": 4,
 "nbformat_minor": 4
}
