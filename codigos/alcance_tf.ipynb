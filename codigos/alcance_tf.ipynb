{
 "cells": [
  {
   "cell_type": "code",
   "execution_count": 1,
   "metadata": {},
   "outputs": [],
   "source": [
    "import pandas as pd\n",
    "import numpy as np\n",
    "import scipy as sci\n",
    "import bokeh.plotting as bpl\n",
    "from bokeh.io import export_png\n",
    "from bokeh.models import PrintfTickFormatter\n",
    "import math\n",
    "import bokeh.layouts as bly\n",
    "import tensorflow as tf\n",
    "from tensorflow import keras\n",
    "from tensorflow.keras import layers"
   ]
  },
  {
   "cell_type": "code",
   "execution_count": 42,
   "metadata": {},
   "outputs": [
    {
     "data": {
      "text/html": [
       "\n",
       "    <div class=\"bk-root\">\n",
       "        <a href=\"https://bokeh.org\" target=\"_blank\" class=\"bk-logo bk-logo-small bk-logo-notebook\"></a>\n",
       "        <span id=\"1001\">Loading BokehJS ...</span>\n",
       "    </div>"
      ]
     },
     "metadata": {},
     "output_type": "display_data"
    },
    {
     "data": {
      "application/javascript": [
       "\n",
       "(function(root) {\n",
       "  function now() {\n",
       "    return new Date();\n",
       "  }\n",
       "\n",
       "  var force = true;\n",
       "\n",
       "  if (typeof root._bokeh_onload_callbacks === \"undefined\" || force === true) {\n",
       "    root._bokeh_onload_callbacks = [];\n",
       "    root._bokeh_is_loading = undefined;\n",
       "  }\n",
       "\n",
       "  var JS_MIME_TYPE = 'application/javascript';\n",
       "  var HTML_MIME_TYPE = 'text/html';\n",
       "  var EXEC_MIME_TYPE = 'application/vnd.bokehjs_exec.v0+json';\n",
       "  var CLASS_NAME = 'output_bokeh rendered_html';\n",
       "\n",
       "  /**\n",
       "   * Render data to the DOM node\n",
       "   */\n",
       "  function render(props, node) {\n",
       "    var script = document.createElement(\"script\");\n",
       "    node.appendChild(script);\n",
       "  }\n",
       "\n",
       "  /**\n",
       "   * Handle when an output is cleared or removed\n",
       "   */\n",
       "  function handleClearOutput(event, handle) {\n",
       "    var cell = handle.cell;\n",
       "\n",
       "    var id = cell.output_area._bokeh_element_id;\n",
       "    var server_id = cell.output_area._bokeh_server_id;\n",
       "    // Clean up Bokeh references\n",
       "    if (id != null && id in Bokeh.index) {\n",
       "      Bokeh.index[id].model.document.clear();\n",
       "      delete Bokeh.index[id];\n",
       "    }\n",
       "\n",
       "    if (server_id !== undefined) {\n",
       "      // Clean up Bokeh references\n",
       "      var cmd = \"from bokeh.io.state import curstate; print(curstate().uuid_to_server['\" + server_id + \"'].get_sessions()[0].document.roots[0]._id)\";\n",
       "      cell.notebook.kernel.execute(cmd, {\n",
       "        iopub: {\n",
       "          output: function(msg) {\n",
       "            var id = msg.content.text.trim();\n",
       "            if (id in Bokeh.index) {\n",
       "              Bokeh.index[id].model.document.clear();\n",
       "              delete Bokeh.index[id];\n",
       "            }\n",
       "          }\n",
       "        }\n",
       "      });\n",
       "      // Destroy server and session\n",
       "      var cmd = \"import bokeh.io.notebook as ion; ion.destroy_server('\" + server_id + \"')\";\n",
       "      cell.notebook.kernel.execute(cmd);\n",
       "    }\n",
       "  }\n",
       "\n",
       "  /**\n",
       "   * Handle when a new output is added\n",
       "   */\n",
       "  function handleAddOutput(event, handle) {\n",
       "    var output_area = handle.output_area;\n",
       "    var output = handle.output;\n",
       "\n",
       "    // limit handleAddOutput to display_data with EXEC_MIME_TYPE content only\n",
       "    if ((output.output_type != \"display_data\") || (!output.data.hasOwnProperty(EXEC_MIME_TYPE))) {\n",
       "      return\n",
       "    }\n",
       "\n",
       "    var toinsert = output_area.element.find(\".\" + CLASS_NAME.split(' ')[0]);\n",
       "\n",
       "    if (output.metadata[EXEC_MIME_TYPE][\"id\"] !== undefined) {\n",
       "      toinsert[toinsert.length - 1].firstChild.textContent = output.data[JS_MIME_TYPE];\n",
       "      // store reference to embed id on output_area\n",
       "      output_area._bokeh_element_id = output.metadata[EXEC_MIME_TYPE][\"id\"];\n",
       "    }\n",
       "    if (output.metadata[EXEC_MIME_TYPE][\"server_id\"] !== undefined) {\n",
       "      var bk_div = document.createElement(\"div\");\n",
       "      bk_div.innerHTML = output.data[HTML_MIME_TYPE];\n",
       "      var script_attrs = bk_div.children[0].attributes;\n",
       "      for (var i = 0; i < script_attrs.length; i++) {\n",
       "        toinsert[toinsert.length - 1].firstChild.setAttribute(script_attrs[i].name, script_attrs[i].value);\n",
       "        toinsert[toinsert.length - 1].firstChild.textContent = bk_div.children[0].textContent\n",
       "      }\n",
       "      // store reference to server id on output_area\n",
       "      output_area._bokeh_server_id = output.metadata[EXEC_MIME_TYPE][\"server_id\"];\n",
       "    }\n",
       "  }\n",
       "\n",
       "  function register_renderer(events, OutputArea) {\n",
       "\n",
       "    function append_mime(data, metadata, element) {\n",
       "      // create a DOM node to render to\n",
       "      var toinsert = this.create_output_subarea(\n",
       "        metadata,\n",
       "        CLASS_NAME,\n",
       "        EXEC_MIME_TYPE\n",
       "      );\n",
       "      this.keyboard_manager.register_events(toinsert);\n",
       "      // Render to node\n",
       "      var props = {data: data, metadata: metadata[EXEC_MIME_TYPE]};\n",
       "      render(props, toinsert[toinsert.length - 1]);\n",
       "      element.append(toinsert);\n",
       "      return toinsert\n",
       "    }\n",
       "\n",
       "    /* Handle when an output is cleared or removed */\n",
       "    events.on('clear_output.CodeCell', handleClearOutput);\n",
       "    events.on('delete.Cell', handleClearOutput);\n",
       "\n",
       "    /* Handle when a new output is added */\n",
       "    events.on('output_added.OutputArea', handleAddOutput);\n",
       "\n",
       "    /**\n",
       "     * Register the mime type and append_mime function with output_area\n",
       "     */\n",
       "    OutputArea.prototype.register_mime_type(EXEC_MIME_TYPE, append_mime, {\n",
       "      /* Is output safe? */\n",
       "      safe: true,\n",
       "      /* Index of renderer in `output_area.display_order` */\n",
       "      index: 0\n",
       "    });\n",
       "  }\n",
       "\n",
       "  // register the mime type if in Jupyter Notebook environment and previously unregistered\n",
       "  if (root.Jupyter !== undefined) {\n",
       "    var events = require('base/js/events');\n",
       "    var OutputArea = require('notebook/js/outputarea').OutputArea;\n",
       "\n",
       "    if (OutputArea.prototype.mime_types().indexOf(EXEC_MIME_TYPE) == -1) {\n",
       "      register_renderer(events, OutputArea);\n",
       "    }\n",
       "  }\n",
       "\n",
       "  \n",
       "  if (typeof (root._bokeh_timeout) === \"undefined\" || force === true) {\n",
       "    root._bokeh_timeout = Date.now() + 5000;\n",
       "    root._bokeh_failed_load = false;\n",
       "  }\n",
       "\n",
       "  var NB_LOAD_WARNING = {'data': {'text/html':\n",
       "     \"<div style='background-color: #fdd'>\\n\"+\n",
       "     \"<p>\\n\"+\n",
       "     \"BokehJS does not appear to have successfully loaded. If loading BokehJS from CDN, this \\n\"+\n",
       "     \"may be due to a slow or bad network connection. Possible fixes:\\n\"+\n",
       "     \"</p>\\n\"+\n",
       "     \"<ul>\\n\"+\n",
       "     \"<li>re-rerun `output_notebook()` to attempt to load from CDN again, or</li>\\n\"+\n",
       "     \"<li>use INLINE resources instead, as so:</li>\\n\"+\n",
       "     \"</ul>\\n\"+\n",
       "     \"<code>\\n\"+\n",
       "     \"from bokeh.resources import INLINE\\n\"+\n",
       "     \"output_notebook(resources=INLINE)\\n\"+\n",
       "     \"</code>\\n\"+\n",
       "     \"</div>\"}};\n",
       "\n",
       "  function display_loaded() {\n",
       "    var el = document.getElementById(\"1001\");\n",
       "    if (el != null) {\n",
       "      el.textContent = \"BokehJS is loading...\";\n",
       "    }\n",
       "    if (root.Bokeh !== undefined) {\n",
       "      if (el != null) {\n",
       "        el.textContent = \"BokehJS \" + root.Bokeh.version + \" successfully loaded.\";\n",
       "      }\n",
       "    } else if (Date.now() < root._bokeh_timeout) {\n",
       "      setTimeout(display_loaded, 100)\n",
       "    }\n",
       "  }\n",
       "\n",
       "\n",
       "  function run_callbacks() {\n",
       "    try {\n",
       "      root._bokeh_onload_callbacks.forEach(function(callback) {\n",
       "        if (callback != null)\n",
       "          callback();\n",
       "      });\n",
       "    } finally {\n",
       "      delete root._bokeh_onload_callbacks\n",
       "    }\n",
       "    console.debug(\"Bokeh: all callbacks have finished\");\n",
       "  }\n",
       "\n",
       "  function load_libs(css_urls, js_urls, callback) {\n",
       "    if (css_urls == null) css_urls = [];\n",
       "    if (js_urls == null) js_urls = [];\n",
       "\n",
       "    root._bokeh_onload_callbacks.push(callback);\n",
       "    if (root._bokeh_is_loading > 0) {\n",
       "      console.debug(\"Bokeh: BokehJS is being loaded, scheduling callback at\", now());\n",
       "      return null;\n",
       "    }\n",
       "    if (js_urls == null || js_urls.length === 0) {\n",
       "      run_callbacks();\n",
       "      return null;\n",
       "    }\n",
       "    console.debug(\"Bokeh: BokehJS not loaded, scheduling load and callback at\", now());\n",
       "    root._bokeh_is_loading = css_urls.length + js_urls.length;\n",
       "\n",
       "    function on_load() {\n",
       "      root._bokeh_is_loading--;\n",
       "      if (root._bokeh_is_loading === 0) {\n",
       "        console.debug(\"Bokeh: all BokehJS libraries/stylesheets loaded\");\n",
       "        run_callbacks()\n",
       "      }\n",
       "    }\n",
       "\n",
       "    function on_error() {\n",
       "      console.error(\"failed to load \" + url);\n",
       "    }\n",
       "\n",
       "    for (var i = 0; i < css_urls.length; i++) {\n",
       "      var url = css_urls[i];\n",
       "      const element = document.createElement(\"link\");\n",
       "      element.onload = on_load;\n",
       "      element.onerror = on_error;\n",
       "      element.rel = \"stylesheet\";\n",
       "      element.type = \"text/css\";\n",
       "      element.href = url;\n",
       "      console.debug(\"Bokeh: injecting link tag for BokehJS stylesheet: \", url);\n",
       "      document.body.appendChild(element);\n",
       "    }\n",
       "\n",
       "    const hashes = {\"https://cdn.bokeh.org/bokeh/release/bokeh-2.0.1.min.js\": \"JpP8FXbgAZLkfur7LiK3j9AGBhHNIvF742meBJrjO2ShJDhCG2I1uVvW+0DUtrmc\", \"https://cdn.bokeh.org/bokeh/release/bokeh-widgets-2.0.1.min.js\": \"xZlADit0Q04ISQEdKg2k3L4W9AwQBAuDs9nJL9fM/WwzL1tEU9VPNezOFX0nLEAz\", \"https://cdn.bokeh.org/bokeh/release/bokeh-tables-2.0.1.min.js\": \"4BuPRZkdMKSnj3zoxiNrQ86XgNw0rYmBOxe7nshquXwwcauupgBF2DHLVG1WuZlV\", \"https://cdn.bokeh.org/bokeh/release/bokeh-gl-2.0.1.min.js\": \"Dv1SQ87hmDqK6S5OhBf0bCuwAEvL5QYL0PuR/F1SPVhCS/r/abjkbpKDYL2zeM19\"};\n",
       "\n",
       "    for (var i = 0; i < js_urls.length; i++) {\n",
       "      var url = js_urls[i];\n",
       "      var element = document.createElement('script');\n",
       "      element.onload = on_load;\n",
       "      element.onerror = on_error;\n",
       "      element.async = false;\n",
       "      element.src = url;\n",
       "      if (url in hashes) {\n",
       "        element.crossOrigin = \"anonymous\";\n",
       "        element.integrity = \"sha384-\" + hashes[url];\n",
       "      }\n",
       "      console.debug(\"Bokeh: injecting script tag for BokehJS library: \", url);\n",
       "      document.head.appendChild(element);\n",
       "    }\n",
       "  };var element = document.getElementById(\"1001\");\n",
       "  if (element == null) {\n",
       "    console.error(\"Bokeh: ERROR: autoload.js configured with elementid '1001' but no matching script tag was found. \")\n",
       "    return false;\n",
       "  }\n",
       "\n",
       "  function inject_raw_css(css) {\n",
       "    const element = document.createElement(\"style\");\n",
       "    element.appendChild(document.createTextNode(css));\n",
       "    document.body.appendChild(element);\n",
       "  }\n",
       "\n",
       "  \n",
       "  var js_urls = [\"https://cdn.bokeh.org/bokeh/release/bokeh-2.0.1.min.js\", \"https://cdn.bokeh.org/bokeh/release/bokeh-widgets-2.0.1.min.js\", \"https://cdn.bokeh.org/bokeh/release/bokeh-tables-2.0.1.min.js\", \"https://cdn.bokeh.org/bokeh/release/bokeh-gl-2.0.1.min.js\"];\n",
       "  var css_urls = [];\n",
       "  \n",
       "\n",
       "  var inline_js = [\n",
       "    function(Bokeh) {\n",
       "      Bokeh.set_log_level(\"info\");\n",
       "    },\n",
       "    function(Bokeh) {\n",
       "    \n",
       "    \n",
       "    }\n",
       "  ];\n",
       "\n",
       "  function run_inline_js() {\n",
       "    \n",
       "    if (root.Bokeh !== undefined || force === true) {\n",
       "      \n",
       "    for (var i = 0; i < inline_js.length; i++) {\n",
       "      inline_js[i].call(root, root.Bokeh);\n",
       "    }\n",
       "    if (force === true) {\n",
       "        display_loaded();\n",
       "      }} else if (Date.now() < root._bokeh_timeout) {\n",
       "      setTimeout(run_inline_js, 100);\n",
       "    } else if (!root._bokeh_failed_load) {\n",
       "      console.log(\"Bokeh: BokehJS failed to load within specified timeout.\");\n",
       "      root._bokeh_failed_load = true;\n",
       "    } else if (force !== true) {\n",
       "      var cell = $(document.getElementById(\"1001\")).parents('.cell').data().cell;\n",
       "      cell.output_area.append_execute_result(NB_LOAD_WARNING)\n",
       "    }\n",
       "\n",
       "  }\n",
       "\n",
       "  if (root._bokeh_is_loading === 0) {\n",
       "    console.debug(\"Bokeh: BokehJS loaded, going straight to plotting\");\n",
       "    run_inline_js();\n",
       "  } else {\n",
       "    load_libs(css_urls, js_urls, function() {\n",
       "      console.debug(\"Bokeh: BokehJS plotting callback run at\", now());\n",
       "      run_inline_js();\n",
       "    });\n",
       "  }\n",
       "}(window));"
      ],
      "application/vnd.bokehjs_load.v0+json": "\n(function(root) {\n  function now() {\n    return new Date();\n  }\n\n  var force = true;\n\n  if (typeof root._bokeh_onload_callbacks === \"undefined\" || force === true) {\n    root._bokeh_onload_callbacks = [];\n    root._bokeh_is_loading = undefined;\n  }\n\n  \n\n  \n  if (typeof (root._bokeh_timeout) === \"undefined\" || force === true) {\n    root._bokeh_timeout = Date.now() + 5000;\n    root._bokeh_failed_load = false;\n  }\n\n  var NB_LOAD_WARNING = {'data': {'text/html':\n     \"<div style='background-color: #fdd'>\\n\"+\n     \"<p>\\n\"+\n     \"BokehJS does not appear to have successfully loaded. If loading BokehJS from CDN, this \\n\"+\n     \"may be due to a slow or bad network connection. Possible fixes:\\n\"+\n     \"</p>\\n\"+\n     \"<ul>\\n\"+\n     \"<li>re-rerun `output_notebook()` to attempt to load from CDN again, or</li>\\n\"+\n     \"<li>use INLINE resources instead, as so:</li>\\n\"+\n     \"</ul>\\n\"+\n     \"<code>\\n\"+\n     \"from bokeh.resources import INLINE\\n\"+\n     \"output_notebook(resources=INLINE)\\n\"+\n     \"</code>\\n\"+\n     \"</div>\"}};\n\n  function display_loaded() {\n    var el = document.getElementById(\"1001\");\n    if (el != null) {\n      el.textContent = \"BokehJS is loading...\";\n    }\n    if (root.Bokeh !== undefined) {\n      if (el != null) {\n        el.textContent = \"BokehJS \" + root.Bokeh.version + \" successfully loaded.\";\n      }\n    } else if (Date.now() < root._bokeh_timeout) {\n      setTimeout(display_loaded, 100)\n    }\n  }\n\n\n  function run_callbacks() {\n    try {\n      root._bokeh_onload_callbacks.forEach(function(callback) {\n        if (callback != null)\n          callback();\n      });\n    } finally {\n      delete root._bokeh_onload_callbacks\n    }\n    console.debug(\"Bokeh: all callbacks have finished\");\n  }\n\n  function load_libs(css_urls, js_urls, callback) {\n    if (css_urls == null) css_urls = [];\n    if (js_urls == null) js_urls = [];\n\n    root._bokeh_onload_callbacks.push(callback);\n    if (root._bokeh_is_loading > 0) {\n      console.debug(\"Bokeh: BokehJS is being loaded, scheduling callback at\", now());\n      return null;\n    }\n    if (js_urls == null || js_urls.length === 0) {\n      run_callbacks();\n      return null;\n    }\n    console.debug(\"Bokeh: BokehJS not loaded, scheduling load and callback at\", now());\n    root._bokeh_is_loading = css_urls.length + js_urls.length;\n\n    function on_load() {\n      root._bokeh_is_loading--;\n      if (root._bokeh_is_loading === 0) {\n        console.debug(\"Bokeh: all BokehJS libraries/stylesheets loaded\");\n        run_callbacks()\n      }\n    }\n\n    function on_error() {\n      console.error(\"failed to load \" + url);\n    }\n\n    for (var i = 0; i < css_urls.length; i++) {\n      var url = css_urls[i];\n      const element = document.createElement(\"link\");\n      element.onload = on_load;\n      element.onerror = on_error;\n      element.rel = \"stylesheet\";\n      element.type = \"text/css\";\n      element.href = url;\n      console.debug(\"Bokeh: injecting link tag for BokehJS stylesheet: \", url);\n      document.body.appendChild(element);\n    }\n\n    const hashes = {\"https://cdn.bokeh.org/bokeh/release/bokeh-2.0.1.min.js\": \"JpP8FXbgAZLkfur7LiK3j9AGBhHNIvF742meBJrjO2ShJDhCG2I1uVvW+0DUtrmc\", \"https://cdn.bokeh.org/bokeh/release/bokeh-widgets-2.0.1.min.js\": \"xZlADit0Q04ISQEdKg2k3L4W9AwQBAuDs9nJL9fM/WwzL1tEU9VPNezOFX0nLEAz\", \"https://cdn.bokeh.org/bokeh/release/bokeh-tables-2.0.1.min.js\": \"4BuPRZkdMKSnj3zoxiNrQ86XgNw0rYmBOxe7nshquXwwcauupgBF2DHLVG1WuZlV\", \"https://cdn.bokeh.org/bokeh/release/bokeh-gl-2.0.1.min.js\": \"Dv1SQ87hmDqK6S5OhBf0bCuwAEvL5QYL0PuR/F1SPVhCS/r/abjkbpKDYL2zeM19\"};\n\n    for (var i = 0; i < js_urls.length; i++) {\n      var url = js_urls[i];\n      var element = document.createElement('script');\n      element.onload = on_load;\n      element.onerror = on_error;\n      element.async = false;\n      element.src = url;\n      if (url in hashes) {\n        element.crossOrigin = \"anonymous\";\n        element.integrity = \"sha384-\" + hashes[url];\n      }\n      console.debug(\"Bokeh: injecting script tag for BokehJS library: \", url);\n      document.head.appendChild(element);\n    }\n  };var element = document.getElementById(\"1001\");\n  if (element == null) {\n    console.error(\"Bokeh: ERROR: autoload.js configured with elementid '1001' but no matching script tag was found. \")\n    return false;\n  }\n\n  function inject_raw_css(css) {\n    const element = document.createElement(\"style\");\n    element.appendChild(document.createTextNode(css));\n    document.body.appendChild(element);\n  }\n\n  \n  var js_urls = [\"https://cdn.bokeh.org/bokeh/release/bokeh-2.0.1.min.js\", \"https://cdn.bokeh.org/bokeh/release/bokeh-widgets-2.0.1.min.js\", \"https://cdn.bokeh.org/bokeh/release/bokeh-tables-2.0.1.min.js\", \"https://cdn.bokeh.org/bokeh/release/bokeh-gl-2.0.1.min.js\"];\n  var css_urls = [];\n  \n\n  var inline_js = [\n    function(Bokeh) {\n      Bokeh.set_log_level(\"info\");\n    },\n    function(Bokeh) {\n    \n    \n    }\n  ];\n\n  function run_inline_js() {\n    \n    if (root.Bokeh !== undefined || force === true) {\n      \n    for (var i = 0; i < inline_js.length; i++) {\n      inline_js[i].call(root, root.Bokeh);\n    }\n    if (force === true) {\n        display_loaded();\n      }} else if (Date.now() < root._bokeh_timeout) {\n      setTimeout(run_inline_js, 100);\n    } else if (!root._bokeh_failed_load) {\n      console.log(\"Bokeh: BokehJS failed to load within specified timeout.\");\n      root._bokeh_failed_load = true;\n    } else if (force !== true) {\n      var cell = $(document.getElementById(\"1001\")).parents('.cell').data().cell;\n      cell.output_area.append_execute_result(NB_LOAD_WARNING)\n    }\n\n  }\n\n  if (root._bokeh_is_loading === 0) {\n    console.debug(\"Bokeh: BokehJS loaded, going straight to plotting\");\n    run_inline_js();\n  } else {\n    load_libs(css_urls, js_urls, function() {\n      console.debug(\"Bokeh: BokehJS plotting callback run at\", now());\n      run_inline_js();\n    });\n  }\n}(window));"
     },
     "metadata": {},
     "output_type": "display_data"
    }
   ],
   "source": [
    "bpl.output_notebook()"
   ]
  },
  {
   "cell_type": "code",
   "execution_count": 20,
   "metadata": {},
   "outputs": [],
   "source": [
    "data = pd.read_csv(\"../data/originales/posts.csv\")"
   ]
  },
  {
   "cell_type": "code",
   "execution_count": 21,
   "metadata": {},
   "outputs": [],
   "source": [
    "metricas = ['likes', 'love', 'angry', 'wow', 'haha', 'sad', 'shares']"
   ]
  },
  {
   "cell_type": "code",
   "execution_count": 22,
   "metadata": {},
   "outputs": [],
   "source": [
    "data[\"reacciones\"] = data[metricas].sum(1)"
   ]
  },
  {
   "cell_type": "code",
   "execution_count": 23,
   "metadata": {},
   "outputs": [],
   "source": [
    "fdata=data[(data[\"scope\"]!=0)&(data[\"reacciones\"]>10)&(data[\"reacciones\"]<=data[\"scope\"])]"
   ]
  },
  {
   "cell_type": "code",
   "execution_count": 24,
   "metadata": {},
   "outputs": [],
   "source": [
    "mdata = fdata[metricas + [\"scope\"]]"
   ]
  },
  {
   "cell_type": "code",
   "execution_count": 25,
   "metadata": {},
   "outputs": [
    {
     "data": {
      "text/html": [
       "<div>\n",
       "<style scoped>\n",
       "    .dataframe tbody tr th:only-of-type {\n",
       "        vertical-align: middle;\n",
       "    }\n",
       "\n",
       "    .dataframe tbody tr th {\n",
       "        vertical-align: top;\n",
       "    }\n",
       "\n",
       "    .dataframe thead th {\n",
       "        text-align: right;\n",
       "    }\n",
       "</style>\n",
       "<table border=\"1\" class=\"dataframe\">\n",
       "  <thead>\n",
       "    <tr style=\"text-align: right;\">\n",
       "      <th></th>\n",
       "      <th>likes</th>\n",
       "      <th>love</th>\n",
       "      <th>angry</th>\n",
       "      <th>wow</th>\n",
       "      <th>haha</th>\n",
       "      <th>sad</th>\n",
       "      <th>shares</th>\n",
       "      <th>scope</th>\n",
       "    </tr>\n",
       "  </thead>\n",
       "  <tbody>\n",
       "    <tr>\n",
       "      <th>0</th>\n",
       "      <td>18</td>\n",
       "      <td>7</td>\n",
       "      <td>0</td>\n",
       "      <td>0</td>\n",
       "      <td>0</td>\n",
       "      <td>0</td>\n",
       "      <td>4</td>\n",
       "      <td>3660</td>\n",
       "    </tr>\n",
       "    <tr>\n",
       "      <th>1</th>\n",
       "      <td>526</td>\n",
       "      <td>117</td>\n",
       "      <td>189</td>\n",
       "      <td>15</td>\n",
       "      <td>51</td>\n",
       "      <td>8</td>\n",
       "      <td>107</td>\n",
       "      <td>77468</td>\n",
       "    </tr>\n",
       "    <tr>\n",
       "      <th>2</th>\n",
       "      <td>28</td>\n",
       "      <td>1</td>\n",
       "      <td>0</td>\n",
       "      <td>0</td>\n",
       "      <td>0</td>\n",
       "      <td>0</td>\n",
       "      <td>13</td>\n",
       "      <td>4399</td>\n",
       "    </tr>\n",
       "  </tbody>\n",
       "</table>\n",
       "</div>"
      ],
      "text/plain": [
       "   likes  love  angry  wow  haha  sad  shares  scope\n",
       "0     18     7      0    0     0    0       4   3660\n",
       "1    526   117    189   15    51    8     107  77468\n",
       "2     28     1      0    0     0    0      13   4399"
      ]
     },
     "execution_count": 25,
     "metadata": {},
     "output_type": "execute_result"
    }
   ],
   "source": [
    "mdata[:3]"
   ]
  },
  {
   "cell_type": "code",
   "execution_count": 26,
   "metadata": {},
   "outputs": [],
   "source": [
    "train_dataset = mdata.sample(frac=0.8, random_state=0)\n",
    "test_dataset = mdata.drop(train_dataset.index)"
   ]
  },
  {
   "cell_type": "code",
   "execution_count": 27,
   "metadata": {},
   "outputs": [
    {
     "data": {
      "text/plain": [
       "5469"
      ]
     },
     "execution_count": 27,
     "metadata": {},
     "output_type": "execute_result"
    }
   ],
   "source": [
    "len(train_dataset)"
   ]
  },
  {
   "cell_type": "code",
   "execution_count": 29,
   "metadata": {},
   "outputs": [
    {
     "data": {
      "text/plain": [
       "1367"
      ]
     },
     "execution_count": 29,
     "metadata": {},
     "output_type": "execute_result"
    }
   ],
   "source": [
    "len(test_dataset)"
   ]
  },
  {
   "cell_type": "code",
   "execution_count": 30,
   "metadata": {},
   "outputs": [],
   "source": [
    "train_labels = train_dataset.pop('scope')\n",
    "test_labels = test_dataset.pop('scope')"
   ]
  },
  {
   "cell_type": "code",
   "execution_count": 31,
   "metadata": {},
   "outputs": [
    {
     "data": {
      "text/html": [
       "<div>\n",
       "<style scoped>\n",
       "    .dataframe tbody tr th:only-of-type {\n",
       "        vertical-align: middle;\n",
       "    }\n",
       "\n",
       "    .dataframe tbody tr th {\n",
       "        vertical-align: top;\n",
       "    }\n",
       "\n",
       "    .dataframe thead th {\n",
       "        text-align: right;\n",
       "    }\n",
       "</style>\n",
       "<table border=\"1\" class=\"dataframe\">\n",
       "  <thead>\n",
       "    <tr style=\"text-align: right;\">\n",
       "      <th></th>\n",
       "      <th>count</th>\n",
       "      <th>mean</th>\n",
       "      <th>std</th>\n",
       "      <th>min</th>\n",
       "      <th>25%</th>\n",
       "      <th>50%</th>\n",
       "      <th>75%</th>\n",
       "      <th>max</th>\n",
       "    </tr>\n",
       "  </thead>\n",
       "  <tbody>\n",
       "    <tr>\n",
       "      <th>likes</th>\n",
       "      <td>5469.0</td>\n",
       "      <td>143.385628</td>\n",
       "      <td>896.060518</td>\n",
       "      <td>0.0</td>\n",
       "      <td>18.0</td>\n",
       "      <td>42.0</td>\n",
       "      <td>113.0</td>\n",
       "      <td>45952.0</td>\n",
       "    </tr>\n",
       "    <tr>\n",
       "      <th>love</th>\n",
       "      <td>5469.0</td>\n",
       "      <td>25.119217</td>\n",
       "      <td>133.628907</td>\n",
       "      <td>0.0</td>\n",
       "      <td>1.0</td>\n",
       "      <td>4.0</td>\n",
       "      <td>17.0</td>\n",
       "      <td>4694.0</td>\n",
       "    </tr>\n",
       "    <tr>\n",
       "      <th>angry</th>\n",
       "      <td>5469.0</td>\n",
       "      <td>4.589687</td>\n",
       "      <td>57.418947</td>\n",
       "      <td>0.0</td>\n",
       "      <td>0.0</td>\n",
       "      <td>0.0</td>\n",
       "      <td>1.0</td>\n",
       "      <td>2247.0</td>\n",
       "    </tr>\n",
       "    <tr>\n",
       "      <th>wow</th>\n",
       "      <td>5469.0</td>\n",
       "      <td>4.491863</td>\n",
       "      <td>37.880097</td>\n",
       "      <td>0.0</td>\n",
       "      <td>0.0</td>\n",
       "      <td>0.0</td>\n",
       "      <td>2.0</td>\n",
       "      <td>1398.0</td>\n",
       "    </tr>\n",
       "    <tr>\n",
       "      <th>haha</th>\n",
       "      <td>5469.0</td>\n",
       "      <td>9.505028</td>\n",
       "      <td>207.284951</td>\n",
       "      <td>0.0</td>\n",
       "      <td>0.0</td>\n",
       "      <td>0.0</td>\n",
       "      <td>2.0</td>\n",
       "      <td>14418.0</td>\n",
       "    </tr>\n",
       "    <tr>\n",
       "      <th>sad</th>\n",
       "      <td>5469.0</td>\n",
       "      <td>1.879503</td>\n",
       "      <td>26.109105</td>\n",
       "      <td>0.0</td>\n",
       "      <td>0.0</td>\n",
       "      <td>0.0</td>\n",
       "      <td>0.0</td>\n",
       "      <td>1244.0</td>\n",
       "    </tr>\n",
       "    <tr>\n",
       "      <th>shares</th>\n",
       "      <td>5469.0</td>\n",
       "      <td>180.894313</td>\n",
       "      <td>5059.991194</td>\n",
       "      <td>0.0</td>\n",
       "      <td>5.0</td>\n",
       "      <td>14.0</td>\n",
       "      <td>44.0</td>\n",
       "      <td>342306.0</td>\n",
       "    </tr>\n",
       "  </tbody>\n",
       "</table>\n",
       "</div>"
      ],
      "text/plain": [
       "         count        mean          std  min   25%   50%    75%       max\n",
       "likes   5469.0  143.385628   896.060518  0.0  18.0  42.0  113.0   45952.0\n",
       "love    5469.0   25.119217   133.628907  0.0   1.0   4.0   17.0    4694.0\n",
       "angry   5469.0    4.589687    57.418947  0.0   0.0   0.0    1.0    2247.0\n",
       "wow     5469.0    4.491863    37.880097  0.0   0.0   0.0    2.0    1398.0\n",
       "haha    5469.0    9.505028   207.284951  0.0   0.0   0.0    2.0   14418.0\n",
       "sad     5469.0    1.879503    26.109105  0.0   0.0   0.0    0.0    1244.0\n",
       "shares  5469.0  180.894313  5059.991194  0.0   5.0  14.0   44.0  342306.0"
      ]
     },
     "execution_count": 31,
     "metadata": {},
     "output_type": "execute_result"
    }
   ],
   "source": [
    "train_stats = train_dataset.describe().T\n",
    "train_stats"
   ]
  },
  {
   "cell_type": "code",
   "execution_count": 32,
   "metadata": {},
   "outputs": [],
   "source": [
    "def norm(x):\n",
    "  return (x - train_stats['mean']) / train_stats['std']"
   ]
  },
  {
   "cell_type": "code",
   "execution_count": 33,
   "metadata": {},
   "outputs": [],
   "source": [
    "normed_train_data = norm(train_dataset)\n",
    "normed_test_data = norm(test_dataset)"
   ]
  },
  {
   "cell_type": "code",
   "execution_count": 189,
   "metadata": {},
   "outputs": [],
   "source": [
    "def build_model():\n",
    "  model = keras.Sequential([\n",
    "    layers.Dense(64, activation='relu', input_shape=[len(train_dataset.keys())]),\n",
    "    layers.Dense(64, activation='relu'),\n",
    "    layers.Dense(1)\n",
    "  ])\n",
    "\n",
    "  optimizer = tf.keras.optimizers.RMSprop(0.001)\n",
    "\n",
    "  model.compile(loss='mse',\n",
    "                optimizer=optimizer,\n",
    "                metrics=['mae', 'mse'])\n",
    "  return model"
   ]
  },
  {
   "cell_type": "code",
   "execution_count": 190,
   "metadata": {},
   "outputs": [],
   "source": [
    "model = build_model()"
   ]
  },
  {
   "cell_type": "code",
   "execution_count": 191,
   "metadata": {},
   "outputs": [
    {
     "name": "stdout",
     "output_type": "stream",
     "text": [
      "Model: \"sequential_6\"\n",
      "_________________________________________________________________\n",
      "Layer (type)                 Output Shape              Param #   \n",
      "=================================================================\n",
      "dense_17 (Dense)             (None, 64)                512       \n",
      "_________________________________________________________________\n",
      "dense_18 (Dense)             (None, 64)                4160      \n",
      "_________________________________________________________________\n",
      "dense_19 (Dense)             (None, 1)                 65        \n",
      "=================================================================\n",
      "Total params: 4,737\n",
      "Trainable params: 4,737\n",
      "Non-trainable params: 0\n",
      "_________________________________________________________________\n"
     ]
    }
   ],
   "source": [
    "model.summary()"
   ]
  },
  {
   "cell_type": "code",
   "execution_count": 192,
   "metadata": {},
   "outputs": [],
   "source": [
    "datainp = train_dataset\n",
    "datalab = train_labels\n",
    "testinp = test_dataset\n",
    "testlab = test_labels"
   ]
  },
  {
   "cell_type": "code",
   "execution_count": 193,
   "metadata": {},
   "outputs": [
    {
     "name": "stdout",
     "output_type": "stream",
     "text": [
      "\n",
      "....................................................................................................\n",
      "....................................................................................................\n",
      "....................................................................................................\n",
      "....................................................................................................\n",
      "....................................................................................................\n",
      "....................................................................................................\n",
      "....................................................................................................\n",
      "....................................................................................................\n",
      "....................................................................................................\n",
      "...................................................................................................."
     ]
    }
   ],
   "source": [
    "# Display training progress by printing a single dot for each completed epoch\n",
    "class PrintDot(keras.callbacks.Callback):\n",
    "  def on_epoch_end(self, epoch, logs):\n",
    "    if epoch % 100 == 0: print('')\n",
    "    print('.', end='')\n",
    "\n",
    "EPOCHS = 1000\n",
    "\n",
    "history = model.fit(\n",
    "  datainp, datalab,\n",
    "  epochs=EPOCHS, validation_split = 0.2, verbose=0,\n",
    "  callbacks=[PrintDot()])"
   ]
  },
  {
   "cell_type": "code",
   "execution_count": 194,
   "metadata": {},
   "outputs": [
    {
     "data": {
      "text/html": [
       "<div>\n",
       "<style scoped>\n",
       "    .dataframe tbody tr th:only-of-type {\n",
       "        vertical-align: middle;\n",
       "    }\n",
       "\n",
       "    .dataframe tbody tr th {\n",
       "        vertical-align: top;\n",
       "    }\n",
       "\n",
       "    .dataframe thead th {\n",
       "        text-align: right;\n",
       "    }\n",
       "</style>\n",
       "<table border=\"1\" class=\"dataframe\">\n",
       "  <thead>\n",
       "    <tr style=\"text-align: right;\">\n",
       "      <th></th>\n",
       "      <th>loss</th>\n",
       "      <th>mae</th>\n",
       "      <th>mse</th>\n",
       "      <th>val_loss</th>\n",
       "      <th>val_mae</th>\n",
       "      <th>val_mse</th>\n",
       "      <th>epoch</th>\n",
       "    </tr>\n",
       "  </thead>\n",
       "  <tbody>\n",
       "    <tr>\n",
       "      <th>997</th>\n",
       "      <td>1.162686e+10</td>\n",
       "      <td>11761.013672</td>\n",
       "      <td>1.162686e+10</td>\n",
       "      <td>1.100866e+10</td>\n",
       "      <td>12990.950195</td>\n",
       "      <td>1.100866e+10</td>\n",
       "      <td>997</td>\n",
       "    </tr>\n",
       "    <tr>\n",
       "      <th>998</th>\n",
       "      <td>1.003107e+10</td>\n",
       "      <td>11775.509766</td>\n",
       "      <td>1.003107e+10</td>\n",
       "      <td>1.060030e+10</td>\n",
       "      <td>12947.262695</td>\n",
       "      <td>1.060030e+10</td>\n",
       "      <td>998</td>\n",
       "    </tr>\n",
       "    <tr>\n",
       "      <th>999</th>\n",
       "      <td>1.268686e+10</td>\n",
       "      <td>11990.219727</td>\n",
       "      <td>1.268686e+10</td>\n",
       "      <td>1.000198e+10</td>\n",
       "      <td>12889.575195</td>\n",
       "      <td>1.000198e+10</td>\n",
       "      <td>999</td>\n",
       "    </tr>\n",
       "  </tbody>\n",
       "</table>\n",
       "</div>"
      ],
      "text/plain": [
       "             loss           mae           mse      val_loss       val_mae  \\\n",
       "997  1.162686e+10  11761.013672  1.162686e+10  1.100866e+10  12990.950195   \n",
       "998  1.003107e+10  11775.509766  1.003107e+10  1.060030e+10  12947.262695   \n",
       "999  1.268686e+10  11990.219727  1.268686e+10  1.000198e+10  12889.575195   \n",
       "\n",
       "          val_mse  epoch  \n",
       "997  1.100866e+10    997  \n",
       "998  1.060030e+10    998  \n",
       "999  1.000198e+10    999  "
      ]
     },
     "execution_count": 194,
     "metadata": {},
     "output_type": "execute_result"
    }
   ],
   "source": [
    "hist = pd.DataFrame(history.history)\n",
    "hist['epoch'] = history.epoch\n",
    "hist[-3:]"
   ]
  },
  {
   "cell_type": "code",
   "execution_count": 195,
   "metadata": {},
   "outputs": [],
   "source": [
    "p0 = bpl.figure(plot_width=300,plot_height=300,toolbar_location=None, title=\"Datos normalizados\")"
   ]
  },
  {
   "cell_type": "code",
   "execution_count": 196,
   "metadata": {},
   "outputs": [
    {
     "data": {
      "text/html": [
       "<div style=\"display: table;\"><div style=\"display: table-row;\"><div style=\"display: table-cell;\"><b title=\"bokeh.models.renderers.GlyphRenderer\">GlyphRenderer</b>(</div><div style=\"display: table-cell;\">id&nbsp;=&nbsp;'6973', <span id=\"6985\" style=\"cursor: pointer;\">&hellip;)</span></div></div><div class=\"6984\" style=\"display: none;\"><div style=\"display: table-cell;\"></div><div style=\"display: table-cell;\">data_source&nbsp;=&nbsp;ColumnDataSource(id='6970', ...),</div></div><div class=\"6984\" style=\"display: none;\"><div style=\"display: table-cell;\"></div><div style=\"display: table-cell;\">glyph&nbsp;=&nbsp;Line(id='6971', ...),</div></div><div class=\"6984\" style=\"display: none;\"><div style=\"display: table-cell;\"></div><div style=\"display: table-cell;\">hover_glyph&nbsp;=&nbsp;None,</div></div><div class=\"6984\" style=\"display: none;\"><div style=\"display: table-cell;\"></div><div style=\"display: table-cell;\">js_event_callbacks&nbsp;=&nbsp;{},</div></div><div class=\"6984\" style=\"display: none;\"><div style=\"display: table-cell;\"></div><div style=\"display: table-cell;\">js_property_callbacks&nbsp;=&nbsp;{},</div></div><div class=\"6984\" style=\"display: none;\"><div style=\"display: table-cell;\"></div><div style=\"display: table-cell;\">level&nbsp;=&nbsp;'glyph',</div></div><div class=\"6984\" style=\"display: none;\"><div style=\"display: table-cell;\"></div><div style=\"display: table-cell;\">muted&nbsp;=&nbsp;False,</div></div><div class=\"6984\" style=\"display: none;\"><div style=\"display: table-cell;\"></div><div style=\"display: table-cell;\">muted_glyph&nbsp;=&nbsp;None,</div></div><div class=\"6984\" style=\"display: none;\"><div style=\"display: table-cell;\"></div><div style=\"display: table-cell;\">name&nbsp;=&nbsp;None,</div></div><div class=\"6984\" style=\"display: none;\"><div style=\"display: table-cell;\"></div><div style=\"display: table-cell;\">nonselection_glyph&nbsp;=&nbsp;Line(id='6972', ...),</div></div><div class=\"6984\" style=\"display: none;\"><div style=\"display: table-cell;\"></div><div style=\"display: table-cell;\">selection_glyph&nbsp;=&nbsp;None,</div></div><div class=\"6984\" style=\"display: none;\"><div style=\"display: table-cell;\"></div><div style=\"display: table-cell;\">subscribed_events&nbsp;=&nbsp;[],</div></div><div class=\"6984\" style=\"display: none;\"><div style=\"display: table-cell;\"></div><div style=\"display: table-cell;\">tags&nbsp;=&nbsp;[],</div></div><div class=\"6984\" style=\"display: none;\"><div style=\"display: table-cell;\"></div><div style=\"display: table-cell;\">view&nbsp;=&nbsp;CDSView(id='6974', ...),</div></div><div class=\"6984\" style=\"display: none;\"><div style=\"display: table-cell;\"></div><div style=\"display: table-cell;\">visible&nbsp;=&nbsp;True,</div></div><div class=\"6984\" style=\"display: none;\"><div style=\"display: table-cell;\"></div><div style=\"display: table-cell;\">x_range_name&nbsp;=&nbsp;'default',</div></div><div class=\"6984\" style=\"display: none;\"><div style=\"display: table-cell;\"></div><div style=\"display: table-cell;\">y_range_name&nbsp;=&nbsp;'default')</div></div></div>\n",
       "<script>\n",
       "(function() {\n",
       "  var expanded = false;\n",
       "  var ellipsis = document.getElementById(\"6985\");\n",
       "  ellipsis.addEventListener(\"click\", function() {\n",
       "    var rows = document.getElementsByClassName(\"6984\");\n",
       "    for (var i = 0; i < rows.length; i++) {\n",
       "      var el = rows[i];\n",
       "      el.style.display = expanded ? \"none\" : \"table-row\";\n",
       "    }\n",
       "    ellipsis.innerHTML = expanded ? \"&hellip;)\" : \"&lsaquo;&lsaquo;&lsaquo;\";\n",
       "    expanded = !expanded;\n",
       "  });\n",
       "})();\n",
       "</script>\n"
      ],
      "text/plain": [
       "GlyphRenderer(id='6973', ...)"
      ]
     },
     "execution_count": 196,
     "metadata": {},
     "output_type": "execute_result"
    }
   ],
   "source": [
    "p0.line(x=hist[\"epoch\"],y=hist[\"val_mae\"],legend_label=\"Error validación\", color=\"red\")\n",
    "p0.line(x=hist[\"epoch\"],y=hist[\"mae\"],legend_label=\"Error entrenamiento\", color=\"black\")"
   ]
  },
  {
   "cell_type": "code",
   "execution_count": 197,
   "metadata": {},
   "outputs": [],
   "source": [
    "p0.xaxis.axis_label = 'Epoch'\n",
    "p0.yaxis.axis_label = 'Mean Abs Error [Scope]'"
   ]
  },
  {
   "cell_type": "code",
   "execution_count": 198,
   "metadata": {},
   "outputs": [],
   "source": [
    "p1 = bpl.figure(plot_width=300,plot_height=300,toolbar_location=None, title=\"Datos normalizados\")"
   ]
  },
  {
   "cell_type": "code",
   "execution_count": 199,
   "metadata": {},
   "outputs": [
    {
     "data": {
      "text/html": [
       "<div style=\"display: table;\"><div style=\"display: table-row;\"><div style=\"display: table-cell;\"><b title=\"bokeh.models.renderers.GlyphRenderer\">GlyphRenderer</b>(</div><div style=\"display: table-cell;\">id&nbsp;=&nbsp;'7035', <span id=\"7047\" style=\"cursor: pointer;\">&hellip;)</span></div></div><div class=\"7046\" style=\"display: none;\"><div style=\"display: table-cell;\"></div><div style=\"display: table-cell;\">data_source&nbsp;=&nbsp;ColumnDataSource(id='7032', ...),</div></div><div class=\"7046\" style=\"display: none;\"><div style=\"display: table-cell;\"></div><div style=\"display: table-cell;\">glyph&nbsp;=&nbsp;Line(id='7033', ...),</div></div><div class=\"7046\" style=\"display: none;\"><div style=\"display: table-cell;\"></div><div style=\"display: table-cell;\">hover_glyph&nbsp;=&nbsp;None,</div></div><div class=\"7046\" style=\"display: none;\"><div style=\"display: table-cell;\"></div><div style=\"display: table-cell;\">js_event_callbacks&nbsp;=&nbsp;{},</div></div><div class=\"7046\" style=\"display: none;\"><div style=\"display: table-cell;\"></div><div style=\"display: table-cell;\">js_property_callbacks&nbsp;=&nbsp;{},</div></div><div class=\"7046\" style=\"display: none;\"><div style=\"display: table-cell;\"></div><div style=\"display: table-cell;\">level&nbsp;=&nbsp;'glyph',</div></div><div class=\"7046\" style=\"display: none;\"><div style=\"display: table-cell;\"></div><div style=\"display: table-cell;\">muted&nbsp;=&nbsp;False,</div></div><div class=\"7046\" style=\"display: none;\"><div style=\"display: table-cell;\"></div><div style=\"display: table-cell;\">muted_glyph&nbsp;=&nbsp;None,</div></div><div class=\"7046\" style=\"display: none;\"><div style=\"display: table-cell;\"></div><div style=\"display: table-cell;\">name&nbsp;=&nbsp;None,</div></div><div class=\"7046\" style=\"display: none;\"><div style=\"display: table-cell;\"></div><div style=\"display: table-cell;\">nonselection_glyph&nbsp;=&nbsp;Line(id='7034', ...),</div></div><div class=\"7046\" style=\"display: none;\"><div style=\"display: table-cell;\"></div><div style=\"display: table-cell;\">selection_glyph&nbsp;=&nbsp;None,</div></div><div class=\"7046\" style=\"display: none;\"><div style=\"display: table-cell;\"></div><div style=\"display: table-cell;\">subscribed_events&nbsp;=&nbsp;[],</div></div><div class=\"7046\" style=\"display: none;\"><div style=\"display: table-cell;\"></div><div style=\"display: table-cell;\">tags&nbsp;=&nbsp;[],</div></div><div class=\"7046\" style=\"display: none;\"><div style=\"display: table-cell;\"></div><div style=\"display: table-cell;\">view&nbsp;=&nbsp;CDSView(id='7036', ...),</div></div><div class=\"7046\" style=\"display: none;\"><div style=\"display: table-cell;\"></div><div style=\"display: table-cell;\">visible&nbsp;=&nbsp;True,</div></div><div class=\"7046\" style=\"display: none;\"><div style=\"display: table-cell;\"></div><div style=\"display: table-cell;\">x_range_name&nbsp;=&nbsp;'default',</div></div><div class=\"7046\" style=\"display: none;\"><div style=\"display: table-cell;\"></div><div style=\"display: table-cell;\">y_range_name&nbsp;=&nbsp;'default')</div></div></div>\n",
       "<script>\n",
       "(function() {\n",
       "  var expanded = false;\n",
       "  var ellipsis = document.getElementById(\"7047\");\n",
       "  ellipsis.addEventListener(\"click\", function() {\n",
       "    var rows = document.getElementsByClassName(\"7046\");\n",
       "    for (var i = 0; i < rows.length; i++) {\n",
       "      var el = rows[i];\n",
       "      el.style.display = expanded ? \"none\" : \"table-row\";\n",
       "    }\n",
       "    ellipsis.innerHTML = expanded ? \"&hellip;)\" : \"&lsaquo;&lsaquo;&lsaquo;\";\n",
       "    expanded = !expanded;\n",
       "  });\n",
       "})();\n",
       "</script>\n"
      ],
      "text/plain": [
       "GlyphRenderer(id='7035', ...)"
      ]
     },
     "execution_count": 199,
     "metadata": {},
     "output_type": "execute_result"
    }
   ],
   "source": [
    "p1.line(x=hist[\"epoch\"],y=hist[\"val_mse\"],legend_label=\"Error validación\", color=\"red\")\n",
    "p1.line(x=hist[\"epoch\"],y=hist[\"mse\"],legend_label=\"Error entrenamiento\", color=\"black\")"
   ]
  },
  {
   "cell_type": "code",
   "execution_count": 200,
   "metadata": {},
   "outputs": [],
   "source": [
    "p1.xaxis.axis_label = 'Epoch'\n",
    "p1.yaxis.axis_label = 'Mean Square Error [Scope^2]'"
   ]
  },
  {
   "cell_type": "code",
   "execution_count": 201,
   "metadata": {},
   "outputs": [
    {
     "data": {
      "text/html": [
       "\n",
       "\n",
       "\n",
       "\n",
       "\n",
       "\n",
       "  <div class=\"bk-root\" id=\"fbf733ba-d11a-4377-9907-27a3b7ab4eff\" data-root-id=\"7048\"></div>\n"
      ]
     },
     "metadata": {},
     "output_type": "display_data"
    },
    {
     "data": {
      "application/javascript": [
       "(function(root) {\n",
       "  function embed_document(root) {\n",
       "    \n",
       "  var docs_json = {\"b417b37b-f923-46b4-ba91-56e43c754f42\":{\"roots\":{\"references\":[{\"attributes\":{\"children\":[{\"id\":\"6924\"},{\"id\":\"6986\"}]},\"id\":\"7048\",\"type\":\"Row\"},{\"attributes\":{},\"id\":\"7336\",\"type\":\"UnionRenderers\"},{\"attributes\":{\"axis_label\":\"Mean Square Error [Scope^2]\",\"formatter\":{\"id\":\"7025\"},\"ticker\":{\"id\":\"7002\"}},\"id\":\"7001\",\"type\":\"LinearAxis\"},{\"attributes\":{\"line_alpha\":0.1,\"x\":{\"field\":\"x\"},\"y\":{\"field\":\"y\"}},\"id\":\"6972\",\"type\":\"Line\"},{\"attributes\":{},\"id\":\"7027\",\"type\":\"BasicTickFormatter\"},{\"attributes\":{},\"id\":\"6927\",\"type\":\"DataRange1d\"},{\"attributes\":{\"active_drag\":\"auto\",\"active_inspect\":\"auto\",\"active_multi\":null,\"active_scroll\":\"auto\",\"active_tap\":\"auto\",\"tools\":[{\"id\":\"6943\"},{\"id\":\"6944\"},{\"id\":\"6945\"},{\"id\":\"6946\"},{\"id\":\"6947\"},{\"id\":\"6948\"}]},\"id\":\"6950\",\"type\":\"Toolbar\"},{\"attributes\":{\"axis\":{\"id\":\"6997\"},\"ticker\":null},\"id\":\"7000\",\"type\":\"Grid\"},{\"attributes\":{},\"id\":\"6948\",\"type\":\"HelpTool\"},{\"attributes\":{},\"id\":\"7332\",\"type\":\"Selection\"},{\"attributes\":{\"bottom_units\":\"screen\",\"fill_alpha\":0.5,\"fill_color\":\"lightgrey\",\"left_units\":\"screen\",\"level\":\"overlay\",\"line_alpha\":1.0,\"line_color\":\"black\",\"line_dash\":[4,4],\"line_width\":2,\"render_mode\":\"css\",\"right_units\":\"screen\",\"top_units\":\"screen\"},\"id\":\"6949\",\"type\":\"BoxAnnotation\"},{\"attributes\":{},\"id\":\"6931\",\"type\":\"LinearScale\"},{\"attributes\":{\"label\":{\"value\":\"Error entrenamiento\"},\"renderers\":[{\"id\":\"7035\"}]},\"id\":\"7045\",\"type\":\"LegendItem\"},{\"attributes\":{},\"id\":\"6963\",\"type\":\"BasicTickFormatter\"},{\"attributes\":{\"items\":[{\"id\":\"6969\"},{\"id\":\"6983\"}]},\"id\":\"6968\",\"type\":\"Legend\"},{\"attributes\":{},\"id\":\"6980\",\"type\":\"UnionRenderers\"},{\"attributes\":{},\"id\":\"6998\",\"type\":\"BasicTicker\"},{\"attributes\":{\"line_alpha\":0.1,\"line_color\":\"red\",\"x\":{\"field\":\"x\"},\"y\":{\"field\":\"y\"}},\"id\":\"6959\",\"type\":\"Line\"},{\"attributes\":{},\"id\":\"6936\",\"type\":\"BasicTicker\"},{\"attributes\":{\"x\":{\"field\":\"x\"},\"y\":{\"field\":\"y\"}},\"id\":\"7033\",\"type\":\"Line\"},{\"attributes\":{\"text\":\"Datos normalizados\"},\"id\":\"6925\",\"type\":\"Title\"},{\"attributes\":{},\"id\":\"6933\",\"type\":\"LinearScale\"},{\"attributes\":{},\"id\":\"7337\",\"type\":\"Selection\"},{\"attributes\":{\"items\":[{\"id\":\"7031\"},{\"id\":\"7045\"}]},\"id\":\"7030\",\"type\":\"Legend\"},{\"attributes\":{\"source\":{\"id\":\"6970\"}},\"id\":\"6974\",\"type\":\"CDSView\"},{\"attributes\":{},\"id\":\"6981\",\"type\":\"Selection\"},{\"attributes\":{\"data_source\":{\"id\":\"6957\"},\"glyph\":{\"id\":\"6958\"},\"hover_glyph\":null,\"muted_glyph\":null,\"nonselection_glyph\":{\"id\":\"6959\"},\"selection_glyph\":null,\"view\":{\"id\":\"6961\"}},\"id\":\"6960\",\"type\":\"GlyphRenderer\"},{\"attributes\":{\"axis_label\":\"Epoch\",\"formatter\":{\"id\":\"6965\"},\"ticker\":{\"id\":\"6936\"}},\"id\":\"6935\",\"type\":\"LinearAxis\"},{\"attributes\":{\"below\":[{\"id\":\"6997\"}],\"center\":[{\"id\":\"7000\"},{\"id\":\"7004\"},{\"id\":\"7030\"}],\"left\":[{\"id\":\"7001\"}],\"plot_height\":300,\"plot_width\":300,\"renderers\":[{\"id\":\"7022\"},{\"id\":\"7035\"}],\"title\":{\"id\":\"6987\"},\"toolbar\":{\"id\":\"7012\"},\"toolbar_location\":null,\"x_range\":{\"id\":\"6989\"},\"x_scale\":{\"id\":\"6993\"},\"y_range\":{\"id\":\"6991\"},\"y_scale\":{\"id\":\"6995\"}},\"id\":\"6986\",\"subtype\":\"Figure\",\"type\":\"Plot\"},{\"attributes\":{\"source\":{\"id\":\"6957\"}},\"id\":\"6961\",\"type\":\"CDSView\"},{\"attributes\":{\"axis\":{\"id\":\"6935\"},\"ticker\":null},\"id\":\"6938\",\"type\":\"Grid\"},{\"attributes\":{\"line_alpha\":0.1,\"x\":{\"field\":\"x\"},\"y\":{\"field\":\"y\"}},\"id\":\"7034\",\"type\":\"Line\"},{\"attributes\":{\"line_color\":\"red\",\"x\":{\"field\":\"x\"},\"y\":{\"field\":\"y\"}},\"id\":\"6958\",\"type\":\"Line\"},{\"attributes\":{},\"id\":\"6929\",\"type\":\"DataRange1d\"},{\"attributes\":{},\"id\":\"6947\",\"type\":\"ResetTool\"},{\"attributes\":{},\"id\":\"6943\",\"type\":\"PanTool\"},{\"attributes\":{\"line_alpha\":0.1,\"line_color\":\"red\",\"x\":{\"field\":\"x\"},\"y\":{\"field\":\"y\"}},\"id\":\"7021\",\"type\":\"Line\"},{\"attributes\":{\"below\":[{\"id\":\"6935\"}],\"center\":[{\"id\":\"6938\"},{\"id\":\"6942\"},{\"id\":\"6968\"}],\"left\":[{\"id\":\"6939\"}],\"plot_height\":300,\"plot_width\":300,\"renderers\":[{\"id\":\"6960\"},{\"id\":\"6973\"}],\"title\":{\"id\":\"6925\"},\"toolbar\":{\"id\":\"6950\"},\"toolbar_location\":null,\"x_range\":{\"id\":\"6927\"},\"x_scale\":{\"id\":\"6931\"},\"y_range\":{\"id\":\"6929\"},\"y_scale\":{\"id\":\"6933\"}},\"id\":\"6924\",\"subtype\":\"Figure\",\"type\":\"Plot\"},{\"attributes\":{\"data\":{\"x\":[0,1,2,3,4,5,6,7,8,9,10,11,12,13,14,15,16,17,18,19,20,21,22,23,24,25,26,27,28,29,30,31,32,33,34,35,36,37,38,39,40,41,42,43,44,45,46,47,48,49,50,51,52,53,54,55,56,57,58,59,60,61,62,63,64,65,66,67,68,69,70,71,72,73,74,75,76,77,78,79,80,81,82,83,84,85,86,87,88,89,90,91,92,93,94,95,96,97,98,99,100,101,102,103,104,105,106,107,108,109,110,111,112,113,114,115,116,117,118,119,120,121,122,123,124,125,126,127,128,129,130,131,132,133,134,135,136,137,138,139,140,141,142,143,144,145,146,147,148,149,150,151,152,153,154,155,156,157,158,159,160,161,162,163,164,165,166,167,168,169,170,171,172,173,174,175,176,177,178,179,180,181,182,183,184,185,186,187,188,189,190,191,192,193,194,195,196,197,198,199,200,201,202,203,204,205,206,207,208,209,210,211,212,213,214,215,216,217,218,219,220,221,222,223,224,225,226,227,228,229,230,231,232,233,234,235,236,237,238,239,240,241,242,243,244,245,246,247,248,249,250,251,252,253,254,255,256,257,258,259,260,261,262,263,264,265,266,267,268,269,270,271,272,273,274,275,276,277,278,279,280,281,282,283,284,285,286,287,288,289,290,291,292,293,294,295,296,297,298,299,300,301,302,303,304,305,306,307,308,309,310,311,312,313,314,315,316,317,318,319,320,321,322,323,324,325,326,327,328,329,330,331,332,333,334,335,336,337,338,339,340,341,342,343,344,345,346,347,348,349,350,351,352,353,354,355,356,357,358,359,360,361,362,363,364,365,366,367,368,369,370,371,372,373,374,375,376,377,378,379,380,381,382,383,384,385,386,387,388,389,390,391,392,393,394,395,396,397,398,399,400,401,402,403,404,405,406,407,408,409,410,411,412,413,414,415,416,417,418,419,420,421,422,423,424,425,426,427,428,429,430,431,432,433,434,435,436,437,438,439,440,441,442,443,444,445,446,447,448,449,450,451,452,453,454,455,456,457,458,459,460,461,462,463,464,465,466,467,468,469,470,471,472,473,474,475,476,477,478,479,480,481,482,483,484,485,486,487,488,489,490,491,492,493,494,495,496,497,498,499,500,501,502,503,504,505,506,507,508,509,510,511,512,513,514,515,516,517,518,519,520,521,522,523,524,525,526,527,528,529,530,531,532,533,534,535,536,537,538,539,540,541,542,543,544,545,546,547,548,549,550,551,552,553,554,555,556,557,558,559,560,561,562,563,564,565,566,567,568,569,570,571,572,573,574,575,576,577,578,579,580,581,582,583,584,585,586,587,588,589,590,591,592,593,594,595,596,597,598,599,600,601,602,603,604,605,606,607,608,609,610,611,612,613,614,615,616,617,618,619,620,621,622,623,624,625,626,627,628,629,630,631,632,633,634,635,636,637,638,639,640,641,642,643,644,645,646,647,648,649,650,651,652,653,654,655,656,657,658,659,660,661,662,663,664,665,666,667,668,669,670,671,672,673,674,675,676,677,678,679,680,681,682,683,684,685,686,687,688,689,690,691,692,693,694,695,696,697,698,699,700,701,702,703,704,705,706,707,708,709,710,711,712,713,714,715,716,717,718,719,720,721,722,723,724,725,726,727,728,729,730,731,732,733,734,735,736,737,738,739,740,741,742,743,744,745,746,747,748,749,750,751,752,753,754,755,756,757,758,759,760,761,762,763,764,765,766,767,768,769,770,771,772,773,774,775,776,777,778,779,780,781,782,783,784,785,786,787,788,789,790,791,792,793,794,795,796,797,798,799,800,801,802,803,804,805,806,807,808,809,810,811,812,813,814,815,816,817,818,819,820,821,822,823,824,825,826,827,828,829,830,831,832,833,834,835,836,837,838,839,840,841,842,843,844,845,846,847,848,849,850,851,852,853,854,855,856,857,858,859,860,861,862,863,864,865,866,867,868,869,870,871,872,873,874,875,876,877,878,879,880,881,882,883,884,885,886,887,888,889,890,891,892,893,894,895,896,897,898,899,900,901,902,903,904,905,906,907,908,909,910,911,912,913,914,915,916,917,918,919,920,921,922,923,924,925,926,927,928,929,930,931,932,933,934,935,936,937,938,939,940,941,942,943,944,945,946,947,948,949,950,951,952,953,954,955,956,957,958,959,960,961,962,963,964,965,966,967,968,969,970,971,972,973,974,975,976,977,978,979,980,981,982,983,984,985,986,987,988,989,990,991,992,993,994,995,996,997,998,999],\"y\":{\"__ndarray__\":\"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\",\"dtype\":\"float64\",\"shape\":[1000]}},\"selected\":{\"id\":\"7332\"},\"selection_policy\":{\"id\":\"7331\"}},\"id\":\"6970\",\"type\":\"ColumnDataSource\"},{\"attributes\":{},\"id\":\"6993\",\"type\":\"LinearScale\"},{\"attributes\":{\"active_drag\":\"auto\",\"active_inspect\":\"auto\",\"active_multi\":null,\"active_scroll\":\"auto\",\"active_tap\":\"auto\",\"tools\":[{\"id\":\"7005\"},{\"id\":\"7006\"},{\"id\":\"7007\"},{\"id\":\"7008\"},{\"id\":\"7009\"},{\"id\":\"7010\"}]},\"id\":\"7012\",\"type\":\"Toolbar\"},{\"attributes\":{},\"id\":\"7042\",\"type\":\"UnionRenderers\"},{\"attributes\":{\"overlay\":{\"id\":\"6949\"}},\"id\":\"6945\",\"type\":\"BoxZoomTool\"},{\"attributes\":{\"label\":{\"value\":\"Error validaci\\u00f3n\"},\"renderers\":[{\"id\":\"7022\"}]},\"id\":\"7031\",\"type\":\"LegendItem\"},{\"attributes\":{\"axis\":{\"id\":\"7001\"},\"dimension\":1,\"ticker\":null},\"id\":\"7004\",\"type\":\"Grid\"},{\"attributes\":{\"axis_label\":\"Mean Abs Error [Scope]\",\"formatter\":{\"id\":\"6963\"},\"ticker\":{\"id\":\"6940\"}},\"id\":\"6939\",\"type\":\"LinearAxis\"},{\"attributes\":{\"text\":\"Datos normalizados\"},\"id\":\"6987\",\"type\":\"Title\"},{\"attributes\":{},\"id\":\"6991\",\"type\":\"DataRange1d\"},{\"attributes\":{\"data_source\":{\"id\":\"7019\"},\"glyph\":{\"id\":\"7020\"},\"hover_glyph\":null,\"muted_glyph\":null,\"nonselection_glyph\":{\"id\":\"7021\"},\"selection_glyph\":null,\"view\":{\"id\":\"7023\"}},\"id\":\"7022\",\"type\":\"GlyphRenderer\"},{\"attributes\":{\"axis_label\":\"Epoch\",\"formatter\":{\"id\":\"7027\"},\"ticker\":{\"id\":\"6998\"}},\"id\":\"6997\",\"type\":\"LinearAxis\"},{\"attributes\":{\"data\":{\"x\":[0,1,2,3,4,5,6,7,8,9,10,11,12,13,14,15,16,17,18,19,20,21,22,23,24,25,26,27,28,29,30,31,32,33,34,35,36,37,38,39,40,41,42,43,44,45,46,47,48,49,50,51,52,53,54,55,56,57,58,59,60,61,62,63,64,65,66,67,68,69,70,71,72,73,74,75,76,77,78,79,80,81,82,83,84,85,86,87,88,89,90,91,92,93,94,95,96,97,98,99,100,101,102,103,104,105,106,107,108,109,110,111,112,113,114,115,116,117,118,119,120,121,122,123,124,125,126,127,128,129,130,131,132,133,134,135,136,137,138,139,140,141,142,143,144,145,146,147,148,149,150,151,152,153,154,155,156,157,158,159,160,161,162,163,164,165,166,167,168,169,170,171,172,173,174,175,176,177,178,179,180,181,182,183,184,185,186,187,188,189,190,191,192,193,194,195,196,197,198,199,200,201,202,203,204,205,206,207,208,209,210,211,212,213,214,215,216,217,218,219,220,221,222,223,224,225,226,227,228,229,230,231,232,233,234,235,236,237,238,239,240,241,242,243,244,245,246,247,248,249,250,251,252,253,254,255,256,257,258,259,260,261,262,263,264,265,266,267,268,269,270,271,272,273,274,275,276,277,278,279,280,281,282,283,284,285,286,287,288,289,290,291,292,293,294,295,296,297,298,299,300,301,302,303,304,305,306,307,308,309,310,311,312,313,314,315,316,317,318,319,320,321,322,323,324,325,326,327,328,329,330,331,332,333,334,335,336,337,338,339,340,341,342,343,344,345,346,347,348,349,350,351,352,353,354,355,356,357,358,359,360,361,362,363,364,365,366,367,368,369,370,371,372,373,374,375,376,377,378,379,380,381,382,383,384,385,386,387,388,389,390,391,392,393,394,395,396,397,398,399,400,401,402,403,404,405,406,407,408,409,410,411,412,413,414,415,416,417,418,419,420,421,422,423,424,425,426,427,428,429,430,431,432,433,434,435,436,437,438,439,440,441,442,443,444,445,446,447,448,449,450,451,452,453,454,455,456,457,458,459,460,461,462,463,464,465,466,467,468,469,470,471,472,473,474,475,476,477,478,479,480,481,482,483,484,485,486,487,488,489,490,491,492,493,494,495,496,497,498,499,500,501,502,503,504,505,506,507,508,509,510,511,512,513,514,515,516,517,518,519,520,521,522,523,524,525,526,527,528,529,530,531,532,533,534,535,536,537,538,539,540,541,542,543,544,545,546,547,548,549,550,551,552,553,554,555,556,557,558,559,560,561,562,563,564,565,566,567,568,569,570,571,572,573,574,575,576,577,578,579,580,581,582,583,584,585,586,587,588,589,590,591,592,593,594,595,596,597,598,599,600,601,602,603,604,605,606,607,608,609,610,611,612,613,614,615,616,617,618,619,620,621,622,623,624,625,626,627,628,629,630,631,632,633,634,635,636,637,638,639,640,641,642,643,644,645,646,647,648,649,650,651,652,653,654,655,656,657,658,659,660,661,662,663,664,665,666,667,668,669,670,671,672,673,674,675,676,677,678,679,680,681,682,683,684,685,686,687,688,689,690,691,692,693,694,695,696,697,698,699,700,701,702,703,704,705,706,707,708,709,710,711,712,713,714,715,716,717,718,719,720,721,722,723,724,725,726,727,728,729,730,731,732,733,734,735,736,737,738,739,740,741,742,743,744,745,746,747,748,749,750,751,752,753,754,755,756,757,758,759,760,761,762,763,764,765,766,767,768,769,770,771,772,773,774,775,776,777,778,779,780,781,782,783,784,785,786,787,788,789,790,791,792,793,794,795,796,797,798,799,800,801,802,803,804,805,806,807,808,809,810,811,812,813,814,815,816,817,818,819,820,821,822,823,824,825,826,827,828,829,830,831,832,833,834,835,836,837,838,839,840,841,842,843,844,845,846,847,848,849,850,851,852,853,854,855,856,857,858,859,860,861,862,863,864,865,866,867,868,869,870,871,872,873,874,875,876,877,878,879,880,881,882,883,884,885,886,887,888,889,890,891,892,893,894,895,896,897,898,899,900,901,902,903,904,905,906,907,908,909,910,911,912,913,914,915,916,917,918,919,920,921,922,923,924,925,926,927,928,929,930,931,932,933,934,935,936,937,938,939,940,941,942,943,944,945,946,947,948,949,950,951,952,953,954,955,956,957,958,959,960,961,962,963,964,965,966,967,968,969,970,971,972,973,974,975,976,977,978,979,980,981,982,983,984,985,986,987,988,989,990,991,992,993,994,995,996,997,998,999],\"y\":{\"__ndarray__\":\"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\",\"dtype\":\"float64\",\"shape\":[1000]}},\"selected\":{\"id\":\"7337\"},\"selection_policy\":{\"id\":\"7336\"}},\"id\":\"7032\",\"type\":\"ColumnDataSource\"},{\"attributes\":{\"overlay\":{\"id\":\"7011\"}},\"id\":\"7007\",\"type\":\"BoxZoomTool\"},{\"attributes\":{},\"id\":\"7043\",\"type\":\"Selection\"},{\"attributes\":{},\"id\":\"6944\",\"type\":\"WheelZoomTool\"},{\"attributes\":{},\"id\":\"7331\",\"type\":\"UnionRenderers\"},{\"attributes\":{},\"id\":\"7009\",\"type\":\"ResetTool\"},{\"attributes\":{},\"id\":\"6965\",\"type\":\"BasicTickFormatter\"},{\"attributes\":{\"x\":{\"field\":\"x\"},\"y\":{\"field\":\"y\"}},\"id\":\"6971\",\"type\":\"Line\"},{\"attributes\":{},\"id\":\"6989\",\"type\":\"DataRange1d\"},{\"attributes\":{\"data\":{\"x\":[0,1,2,3,4,5,6,7,8,9,10,11,12,13,14,15,16,17,18,19,20,21,22,23,24,25,26,27,28,29,30,31,32,33,34,35,36,37,38,39,40,41,42,43,44,45,46,47,48,49,50,51,52,53,54,55,56,57,58,59,60,61,62,63,64,65,66,67,68,69,70,71,72,73,74,75,76,77,78,79,80,81,82,83,84,85,86,87,88,89,90,91,92,93,94,95,96,97,98,99,100,101,102,103,104,105,106,107,108,109,110,111,112,113,114,115,116,117,118,119,120,121,122,123,124,125,126,127,128,129,130,131,132,133,134,135,136,137,138,139,140,141,142,143,144,145,146,147,148,149,150,151,152,153,154,155,156,157,158,159,160,161,162,163,164,165,166,167,168,169,170,171,172,173,174,175,176,177,178,179,180,181,182,183,184,185,186,187,188,189,190,191,192,193,194,195,196,197,198,199,200,201,202,203,204,205,206,207,208,209,210,211,212,213,214,215,216,217,218,219,220,221,222,223,224,225,226,227,228,229,230,231,232,233,234,235,236,237,238,239,240,241,242,243,244,245,246,247,248,249,250,251,252,253,254,255,256,257,258,259,260,261,262,263,264,265,266,267,268,269,270,271,272,273,274,275,276,277,278,279,280,281,282,283,284,285,286,287,288,289,290,291,292,293,294,295,296,297,298,299,300,301,302,303,304,305,306,307,308,309,310,311,312,313,314,315,316,317,318,319,320,321,322,323,324,325,326,327,328,329,330,331,332,333,334,335,336,337,338,339,340,341,342,343,344,345,346,347,348,349,350,351,352,353,354,355,356,357,358,359,360,361,362,363,364,365,366,367,368,369,370,371,372,373,374,375,376,377,378,379,380,381,382,383,384,385,386,387,388,389,390,391,392,393,394,395,396,397,398,399,400,401,402,403,404,405,406,407,408,409,410,411,412,413,414,415,416,417,418,419,420,421,422,423,424,425,426,427,428,429,430,431,432,433,434,435,436,437,438,439,440,441,442,443,444,445,446,447,448,449,450,451,452,453,454,455,456,457,458,459,460,461,462,463,464,465,466,467,468,469,470,471,472,473,474,475,476,477,478,479,480,481,482,483,484,485,486,487,488,489,490,491,492,493,494,495,496,497,498,499,500,501,502,503,504,505,506,507,508,509,510,511,512,513,514,515,516,517,518,519,520,521,522,523,524,525,526,527,528,529,530,531,532,533,534,535,536,537,538,539,540,541,542,543,544,545,546,547,548,549,550,551,552,553,554,555,556,557,558,559,560,561,562,563,564,565,566,567,568,569,570,571,572,573,574,575,576,577,578,579,580,581,582,583,584,585,586,587,588,589,590,591,592,593,594,595,596,597,598,599,600,601,602,603,604,605,606,607,608,609,610,611,612,613,614,615,616,617,618,619,620,621,622,623,624,625,626,627,628,629,630,631,632,633,634,635,636,637,638,639,640,641,642,643,644,645,646,647,648,649,650,651,652,653,654,655,656,657,658,659,660,661,662,663,664,665,666,667,668,669,670,671,672,673,674,675,676,677,678,679,680,681,682,683,684,685,686,687,688,689,690,691,692,693,694,695,696,697,698,699,700,701,702,703,704,705,706,707,708,709,710,711,712,713,714,715,716,717,718,719,720,721,722,723,724,725,726,727,728,729,730,731,732,733,734,735,736,737,738,739,740,741,742,743,744,745,746,747,748,749,750,751,752,753,754,755,756,757,758,759,760,761,762,763,764,765,766,767,768,769,770,771,772,773,774,775,776,777,778,779,780,781,782,783,784,785,786,787,788,789,790,791,792,793,794,795,796,797,798,799,800,801,802,803,804,805,806,807,808,809,810,811,812,813,814,815,816,817,818,819,820,821,822,823,824,825,826,827,828,829,830,831,832,833,834,835,836,837,838,839,840,841,842,843,844,845,846,847,848,849,850,851,852,853,854,855,856,857,858,859,860,861,862,863,864,865,866,867,868,869,870,871,872,873,874,875,876,877,878,879,880,881,882,883,884,885,886,887,888,889,890,891,892,893,894,895,896,897,898,899,900,901,902,903,904,905,906,907,908,909,910,911,912,913,914,915,916,917,918,919,920,921,922,923,924,925,926,927,928,929,930,931,932,933,934,935,936,937,938,939,940,941,942,943,944,945,946,947,948,949,950,951,952,953,954,955,956,957,958,959,960,961,962,963,964,965,966,967,968,969,970,971,972,973,974,975,976,977,978,979,980,981,982,983,984,985,986,987,988,989,990,991,992,993,994,995,996,997,998,999],\"y\":{\"__ndarray__\":\"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\",\"dtype\":\"float64\",\"shape\":[1000]}},\"selected\":{\"id\":\"7043\"},\"selection_policy\":{\"id\":\"7042\"}},\"id\":\"7019\",\"type\":\"ColumnDataSource\"},{\"attributes\":{\"label\":{\"value\":\"Error entrenamiento\"},\"renderers\":[{\"id\":\"6973\"}]},\"id\":\"6983\",\"type\":\"LegendItem\"},{\"attributes\":{\"line_color\":\"red\",\"x\":{\"field\":\"x\"},\"y\":{\"field\":\"y\"}},\"id\":\"7020\",\"type\":\"Line\"},{\"attributes\":{},\"id\":\"7006\",\"type\":\"WheelZoomTool\"},{\"attributes\":{\"source\":{\"id\":\"7019\"}},\"id\":\"7023\",\"type\":\"CDSView\"},{\"attributes\":{},\"id\":\"6940\",\"type\":\"BasicTicker\"},{\"attributes\":{\"label\":{\"value\":\"Error validaci\\u00f3n\"},\"renderers\":[{\"id\":\"6960\"}]},\"id\":\"6969\",\"type\":\"LegendItem\"},{\"attributes\":{},\"id\":\"7008\",\"type\":\"SaveTool\"},{\"attributes\":{},\"id\":\"7025\",\"type\":\"BasicTickFormatter\"},{\"attributes\":{},\"id\":\"7002\",\"type\":\"BasicTicker\"},{\"attributes\":{\"data\":{\"x\":[0,1,2,3,4,5,6,7,8,9,10,11,12,13,14,15,16,17,18,19,20,21,22,23,24,25,26,27,28,29,30,31,32,33,34,35,36,37,38,39,40,41,42,43,44,45,46,47,48,49,50,51,52,53,54,55,56,57,58,59,60,61,62,63,64,65,66,67,68,69,70,71,72,73,74,75,76,77,78,79,80,81,82,83,84,85,86,87,88,89,90,91,92,93,94,95,96,97,98,99,100,101,102,103,104,105,106,107,108,109,110,111,112,113,114,115,116,117,118,119,120,121,122,123,124,125,126,127,128,129,130,131,132,133,134,135,136,137,138,139,140,141,142,143,144,145,146,147,148,149,150,151,152,153,154,155,156,157,158,159,160,161,162,163,164,165,166,167,168,169,170,171,172,173,174,175,176,177,178,179,180,181,182,183,184,185,186,187,188,189,190,191,192,193,194,195,196,197,198,199,200,201,202,203,204,205,206,207,208,209,210,211,212,213,214,215,216,217,218,219,220,221,222,223,224,225,226,227,228,229,230,231,232,233,234,235,236,237,238,239,240,241,242,243,244,245,246,247,248,249,250,251,252,253,254,255,256,257,258,259,260,261,262,263,264,265,266,267,268,269,270,271,272,273,274,275,276,277,278,279,280,281,282,283,284,285,286,287,288,289,290,291,292,293,294,295,296,297,298,299,300,301,302,303,304,305,306,307,308,309,310,311,312,313,314,315,316,317,318,319,320,321,322,323,324,325,326,327,328,329,330,331,332,333,334,335,336,337,338,339,340,341,342,343,344,345,346,347,348,349,350,351,352,353,354,355,356,357,358,359,360,361,362,363,364,365,366,367,368,369,370,371,372,373,374,375,376,377,378,379,380,381,382,383,384,385,386,387,388,389,390,391,392,393,394,395,396,397,398,399,400,401,402,403,404,405,406,407,408,409,410,411,412,413,414,415,416,417,418,419,420,421,422,423,424,425,426,427,428,429,430,431,432,433,434,435,436,437,438,439,440,441,442,443,444,445,446,447,448,449,450,451,452,453,454,455,456,457,458,459,460,461,462,463,464,465,466,467,468,469,470,471,472,473,474,475,476,477,478,479,480,481,482,483,484,485,486,487,488,489,490,491,492,493,494,495,496,497,498,499,500,501,502,503,504,505,506,507,508,509,510,511,512,513,514,515,516,517,518,519,520,521,522,523,524,525,526,527,528,529,530,531,532,533,534,535,536,537,538,539,540,541,542,543,544,545,546,547,548,549,550,551,552,553,554,555,556,557,558,559,560,561,562,563,564,565,566,567,568,569,570,571,572,573,574,575,576,577,578,579,580,581,582,583,584,585,586,587,588,589,590,591,592,593,594,595,596,597,598,599,600,601,602,603,604,605,606,607,608,609,610,611,612,613,614,615,616,617,618,619,620,621,622,623,624,625,626,627,628,629,630,631,632,633,634,635,636,637,638,639,640,641,642,643,644,645,646,647,648,649,650,651,652,653,654,655,656,657,658,659,660,661,662,663,664,665,666,667,668,669,670,671,672,673,674,675,676,677,678,679,680,681,682,683,684,685,686,687,688,689,690,691,692,693,694,695,696,697,698,699,700,701,702,703,704,705,706,707,708,709,710,711,712,713,714,715,716,717,718,719,720,721,722,723,724,725,726,727,728,729,730,731,732,733,734,735,736,737,738,739,740,741,742,743,744,745,746,747,748,749,750,751,752,753,754,755,756,757,758,759,760,761,762,763,764,765,766,767,768,769,770,771,772,773,774,775,776,777,778,779,780,781,782,783,784,785,786,787,788,789,790,791,792,793,794,795,796,797,798,799,800,801,802,803,804,805,806,807,808,809,810,811,812,813,814,815,816,817,818,819,820,821,822,823,824,825,826,827,828,829,830,831,832,833,834,835,836,837,838,839,840,841,842,843,844,845,846,847,848,849,850,851,852,853,854,855,856,857,858,859,860,861,862,863,864,865,866,867,868,869,870,871,872,873,874,875,876,877,878,879,880,881,882,883,884,885,886,887,888,889,890,891,892,893,894,895,896,897,898,899,900,901,902,903,904,905,906,907,908,909,910,911,912,913,914,915,916,917,918,919,920,921,922,923,924,925,926,927,928,929,930,931,932,933,934,935,936,937,938,939,940,941,942,943,944,945,946,947,948,949,950,951,952,953,954,955,956,957,958,959,960,961,962,963,964,965,966,967,968,969,970,971,972,973,974,975,976,977,978,979,980,981,982,983,984,985,986,987,988,989,990,991,992,993,994,995,996,997,998,999],\"y\":{\"__ndarray__\":\"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\",\"dtype\":\"float64\",\"shape\":[1000]}},\"selected\":{\"id\":\"6981\"},\"selection_policy\":{\"id\":\"6980\"}},\"id\":\"6957\",\"type\":\"ColumnDataSource\"},{\"attributes\":{\"source\":{\"id\":\"7032\"}},\"id\":\"7036\",\"type\":\"CDSView\"},{\"attributes\":{\"axis\":{\"id\":\"6939\"},\"dimension\":1,\"ticker\":null},\"id\":\"6942\",\"type\":\"Grid\"},{\"attributes\":{\"bottom_units\":\"screen\",\"fill_alpha\":0.5,\"fill_color\":\"lightgrey\",\"left_units\":\"screen\",\"level\":\"overlay\",\"line_alpha\":1.0,\"line_color\":\"black\",\"line_dash\":[4,4],\"line_width\":2,\"render_mode\":\"css\",\"right_units\":\"screen\",\"top_units\":\"screen\"},\"id\":\"7011\",\"type\":\"BoxAnnotation\"},{\"attributes\":{},\"id\":\"6995\",\"type\":\"LinearScale\"},{\"attributes\":{},\"id\":\"7010\",\"type\":\"HelpTool\"},{\"attributes\":{\"data_source\":{\"id\":\"6970\"},\"glyph\":{\"id\":\"6971\"},\"hover_glyph\":null,\"muted_glyph\":null,\"nonselection_glyph\":{\"id\":\"6972\"},\"selection_glyph\":null,\"view\":{\"id\":\"6974\"}},\"id\":\"6973\",\"type\":\"GlyphRenderer\"},{\"attributes\":{},\"id\":\"6946\",\"type\":\"SaveTool\"},{\"attributes\":{},\"id\":\"7005\",\"type\":\"PanTool\"},{\"attributes\":{\"data_source\":{\"id\":\"7032\"},\"glyph\":{\"id\":\"7033\"},\"hover_glyph\":null,\"muted_glyph\":null,\"nonselection_glyph\":{\"id\":\"7034\"},\"selection_glyph\":null,\"view\":{\"id\":\"7036\"}},\"id\":\"7035\",\"type\":\"GlyphRenderer\"}],\"root_ids\":[\"7048\"]},\"title\":\"Bokeh Application\",\"version\":\"2.0.1\"}};\n",
       "  var render_items = [{\"docid\":\"b417b37b-f923-46b4-ba91-56e43c754f42\",\"root_ids\":[\"7048\"],\"roots\":{\"7048\":\"fbf733ba-d11a-4377-9907-27a3b7ab4eff\"}}];\n",
       "  root.Bokeh.embed.embed_items_notebook(docs_json, render_items);\n",
       "\n",
       "  }\n",
       "  if (root.Bokeh !== undefined) {\n",
       "    embed_document(root);\n",
       "  } else {\n",
       "    var attempts = 0;\n",
       "    var timer = setInterval(function(root) {\n",
       "      if (root.Bokeh !== undefined) {\n",
       "        clearInterval(timer);\n",
       "        embed_document(root);\n",
       "      } else {\n",
       "        attempts++;\n",
       "        if (attempts > 100) {\n",
       "          clearInterval(timer);\n",
       "          console.log(\"Bokeh: ERROR: Unable to run BokehJS code because BokehJS library is missing\");\n",
       "        }\n",
       "      }\n",
       "    }, 10, root)\n",
       "  }\n",
       "})(window);"
      ],
      "application/vnd.bokehjs_exec.v0+json": ""
     },
     "metadata": {
      "application/vnd.bokehjs_exec.v0+json": {
       "id": "7048"
      }
     },
     "output_type": "display_data"
    }
   ],
   "source": [
    "bpl.show(bly.row([p0,p1]))"
   ]
  },
  {
   "cell_type": "code",
   "execution_count": 202,
   "metadata": {},
   "outputs": [
    {
     "name": "stdout",
     "output_type": "stream",
     "text": [
      "43/43 - 0s - loss: 15517217792.0000 - mae: 15134.2930 - mse: 15517217792.0000\n",
      "Testing set Mean Abs Error: 15134.29 Scope\n"
     ]
    }
   ],
   "source": [
    "loss, mae, mse = model.evaluate(testinp, testlab, verbose=2)\n",
    "print(\"Testing set Mean Abs Error: {:5.2f} Scope\".format(mae))"
   ]
  },
  {
   "cell_type": "code",
   "execution_count": 203,
   "metadata": {},
   "outputs": [
    {
     "name": "stdout",
     "output_type": "stream",
     "text": [
      "\n",
      "....................................................................................................\n",
      "....................................................................................................\n",
      "........................................................................."
     ]
    }
   ],
   "source": [
    "model = build_model()\n",
    "\n",
    "# The patience parameter is the amount of epochs to check for improvement\n",
    "early_stop = keras.callbacks.EarlyStopping(monitor='val_loss', patience=50)\n",
    "\n",
    "history = model.fit(datainp, datalab, epochs=EPOCHS,\n",
    "                    validation_split = 0.2, verbose=0, callbacks=[early_stop, PrintDot()])"
   ]
  },
  {
   "cell_type": "code",
   "execution_count": 204,
   "metadata": {},
   "outputs": [
    {
     "data": {
      "text/html": [
       "<div>\n",
       "<style scoped>\n",
       "    .dataframe tbody tr th:only-of-type {\n",
       "        vertical-align: middle;\n",
       "    }\n",
       "\n",
       "    .dataframe tbody tr th {\n",
       "        vertical-align: top;\n",
       "    }\n",
       "\n",
       "    .dataframe thead th {\n",
       "        text-align: right;\n",
       "    }\n",
       "</style>\n",
       "<table border=\"1\" class=\"dataframe\">\n",
       "  <thead>\n",
       "    <tr style=\"text-align: right;\">\n",
       "      <th></th>\n",
       "      <th>loss</th>\n",
       "      <th>mae</th>\n",
       "      <th>mse</th>\n",
       "      <th>val_loss</th>\n",
       "      <th>val_mae</th>\n",
       "      <th>val_mse</th>\n",
       "      <th>epoch</th>\n",
       "    </tr>\n",
       "  </thead>\n",
       "  <tbody>\n",
       "    <tr>\n",
       "      <th>270</th>\n",
       "      <td>9.768780e+09</td>\n",
       "      <td>13340.781250</td>\n",
       "      <td>9.768780e+09</td>\n",
       "      <td>6.547294e+09</td>\n",
       "      <td>12654.310547</td>\n",
       "      <td>6.547294e+09</td>\n",
       "      <td>270</td>\n",
       "    </tr>\n",
       "    <tr>\n",
       "      <th>271</th>\n",
       "      <td>9.434931e+09</td>\n",
       "      <td>13246.570312</td>\n",
       "      <td>9.434931e+09</td>\n",
       "      <td>6.582029e+09</td>\n",
       "      <td>12674.728516</td>\n",
       "      <td>6.582029e+09</td>\n",
       "      <td>271</td>\n",
       "    </tr>\n",
       "    <tr>\n",
       "      <th>272</th>\n",
       "      <td>9.183062e+09</td>\n",
       "      <td>13158.078125</td>\n",
       "      <td>9.183062e+09</td>\n",
       "      <td>6.735285e+09</td>\n",
       "      <td>12694.072266</td>\n",
       "      <td>6.735285e+09</td>\n",
       "      <td>272</td>\n",
       "    </tr>\n",
       "  </tbody>\n",
       "</table>\n",
       "</div>"
      ],
      "text/plain": [
       "             loss           mae           mse      val_loss       val_mae  \\\n",
       "270  9.768780e+09  13340.781250  9.768780e+09  6.547294e+09  12654.310547   \n",
       "271  9.434931e+09  13246.570312  9.434931e+09  6.582029e+09  12674.728516   \n",
       "272  9.183062e+09  13158.078125  9.183062e+09  6.735285e+09  12694.072266   \n",
       "\n",
       "          val_mse  epoch  \n",
       "270  6.547294e+09    270  \n",
       "271  6.582029e+09    271  \n",
       "272  6.735285e+09    272  "
      ]
     },
     "execution_count": 204,
     "metadata": {},
     "output_type": "execute_result"
    }
   ],
   "source": [
    "hist = pd.DataFrame(history.history)\n",
    "hist['epoch'] = history.epoch\n",
    "hist[-3:]"
   ]
  },
  {
   "cell_type": "code",
   "execution_count": 205,
   "metadata": {},
   "outputs": [],
   "source": [
    "p0 = bpl.figure(plot_width=300,plot_height=300,toolbar_location=None, title=\"Datos normalizados\")"
   ]
  },
  {
   "cell_type": "code",
   "execution_count": 206,
   "metadata": {},
   "outputs": [
    {
     "data": {
      "text/html": [
       "<div style=\"display: table;\"><div style=\"display: table-row;\"><div style=\"display: table-cell;\"><b title=\"bokeh.models.renderers.GlyphRenderer\">GlyphRenderer</b>(</div><div style=\"display: table-cell;\">id&nbsp;=&nbsp;'7508', <span id=\"7520\" style=\"cursor: pointer;\">&hellip;)</span></div></div><div class=\"7519\" style=\"display: none;\"><div style=\"display: table-cell;\"></div><div style=\"display: table-cell;\">data_source&nbsp;=&nbsp;ColumnDataSource(id='7505', ...),</div></div><div class=\"7519\" style=\"display: none;\"><div style=\"display: table-cell;\"></div><div style=\"display: table-cell;\">glyph&nbsp;=&nbsp;Line(id='7506', ...),</div></div><div class=\"7519\" style=\"display: none;\"><div style=\"display: table-cell;\"></div><div style=\"display: table-cell;\">hover_glyph&nbsp;=&nbsp;None,</div></div><div class=\"7519\" style=\"display: none;\"><div style=\"display: table-cell;\"></div><div style=\"display: table-cell;\">js_event_callbacks&nbsp;=&nbsp;{},</div></div><div class=\"7519\" style=\"display: none;\"><div style=\"display: table-cell;\"></div><div style=\"display: table-cell;\">js_property_callbacks&nbsp;=&nbsp;{},</div></div><div class=\"7519\" style=\"display: none;\"><div style=\"display: table-cell;\"></div><div style=\"display: table-cell;\">level&nbsp;=&nbsp;'glyph',</div></div><div class=\"7519\" style=\"display: none;\"><div style=\"display: table-cell;\"></div><div style=\"display: table-cell;\">muted&nbsp;=&nbsp;False,</div></div><div class=\"7519\" style=\"display: none;\"><div style=\"display: table-cell;\"></div><div style=\"display: table-cell;\">muted_glyph&nbsp;=&nbsp;None,</div></div><div class=\"7519\" style=\"display: none;\"><div style=\"display: table-cell;\"></div><div style=\"display: table-cell;\">name&nbsp;=&nbsp;None,</div></div><div class=\"7519\" style=\"display: none;\"><div style=\"display: table-cell;\"></div><div style=\"display: table-cell;\">nonselection_glyph&nbsp;=&nbsp;Line(id='7507', ...),</div></div><div class=\"7519\" style=\"display: none;\"><div style=\"display: table-cell;\"></div><div style=\"display: table-cell;\">selection_glyph&nbsp;=&nbsp;None,</div></div><div class=\"7519\" style=\"display: none;\"><div style=\"display: table-cell;\"></div><div style=\"display: table-cell;\">subscribed_events&nbsp;=&nbsp;[],</div></div><div class=\"7519\" style=\"display: none;\"><div style=\"display: table-cell;\"></div><div style=\"display: table-cell;\">tags&nbsp;=&nbsp;[],</div></div><div class=\"7519\" style=\"display: none;\"><div style=\"display: table-cell;\"></div><div style=\"display: table-cell;\">view&nbsp;=&nbsp;CDSView(id='7509', ...),</div></div><div class=\"7519\" style=\"display: none;\"><div style=\"display: table-cell;\"></div><div style=\"display: table-cell;\">visible&nbsp;=&nbsp;True,</div></div><div class=\"7519\" style=\"display: none;\"><div style=\"display: table-cell;\"></div><div style=\"display: table-cell;\">x_range_name&nbsp;=&nbsp;'default',</div></div><div class=\"7519\" style=\"display: none;\"><div style=\"display: table-cell;\"></div><div style=\"display: table-cell;\">y_range_name&nbsp;=&nbsp;'default')</div></div></div>\n",
       "<script>\n",
       "(function() {\n",
       "  var expanded = false;\n",
       "  var ellipsis = document.getElementById(\"7520\");\n",
       "  ellipsis.addEventListener(\"click\", function() {\n",
       "    var rows = document.getElementsByClassName(\"7519\");\n",
       "    for (var i = 0; i < rows.length; i++) {\n",
       "      var el = rows[i];\n",
       "      el.style.display = expanded ? \"none\" : \"table-row\";\n",
       "    }\n",
       "    ellipsis.innerHTML = expanded ? \"&hellip;)\" : \"&lsaquo;&lsaquo;&lsaquo;\";\n",
       "    expanded = !expanded;\n",
       "  });\n",
       "})();\n",
       "</script>\n"
      ],
      "text/plain": [
       "GlyphRenderer(id='7508', ...)"
      ]
     },
     "execution_count": 206,
     "metadata": {},
     "output_type": "execute_result"
    }
   ],
   "source": [
    "p0.line(x=hist[\"epoch\"],y=hist[\"val_mae\"],legend_label=\"Error validación\", color=\"red\")\n",
    "p0.line(x=hist[\"epoch\"],y=hist[\"mae\"],legend_label=\"Error entrenamiento\", color=\"black\")"
   ]
  },
  {
   "cell_type": "code",
   "execution_count": 207,
   "metadata": {},
   "outputs": [],
   "source": [
    "p0.xaxis.axis_label = 'Epoch'\n",
    "p0.yaxis.axis_label = 'Mean Abs Error [Scope]'"
   ]
  },
  {
   "cell_type": "code",
   "execution_count": 208,
   "metadata": {},
   "outputs": [],
   "source": [
    "p1 = bpl.figure(plot_width=300,plot_height=300,toolbar_location=None, title=\"Datos normalizados\")"
   ]
  },
  {
   "cell_type": "code",
   "execution_count": 209,
   "metadata": {},
   "outputs": [
    {
     "data": {
      "text/html": [
       "<div style=\"display: table;\"><div style=\"display: table-row;\"><div style=\"display: table-cell;\"><b title=\"bokeh.models.renderers.GlyphRenderer\">GlyphRenderer</b>(</div><div style=\"display: table-cell;\">id&nbsp;=&nbsp;'7570', <span id=\"7582\" style=\"cursor: pointer;\">&hellip;)</span></div></div><div class=\"7581\" style=\"display: none;\"><div style=\"display: table-cell;\"></div><div style=\"display: table-cell;\">data_source&nbsp;=&nbsp;ColumnDataSource(id='7567', ...),</div></div><div class=\"7581\" style=\"display: none;\"><div style=\"display: table-cell;\"></div><div style=\"display: table-cell;\">glyph&nbsp;=&nbsp;Line(id='7568', ...),</div></div><div class=\"7581\" style=\"display: none;\"><div style=\"display: table-cell;\"></div><div style=\"display: table-cell;\">hover_glyph&nbsp;=&nbsp;None,</div></div><div class=\"7581\" style=\"display: none;\"><div style=\"display: table-cell;\"></div><div style=\"display: table-cell;\">js_event_callbacks&nbsp;=&nbsp;{},</div></div><div class=\"7581\" style=\"display: none;\"><div style=\"display: table-cell;\"></div><div style=\"display: table-cell;\">js_property_callbacks&nbsp;=&nbsp;{},</div></div><div class=\"7581\" style=\"display: none;\"><div style=\"display: table-cell;\"></div><div style=\"display: table-cell;\">level&nbsp;=&nbsp;'glyph',</div></div><div class=\"7581\" style=\"display: none;\"><div style=\"display: table-cell;\"></div><div style=\"display: table-cell;\">muted&nbsp;=&nbsp;False,</div></div><div class=\"7581\" style=\"display: none;\"><div style=\"display: table-cell;\"></div><div style=\"display: table-cell;\">muted_glyph&nbsp;=&nbsp;None,</div></div><div class=\"7581\" style=\"display: none;\"><div style=\"display: table-cell;\"></div><div style=\"display: table-cell;\">name&nbsp;=&nbsp;None,</div></div><div class=\"7581\" style=\"display: none;\"><div style=\"display: table-cell;\"></div><div style=\"display: table-cell;\">nonselection_glyph&nbsp;=&nbsp;Line(id='7569', ...),</div></div><div class=\"7581\" style=\"display: none;\"><div style=\"display: table-cell;\"></div><div style=\"display: table-cell;\">selection_glyph&nbsp;=&nbsp;None,</div></div><div class=\"7581\" style=\"display: none;\"><div style=\"display: table-cell;\"></div><div style=\"display: table-cell;\">subscribed_events&nbsp;=&nbsp;[],</div></div><div class=\"7581\" style=\"display: none;\"><div style=\"display: table-cell;\"></div><div style=\"display: table-cell;\">tags&nbsp;=&nbsp;[],</div></div><div class=\"7581\" style=\"display: none;\"><div style=\"display: table-cell;\"></div><div style=\"display: table-cell;\">view&nbsp;=&nbsp;CDSView(id='7571', ...),</div></div><div class=\"7581\" style=\"display: none;\"><div style=\"display: table-cell;\"></div><div style=\"display: table-cell;\">visible&nbsp;=&nbsp;True,</div></div><div class=\"7581\" style=\"display: none;\"><div style=\"display: table-cell;\"></div><div style=\"display: table-cell;\">x_range_name&nbsp;=&nbsp;'default',</div></div><div class=\"7581\" style=\"display: none;\"><div style=\"display: table-cell;\"></div><div style=\"display: table-cell;\">y_range_name&nbsp;=&nbsp;'default')</div></div></div>\n",
       "<script>\n",
       "(function() {\n",
       "  var expanded = false;\n",
       "  var ellipsis = document.getElementById(\"7582\");\n",
       "  ellipsis.addEventListener(\"click\", function() {\n",
       "    var rows = document.getElementsByClassName(\"7581\");\n",
       "    for (var i = 0; i < rows.length; i++) {\n",
       "      var el = rows[i];\n",
       "      el.style.display = expanded ? \"none\" : \"table-row\";\n",
       "    }\n",
       "    ellipsis.innerHTML = expanded ? \"&hellip;)\" : \"&lsaquo;&lsaquo;&lsaquo;\";\n",
       "    expanded = !expanded;\n",
       "  });\n",
       "})();\n",
       "</script>\n"
      ],
      "text/plain": [
       "GlyphRenderer(id='7570', ...)"
      ]
     },
     "execution_count": 209,
     "metadata": {},
     "output_type": "execute_result"
    }
   ],
   "source": [
    "p1.line(x=hist[\"epoch\"],y=hist[\"val_mse\"],legend_label=\"Error validación\", color=\"red\")\n",
    "p1.line(x=hist[\"epoch\"],y=hist[\"mse\"],legend_label=\"Error entrenamiento\", color=\"black\")"
   ]
  },
  {
   "cell_type": "code",
   "execution_count": 210,
   "metadata": {},
   "outputs": [],
   "source": [
    "p1.xaxis.axis_label = 'Epoch'\n",
    "p1.yaxis.axis_label = 'Mean Square Error [Scope^2]'"
   ]
  },
  {
   "cell_type": "code",
   "execution_count": 211,
   "metadata": {},
   "outputs": [
    {
     "data": {
      "text/html": [
       "\n",
       "\n",
       "\n",
       "\n",
       "\n",
       "\n",
       "  <div class=\"bk-root\" id=\"10518140-5bf5-40e6-b4b9-c341a4176762\" data-root-id=\"7583\"></div>\n"
      ]
     },
     "metadata": {},
     "output_type": "display_data"
    },
    {
     "data": {
      "application/javascript": [
       "(function(root) {\n",
       "  function embed_document(root) {\n",
       "    \n",
       "  var docs_json = {\"167bac5d-9351-41d8-b856-3e12f3812f23\":{\"roots\":{\"references\":[{\"attributes\":{\"children\":[{\"id\":\"7459\"},{\"id\":\"7521\"}]},\"id\":\"7583\",\"type\":\"Row\"},{\"attributes\":{\"axis\":{\"id\":\"7532\"},\"ticker\":null},\"id\":\"7535\",\"type\":\"Grid\"},{\"attributes\":{\"data\":{\"x\":[0,1,2,3,4,5,6,7,8,9,10,11,12,13,14,15,16,17,18,19,20,21,22,23,24,25,26,27,28,29,30,31,32,33,34,35,36,37,38,39,40,41,42,43,44,45,46,47,48,49,50,51,52,53,54,55,56,57,58,59,60,61,62,63,64,65,66,67,68,69,70,71,72,73,74,75,76,77,78,79,80,81,82,83,84,85,86,87,88,89,90,91,92,93,94,95,96,97,98,99,100,101,102,103,104,105,106,107,108,109,110,111,112,113,114,115,116,117,118,119,120,121,122,123,124,125,126,127,128,129,130,131,132,133,134,135,136,137,138,139,140,141,142,143,144,145,146,147,148,149,150,151,152,153,154,155,156,157,158,159,160,161,162,163,164,165,166,167,168,169,170,171,172,173,174,175,176,177,178,179,180,181,182,183,184,185,186,187,188,189,190,191,192,193,194,195,196,197,198,199,200,201,202,203,204,205,206,207,208,209,210,211,212,213,214,215,216,217,218,219,220,221,222,223,224,225,226,227,228,229,230,231,232,233,234,235,236,237,238,239,240,241,242,243,244,245,246,247,248,249,250,251,252,253,254,255,256,257,258,259,260,261,262,263,264,265,266,267,268,269,270,271,272],\"y\":{\"__ndarray__\":\"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\",\"dtype\":\"float64\",\"shape\":[273]}},\"selected\":{\"id\":\"7516\"},\"selection_policy\":{\"id\":\"7515\"}},\"id\":\"7492\",\"type\":\"ColumnDataSource\"},{\"attributes\":{},\"id\":\"7500\",\"type\":\"BasicTickFormatter\"},{\"attributes\":{},\"id\":\"7481\",\"type\":\"SaveTool\"},{\"attributes\":{\"label\":{\"value\":\"Error validaci\\u00f3n\"},\"renderers\":[{\"id\":\"7557\"}]},\"id\":\"7566\",\"type\":\"LegendItem\"},{\"attributes\":{\"data_source\":{\"id\":\"7492\"},\"glyph\":{\"id\":\"7493\"},\"hover_glyph\":null,\"muted_glyph\":null,\"nonselection_glyph\":{\"id\":\"7494\"},\"selection_glyph\":null,\"view\":{\"id\":\"7496\"}},\"id\":\"7495\",\"type\":\"GlyphRenderer\"},{\"attributes\":{\"overlay\":{\"id\":\"7484\"}},\"id\":\"7480\",\"type\":\"BoxZoomTool\"},{\"attributes\":{\"source\":{\"id\":\"7492\"}},\"id\":\"7496\",\"type\":\"CDSView\"},{\"attributes\":{\"label\":{\"value\":\"Error validaci\\u00f3n\"},\"renderers\":[{\"id\":\"7495\"}]},\"id\":\"7504\",\"type\":\"LegendItem\"},{\"attributes\":{\"line_color\":\"red\",\"x\":{\"field\":\"x\"},\"y\":{\"field\":\"y\"}},\"id\":\"7493\",\"type\":\"Line\"},{\"attributes\":{\"data\":{\"x\":[0,1,2,3,4,5,6,7,8,9,10,11,12,13,14,15,16,17,18,19,20,21,22,23,24,25,26,27,28,29,30,31,32,33,34,35,36,37,38,39,40,41,42,43,44,45,46,47,48,49,50,51,52,53,54,55,56,57,58,59,60,61,62,63,64,65,66,67,68,69,70,71,72,73,74,75,76,77,78,79,80,81,82,83,84,85,86,87,88,89,90,91,92,93,94,95,96,97,98,99,100,101,102,103,104,105,106,107,108,109,110,111,112,113,114,115,116,117,118,119,120,121,122,123,124,125,126,127,128,129,130,131,132,133,134,135,136,137,138,139,140,141,142,143,144,145,146,147,148,149,150,151,152,153,154,155,156,157,158,159,160,161,162,163,164,165,166,167,168,169,170,171,172,173,174,175,176,177,178,179,180,181,182,183,184,185,186,187,188,189,190,191,192,193,194,195,196,197,198,199,200,201,202,203,204,205,206,207,208,209,210,211,212,213,214,215,216,217,218,219,220,221,222,223,224,225,226,227,228,229,230,231,232,233,234,235,236,237,238,239,240,241,242,243,244,245,246,247,248,249,250,251,252,253,254,255,256,257,258,259,260,261,262,263,264,265,266,267,268,269,270,271,272],\"y\":{\"__ndarray__\":\"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\",\"dtype\":\"float64\",\"shape\":[273]}},\"selected\":{\"id\":\"7892\"},\"selection_policy\":{\"id\":\"7891\"}},\"id\":\"7567\",\"type\":\"ColumnDataSource\"},{\"attributes\":{\"axis\":{\"id\":\"7474\"},\"dimension\":1,\"ticker\":null},\"id\":\"7477\",\"type\":\"Grid\"},{\"attributes\":{\"axis_label\":\"Mean Square Error [Scope^2]\",\"formatter\":{\"id\":\"7560\"},\"ticker\":{\"id\":\"7537\"}},\"id\":\"7536\",\"type\":\"LinearAxis\"},{\"attributes\":{\"active_drag\":\"auto\",\"active_inspect\":\"auto\",\"active_multi\":null,\"active_scroll\":\"auto\",\"active_tap\":\"auto\",\"tools\":[{\"id\":\"7540\"},{\"id\":\"7541\"},{\"id\":\"7542\"},{\"id\":\"7543\"},{\"id\":\"7544\"},{\"id\":\"7545\"}]},\"id\":\"7547\",\"type\":\"Toolbar\"},{\"attributes\":{\"items\":[{\"id\":\"7504\"},{\"id\":\"7518\"}]},\"id\":\"7503\",\"type\":\"Legend\"},{\"attributes\":{},\"id\":\"7543\",\"type\":\"SaveTool\"},{\"attributes\":{},\"id\":\"7475\",\"type\":\"BasicTicker\"},{\"attributes\":{},\"id\":\"7544\",\"type\":\"ResetTool\"},{\"attributes\":{\"overlay\":{\"id\":\"7546\"}},\"id\":\"7542\",\"type\":\"BoxZoomTool\"},{\"attributes\":{\"bottom_units\":\"screen\",\"fill_alpha\":0.5,\"fill_color\":\"lightgrey\",\"left_units\":\"screen\",\"level\":\"overlay\",\"line_alpha\":1.0,\"line_color\":\"black\",\"line_dash\":[4,4],\"line_width\":2,\"render_mode\":\"css\",\"right_units\":\"screen\",\"top_units\":\"screen\"},\"id\":\"7546\",\"type\":\"BoxAnnotation\"},{\"attributes\":{\"axis_label\":\"Mean Abs Error [Scope]\",\"formatter\":{\"id\":\"7498\"},\"ticker\":{\"id\":\"7475\"}},\"id\":\"7474\",\"type\":\"LinearAxis\"},{\"attributes\":{},\"id\":\"7891\",\"type\":\"UnionRenderers\"},{\"attributes\":{},\"id\":\"7528\",\"type\":\"LinearScale\"},{\"attributes\":{},\"id\":\"7545\",\"type\":\"HelpTool\"},{\"attributes\":{},\"id\":\"7478\",\"type\":\"PanTool\"},{\"attributes\":{},\"id\":\"7541\",\"type\":\"WheelZoomTool\"},{\"attributes\":{\"axis\":{\"id\":\"7536\"},\"dimension\":1,\"ticker\":null},\"id\":\"7539\",\"type\":\"Grid\"},{\"attributes\":{},\"id\":\"7537\",\"type\":\"BasicTicker\"},{\"attributes\":{},\"id\":\"7526\",\"type\":\"DataRange1d\"},{\"attributes\":{\"x\":{\"field\":\"x\"},\"y\":{\"field\":\"y\"}},\"id\":\"7568\",\"type\":\"Line\"},{\"attributes\":{\"line_alpha\":0.1,\"line_color\":\"red\",\"x\":{\"field\":\"x\"},\"y\":{\"field\":\"y\"}},\"id\":\"7494\",\"type\":\"Line\"},{\"attributes\":{},\"id\":\"7498\",\"type\":\"BasicTickFormatter\"},{\"attributes\":{},\"id\":\"7479\",\"type\":\"WheelZoomTool\"},{\"attributes\":{},\"id\":\"7540\",\"type\":\"PanTool\"},{\"attributes\":{\"data_source\":{\"id\":\"7505\"},\"glyph\":{\"id\":\"7506\"},\"hover_glyph\":null,\"muted_glyph\":null,\"nonselection_glyph\":{\"id\":\"7507\"},\"selection_glyph\":null,\"view\":{\"id\":\"7509\"}},\"id\":\"7508\",\"type\":\"GlyphRenderer\"},{\"attributes\":{},\"id\":\"7562\",\"type\":\"BasicTickFormatter\"},{\"attributes\":{\"data\":{\"x\":[0,1,2,3,4,5,6,7,8,9,10,11,12,13,14,15,16,17,18,19,20,21,22,23,24,25,26,27,28,29,30,31,32,33,34,35,36,37,38,39,40,41,42,43,44,45,46,47,48,49,50,51,52,53,54,55,56,57,58,59,60,61,62,63,64,65,66,67,68,69,70,71,72,73,74,75,76,77,78,79,80,81,82,83,84,85,86,87,88,89,90,91,92,93,94,95,96,97,98,99,100,101,102,103,104,105,106,107,108,109,110,111,112,113,114,115,116,117,118,119,120,121,122,123,124,125,126,127,128,129,130,131,132,133,134,135,136,137,138,139,140,141,142,143,144,145,146,147,148,149,150,151,152,153,154,155,156,157,158,159,160,161,162,163,164,165,166,167,168,169,170,171,172,173,174,175,176,177,178,179,180,181,182,183,184,185,186,187,188,189,190,191,192,193,194,195,196,197,198,199,200,201,202,203,204,205,206,207,208,209,210,211,212,213,214,215,216,217,218,219,220,221,222,223,224,225,226,227,228,229,230,231,232,233,234,235,236,237,238,239,240,241,242,243,244,245,246,247,248,249,250,251,252,253,254,255,256,257,258,259,260,261,262,263,264,265,266,267,268,269,270,271,272],\"y\":{\"__ndarray__\":\"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\",\"dtype\":\"float64\",\"shape\":[273]}},\"selected\":{\"id\":\"7887\"},\"selection_policy\":{\"id\":\"7886\"}},\"id\":\"7505\",\"type\":\"ColumnDataSource\"},{\"attributes\":{\"line_alpha\":0.1,\"line_color\":\"red\",\"x\":{\"field\":\"x\"},\"y\":{\"field\":\"y\"}},\"id\":\"7556\",\"type\":\"Line\"},{\"attributes\":{\"axis_label\":\"Epoch\",\"formatter\":{\"id\":\"7562\"},\"ticker\":{\"id\":\"7533\"}},\"id\":\"7532\",\"type\":\"LinearAxis\"},{\"attributes\":{\"items\":[{\"id\":\"7566\"},{\"id\":\"7580\"}]},\"id\":\"7565\",\"type\":\"Legend\"},{\"attributes\":{\"x\":{\"field\":\"x\"},\"y\":{\"field\":\"y\"}},\"id\":\"7506\",\"type\":\"Line\"},{\"attributes\":{\"below\":[{\"id\":\"7470\"}],\"center\":[{\"id\":\"7473\"},{\"id\":\"7477\"},{\"id\":\"7503\"}],\"left\":[{\"id\":\"7474\"}],\"plot_height\":300,\"plot_width\":300,\"renderers\":[{\"id\":\"7495\"},{\"id\":\"7508\"}],\"title\":{\"id\":\"7460\"},\"toolbar\":{\"id\":\"7485\"},\"toolbar_location\":null,\"x_range\":{\"id\":\"7462\"},\"x_scale\":{\"id\":\"7466\"},\"y_range\":{\"id\":\"7464\"},\"y_scale\":{\"id\":\"7468\"}},\"id\":\"7459\",\"subtype\":\"Figure\",\"type\":\"Plot\"},{\"attributes\":{},\"id\":\"7533\",\"type\":\"BasicTicker\"},{\"attributes\":{},\"id\":\"7462\",\"type\":\"DataRange1d\"},{\"attributes\":{\"data\":{\"x\":[0,1,2,3,4,5,6,7,8,9,10,11,12,13,14,15,16,17,18,19,20,21,22,23,24,25,26,27,28,29,30,31,32,33,34,35,36,37,38,39,40,41,42,43,44,45,46,47,48,49,50,51,52,53,54,55,56,57,58,59,60,61,62,63,64,65,66,67,68,69,70,71,72,73,74,75,76,77,78,79,80,81,82,83,84,85,86,87,88,89,90,91,92,93,94,95,96,97,98,99,100,101,102,103,104,105,106,107,108,109,110,111,112,113,114,115,116,117,118,119,120,121,122,123,124,125,126,127,128,129,130,131,132,133,134,135,136,137,138,139,140,141,142,143,144,145,146,147,148,149,150,151,152,153,154,155,156,157,158,159,160,161,162,163,164,165,166,167,168,169,170,171,172,173,174,175,176,177,178,179,180,181,182,183,184,185,186,187,188,189,190,191,192,193,194,195,196,197,198,199,200,201,202,203,204,205,206,207,208,209,210,211,212,213,214,215,216,217,218,219,220,221,222,223,224,225,226,227,228,229,230,231,232,233,234,235,236,237,238,239,240,241,242,243,244,245,246,247,248,249,250,251,252,253,254,255,256,257,258,259,260,261,262,263,264,265,266,267,268,269,270,271,272],\"y\":{\"__ndarray__\":\"AAAAgN2TIkIAAADAHlQiQgAAAED84iFCAAAAgJAoIUIAAAAANlYgQgAAAOClEh9CAAAAIKUVHUIAAADA/r4bQgAAAKDmohlCAAAAQH6eF0IAAABAmpkUQgAAAID8ChJCAAAAQFF+D0IAAABAj74LQgAAACD1MglCAAAAYPGZB0IAAACgOvgEQgAAAKCg6QNCAAAAAAE3A0IAAAAAbgMDQgAAAGCf/AJCAAAAgGAJA0IAAACA4JsDQgAAAEDIPANCAAAAQEcdAkIAAAAANxACQgAAAGAKrwJCAAAAAFWFAkIAAAAAoHMCQgAAACCsVAJCAAAA4HXWAUIAAADg6NcBQgAAAMDX2wFCAAAAQPs1AUIAAAAAlSABQgAAAODAGAFCAAAAYK72AUIAAADgICoCQgAAAABJogJCAAAAQOlAAkIAAACAujMCQgAAACA4twJCAAAAINHoAkIAAADAOAwCQgAAAMAUvgFCAAAAIK0iAkIAAABAexcCQgAAAKBaQQJCAAAAwIUYAkIAAAAAhHEBQgAAAAD6xgFCAAAAoGYjAkIAAACAYMMBQgAAAEDqXAFCAAAA4FqtAEIAAAAAX4kAQgAAAOBL7/9BAAAAIKNQAEIAAAAgxX4AQgAAACBkpwBCAAAAALLRAEIAAADANJoBQgAAACCuZwFCAAAAoG2hAUIAAAAAtZgBQgAAAGBSMwFCAAAAYEI+AUIAAABAolQBQgAAAMDllAFCAAAAYCaPAUIAAACgST8AQgAAAGA1cQBCAAAAgKDm/0EAAAAgKTwAQgAAAKCb8/5BAAAAgNht/0EAAADgQJ7/QQAAAACKcf9BAAAAAJJa/0EAAAAgHkD/QQAAAODDLf5BAAAAoHLf/kEAAAAA2Pj/QQAAACBQEgBCAAAAQEYT/0EAAABgw7n/QQAAACDYHQBCAAAAgB1RAEIAAACAo0YAQgAAAIBlSwBCAAAAQJN+/0EAAACgIxQAQgAAAABlCABCAAAAgPzH/0EAAACAg4n/QQAAAEDxB/9BAAAA4LeG/0EAAADgPFb/QQAAAAAVu/9BAAAAQL4A/0EAAABASOb/QQAAAKAPPf5BAAAAwFeb/0EAAADAwTH/QQAAAECH8f5BAAAAIBBE/kEAAABAbY3+QQAAAKCwYf5BAAAAoH6f/kEAAACgxlL9QQAAAACD9f1BAAAAAM0C/kEAAACg83T+QQAAAMD+8P1BAAAAwOlS/kEAAABAqx/+QQAAAECkTf1BAAAAQIE5/EEAAAAgobb8QQAAAGC33/xBAAAAoBKV+0EAAABg5539QQAAAKDEo/xBAAAAwHeq+0EAAAAATHn8QQAAAOCva/xBAAAAoKUa/UEAAABAWJz8QQAAAMC2ZvtBAAAAgHcz+0EAAAAA2b76QQAAAKBKqPpBAAAAAKD6+UEAAADA6C78QQAAAKC7wPtBAAAAgItq/EEAAACgOIn7QQAAAGA0SvxBAAAAYJGp/EEAAAAgl/v5QQAAAMA9+fpBAAAAQM4p/EEAAAAgKJP7QQAAACDygvpBAAAAwN7Y+kEAAABgATv6QQAAAMDObvtBAAAAANbC+kEAAADAp9D6QQAAAICSw/tBAAAAwPjU+kEAAABgEC76QQAAACA3H/tBAAAAwB+y+EEAAADgXS/5QQAAAGAn1/lBAAAAAI54+kEAAABg3cD5QQAAAKCqsflBAAAAwFsJ+kEAAACgMG/6QQAAAMC3fPlBAAAAAO0Q+kEAAADg8jz5QQAAACDazPhBAAAAIAg7+UEAAACgSgP5QQAAAKChNPlBAAAAwPTx+UEAAACg7rn4QQAAACDp4vpBAAAAwDZO+kEAAACApIz5QQAAAKBb7/hBAAAAAN8S+UEAAADg4cb4QQAAAGAlmfhBAAAAYLIh+UEAAADAFDH5QQAAAGDu4/lBAAAAIOLN+kEAAABAasD6QQAAAKBcE/hBAAAAALA5+EEAAAAgqgz5QQAAAMDaOvdBAAAAIFzp9kEAAADAXsb2QQAAACAjv/hBAAAAYId/+EEAAADA8RT5QQAAAOBhvPhBAAAAoFqw+EEAAABAOkb4QQAAAGBdavlBAAAAQE2A+EEAAAAg2D73QQAAAACCJ/dBAAAAwIpQ9UEAAACAnn/2QQAAAGBnFfhBAAAAQLKV+kEAAABAS7n3QQAAACDskvdBAAAAAJU8+EEAAAAAaQj4QQAAAEBUS/dBAAAAQOii9UEAAADg1sv2QQAAACAs9fdBAAAA4E4J+UEAAAAAgv/2QQAAAKBdDvdBAAAAoNGp9kEAAACASLz3QQAAAEAHAPhBAAAAoFlw9UEAAADAA3n1QQAAAMDl7PNBAAAAwO059EEAAADgJZH0QQAAAKCi2fNBAAAAAPfG80EAAAAAHcb0QQAAACDSPPZBAAAAQEAw+EEAAADgYMT3QQAAACAeGfhBAAAA4D5V+UEAAADAwvX5QQAAAAA6GPhBAAAA4IDa90EAAACgmKD1QQAAAMCVO/hBAAAAIIPJ9UEAAADARmb1QQAAACAJIfZBAAAAQKJd9kEAAAAAiCX3QQAAAOBmRfdBAAAAIASA9kEAAAAgUUn2QQAAAEDozPVBAAAAoAWD9UEAAACgsZz1QQAAACBsCvZBAAAAIE+g9EEAAADAdEH1QQAAACBTl/VBAAAAwILl9UEAAAAgPC73QQAAAAAbZvZBAAAAgAxp9UEAAAAAV+f0QQAAAACEovdBAAAAIDJX+UEAAABAs2z5QQAAAODK1PZBAAAAYEK990EAAAAg+9v2QQAAACC6lPdBAAAAYJ4X9kEAAAAgOlz3QQAAACDqWvhBAAAAwIe290EAAAAgXZr4QQAAAGARMflBAAAAwLrT+EEAAACgBc75QQAAAEC7JflBAAAAgPxj+EEAAADAHIX4QQAAAKBEF/lB\",\"dtype\":\"float64\",\"shape\":[273]}},\"selected\":{\"id\":\"7578\"},\"selection_policy\":{\"id\":\"7577\"}},\"id\":\"7554\",\"type\":\"ColumnDataSource\"},{\"attributes\":{},\"id\":\"7466\",\"type\":\"LinearScale\"},{\"attributes\":{\"bottom_units\":\"screen\",\"fill_alpha\":0.5,\"fill_color\":\"lightgrey\",\"left_units\":\"screen\",\"level\":\"overlay\",\"line_alpha\":1.0,\"line_color\":\"black\",\"line_dash\":[4,4],\"line_width\":2,\"render_mode\":\"css\",\"right_units\":\"screen\",\"top_units\":\"screen\"},\"id\":\"7484\",\"type\":\"BoxAnnotation\"},{\"attributes\":{\"active_drag\":\"auto\",\"active_inspect\":\"auto\",\"active_multi\":null,\"active_scroll\":\"auto\",\"active_tap\":\"auto\",\"tools\":[{\"id\":\"7478\"},{\"id\":\"7479\"},{\"id\":\"7480\"},{\"id\":\"7481\"},{\"id\":\"7482\"},{\"id\":\"7483\"}]},\"id\":\"7485\",\"type\":\"Toolbar\"},{\"attributes\":{\"source\":{\"id\":\"7554\"}},\"id\":\"7558\",\"type\":\"CDSView\"},{\"attributes\":{\"below\":[{\"id\":\"7532\"}],\"center\":[{\"id\":\"7535\"},{\"id\":\"7539\"},{\"id\":\"7565\"}],\"left\":[{\"id\":\"7536\"}],\"plot_height\":300,\"plot_width\":300,\"renderers\":[{\"id\":\"7557\"},{\"id\":\"7570\"}],\"title\":{\"id\":\"7522\"},\"toolbar\":{\"id\":\"7547\"},\"toolbar_location\":null,\"x_range\":{\"id\":\"7524\"},\"x_scale\":{\"id\":\"7528\"},\"y_range\":{\"id\":\"7526\"},\"y_scale\":{\"id\":\"7530\"}},\"id\":\"7521\",\"subtype\":\"Figure\",\"type\":\"Plot\"},{\"attributes\":{},\"id\":\"7886\",\"type\":\"UnionRenderers\"},{\"attributes\":{\"source\":{\"id\":\"7505\"}},\"id\":\"7509\",\"type\":\"CDSView\"},{\"attributes\":{\"axis\":{\"id\":\"7470\"},\"ticker\":null},\"id\":\"7473\",\"type\":\"Grid\"},{\"attributes\":{},\"id\":\"7471\",\"type\":\"BasicTicker\"},{\"attributes\":{},\"id\":\"7483\",\"type\":\"HelpTool\"},{\"attributes\":{\"line_alpha\":0.1,\"x\":{\"field\":\"x\"},\"y\":{\"field\":\"y\"}},\"id\":\"7507\",\"type\":\"Line\"},{\"attributes\":{\"line_color\":\"red\",\"x\":{\"field\":\"x\"},\"y\":{\"field\":\"y\"}},\"id\":\"7555\",\"type\":\"Line\"},{\"attributes\":{},\"id\":\"7464\",\"type\":\"DataRange1d\"},{\"attributes\":{},\"id\":\"7887\",\"type\":\"Selection\"},{\"attributes\":{\"text\":\"Datos normalizados\"},\"id\":\"7522\",\"type\":\"Title\"},{\"attributes\":{\"source\":{\"id\":\"7567\"}},\"id\":\"7571\",\"type\":\"CDSView\"},{\"attributes\":{},\"id\":\"7468\",\"type\":\"LinearScale\"},{\"attributes\":{\"data_source\":{\"id\":\"7567\"},\"glyph\":{\"id\":\"7568\"},\"hover_glyph\":null,\"muted_glyph\":null,\"nonselection_glyph\":{\"id\":\"7569\"},\"selection_glyph\":null,\"view\":{\"id\":\"7571\"}},\"id\":\"7570\",\"type\":\"GlyphRenderer\"},{\"attributes\":{\"text\":\"Datos normalizados\"},\"id\":\"7460\",\"type\":\"Title\"},{\"attributes\":{},\"id\":\"7577\",\"type\":\"UnionRenderers\"},{\"attributes\":{\"label\":{\"value\":\"Error entrenamiento\"},\"renderers\":[{\"id\":\"7570\"}]},\"id\":\"7580\",\"type\":\"LegendItem\"},{\"attributes\":{},\"id\":\"7516\",\"type\":\"Selection\"},{\"attributes\":{},\"id\":\"7578\",\"type\":\"Selection\"},{\"attributes\":{},\"id\":\"7530\",\"type\":\"LinearScale\"},{\"attributes\":{\"label\":{\"value\":\"Error entrenamiento\"},\"renderers\":[{\"id\":\"7508\"}]},\"id\":\"7518\",\"type\":\"LegendItem\"},{\"attributes\":{\"axis_label\":\"Epoch\",\"formatter\":{\"id\":\"7500\"},\"ticker\":{\"id\":\"7471\"}},\"id\":\"7470\",\"type\":\"LinearAxis\"},{\"attributes\":{},\"id\":\"7892\",\"type\":\"Selection\"},{\"attributes\":{},\"id\":\"7482\",\"type\":\"ResetTool\"},{\"attributes\":{\"line_alpha\":0.1,\"x\":{\"field\":\"x\"},\"y\":{\"field\":\"y\"}},\"id\":\"7569\",\"type\":\"Line\"},{\"attributes\":{},\"id\":\"7515\",\"type\":\"UnionRenderers\"},{\"attributes\":{\"data_source\":{\"id\":\"7554\"},\"glyph\":{\"id\":\"7555\"},\"hover_glyph\":null,\"muted_glyph\":null,\"nonselection_glyph\":{\"id\":\"7556\"},\"selection_glyph\":null,\"view\":{\"id\":\"7558\"}},\"id\":\"7557\",\"type\":\"GlyphRenderer\"},{\"attributes\":{},\"id\":\"7524\",\"type\":\"DataRange1d\"},{\"attributes\":{},\"id\":\"7560\",\"type\":\"BasicTickFormatter\"}],\"root_ids\":[\"7583\"]},\"title\":\"Bokeh Application\",\"version\":\"2.0.1\"}};\n",
       "  var render_items = [{\"docid\":\"167bac5d-9351-41d8-b856-3e12f3812f23\",\"root_ids\":[\"7583\"],\"roots\":{\"7583\":\"10518140-5bf5-40e6-b4b9-c341a4176762\"}}];\n",
       "  root.Bokeh.embed.embed_items_notebook(docs_json, render_items);\n",
       "\n",
       "  }\n",
       "  if (root.Bokeh !== undefined) {\n",
       "    embed_document(root);\n",
       "  } else {\n",
       "    var attempts = 0;\n",
       "    var timer = setInterval(function(root) {\n",
       "      if (root.Bokeh !== undefined) {\n",
       "        clearInterval(timer);\n",
       "        embed_document(root);\n",
       "      } else {\n",
       "        attempts++;\n",
       "        if (attempts > 100) {\n",
       "          clearInterval(timer);\n",
       "          console.log(\"Bokeh: ERROR: Unable to run BokehJS code because BokehJS library is missing\");\n",
       "        }\n",
       "      }\n",
       "    }, 10, root)\n",
       "  }\n",
       "})(window);"
      ],
      "application/vnd.bokehjs_exec.v0+json": ""
     },
     "metadata": {
      "application/vnd.bokehjs_exec.v0+json": {
       "id": "7583"
      }
     },
     "output_type": "display_data"
    }
   ],
   "source": [
    "bpl.show(bly.row([p0,p1]))"
   ]
  },
  {
   "cell_type": "code",
   "execution_count": 212,
   "metadata": {},
   "outputs": [
    {
     "name": "stdout",
     "output_type": "stream",
     "text": [
      "43/43 - 0s - loss: 65166135296.0000 - mae: 31755.8594 - mse: 65166135296.0000\n",
      "Testing set Mean Abs Error: 31755.86 Scope\n"
     ]
    }
   ],
   "source": [
    "loss, mae, mse = model.evaluate(normed_test_data, test_labels, verbose=2)\n",
    "print(\"Testing set Mean Abs Error: {:5.2f} Scope\".format(mae))"
   ]
  },
  {
   "cell_type": "code",
   "execution_count": 213,
   "metadata": {},
   "outputs": [],
   "source": [
    "test_predictions = model.predict(testinp).flatten()"
   ]
  },
  {
   "cell_type": "code",
   "execution_count": 214,
   "metadata": {},
   "outputs": [],
   "source": [
    "pc = bpl.figure(plot_width=400, plot_height=400, title=\"Datos normalizados\", toolbar_location=None,x_axis_type=\"log\",y_axis_type=\"log\")"
   ]
  },
  {
   "cell_type": "code",
   "execution_count": 215,
   "metadata": {},
   "outputs": [
    {
     "data": {
      "text/html": [
       "<div style=\"display: table;\"><div style=\"display: table-row;\"><div style=\"display: table-cell;\"><b title=\"bokeh.models.renderers.GlyphRenderer\">GlyphRenderer</b>(</div><div style=\"display: table-cell;\">id&nbsp;=&nbsp;'8055', <span id=\"8058\" style=\"cursor: pointer;\">&hellip;)</span></div></div><div class=\"8057\" style=\"display: none;\"><div style=\"display: table-cell;\"></div><div style=\"display: table-cell;\">data_source&nbsp;=&nbsp;ColumnDataSource(id='8052', ...),</div></div><div class=\"8057\" style=\"display: none;\"><div style=\"display: table-cell;\"></div><div style=\"display: table-cell;\">glyph&nbsp;=&nbsp;Circle(id='8053', ...),</div></div><div class=\"8057\" style=\"display: none;\"><div style=\"display: table-cell;\"></div><div style=\"display: table-cell;\">hover_glyph&nbsp;=&nbsp;None,</div></div><div class=\"8057\" style=\"display: none;\"><div style=\"display: table-cell;\"></div><div style=\"display: table-cell;\">js_event_callbacks&nbsp;=&nbsp;{},</div></div><div class=\"8057\" style=\"display: none;\"><div style=\"display: table-cell;\"></div><div style=\"display: table-cell;\">js_property_callbacks&nbsp;=&nbsp;{},</div></div><div class=\"8057\" style=\"display: none;\"><div style=\"display: table-cell;\"></div><div style=\"display: table-cell;\">level&nbsp;=&nbsp;'glyph',</div></div><div class=\"8057\" style=\"display: none;\"><div style=\"display: table-cell;\"></div><div style=\"display: table-cell;\">muted&nbsp;=&nbsp;False,</div></div><div class=\"8057\" style=\"display: none;\"><div style=\"display: table-cell;\"></div><div style=\"display: table-cell;\">muted_glyph&nbsp;=&nbsp;None,</div></div><div class=\"8057\" style=\"display: none;\"><div style=\"display: table-cell;\"></div><div style=\"display: table-cell;\">name&nbsp;=&nbsp;None,</div></div><div class=\"8057\" style=\"display: none;\"><div style=\"display: table-cell;\"></div><div style=\"display: table-cell;\">nonselection_glyph&nbsp;=&nbsp;Circle(id='8054', ...),</div></div><div class=\"8057\" style=\"display: none;\"><div style=\"display: table-cell;\"></div><div style=\"display: table-cell;\">selection_glyph&nbsp;=&nbsp;None,</div></div><div class=\"8057\" style=\"display: none;\"><div style=\"display: table-cell;\"></div><div style=\"display: table-cell;\">subscribed_events&nbsp;=&nbsp;[],</div></div><div class=\"8057\" style=\"display: none;\"><div style=\"display: table-cell;\"></div><div style=\"display: table-cell;\">tags&nbsp;=&nbsp;[],</div></div><div class=\"8057\" style=\"display: none;\"><div style=\"display: table-cell;\"></div><div style=\"display: table-cell;\">view&nbsp;=&nbsp;CDSView(id='8056', ...),</div></div><div class=\"8057\" style=\"display: none;\"><div style=\"display: table-cell;\"></div><div style=\"display: table-cell;\">visible&nbsp;=&nbsp;True,</div></div><div class=\"8057\" style=\"display: none;\"><div style=\"display: table-cell;\"></div><div style=\"display: table-cell;\">x_range_name&nbsp;=&nbsp;'default',</div></div><div class=\"8057\" style=\"display: none;\"><div style=\"display: table-cell;\"></div><div style=\"display: table-cell;\">y_range_name&nbsp;=&nbsp;'default')</div></div></div>\n",
       "<script>\n",
       "(function() {\n",
       "  var expanded = false;\n",
       "  var ellipsis = document.getElementById(\"8058\");\n",
       "  ellipsis.addEventListener(\"click\", function() {\n",
       "    var rows = document.getElementsByClassName(\"8057\");\n",
       "    for (var i = 0; i < rows.length; i++) {\n",
       "      var el = rows[i];\n",
       "      el.style.display = expanded ? \"none\" : \"table-row\";\n",
       "    }\n",
       "    ellipsis.innerHTML = expanded ? \"&hellip;)\" : \"&lsaquo;&lsaquo;&lsaquo;\";\n",
       "    expanded = !expanded;\n",
       "  });\n",
       "})();\n",
       "</script>\n"
      ],
      "text/plain": [
       "GlyphRenderer(id='8055', ...)"
      ]
     },
     "execution_count": 215,
     "metadata": {},
     "output_type": "execute_result"
    }
   ],
   "source": [
    "pc.line(x=[1,10000000],y=[1,10000000],line_width=0.5,line_dash=\"dashed\", color=\"black\")\n",
    "pc.circle(x=testlab,y=test_predictions,color=\"red\")"
   ]
  },
  {
   "cell_type": "code",
   "execution_count": 216,
   "metadata": {},
   "outputs": [],
   "source": [
    "pc.xaxis.axis_label = 'Valores reales [MPG]'\n",
    "pc.yaxis.axis_label = 'Predicción [MPG]'"
   ]
  },
  {
   "cell_type": "code",
   "execution_count": 217,
   "metadata": {},
   "outputs": [
    {
     "data": {
      "text/html": [
       "\n",
       "\n",
       "\n",
       "\n",
       "\n",
       "\n",
       "  <div class=\"bk-root\" id=\"1d0e40e0-83e4-48bf-b8e4-2045e4bd40f4\" data-root-id=\"8014\"></div>\n"
      ]
     },
     "metadata": {},
     "output_type": "display_data"
    },
    {
     "data": {
      "application/javascript": [
       "(function(root) {\n",
       "  function embed_document(root) {\n",
       "    \n",
       "  var docs_json = {\"b0100dc2-60dc-4357-8410-3c8be0ea7472\":{\"roots\":{\"references\":[{\"attributes\":{\"below\":[{\"id\":\"8025\"}],\"center\":[{\"id\":\"8028\"},{\"id\":\"8032\"}],\"left\":[{\"id\":\"8029\"}],\"plot_height\":400,\"plot_width\":400,\"renderers\":[{\"id\":\"8050\"},{\"id\":\"8055\"}],\"title\":{\"id\":\"8015\"},\"toolbar\":{\"id\":\"8040\"},\"toolbar_location\":null,\"x_range\":{\"id\":\"8017\"},\"x_scale\":{\"id\":\"8021\"},\"y_range\":{\"id\":\"8019\"},\"y_scale\":{\"id\":\"8023\"}},\"id\":\"8014\",\"subtype\":\"Figure\",\"type\":\"Plot\"},{\"attributes\":{\"line_dash\":[6],\"line_width\":0.5,\"x\":{\"field\":\"x\"},\"y\":{\"field\":\"y\"}},\"id\":\"8048\",\"type\":\"Line\"},{\"attributes\":{},\"id\":\"8034\",\"type\":\"WheelZoomTool\"},{\"attributes\":{\"num_minor_ticks\":10},\"id\":\"8030\",\"type\":\"LogTicker\"},{\"attributes\":{\"axis\":{\"id\":\"8029\"},\"dimension\":1,\"ticker\":null},\"id\":\"8032\",\"type\":\"Grid\"},{\"attributes\":{\"ticker\":null},\"id\":\"8370\",\"type\":\"LogTickFormatter\"},{\"attributes\":{\"data_source\":{\"id\":\"8052\"},\"glyph\":{\"id\":\"8053\"},\"hover_glyph\":null,\"muted_glyph\":null,\"nonselection_glyph\":{\"id\":\"8054\"},\"selection_glyph\":null,\"view\":{\"id\":\"8056\"}},\"id\":\"8055\",\"type\":\"GlyphRenderer\"},{\"attributes\":{\"source\":{\"id\":\"8052\"}},\"id\":\"8056\",\"type\":\"CDSView\"},{\"attributes\":{\"data\":{\"x\":[1,10000000],\"y\":[1,10000000]},\"selected\":{\"id\":\"8375\"},\"selection_policy\":{\"id\":\"8374\"}},\"id\":\"8047\",\"type\":\"ColumnDataSource\"},{\"attributes\":{},\"id\":\"8036\",\"type\":\"SaveTool\"},{\"attributes\":{},\"id\":\"8038\",\"type\":\"HelpTool\"},{\"attributes\":{},\"id\":\"8033\",\"type\":\"PanTool\"},{\"attributes\":{},\"id\":\"8375\",\"type\":\"Selection\"},{\"attributes\":{\"line_alpha\":0.1,\"line_dash\":[6],\"line_width\":0.5,\"x\":{\"field\":\"x\"},\"y\":{\"field\":\"y\"}},\"id\":\"8049\",\"type\":\"Line\"},{\"attributes\":{},\"id\":\"8037\",\"type\":\"ResetTool\"},{\"attributes\":{},\"id\":\"8374\",\"type\":\"UnionRenderers\"},{\"attributes\":{},\"id\":\"8377\",\"type\":\"Selection\"},{\"attributes\":{\"text\":\"Datos normalizados\"},\"id\":\"8015\",\"type\":\"Title\"},{\"attributes\":{},\"id\":\"8017\",\"type\":\"DataRange1d\"},{\"attributes\":{},\"id\":\"8021\",\"type\":\"LogScale\"},{\"attributes\":{\"source\":{\"id\":\"8047\"}},\"id\":\"8051\",\"type\":\"CDSView\"},{\"attributes\":{},\"id\":\"8376\",\"type\":\"UnionRenderers\"},{\"attributes\":{\"bottom_units\":\"screen\",\"fill_alpha\":0.5,\"fill_color\":\"lightgrey\",\"left_units\":\"screen\",\"level\":\"overlay\",\"line_alpha\":1.0,\"line_color\":\"black\",\"line_dash\":[4,4],\"line_width\":2,\"render_mode\":\"css\",\"right_units\":\"screen\",\"top_units\":\"screen\"},\"id\":\"8039\",\"type\":\"BoxAnnotation\"},{\"attributes\":{\"axis_label\":\"Predicci\\u00f3n [MPG]\",\"formatter\":{\"id\":\"8370\"},\"ticker\":{\"id\":\"8030\"}},\"id\":\"8029\",\"type\":\"LogAxis\"},{\"attributes\":{\"fill_color\":{\"value\":\"red\"},\"line_color\":{\"value\":\"red\"},\"x\":{\"field\":\"x\"},\"y\":{\"field\":\"y\"}},\"id\":\"8053\",\"type\":\"Circle\"},{\"attributes\":{\"num_minor_ticks\":10},\"id\":\"8026\",\"type\":\"LogTicker\"},{\"attributes\":{\"active_drag\":\"auto\",\"active_inspect\":\"auto\",\"active_multi\":null,\"active_scroll\":\"auto\",\"active_tap\":\"auto\",\"tools\":[{\"id\":\"8033\"},{\"id\":\"8034\"},{\"id\":\"8035\"},{\"id\":\"8036\"},{\"id\":\"8037\"},{\"id\":\"8038\"}]},\"id\":\"8040\",\"type\":\"Toolbar\"},{\"attributes\":{\"fill_alpha\":{\"value\":0.1},\"fill_color\":{\"value\":\"red\"},\"line_alpha\":{\"value\":0.1},\"line_color\":{\"value\":\"red\"},\"x\":{\"field\":\"x\"},\"y\":{\"field\":\"y\"}},\"id\":\"8054\",\"type\":\"Circle\"},{\"attributes\":{\"axis_label\":\"Valores reales [MPG]\",\"formatter\":{\"id\":\"8372\"},\"ticker\":{\"id\":\"8026\"}},\"id\":\"8025\",\"type\":\"LogAxis\"},{\"attributes\":{\"axis\":{\"id\":\"8025\"},\"ticker\":null},\"id\":\"8028\",\"type\":\"Grid\"},{\"attributes\":{},\"id\":\"8023\",\"type\":\"LogScale\"},{\"attributes\":{\"data\":{\"x\":[3660,32101,16450,247793,49074,16578,85436,49957,39735,57373,15411,25429,21066,40884,36131,45087,22294,76921,42175,19167,12074,112758,68915,23879,63574,9226,77071,49892,14658,14346,14214,76065,10578,98333,15061,37449,11336,38013,6652286,30244,18137,68448,30773,13254,26591,17654,15645,75508,60740,34953,20286,29421,22261,37526,9156,10919,24746,26283,27673,32560,90270,18481,50616,25747,106985,35265,7432,88999,117015,70441,8843,29434,48312,18067,41462,52817,24132,32621,76826,17146,103263,11693,9042,13357,8746,195344,71926,67071,45455,20130,44901,34165,19535,149004,13123,130249,14872,21558,13184,75795,67619,29109,85921,49493,15463,36498,27788,11522,33578,12125,10017,27404,26877,190943,95088,69924,29864,213860,9884,22969,25475,97699,140043,57956,117993,43976,94153,60397,167803,59601,64692,27430,13055,25773,86297,33298,80112,118068,21785,29345,20499,172834,30727,57439,35703,33113,168726,20621,26012,113063,62144,40981,27257,97043,28678,46045,67042,10098,31345,154251,28419,15503,40771,45694,29218,23109,37291,18008,18205,13763,35668,28374,36679,36634,35790,15642,14282,25663,10893,29227,41245,16230,20643,19031,19186,80750,74136,25780,8955,23420,15779,42653,11012,19055,11293,17367,28313,15708,102306,10930,4025,11910,12666,6269,37981,16357,66919,98991,4496,6978,32455,10452,17435,3504,14196,26693,8719,7037,4880,24221,25446,6121,22394,8304,18019,9694,7298,6967,9570,25691,5871,16550,7611,4664,31155,4032,3815,13463,6757,25868,22898,8584,4785,122121,20340,14712,11185,6205,10879,25994,5144,4349,4112,3678,3192,6714,3493,5411,704,4357,3345,1152,551,3014,30022,2757,4924,4514,2497,2282,4275,3294,4496,16062,3455,3927,5306,3789,2213,4880,1567,9810,8273,10585,4487,4664,3795,881,6629,858,3732,4039,12975,10042,750,3381,798,4635,5751,6200,6628,2946,5573,5507,4025,3739,10402,48626,11426,4408,5877,18491,9360,5142,8332,3757,77728,32833,43075,13157,7367,4946,17749,4714,5557,5160,13198,9319,29568,5997,7742,5372,8995,3555,53814,5862,645351,5619,3595,9376,5409,607397,48883,16219,9301,10972,14445,11219,7418,8590,199497,5610,4150,109252,5375,9498,38369,10783,3578,4694,2963,3032,3006,6763,12420,6749,4173,15836,8171,48956,5922,4243,34108,5893,4645,9296,24008,41923,13037,20456,5729,4003,6794,51085,6600,16663,4541,5230,31886,37772,12151,10073,21099,25447,107720,505917,21681,71873,31219,21687,133076,19413,25280,226520,25898,32179,31419,22199,47752,44907,21250,24274,23575,85905,23628,28586,11116,8370,7752,6146,19429,12122,15858,9271,19462,7691,7293,12112,9478,2066,5946812,1621,3840,3450,6364,6455,77436,3732,5685,4478,2827,2414,2535,4299,4180,2605,2477,8396,1923,3324,6127,4505,3583,4003,27718,6004,3880,2892,3319,3274,2896,5231,2279,58025,5848,4551,2285,2997,4408,3407,3150,3618,3023,2480,5085,6039,2225,3225,2389,2060,2376,2079,7280,2570,1756,2264,2892,4142,4349,1468,2637,1003,1462,2784,5752,1554,1260,1462,2196,2556,2511,2304,1870,1462,2645,4551,1725,1253,2273,3182,1895,20680,1977,4391,3225,2738,2601,6165,2912,2335,1100,1117,2761,1751,2294,27236,8167,3834,1595,1103,1967,4837,2507,4816,4391,5978,12047,3090,3284,2477,3595,1825,628,3887,1355,1684,2282,2670,2033,2652,3455,5472,3566,7737,1588,5049,1322,3054,2470,1362,2667,2273,2009,2803,4734,111219,1221,13506,1440,7232,1948,3304,2110,1068,1714,6575,4227,1974,1801,1232,1830,2210,1714,12054,3019,1324,2715,5596,3642,5851,1730,2587,2255,2152,1102,9145,7627,1531,889,10471,4902,1902,17597,59103,3240,133,420,1510,8108,2288,1064,403,1013,234,1121,553,785,2385,901,2457,4112,408,2663,912,1031,2460,2022,2144,1041,12998,1456,2531,1396,958,2014,1943,15505,5453,538,441,1372,2917,518,2408,1877,4991,3893,2704,1240,1264,1862,1543,1582,1974,3235,1643,2216,1243,1016,1514,2193,2921,969,943,929,2167,5400,2341,1129,2796,1121,2282,2049,1847,926,1105,1299,1251,1349,1845,35971,2477,1702,35516,470,11197,105831,2501,591,2411,3934,901,5273,599,5878,2022,1650,1915,1684,2006,73045,2819,1887,11850,386,649,182689,5194,356,17356,13855,12537,8151,1541,7272,8857,3001,9244,3279,7862,11279,5177,3583,8048,6660,7072,13770,12762,18382,2447,7554,6538,5475,8288,6764,6114,4391,8490,4913,166076,5149,18683,6892,6480,7090,7969,8388,5513,9011,7674,46414,12251,8180,2984,6834,7822,6010,47102,7406,13114,25698,11340,16218,3555,3113,20011,22666,8410,5268,6632,3201,15540,6430,8098,7928,35212,5661,7428,25339,6742,6950,33622,18551,5465,6858,3499,4046,10421,10655,8091,5943,3023,6068,3397,4399,3145,4075,2745,6102,6930,3821,2313,2313,4635,6042,4460,4434,5337,2696,19716,3757,3968,4382,4816,5487,16784,16444,2656,6328,2207,6632,4541,3340,1982,3439,4391,17334,6518,3085,37475,6531,2933,10621,4399,8813,3532,4315,29289,2984,6227,34386,3058,4090,2170,2946,1571,3827,1977,1682,2784,1408,6674,2689,1541,3770,9782,2884,23186,14431,2470,1714,8041,4664,4211,5789,145123,4532,14729,6970,6361,9071,10299,8204,4075,2723,1497,1220,1664,2041,1245,689,2811,6218,1127,6166,1036,2963,1483,651,1124,5577,1318,2301,301,6147,2504,1446,5318,2929,1860,3014,42168,23757,964,2030,6966,17213,14862,116734,46070,29513,35165,34442,75108,27353,14416,46526,21655,33342,21917,10777,18112,12858,9737,11234,21534,268019,22982,9429,27265,12216,15393,19082,24468,14459,71469,16815,19447,17444,47981,8144,47920,14829,18721,9448,18780,82922,23618,14929,16948,47706,14107,25494,23280,12586,40763,17834,12881,23128,26868,13153,19526,18018,15379,21301,14178,15013,315778,8708,13599,18555,25040,10522,10675,20442,16639,12833,26499,17742,21614,8142,20253,9348,9394,25525,21825,36890,18487,16157,10769,7680,12022,38665,11721,13421,9048,15515,16007,45314,82646,14277,12813,27837,9112,14190,17174,8546,7827,14528,7518,13854,23152,8918,7424,106697,24040,18788,15065,19798,71220,13327,15177,12838,5787,16757,10339,9588,7754,55256,12046,10688,19329,11764,19736,10585,13107,54597,10794,11712,15914,12062,25495,10048,11835,3789,23272,8697,8752,8347,8441,16456,27995,27343,5014,7946,34531,32901,40059,14710,21740,37490,13504,12634,6236,10445,8047,14266,11097,58825,13228,20815,12823,18908,12155,38103,53470,5209,14471,9074,12183,18897,15625,8044,4075,4010,5841,7582,46833,9238,12728,8047,12644,11036,6067,9443,11547,3961,10137,5215,3360,5276,5332,9834,24727,8479,8951,8943,4267,6538,17649,13132,9800,10939,12041,12045,10741,6578,10042,12747,10363,16419,5673,11186,10009,38099,9930,8547,10642,9731,10253,5651,7055,3294,5594,4560,6005,5178,3045,3708,4127,6882,3907,3076,2761,4645,3324,1990,5224,5488,3907,2408,6948,8150,8857,6156,6451,11696,13734,9251,9184,4090,7750,7536,5959,12269,11813,7127,6216,5674,2867,4754,13757,5773,3402,4127,8378,5657,4764,2950,5952,8742,6059,3150,6277,2036,2497,29208,1661,5992,1860,6685,4514,3578,6104,3543,13680,8069,3482,3996,5779,4460,4588,5434,9458,8381,8133,8688,38632,6689,9305,5290,6532,15624,5146,10712,3887,3690,7139,10866,11545,7053,4523,14155,12383,14479,8411,16250,20070,46999,9711,9909,11438,7613,142716,7217,11886,19673,9497,10107,11511,5926,6847,8546,24438,36802,21330,9766,10487,3678,14790,45479,13449,7840,8227,8821,1382165,4795,13777,12178,6187,12874,6966,10934,6276,34665,11132,55243,50909,16990,41680,18569,8526,28738,4991,18178,22054,104258,55852,30009,68408,164167,60282,87796,391337,726900,420053,518835,97617,264968,60844,58260,87397,105673,457225,184070,3324,2803,3827,4112,1646,104688,6814,35698,5749,92547,1628,5345,8713,6654,1086,876,2207,11443,64467,2282,1240,1933,16074,479,682,1036,947,413,649,335,1126,587,320,143027,700,564,426,710,955,2421,2025,2450,3708,7386,2044,67086,2072877,5806,5903,5236,7041,8107,13865,8840,12374,16487,2696,2447,6436,2199,2273,5628,11536,1046,73654,1396,132556,14785,15991,11293,9659,12333],\"y\":{\"__ndarray__\":\"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\",\"dtype\":\"float32\",\"shape\":[1367]}},\"selected\":{\"id\":\"8377\"},\"selection_policy\":{\"id\":\"8376\"}},\"id\":\"8052\",\"type\":\"ColumnDataSource\"},{\"attributes\":{\"overlay\":{\"id\":\"8039\"}},\"id\":\"8035\",\"type\":\"BoxZoomTool\"},{\"attributes\":{\"data_source\":{\"id\":\"8047\"},\"glyph\":{\"id\":\"8048\"},\"hover_glyph\":null,\"muted_glyph\":null,\"nonselection_glyph\":{\"id\":\"8049\"},\"selection_glyph\":null,\"view\":{\"id\":\"8051\"}},\"id\":\"8050\",\"type\":\"GlyphRenderer\"},{\"attributes\":{\"ticker\":null},\"id\":\"8372\",\"type\":\"LogTickFormatter\"},{\"attributes\":{},\"id\":\"8019\",\"type\":\"DataRange1d\"}],\"root_ids\":[\"8014\"]},\"title\":\"Bokeh Application\",\"version\":\"2.0.1\"}};\n",
       "  var render_items = [{\"docid\":\"b0100dc2-60dc-4357-8410-3c8be0ea7472\",\"root_ids\":[\"8014\"],\"roots\":{\"8014\":\"1d0e40e0-83e4-48bf-b8e4-2045e4bd40f4\"}}];\n",
       "  root.Bokeh.embed.embed_items_notebook(docs_json, render_items);\n",
       "\n",
       "  }\n",
       "  if (root.Bokeh !== undefined) {\n",
       "    embed_document(root);\n",
       "  } else {\n",
       "    var attempts = 0;\n",
       "    var timer = setInterval(function(root) {\n",
       "      if (root.Bokeh !== undefined) {\n",
       "        clearInterval(timer);\n",
       "        embed_document(root);\n",
       "      } else {\n",
       "        attempts++;\n",
       "        if (attempts > 100) {\n",
       "          clearInterval(timer);\n",
       "          console.log(\"Bokeh: ERROR: Unable to run BokehJS code because BokehJS library is missing\");\n",
       "        }\n",
       "      }\n",
       "    }, 10, root)\n",
       "  }\n",
       "})(window);"
      ],
      "application/vnd.bokehjs_exec.v0+json": ""
     },
     "metadata": {
      "application/vnd.bokehjs_exec.v0+json": {
       "id": "8014"
      }
     },
     "output_type": "display_data"
    }
   ],
   "source": [
    "bpl.show(pc)"
   ]
  },
  {
   "cell_type": "code",
   "execution_count": 227,
   "metadata": {},
   "outputs": [],
   "source": [
    "error = test_predictions - test_labels"
   ]
  },
  {
   "cell_type": "code",
   "execution_count": 238,
   "metadata": {},
   "outputs": [],
   "source": [
    "histogram = np.histogram(error, bins=300)"
   ]
  },
  {
   "cell_type": "code",
   "execution_count": 239,
   "metadata": {},
   "outputs": [],
   "source": [
    "ph = bpl.figure(plot_width=300, plot_height=300, title=\"Datos normalizados\", toolbar_location=None)"
   ]
  },
  {
   "cell_type": "code",
   "execution_count": 240,
   "metadata": {},
   "outputs": [
    {
     "data": {
      "text/html": [
       "<div style=\"display: table;\"><div style=\"display: table-row;\"><div style=\"display: table-cell;\"><b title=\"bokeh.models.renderers.GlyphRenderer\">GlyphRenderer</b>(</div><div style=\"display: table-cell;\">id&nbsp;=&nbsp;'9747', <span id=\"9750\" style=\"cursor: pointer;\">&hellip;)</span></div></div><div class=\"9749\" style=\"display: none;\"><div style=\"display: table-cell;\"></div><div style=\"display: table-cell;\">data_source&nbsp;=&nbsp;ColumnDataSource(id='9744', ...),</div></div><div class=\"9749\" style=\"display: none;\"><div style=\"display: table-cell;\"></div><div style=\"display: table-cell;\">glyph&nbsp;=&nbsp;VBar(id='9745', ...),</div></div><div class=\"9749\" style=\"display: none;\"><div style=\"display: table-cell;\"></div><div style=\"display: table-cell;\">hover_glyph&nbsp;=&nbsp;None,</div></div><div class=\"9749\" style=\"display: none;\"><div style=\"display: table-cell;\"></div><div style=\"display: table-cell;\">js_event_callbacks&nbsp;=&nbsp;{},</div></div><div class=\"9749\" style=\"display: none;\"><div style=\"display: table-cell;\"></div><div style=\"display: table-cell;\">js_property_callbacks&nbsp;=&nbsp;{},</div></div><div class=\"9749\" style=\"display: none;\"><div style=\"display: table-cell;\"></div><div style=\"display: table-cell;\">level&nbsp;=&nbsp;'glyph',</div></div><div class=\"9749\" style=\"display: none;\"><div style=\"display: table-cell;\"></div><div style=\"display: table-cell;\">muted&nbsp;=&nbsp;False,</div></div><div class=\"9749\" style=\"display: none;\"><div style=\"display: table-cell;\"></div><div style=\"display: table-cell;\">muted_glyph&nbsp;=&nbsp;None,</div></div><div class=\"9749\" style=\"display: none;\"><div style=\"display: table-cell;\"></div><div style=\"display: table-cell;\">name&nbsp;=&nbsp;None,</div></div><div class=\"9749\" style=\"display: none;\"><div style=\"display: table-cell;\"></div><div style=\"display: table-cell;\">nonselection_glyph&nbsp;=&nbsp;VBar(id='9746', ...),</div></div><div class=\"9749\" style=\"display: none;\"><div style=\"display: table-cell;\"></div><div style=\"display: table-cell;\">selection_glyph&nbsp;=&nbsp;None,</div></div><div class=\"9749\" style=\"display: none;\"><div style=\"display: table-cell;\"></div><div style=\"display: table-cell;\">subscribed_events&nbsp;=&nbsp;[],</div></div><div class=\"9749\" style=\"display: none;\"><div style=\"display: table-cell;\"></div><div style=\"display: table-cell;\">tags&nbsp;=&nbsp;[],</div></div><div class=\"9749\" style=\"display: none;\"><div style=\"display: table-cell;\"></div><div style=\"display: table-cell;\">view&nbsp;=&nbsp;CDSView(id='9748', ...),</div></div><div class=\"9749\" style=\"display: none;\"><div style=\"display: table-cell;\"></div><div style=\"display: table-cell;\">visible&nbsp;=&nbsp;True,</div></div><div class=\"9749\" style=\"display: none;\"><div style=\"display: table-cell;\"></div><div style=\"display: table-cell;\">x_range_name&nbsp;=&nbsp;'default',</div></div><div class=\"9749\" style=\"display: none;\"><div style=\"display: table-cell;\"></div><div style=\"display: table-cell;\">y_range_name&nbsp;=&nbsp;'default')</div></div></div>\n",
       "<script>\n",
       "(function() {\n",
       "  var expanded = false;\n",
       "  var ellipsis = document.getElementById(\"9750\");\n",
       "  ellipsis.addEventListener(\"click\", function() {\n",
       "    var rows = document.getElementsByClassName(\"9749\");\n",
       "    for (var i = 0; i < rows.length; i++) {\n",
       "      var el = rows[i];\n",
       "      el.style.display = expanded ? \"none\" : \"table-row\";\n",
       "    }\n",
       "    ellipsis.innerHTML = expanded ? \"&hellip;)\" : \"&lsaquo;&lsaquo;&lsaquo;\";\n",
       "    expanded = !expanded;\n",
       "  });\n",
       "})();\n",
       "</script>\n"
      ],
      "text/plain": [
       "GlyphRenderer(id='9747', ...)"
      ]
     },
     "execution_count": 240,
     "metadata": {},
     "output_type": "execute_result"
    }
   ],
   "source": [
    "ph.vbar(x=histogram[1][:-1],top=histogram[0],width=(histogram[1][1]-histogram[1][0])*0.9,line_color=\"black\",fill_color=\"red\",fill_alpha=0.7)"
   ]
  },
  {
   "cell_type": "code",
   "execution_count": 241,
   "metadata": {},
   "outputs": [],
   "source": [
    "ph.xaxis.axis_label = 'Error en la predicción [MPG]'\n",
    "ph.yaxis.axis_label = 'Frecuencia'"
   ]
  },
  {
   "cell_type": "code",
   "execution_count": 242,
   "metadata": {},
   "outputs": [
    {
     "data": {
      "text/html": [
       "\n",
       "\n",
       "\n",
       "\n",
       "\n",
       "\n",
       "  <div class=\"bk-root\" id=\"82e2d490-ca7b-4cb4-a335-2241a946b026\" data-root-id=\"9711\"></div>\n"
      ]
     },
     "metadata": {},
     "output_type": "display_data"
    },
    {
     "data": {
      "application/javascript": [
       "(function(root) {\n",
       "  function embed_document(root) {\n",
       "    \n",
       "  var docs_json = {\"e7137fbc-a482-4a40-a9ee-0372ba0c70cf\":{\"roots\":{\"references\":[{\"attributes\":{\"below\":[{\"id\":\"9722\"}],\"center\":[{\"id\":\"9725\"},{\"id\":\"9729\"}],\"left\":[{\"id\":\"9726\"}],\"plot_height\":300,\"plot_width\":300,\"renderers\":[{\"id\":\"9747\"}],\"title\":{\"id\":\"9712\"},\"toolbar\":{\"id\":\"9737\"},\"toolbar_location\":null,\"x_range\":{\"id\":\"9714\"},\"x_scale\":{\"id\":\"9718\"},\"y_range\":{\"id\":\"9716\"},\"y_scale\":{\"id\":\"9720\"}},\"id\":\"9711\",\"subtype\":\"Figure\",\"type\":\"Plot\"},{\"attributes\":{},\"id\":\"9735\",\"type\":\"HelpTool\"},{\"attributes\":{},\"id\":\"10096\",\"type\":\"BasicTickFormatter\"},{\"attributes\":{},\"id\":\"9727\",\"type\":\"BasicTicker\"},{\"attributes\":{\"axis\":{\"id\":\"9722\"},\"ticker\":null},\"id\":\"9725\",\"type\":\"Grid\"},{\"attributes\":{},\"id\":\"9734\",\"type\":\"ResetTool\"},{\"attributes\":{},\"id\":\"10098\",\"type\":\"BasicTickFormatter\"},{\"attributes\":{\"data\":{\"top\":[1,0,0,0,0,0,0,0,0,0,0,0,0,0,0,0,0,0,0,0,0,0,0,0,0,0,0,0,0,0,0,0,0,0,0,0,0,0,0,0,0,0,0,0,0,0,0,0,0,0,0,0,0,0,0,0,0,0,0,0,0,0,0,0,0,0,0,0,0,0,0,0,0,0,0,0,0,0,0,0,0,0,0,0,0,0,0,0,0,0,0,0,0,0,0,0,0,0,0,0,0,0,0,0,0,0,0,0,0,0,0,0,0,0,0,0,0,0,0,0,0,0,0,0,0,0,0,1,0,0,0,0,0,1,0,0,0,0,1,0,2,0,0,1,0,0,0,0,0,1,3,0,5,6,6,9,36,661,569,36,14,5,3,2,0,0,0,0,1,0,1,0,0,0,0,0,1,0,0,0,0,0,0,0,0,0,0,0,0,0,0,0,0,0,0,0,0,0,0,0,0,0,0,0,0,0,0,0,0,0,0,0,0,0,0,0,0,0,0,0,0,0,0,0,0,0,0,0,0,0,0,0,0,0,0,0,0,0,0,0,0,0,0,0,0,0,0,0,0,0,0,0,0,0,0,0,0,0,0,0,0,0,0,0,0,0,0,0,0,0,0,0,0,0,0,0,0,0,0,0,0,0,0,0,0,0,0,0,0,0,0,0,0,0,0,0,0,0,0,1],\"x\":{\"__ndarray__\":\"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\",\"dtype\":\"float64\",\"shape\":[300]}},\"selected\":{\"id\":\"10101\"},\"selection_policy\":{\"id\":\"10100\"}},\"id\":\"9744\",\"type\":\"ColumnDataSource\"},{\"attributes\":{},\"id\":\"9730\",\"type\":\"PanTool\"},{\"attributes\":{\"axis\":{\"id\":\"9726\"},\"dimension\":1,\"ticker\":null},\"id\":\"9729\",\"type\":\"Grid\"},{\"attributes\":{},\"id\":\"9733\",\"type\":\"SaveTool\"},{\"attributes\":{},\"id\":\"9731\",\"type\":\"WheelZoomTool\"},{\"attributes\":{},\"id\":\"9720\",\"type\":\"LinearScale\"},{\"attributes\":{},\"id\":\"9714\",\"type\":\"DataRange1d\"},{\"attributes\":{\"active_drag\":\"auto\",\"active_inspect\":\"auto\",\"active_multi\":null,\"active_scroll\":\"auto\",\"active_tap\":\"auto\",\"tools\":[{\"id\":\"9730\"},{\"id\":\"9731\"},{\"id\":\"9732\"},{\"id\":\"9733\"},{\"id\":\"9734\"},{\"id\":\"9735\"}]},\"id\":\"9737\",\"type\":\"Toolbar\"},{\"attributes\":{},\"id\":\"10100\",\"type\":\"UnionRenderers\"},{\"attributes\":{\"axis_label\":\"Frecuencia\",\"formatter\":{\"id\":\"10096\"},\"ticker\":{\"id\":\"9727\"}},\"id\":\"9726\",\"type\":\"LinearAxis\"},{\"attributes\":{\"fill_alpha\":{\"value\":0.1},\"fill_color\":{\"value\":\"red\"},\"line_alpha\":{\"value\":0.1},\"top\":{\"field\":\"top\"},\"width\":{\"value\":17081.428500000202},\"x\":{\"field\":\"x\"}},\"id\":\"9746\",\"type\":\"VBar\"},{\"attributes\":{\"overlay\":{\"id\":\"9736\"}},\"id\":\"9732\",\"type\":\"BoxZoomTool\"},{\"attributes\":{\"axis_label\":\"Error en la predicci\\u00f3n [MPG]\",\"formatter\":{\"id\":\"10098\"},\"ticker\":{\"id\":\"9723\"}},\"id\":\"9722\",\"type\":\"LinearAxis\"},{\"attributes\":{\"data_source\":{\"id\":\"9744\"},\"glyph\":{\"id\":\"9745\"},\"hover_glyph\":null,\"muted_glyph\":null,\"nonselection_glyph\":{\"id\":\"9746\"},\"selection_glyph\":null,\"view\":{\"id\":\"9748\"}},\"id\":\"9747\",\"type\":\"GlyphRenderer\"},{\"attributes\":{},\"id\":\"10101\",\"type\":\"Selection\"},{\"attributes\":{},\"id\":\"9723\",\"type\":\"BasicTicker\"},{\"attributes\":{\"source\":{\"id\":\"9744\"}},\"id\":\"9748\",\"type\":\"CDSView\"},{\"attributes\":{\"bottom_units\":\"screen\",\"fill_alpha\":0.5,\"fill_color\":\"lightgrey\",\"left_units\":\"screen\",\"level\":\"overlay\",\"line_alpha\":1.0,\"line_color\":\"black\",\"line_dash\":[4,4],\"line_width\":2,\"render_mode\":\"css\",\"right_units\":\"screen\",\"top_units\":\"screen\"},\"id\":\"9736\",\"type\":\"BoxAnnotation\"},{\"attributes\":{},\"id\":\"9716\",\"type\":\"DataRange1d\"},{\"attributes\":{\"text\":\"Datos normalizados\"},\"id\":\"9712\",\"type\":\"Title\"},{\"attributes\":{\"fill_alpha\":{\"value\":0.7},\"fill_color\":{\"value\":\"red\"},\"top\":{\"field\":\"top\"},\"width\":{\"value\":17081.428500000202},\"x\":{\"field\":\"x\"}},\"id\":\"9745\",\"type\":\"VBar\"},{\"attributes\":{},\"id\":\"9718\",\"type\":\"LinearScale\"}],\"root_ids\":[\"9711\"]},\"title\":\"Bokeh Application\",\"version\":\"2.0.1\"}};\n",
       "  var render_items = [{\"docid\":\"e7137fbc-a482-4a40-a9ee-0372ba0c70cf\",\"root_ids\":[\"9711\"],\"roots\":{\"9711\":\"82e2d490-ca7b-4cb4-a335-2241a946b026\"}}];\n",
       "  root.Bokeh.embed.embed_items_notebook(docs_json, render_items);\n",
       "\n",
       "  }\n",
       "  if (root.Bokeh !== undefined) {\n",
       "    embed_document(root);\n",
       "  } else {\n",
       "    var attempts = 0;\n",
       "    var timer = setInterval(function(root) {\n",
       "      if (root.Bokeh !== undefined) {\n",
       "        clearInterval(timer);\n",
       "        embed_document(root);\n",
       "      } else {\n",
       "        attempts++;\n",
       "        if (attempts > 100) {\n",
       "          clearInterval(timer);\n",
       "          console.log(\"Bokeh: ERROR: Unable to run BokehJS code because BokehJS library is missing\");\n",
       "        }\n",
       "      }\n",
       "    }, 10, root)\n",
       "  }\n",
       "})(window);"
      ],
      "application/vnd.bokehjs_exec.v0+json": ""
     },
     "metadata": {
      "application/vnd.bokehjs_exec.v0+json": {
       "id": "9711"
      }
     },
     "output_type": "display_data"
    }
   ],
   "source": [
    "bpl.show(ph)"
   ]
  },
  {
   "cell_type": "code",
   "execution_count": 226,
   "metadata": {},
   "outputs": [
    {
     "data": {
      "text/plain": [
       "count    1.367000e+03\n",
       "mean     1.432495e+04\n",
       "std      1.134389e+05\n",
       "min      5.915527e-01\n",
       "25%      1.550213e+03\n",
       "50%      3.244619e+03\n",
       "75%      7.176052e+03\n",
       "max      2.996994e+06\n",
       "Name: scope, dtype: float64"
      ]
     },
     "execution_count": 226,
     "metadata": {},
     "output_type": "execute_result"
    }
   ],
   "source": [
    "np.abs(error).describe()"
   ]
  },
  {
   "cell_type": "code",
   "execution_count": null,
   "metadata": {},
   "outputs": [],
   "source": []
  }
 ],
 "metadata": {
  "kernelspec": {
   "display_name": "Python 3",
   "language": "python",
   "name": "python3"
  },
  "language_info": {
   "codemirror_mode": {
    "name": "ipython",
    "version": 3
   },
   "file_extension": ".py",
   "mimetype": "text/x-python",
   "name": "python",
   "nbconvert_exporter": "python",
   "pygments_lexer": "ipython3",
   "version": "3.7.7"
  }
 },
 "nbformat": 4,
 "nbformat_minor": 4
}
